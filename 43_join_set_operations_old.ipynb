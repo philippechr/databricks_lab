{
 "cells": [
  {
   "cell_type": "code",
   "execution_count": 0,
   "metadata": {
    "application/vnd.databricks.v1+cell": {
     "cellMetadata": {
      "byteLimit": 2048000,
      "implicitDf": true,
      "rowLimit": 10000
     },
     "inputWidgets": {},
     "nuid": "75981cc6-b13c-4683-a7cf-fe1941d8c8f0",
     "showTitle": false,
     "tableResultSettingsMap": {},
     "title": ""
    }
   },
   "outputs": [],
   "source": [
    "%sql\n",
    "USE CATALOG workspace;\n",
    "USE SCHEMA default;"
   ]
  },
  {
   "cell_type": "code",
   "execution_count": 0,
   "metadata": {
    "application/vnd.databricks.v1+cell": {
     "cellMetadata": {
      "byteLimit": 2048000,
      "implicitDf": true,
      "rowLimit": 10000
     },
     "inputWidgets": {},
     "nuid": "6176beb7-2bae-4fd2-ab9e-30a338f23fa9",
     "showTitle": false,
     "tableResultSettingsMap": {},
     "title": ""
    }
   },
   "outputs": [],
   "source": [
    "%sql\n",
    "DROP TABLE IF EXISTS default.students;\n",
    "DROP TABLE IF EXISTS default.students_update;\n",
    "DROP TABLE IF EXISTS default.enrollments;\n",
    "DROP TABLE IF EXISTS default.courses;"
   ]
  },
  {
   "cell_type": "markdown",
   "metadata": {
    "application/vnd.databricks.v1+cell": {
     "cellMetadata": {},
     "inputWidgets": {},
     "nuid": "c56133b3-6aac-4218-9ea4-8e2b982a6129",
     "showTitle": false,
     "tableResultSettingsMap": {},
     "title": ""
    }
   },
   "source": [
    "# Datei einlesen und als Tabelle abspeichern"
   ]
  },
  {
   "cell_type": "code",
   "execution_count": 0,
   "metadata": {
    "application/vnd.databricks.v1+cell": {
     "cellMetadata": {
      "byteLimit": 2048000,
      "rowLimit": 10000
     },
     "inputWidgets": {},
     "nuid": "5a871da6-0122-47a6-a2fc-d9997b46fb22",
     "showTitle": false,
     "tableResultSettingsMap": {},
     "title": ""
    }
   },
   "outputs": [
    {
     "output_type": "display_data",
     "data": {
      "text/html": [
       "<style scoped>\n",
       "  .table-result-container {\n",
       "    max-height: 300px;\n",
       "    overflow: auto;\n",
       "  }\n",
       "  table, th, td {\n",
       "    border: 1px solid black;\n",
       "    border-collapse: collapse;\n",
       "  }\n",
       "  th, td {\n",
       "    padding: 5px;\n",
       "  }\n",
       "  th {\n",
       "    text-align: left;\n",
       "  }\n",
       "</style><div class='table-result-container'><table class='table-result'><thead style='background-color: white'><tr><th>path</th><th>name</th><th>size</th><th>modificationTime</th></tr></thead><tbody><tr><td>dbfs:/Volumes/workspace/default/volume/courses.json</td><td>courses.json</td><td>329</td><td>1756365194000</td></tr><tr><td>dbfs:/Volumes/workspace/default/volume/enrollments.json</td><td>enrollments.json</td><td>371</td><td>1756365193000</td></tr><tr><td>dbfs:/Volumes/workspace/default/volume/nested_json.json</td><td>nested_json.json</td><td>1186</td><td>1756365194000</td></tr><tr><td>dbfs:/Volumes/workspace/default/volume/students.json</td><td>students.json</td><td>322</td><td>1756365194000</td></tr><tr><td>dbfs:/Volumes/workspace/default/volume/students_update.json</td><td>students_update.json</td><td>216</td><td>1756365193000</td></tr></tbody></table></div>"
      ]
     },
     "metadata": {
      "application/vnd.databricks.v1+output": {
       "addedWidgets": {},
       "aggData": [],
       "aggError": "",
       "aggOverflow": false,
       "aggSchema": [],
       "aggSeriesLimitReached": false,
       "aggType": "",
       "arguments": {},
       "columnCustomDisplayInfos": {},
       "data": [
        [
         "dbfs:/Volumes/workspace/default/volume/courses.json",
         "courses.json",
         329,
         1756365194000
        ],
        [
         "dbfs:/Volumes/workspace/default/volume/enrollments.json",
         "enrollments.json",
         371,
         1756365193000
        ],
        [
         "dbfs:/Volumes/workspace/default/volume/nested_json.json",
         "nested_json.json",
         1186,
         1756365194000
        ],
        [
         "dbfs:/Volumes/workspace/default/volume/students.json",
         "students.json",
         322,
         1756365194000
        ],
        [
         "dbfs:/Volumes/workspace/default/volume/students_update.json",
         "students_update.json",
         216,
         1756365193000
        ]
       ],
       "datasetInfos": [],
       "dbfsResultPath": null,
       "isJsonSchema": true,
       "metadata": {},
       "overflow": false,
       "plotOptions": {
        "customPlotOptions": {},
        "displayType": "table",
        "pivotAggregation": null,
        "pivotColumns": null,
        "xColumns": null,
        "yColumns": null
       },
       "removedWidgets": [],
       "schema": [
        {
         "metadata": "{}",
         "name": "path",
         "type": "\"string\""
        },
        {
         "metadata": "{}",
         "name": "name",
         "type": "\"string\""
        },
        {
         "metadata": "{}",
         "name": "size",
         "type": "\"long\""
        },
        {
         "metadata": "{}",
         "name": "modificationTime",
         "type": "\"long\""
        }
       ],
       "type": "table"
      }
     },
     "output_type": "display_data"
    }
   ],
   "source": [
    "%python\n",
    "dataset_school = \"/Volumes/workspace/default/volume\"\n",
    "\n",
    "all_files = dbutils.fs.ls(dataset_school)\n",
    "json_files = [f for f in all_files if f.name.endswith(\".json\")]\n",
    "\n",
    "display(json_files)"
   ]
  },
  {
   "cell_type": "code",
   "execution_count": 0,
   "metadata": {
    "application/vnd.databricks.v1+cell": {
     "cellMetadata": {
      "byteLimit": 2048000,
      "rowLimit": 10000
     },
     "inputWidgets": {},
     "nuid": "133ccb22-708e-43d2-b2ac-327e0b12748a",
     "showTitle": false,
     "tableResultSettingsMap": {},
     "title": ""
    }
   },
   "outputs": [],
   "source": [
    "# JSON lesen:\n",
    "students_df = spark.read.json(\"/Volumes/workspace/default/volume/students.json\")\n",
    "students_df.createOrReplaceTempView(\"students\")\n",
    "\n",
    "studentsupdate_df = spark.read.json(\"/Volumes/workspace/default/volume/students_update.json\")\n",
    "studentsupdate_df.createOrReplaceTempView(\"students_update\")\n",
    "\n",
    "\n",
    "courses_df = spark.read.json(\"/Volumes/workspace/default/volume/courses.json\")\n",
    "courses_df.createOrReplaceTempView(\"courses\")\n",
    "\n",
    "enrollments_df = spark.read.json(\"/Volumes/workspace/default/volume/enrollments.json\")\n",
    "enrollments_df.createOrReplaceTempView(\"enrollments\")"
   ]
  },
  {
   "cell_type": "code",
   "execution_count": 0,
   "metadata": {
    "application/vnd.databricks.v1+cell": {
     "cellMetadata": {
      "byteLimit": 2048000,
      "rowLimit": 10000
     },
     "inputWidgets": {},
     "nuid": "2bd018ff-967d-472d-a18a-387a139f9b40",
     "showTitle": false,
     "tableResultSettingsMap": {},
     "title": ""
    }
   },
   "outputs": [],
   "source": [
    "# Students speichern\n",
    "students_df.write \\\n",
    "    .format(\"delta\") \\\n",
    "    .mode(\"overwrite\") \\\n",
    "    .saveAsTable(\"default.students\")\n",
    "\n",
    "# Students update\n",
    "studentsupdate_df.write \\\n",
    "    .format(\"delta\") \\\n",
    "    .mode(\"overwrite\") \\\n",
    "    .saveAsTable(\"default.studentsupdate\")\n",
    "\n",
    "\n",
    "# Courses speichern\n",
    "courses_df.write \\\n",
    "    .format(\"delta\") \\\n",
    "    .mode(\"overwrite\") \\\n",
    "    .saveAsTable(\"default.courses\")\n",
    "\n",
    "# Enrollments speichern\n",
    "enrollments_df.write \\\n",
    "    .format(\"delta\") \\\n",
    "    .mode(\"overwrite\") \\\n",
    "    .saveAsTable(\"default.enrollments\")"
   ]
  },
  {
   "cell_type": "markdown",
   "metadata": {
    "application/vnd.databricks.v1+cell": {
     "cellMetadata": {},
     "inputWidgets": {},
     "nuid": "05977eb2-d663-42d9-b6f3-b830523fa7e6",
     "showTitle": false,
     "tableResultSettingsMap": {},
     "title": ""
    }
   },
   "source": [
    "![Bildschirmfoto 2025-08-09 um 09.30.21.png](./Bildschirmfoto 2025-08-09 um 09.30.21.png \"Bildschirmfoto 2025-08-09 um 09.30.21.png\")"
   ]
  },
  {
   "cell_type": "code",
   "execution_count": 0,
   "metadata": {
    "application/vnd.databricks.v1+cell": {
     "cellMetadata": {
      "byteLimit": 2048000,
      "implicitDf": true,
      "rowLimit": 10000
     },
     "inputWidgets": {},
     "nuid": "ed1527f9-00f2-484b-a767-f081df036c0d",
     "showTitle": false,
     "tableResultSettingsMap": {},
     "title": ""
    }
   },
   "outputs": [
    {
     "output_type": "display_data",
     "data": {
      "text/html": [
       "<style scoped>\n",
       "  .table-result-container {\n",
       "    max-height: 300px;\n",
       "    overflow: auto;\n",
       "  }\n",
       "  table, th, td {\n",
       "    border: 1px solid black;\n",
       "    border-collapse: collapse;\n",
       "  }\n",
       "  th, td {\n",
       "    padding: 5px;\n",
       "  }\n",
       "  th {\n",
       "    text-align: left;\n",
       "  }\n",
       "</style><div class='table-result-container'><table class='table-result'><thead style='background-color: white'><tr><th>email</th><th>gpa</th><th>profile</th><th>student_id</th><th>updated</th></tr></thead><tbody><tr><td>anna@example.com</td><td>3.9</td><td>full-time</td><td>1</td><td>2025-08-01</td></tr><tr><td>ben@example.com</td><td>3.2</td><td>part-time</td><td>2</td><td>2025-08-03</td></tr><tr><td>clara@example.com</td><td>3.7</td><td>exchange</td><td>3</td><td>2025-08-06</td></tr></tbody></table></div>"
      ]
     },
     "metadata": {
      "application/vnd.databricks.v1+output": {
       "addedWidgets": {},
       "aggData": [],
       "aggError": "",
       "aggOverflow": false,
       "aggSchema": [],
       "aggSeriesLimitReached": false,
       "aggType": "",
       "arguments": {},
       "columnCustomDisplayInfos": {},
       "data": [
        [
         "anna@example.com",
         3.9,
         "full-time",
         1,
         "2025-08-01"
        ],
        [
         "ben@example.com",
         3.2,
         "part-time",
         2,
         "2025-08-03"
        ],
        [
         "clara@example.com",
         3.7,
         "exchange",
         3,
         "2025-08-06"
        ]
       ],
       "datasetInfos": [
        {
         "name": "_sqldf",
         "schema": {
          "fields": [
           {
            "metadata": {},
            "name": "email",
            "nullable": true,
            "type": "string"
           },
           {
            "metadata": {},
            "name": "gpa",
            "nullable": true,
            "type": "double"
           },
           {
            "metadata": {},
            "name": "profile",
            "nullable": true,
            "type": "string"
           },
           {
            "metadata": {},
            "name": "student_id",
            "nullable": true,
            "type": "long"
           },
           {
            "metadata": {},
            "name": "updated",
            "nullable": true,
            "type": "string"
           }
          ],
          "type": "struct"
         },
         "tableIdentifier": null,
         "typeStr": "pyspark.sql.connect.dataframe.DataFrame"
        }
       ],
       "dbfsResultPath": null,
       "isJsonSchema": true,
       "metadata": {
        "createTempViewForImplicitDf": true,
        "dataframeName": "_sqldf",
        "executionCount": 7
       },
       "overflow": false,
       "plotOptions": {
        "customPlotOptions": {},
        "displayType": "table",
        "pivotAggregation": null,
        "pivotColumns": null,
        "xColumns": null,
        "yColumns": null
       },
       "removedWidgets": [],
       "schema": [
        {
         "metadata": "{}",
         "name": "email",
         "type": "\"string\""
        },
        {
         "metadata": "{}",
         "name": "gpa",
         "type": "\"double\""
        },
        {
         "metadata": "{}",
         "name": "profile",
         "type": "\"string\""
        },
        {
         "metadata": "{}",
         "name": "student_id",
         "type": "\"long\""
        },
        {
         "metadata": "{}",
         "name": "updated",
         "type": "\"string\""
        }
       ],
       "type": "table"
      }
     },
     "output_type": "display_data"
    }
   ],
   "source": [
    "%sql\n",
    "-- Daten lesen\n",
    "SELECT * FROM default.students;"
   ]
  },
  {
   "cell_type": "code",
   "execution_count": 0,
   "metadata": {
    "application/vnd.databricks.v1+cell": {
     "cellMetadata": {
      "byteLimit": 2048000,
      "implicitDf": true,
      "rowLimit": 10000
     },
     "inputWidgets": {},
     "nuid": "91a6cfcc-f3f5-469d-b577-2e0b8de987e2",
     "showTitle": false,
     "tableResultSettingsMap": {},
     "title": ""
    }
   },
   "outputs": [
    {
     "output_type": "display_data",
     "data": {
      "text/html": [
       "<style scoped>\n",
       "  .table-result-container {\n",
       "    max-height: 300px;\n",
       "    overflow: auto;\n",
       "  }\n",
       "  table, th, td {\n",
       "    border: 1px solid black;\n",
       "    border-collapse: collapse;\n",
       "  }\n",
       "  th, td {\n",
       "    padding: 5px;\n",
       "  }\n",
       "  th {\n",
       "    text-align: left;\n",
       "  }\n",
       "</style><div class='table-result-container'><table class='table-result'><thead style='background-color: white'><tr><th>category</th><th>course_id</th><th>instructor</th><th>price</th><th>title</th></tr></thead><tbody><tr><td>Technology</td><td>101</td><td>Dr. Smith</td><td>850</td><td>Data Engineering</td></tr><tr><td>AI</td><td>102</td><td>Dr. Lee</td><td>1200</td><td>Machine Learning</td></tr><tr><td>Philosophy</td><td>103</td><td>Dr. Kim</td><td>600</td><td>Ethics in AI</td></tr></tbody></table></div>"
      ]
     },
     "metadata": {
      "application/vnd.databricks.v1+output": {
       "addedWidgets": {},
       "aggData": [],
       "aggError": "",
       "aggOverflow": false,
       "aggSchema": [],
       "aggSeriesLimitReached": false,
       "aggType": "",
       "arguments": {},
       "columnCustomDisplayInfos": {},
       "data": [
        [
         "Technology",
         101,
         "Dr. Smith",
         850,
         "Data Engineering"
        ],
        [
         "AI",
         102,
         "Dr. Lee",
         1200,
         "Machine Learning"
        ],
        [
         "Philosophy",
         103,
         "Dr. Kim",
         600,
         "Ethics in AI"
        ]
       ],
       "datasetInfos": [
        {
         "name": "_sqldf",
         "schema": {
          "fields": [
           {
            "metadata": {},
            "name": "category",
            "nullable": true,
            "type": "string"
           },
           {
            "metadata": {},
            "name": "course_id",
            "nullable": true,
            "type": "long"
           },
           {
            "metadata": {},
            "name": "instructor",
            "nullable": true,
            "type": "string"
           },
           {
            "metadata": {},
            "name": "price",
            "nullable": true,
            "type": "long"
           },
           {
            "metadata": {},
            "name": "title",
            "nullable": true,
            "type": "string"
           }
          ],
          "type": "struct"
         },
         "tableIdentifier": null,
         "typeStr": "pyspark.sql.connect.dataframe.DataFrame"
        }
       ],
       "dbfsResultPath": null,
       "isJsonSchema": true,
       "metadata": {
        "createTempViewForImplicitDf": true,
        "dataframeName": "_sqldf",
        "executionCount": 8
       },
       "overflow": false,
       "plotOptions": {
        "customPlotOptions": {},
        "displayType": "table",
        "pivotAggregation": null,
        "pivotColumns": null,
        "xColumns": null,
        "yColumns": null
       },
       "removedWidgets": [],
       "schema": [
        {
         "metadata": "{}",
         "name": "category",
         "type": "\"string\""
        },
        {
         "metadata": "{}",
         "name": "course_id",
         "type": "\"long\""
        },
        {
         "metadata": "{}",
         "name": "instructor",
         "type": "\"string\""
        },
        {
         "metadata": "{}",
         "name": "price",
         "type": "\"long\""
        },
        {
         "metadata": "{}",
         "name": "title",
         "type": "\"string\""
        }
       ],
       "type": "table"
      }
     },
     "output_type": "display_data"
    }
   ],
   "source": [
    "%sql\n",
    "-- Daten lesen\n",
    "SELECT * FROM default.courses;"
   ]
  },
  {
   "cell_type": "code",
   "execution_count": 0,
   "metadata": {
    "application/vnd.databricks.v1+cell": {
     "cellMetadata": {
      "byteLimit": 2048000,
      "implicitDf": true,
      "rowLimit": 10000
     },
     "inputWidgets": {},
     "nuid": "fadbc226-3b11-46be-b108-9c4e10df1bfa",
     "showTitle": false,
     "tableResultSettingsMap": {},
     "title": ""
    }
   },
   "outputs": [
    {
     "output_type": "display_data",
     "data": {
      "text/html": [
       "<style scoped>\n",
       "  .table-result-container {\n",
       "    max-height: 300px;\n",
       "    overflow: auto;\n",
       "  }\n",
       "  table, th, td {\n",
       "    border: 1px solid black;\n",
       "    border-collapse: collapse;\n",
       "  }\n",
       "  th, td {\n",
       "    padding: 5px;\n",
       "  }\n",
       "  th {\n",
       "    text-align: left;\n",
       "  }\n",
       "</style><div class='table-result-container'><table class='table-result'><thead style='background-color: white'><tr><th>courses</th><th>enroll_id</th><th>quantity</th><th>student_id</th><th>timestamp</th><th>total</th></tr></thead><tbody><tr><td>List(101)</td><td>e001</td><td>1</td><td>1</td><td>2025-08-01T09:00:00</td><td>850</td></tr><tr><td>List(102, 103)</td><td>e002</td><td>2</td><td>2</td><td>2025-08-02T10:00:00</td><td>1800</td></tr><tr><td>List(103)</td><td>e003</td><td>1</td><td>3</td><td>2025-08-03T11:30:00</td><td>600</td></tr></tbody></table></div>"
      ]
     },
     "metadata": {
      "application/vnd.databricks.v1+output": {
       "addedWidgets": {},
       "aggData": [],
       "aggError": "",
       "aggOverflow": false,
       "aggSchema": [],
       "aggSeriesLimitReached": false,
       "aggType": "",
       "arguments": {},
       "columnCustomDisplayInfos": {},
       "data": [
        [
         [
          101
         ],
         "e001",
         1,
         1,
         "2025-08-01T09:00:00",
         850
        ],
        [
         [
          102,
          103
         ],
         "e002",
         2,
         2,
         "2025-08-02T10:00:00",
         1800
        ],
        [
         [
          103
         ],
         "e003",
         1,
         3,
         "2025-08-03T11:30:00",
         600
        ]
       ],
       "datasetInfos": [
        {
         "name": "_sqldf",
         "schema": {
          "fields": [
           {
            "metadata": {},
            "name": "courses",
            "nullable": true,
            "type": {
             "containsNull": true,
             "elementType": "long",
             "type": "array"
            }
           },
           {
            "metadata": {},
            "name": "enroll_id",
            "nullable": true,
            "type": "string"
           },
           {
            "metadata": {},
            "name": "quantity",
            "nullable": true,
            "type": "long"
           },
           {
            "metadata": {},
            "name": "student_id",
            "nullable": true,
            "type": "long"
           },
           {
            "metadata": {},
            "name": "timestamp",
            "nullable": true,
            "type": "string"
           },
           {
            "metadata": {},
            "name": "total",
            "nullable": true,
            "type": "long"
           }
          ],
          "type": "struct"
         },
         "tableIdentifier": null,
         "typeStr": "pyspark.sql.connect.dataframe.DataFrame"
        }
       ],
       "dbfsResultPath": null,
       "isJsonSchema": true,
       "metadata": {
        "createTempViewForImplicitDf": true,
        "dataframeName": "_sqldf",
        "executionCount": 9
       },
       "overflow": false,
       "plotOptions": {
        "customPlotOptions": {},
        "displayType": "table",
        "pivotAggregation": null,
        "pivotColumns": null,
        "xColumns": null,
        "yColumns": null
       },
       "removedWidgets": [],
       "schema": [
        {
         "metadata": "{}",
         "name": "courses",
         "type": "{\"containsNull\":true,\"elementType\":\"long\",\"type\":\"array\"}"
        },
        {
         "metadata": "{}",
         "name": "enroll_id",
         "type": "\"string\""
        },
        {
         "metadata": "{}",
         "name": "quantity",
         "type": "\"long\""
        },
        {
         "metadata": "{}",
         "name": "student_id",
         "type": "\"long\""
        },
        {
         "metadata": "{}",
         "name": "timestamp",
         "type": "\"string\""
        },
        {
         "metadata": "{}",
         "name": "total",
         "type": "\"long\""
        }
       ],
       "type": "table"
      }
     },
     "output_type": "display_data"
    }
   ],
   "source": [
    "%sql\n",
    "-- Daten lesen\n",
    "SELECT * FROM default.enrollments;"
   ]
  },
  {
   "cell_type": "markdown",
   "metadata": {
    "application/vnd.databricks.v1+cell": {
     "cellMetadata": {},
     "inputWidgets": {},
     "nuid": "95b161f2-893f-4d1a-b108-8537b921d3f4",
     "showTitle": false,
     "tableResultSettingsMap": {},
     "title": ""
    }
   },
   "source": [
    "# Join-Operationen in Spark SQL"
   ]
  },
  {
   "cell_type": "code",
   "execution_count": 0,
   "metadata": {
    "application/vnd.databricks.v1+cell": {
     "cellMetadata": {
      "byteLimit": 2048000,
      "implicitDf": true,
      "rowLimit": 10000
     },
     "inputWidgets": {},
     "nuid": "dd0fe00f-e7cf-4a1e-ad08-e10cb8e40a23",
     "showTitle": false,
     "tableResultSettingsMap": {},
     "title": ""
    }
   },
   "outputs": [
    {
     "output_type": "display_data",
     "data": {
      "text/html": [
       "<style scoped>\n",
       "  .table-result-container {\n",
       "    max-height: 300px;\n",
       "    overflow: auto;\n",
       "  }\n",
       "  table, th, td {\n",
       "    border: 1px solid black;\n",
       "    border-collapse: collapse;\n",
       "  }\n",
       "  th, td {\n",
       "    padding: 5px;\n",
       "  }\n",
       "  th {\n",
       "    text-align: left;\n",
       "  }\n",
       "</style><div class='table-result-container'><table class='table-result'><thead style='background-color: white'><tr><th>enroll_id</th><th>student_id</th><th>timestamp</th><th>total</th><th>course_id</th><th>title</th><th>instructor</th></tr></thead><tbody><tr><td>e001</td><td>1</td><td>2025-08-01T09:00:00</td><td>850</td><td>101</td><td>Data Engineering</td><td>Dr. Smith</td></tr><tr><td>e002</td><td>2</td><td>2025-08-02T10:00:00</td><td>1800</td><td>102</td><td>Machine Learning</td><td>Dr. Lee</td></tr><tr><td>e002</td><td>2</td><td>2025-08-02T10:00:00</td><td>1800</td><td>103</td><td>Ethics in AI</td><td>Dr. Kim</td></tr><tr><td>e003</td><td>3</td><td>2025-08-03T11:30:00</td><td>600</td><td>103</td><td>Ethics in AI</td><td>Dr. Kim</td></tr></tbody></table></div>"
      ]
     },
     "metadata": {
      "application/vnd.databricks.v1+output": {
       "addedWidgets": {},
       "aggData": [],
       "aggError": "",
       "aggOverflow": false,
       "aggSchema": [],
       "aggSeriesLimitReached": false,
       "aggType": "",
       "arguments": {},
       "columnCustomDisplayInfos": {},
       "data": [
        [
         "e001",
         1,
         "2025-08-01T09:00:00",
         850,
         101,
         "Data Engineering",
         "Dr. Smith"
        ],
        [
         "e002",
         2,
         "2025-08-02T10:00:00",
         1800,
         102,
         "Machine Learning",
         "Dr. Lee"
        ],
        [
         "e002",
         2,
         "2025-08-02T10:00:00",
         1800,
         103,
         "Ethics in AI",
         "Dr. Kim"
        ],
        [
         "e003",
         3,
         "2025-08-03T11:30:00",
         600,
         103,
         "Ethics in AI",
         "Dr. Kim"
        ]
       ],
       "datasetInfos": [
        {
         "name": "_sqldf",
         "schema": {
          "fields": [
           {
            "metadata": {},
            "name": "enroll_id",
            "nullable": true,
            "type": "string"
           },
           {
            "metadata": {},
            "name": "student_id",
            "nullable": true,
            "type": "long"
           },
           {
            "metadata": {},
            "name": "timestamp",
            "nullable": true,
            "type": "string"
           },
           {
            "metadata": {},
            "name": "total",
            "nullable": true,
            "type": "long"
           },
           {
            "metadata": {},
            "name": "course_id",
            "nullable": true,
            "type": "long"
           },
           {
            "metadata": {},
            "name": "title",
            "nullable": true,
            "type": "string"
           },
           {
            "metadata": {},
            "name": "instructor",
            "nullable": true,
            "type": "string"
           }
          ],
          "type": "struct"
         },
         "tableIdentifier": null,
         "typeStr": "pyspark.sql.connect.dataframe.DataFrame"
        }
       ],
       "dbfsResultPath": null,
       "isJsonSchema": true,
       "metadata": {
        "createTempViewForImplicitDf": true,
        "dataframeName": "_sqldf",
        "executionCount": 10
       },
       "overflow": false,
       "plotOptions": {
        "customPlotOptions": {},
        "displayType": "table",
        "pivotAggregation": null,
        "pivotColumns": null,
        "xColumns": null,
        "yColumns": null
       },
       "removedWidgets": [],
       "schema": [
        {
         "metadata": "{}",
         "name": "enroll_id",
         "type": "\"string\""
        },
        {
         "metadata": "{}",
         "name": "student_id",
         "type": "\"long\""
        },
        {
         "metadata": "{}",
         "name": "timestamp",
         "type": "\"string\""
        },
        {
         "metadata": "{}",
         "name": "total",
         "type": "\"long\""
        },
        {
         "metadata": "{}",
         "name": "course_id",
         "type": "\"long\""
        },
        {
         "metadata": "{}",
         "name": "title",
         "type": "\"string\""
        },
        {
         "metadata": "{}",
         "name": "instructor",
         "type": "\"string\""
        }
       ],
       "type": "table"
      }
     },
     "output_type": "display_data"
    }
   ],
   "source": [
    "%sql\n",
    "-- Array auf einzelne Zeilen aufbrechen und joinen\n",
    "CREATE OR REPLACE VIEW enrollments_enriched AS\n",
    "SELECT \n",
    "    e.enroll_id,\n",
    "    e.student_id,\n",
    "    e.timestamp,\n",
    "    e.total,\n",
    "    c.course_id,\n",
    "    c.title,\n",
    "    c.instructor\n",
    "FROM (\n",
    "    SELECT \n",
    "        enroll_id,\n",
    "        student_id,\n",
    "        timestamp,\n",
    "        total,\n",
    "        explode(courses) AS course_id -- Strucktur aufbrechen mit explode z.B. [102,103]\n",
    "    FROM default.enrollments\n",
    ") e\n",
    "INNER JOIN default.courses c\n",
    "ON e.course_id = c.course_id;\n",
    "\n",
    "-- Ergebnis anzeigen\n",
    "SELECT * FROM enrollments_enriched;"
   ]
  },
  {
   "cell_type": "markdown",
   "metadata": {
    "application/vnd.databricks.v1+cell": {
     "cellMetadata": {},
     "inputWidgets": {},
     "nuid": "18b11023-ab47-44cc-8c5d-0b4122379a02",
     "showTitle": false,
     "tableResultSettingsMap": {},
     "title": ""
    }
   },
   "source": [
    "Set-Operationen in Spark SQL"
   ]
  },
  {
   "cell_type": "code",
   "execution_count": 0,
   "metadata": {
    "application/vnd.databricks.v1+cell": {
     "cellMetadata": {
      "byteLimit": 2048000,
      "implicitDf": true,
      "rowLimit": 10000
     },
     "inputWidgets": {},
     "nuid": "e96e4cf4-e8fb-437e-9b16-07cb62a9526c",
     "showTitle": false,
     "tableResultSettingsMap": {},
     "title": ""
    }
   },
   "outputs": [
    {
     "output_type": "display_data",
     "data": {
      "text/html": [
       "<style scoped>\n",
       "  .table-result-container {\n",
       "    max-height: 300px;\n",
       "    overflow: auto;\n",
       "  }\n",
       "  table, th, td {\n",
       "    border: 1px solid black;\n",
       "    border-collapse: collapse;\n",
       "  }\n",
       "  th, td {\n",
       "    padding: 5px;\n",
       "  }\n",
       "  th {\n",
       "    text-align: left;\n",
       "  }\n",
       "</style><div class='table-result-container'><table class='table-result'><thead style='background-color: white'><tr><th>email</th><th>gpa</th><th>profile</th><th>student_id</th><th>updated</th></tr></thead><tbody><tr><td>hans@example.com</td><td>1.9</td><td>full-time</td><td>4</td><td>2025-11-01</td></tr><tr><td>anton@example.com</td><td>6.0</td><td>part-time</td><td>5</td><td>2025-08-03</td></tr></tbody></table></div>"
      ]
     },
     "metadata": {
      "application/vnd.databricks.v1+output": {
       "addedWidgets": {},
       "aggData": [],
       "aggError": "",
       "aggOverflow": false,
       "aggSchema": [],
       "aggSeriesLimitReached": false,
       "aggType": "",
       "arguments": {},
       "columnCustomDisplayInfos": {},
       "data": [
        [
         "hans@example.com",
         1.9,
         "full-time",
         4,
         "2025-11-01"
        ],
        [
         "anton@example.com",
         6.0,
         "part-time",
         5,
         "2025-08-03"
        ]
       ],
       "datasetInfos": [
        {
         "name": "_sqldf",
         "schema": {
          "fields": [
           {
            "metadata": {},
            "name": "email",
            "nullable": true,
            "type": "string"
           },
           {
            "metadata": {},
            "name": "gpa",
            "nullable": true,
            "type": "double"
           },
           {
            "metadata": {},
            "name": "profile",
            "nullable": true,
            "type": "string"
           },
           {
            "metadata": {},
            "name": "student_id",
            "nullable": true,
            "type": "long"
           },
           {
            "metadata": {},
            "name": "updated",
            "nullable": true,
            "type": "string"
           }
          ],
          "type": "struct"
         },
         "tableIdentifier": null,
         "typeStr": "pyspark.sql.connect.dataframe.DataFrame"
        }
       ],
       "dbfsResultPath": null,
       "isJsonSchema": true,
       "metadata": {
        "createTempViewForImplicitDf": true,
        "dataframeName": "_sqldf",
        "executionCount": 11
       },
       "overflow": false,
       "plotOptions": {
        "customPlotOptions": {},
        "displayType": "table",
        "pivotAggregation": null,
        "pivotColumns": null,
        "xColumns": null,
        "yColumns": null
       },
       "removedWidgets": [],
       "schema": [
        {
         "metadata": "{}",
         "name": "email",
         "type": "\"string\""
        },
        {
         "metadata": "{}",
         "name": "gpa",
         "type": "\"double\""
        },
        {
         "metadata": "{}",
         "name": "profile",
         "type": "\"string\""
        },
        {
         "metadata": "{}",
         "name": "student_id",
         "type": "\"long\""
        },
        {
         "metadata": "{}",
         "name": "updated",
         "type": "\"string\""
        }
       ],
       "type": "table"
      }
     },
     "output_type": "display_data"
    }
   ],
   "source": [
    "%sql\n",
    "SELECT * FROM default.studentsupdate"
   ]
  },
  {
   "cell_type": "code",
   "execution_count": 0,
   "metadata": {
    "application/vnd.databricks.v1+cell": {
     "cellMetadata": {
      "byteLimit": 2048000,
      "implicitDf": true,
      "rowLimit": 10000
     },
     "inputWidgets": {},
     "nuid": "c80c4969-0ec6-4afa-9cc9-5728df423db9",
     "showTitle": false,
     "tableResultSettingsMap": {},
     "title": ""
    }
   },
   "outputs": [
    {
     "output_type": "display_data",
     "data": {
      "text/html": [
       "<style scoped>\n",
       "  .table-result-container {\n",
       "    max-height: 300px;\n",
       "    overflow: auto;\n",
       "  }\n",
       "  table, th, td {\n",
       "    border: 1px solid black;\n",
       "    border-collapse: collapse;\n",
       "  }\n",
       "  th, td {\n",
       "    padding: 5px;\n",
       "  }\n",
       "  th {\n",
       "    text-align: left;\n",
       "  }\n",
       "</style><div class='table-result-container'><table class='table-result'><thead style='background-color: white'><tr><th>email</th><th>gpa</th><th>profile</th><th>student_id</th><th>updated</th></tr></thead><tbody><tr><td>ben@example.com</td><td>3.2</td><td>part-time</td><td>2</td><td>2025-08-03</td></tr><tr><td>anna@example.com</td><td>3.9</td><td>full-time</td><td>1</td><td>2025-08-01</td></tr><tr><td>clara@example.com</td><td>3.7</td><td>exchange</td><td>3</td><td>2025-08-06</td></tr><tr><td>anton@example.com</td><td>6.0</td><td>part-time</td><td>5</td><td>2025-08-03</td></tr><tr><td>hans@example.com</td><td>1.9</td><td>full-time</td><td>4</td><td>2025-11-01</td></tr></tbody></table></div>"
      ]
     },
     "metadata": {
      "application/vnd.databricks.v1+output": {
       "addedWidgets": {},
       "aggData": [],
       "aggError": "",
       "aggOverflow": false,
       "aggSchema": [],
       "aggSeriesLimitReached": false,
       "aggType": "",
       "arguments": {},
       "columnCustomDisplayInfos": {},
       "data": [
        [
         "ben@example.com",
         3.2,
         "part-time",
         2,
         "2025-08-03"
        ],
        [
         "anna@example.com",
         3.9,
         "full-time",
         1,
         "2025-08-01"
        ],
        [
         "clara@example.com",
         3.7,
         "exchange",
         3,
         "2025-08-06"
        ],
        [
         "anton@example.com",
         6.0,
         "part-time",
         5,
         "2025-08-03"
        ],
        [
         "hans@example.com",
         1.9,
         "full-time",
         4,
         "2025-11-01"
        ]
       ],
       "datasetInfos": [
        {
         "name": "_sqldf",
         "schema": {
          "fields": [
           {
            "metadata": {},
            "name": "email",
            "nullable": true,
            "type": "string"
           },
           {
            "metadata": {},
            "name": "gpa",
            "nullable": true,
            "type": "double"
           },
           {
            "metadata": {},
            "name": "profile",
            "nullable": true,
            "type": "string"
           },
           {
            "metadata": {},
            "name": "student_id",
            "nullable": true,
            "type": "long"
           },
           {
            "metadata": {},
            "name": "updated",
            "nullable": true,
            "type": "string"
           }
          ],
          "type": "struct"
         },
         "tableIdentifier": null,
         "typeStr": "pyspark.sql.connect.dataframe.DataFrame"
        }
       ],
       "dbfsResultPath": null,
       "isJsonSchema": true,
       "metadata": {
        "createTempViewForImplicitDf": true,
        "dataframeName": "_sqldf",
        "executionCount": 12
       },
       "overflow": false,
       "plotOptions": {
        "customPlotOptions": {},
        "displayType": "table",
        "pivotAggregation": null,
        "pivotColumns": null,
        "xColumns": null,
        "yColumns": null
       },
       "removedWidgets": [],
       "schema": [
        {
         "metadata": "{}",
         "name": "email",
         "type": "\"string\""
        },
        {
         "metadata": "{}",
         "name": "gpa",
         "type": "\"double\""
        },
        {
         "metadata": "{}",
         "name": "profile",
         "type": "\"string\""
        },
        {
         "metadata": "{}",
         "name": "student_id",
         "type": "\"long\""
        },
        {
         "metadata": "{}",
         "name": "updated",
         "type": "\"string\""
        }
       ],
       "type": "table"
      }
     },
     "output_type": "display_data"
    }
   ],
   "source": [
    "%sql\n",
    "SELECT * FROM students\n",
    "UNION\n",
    "SELECT *FROM studentsupdate"
   ]
  },
  {
   "cell_type": "markdown",
   "metadata": {
    "application/vnd.databricks.v1+cell": {
     "cellMetadata": {},
     "inputWidgets": {},
     "nuid": "80aff5f5-c2df-46cb-9f89-e2de3e749bbf",
     "showTitle": false,
     "tableResultSettingsMap": {},
     "title": ""
    }
   },
   "source": [
    "# Higher-Order Funktionen"
   ]
  },
  {
   "cell_type": "code",
   "execution_count": 0,
   "metadata": {
    "application/vnd.databricks.v1+cell": {
     "cellMetadata": {
      "byteLimit": 2048000,
      "implicitDf": true,
      "rowLimit": 10000
     },
     "inputWidgets": {},
     "nuid": "e33d4cf9-ed8b-4b36-827c-69f37f716b48",
     "showTitle": false,
     "tableResultSettingsMap": {},
     "title": ""
    }
   },
   "outputs": [
    {
     "output_type": "display_data",
     "data": {
      "text/html": [
       "<style scoped>\n",
       "  .table-result-container {\n",
       "    max-height: 300px;\n",
       "    overflow: auto;\n",
       "  }\n",
       "  table, th, td {\n",
       "    border: 1px solid black;\n",
       "    border-collapse: collapse;\n",
       "  }\n",
       "  th, td {\n",
       "    padding: 5px;\n",
       "  }\n",
       "  th {\n",
       "    text-align: left;\n",
       "  }\n",
       "</style><div class='table-result-container'><table class='table-result'><thead style='background-color: white'><tr><th>courses</th><th>enroll_id</th><th>quantity</th><th>student_id</th><th>timestamp</th><th>total</th></tr></thead><tbody><tr><td>List(101)</td><td>e001</td><td>1</td><td>1</td><td>2025-08-01T09:00:00</td><td>850</td></tr><tr><td>List(102, 103)</td><td>e002</td><td>2</td><td>2</td><td>2025-08-02T10:00:00</td><td>1800</td></tr><tr><td>List(103)</td><td>e003</td><td>1</td><td>3</td><td>2025-08-03T11:30:00</td><td>600</td></tr></tbody></table></div>"
      ]
     },
     "metadata": {
      "application/vnd.databricks.v1+output": {
       "addedWidgets": {},
       "aggData": [],
       "aggError": "",
       "aggOverflow": false,
       "aggSchema": [],
       "aggSeriesLimitReached": false,
       "aggType": "",
       "arguments": {},
       "columnCustomDisplayInfos": {},
       "data": [
        [
         [
          101
         ],
         "e001",
         1,
         1,
         "2025-08-01T09:00:00",
         850
        ],
        [
         [
          102,
          103
         ],
         "e002",
         2,
         2,
         "2025-08-02T10:00:00",
         1800
        ],
        [
         [
          103
         ],
         "e003",
         1,
         3,
         "2025-08-03T11:30:00",
         600
        ]
       ],
       "datasetInfos": [
        {
         "name": "_sqldf",
         "schema": {
          "fields": [
           {
            "metadata": {},
            "name": "courses",
            "nullable": true,
            "type": {
             "containsNull": true,
             "elementType": "long",
             "type": "array"
            }
           },
           {
            "metadata": {},
            "name": "enroll_id",
            "nullable": true,
            "type": "string"
           },
           {
            "metadata": {},
            "name": "quantity",
            "nullable": true,
            "type": "long"
           },
           {
            "metadata": {},
            "name": "student_id",
            "nullable": true,
            "type": "long"
           },
           {
            "metadata": {},
            "name": "timestamp",
            "nullable": true,
            "type": "string"
           },
           {
            "metadata": {},
            "name": "total",
            "nullable": true,
            "type": "long"
           }
          ],
          "type": "struct"
         },
         "tableIdentifier": null,
         "typeStr": "pyspark.sql.connect.dataframe.DataFrame"
        }
       ],
       "dbfsResultPath": null,
       "isJsonSchema": true,
       "metadata": {
        "createTempViewForImplicitDf": true,
        "dataframeName": "_sqldf",
        "executionCount": 15
       },
       "overflow": false,
       "plotOptions": {
        "customPlotOptions": {},
        "displayType": "table",
        "pivotAggregation": null,
        "pivotColumns": null,
        "xColumns": null,
        "yColumns": null
       },
       "removedWidgets": [],
       "schema": [
        {
         "metadata": "{}",
         "name": "courses",
         "type": "{\"containsNull\":true,\"elementType\":\"long\",\"type\":\"array\"}"
        },
        {
         "metadata": "{}",
         "name": "enroll_id",
         "type": "\"string\""
        },
        {
         "metadata": "{}",
         "name": "quantity",
         "type": "\"long\""
        },
        {
         "metadata": "{}",
         "name": "student_id",
         "type": "\"long\""
        },
        {
         "metadata": "{}",
         "name": "timestamp",
         "type": "\"string\""
        },
        {
         "metadata": "{}",
         "name": "total",
         "type": "\"long\""
        }
       ],
       "type": "table"
      }
     },
     "output_type": "display_data"
    }
   ],
   "source": [
    "%sql\n",
    "--Ausgangslage\n",
    "SELECT * from default.enrollments"
   ]
  },
  {
   "cell_type": "code",
   "execution_count": 0,
   "metadata": {
    "application/vnd.databricks.v1+cell": {
     "cellMetadata": {
      "byteLimit": 2048000,
      "implicitDf": true,
      "rowLimit": 10000
     },
     "inputWidgets": {},
     "nuid": "9a27522a-3b16-4854-8dbc-a77d5b524c43",
     "showTitle": false,
     "tableResultSettingsMap": {},
     "title": ""
    }
   },
   "outputs": [
    {
     "output_type": "display_data",
     "data": {
      "text/html": [
       "<style scoped>\n",
       "  .table-result-container {\n",
       "    max-height: 300px;\n",
       "    overflow: auto;\n",
       "  }\n",
       "  table, th, td {\n",
       "    border: 1px solid black;\n",
       "    border-collapse: collapse;\n",
       "  }\n",
       "  th, td {\n",
       "    padding: 5px;\n",
       "  }\n",
       "  th {\n",
       "    text-align: left;\n",
       "  }\n",
       "</style><div class='table-result-container'><table class='table-result'><thead style='background-color: white'><tr><th>enroll_id</th><th>courses</th><th>only_103</th></tr></thead><tbody><tr><td>e002</td><td>List(102, 103)</td><td>List(103)</td></tr><tr><td>e003</td><td>List(103)</td><td>List(103)</td></tr></tbody></table></div>"
      ]
     },
     "metadata": {
      "application/vnd.databricks.v1+output": {
       "addedWidgets": {},
       "aggData": [],
       "aggError": "",
       "aggOverflow": false,
       "aggSchema": [],
       "aggSeriesLimitReached": false,
       "aggType": "",
       "arguments": {},
       "columnCustomDisplayInfos": {},
       "data": [
        [
         "e002",
         [
          102,
          103
         ],
         [
          103
         ]
        ],
        [
         "e003",
         [
          103
         ],
         [
          103
         ]
        ]
       ],
       "datasetInfos": [
        {
         "name": "_sqldf",
         "schema": {
          "fields": [
           {
            "metadata": {},
            "name": "enroll_id",
            "nullable": true,
            "type": "string"
           },
           {
            "metadata": {},
            "name": "courses",
            "nullable": true,
            "type": {
             "containsNull": true,
             "elementType": "long",
             "type": "array"
            }
           },
           {
            "metadata": {},
            "name": "only_103",
            "nullable": true,
            "type": {
             "containsNull": true,
             "elementType": "long",
             "type": "array"
            }
           }
          ],
          "type": "struct"
         },
         "tableIdentifier": null,
         "typeStr": "pyspark.sql.connect.dataframe.DataFrame"
        }
       ],
       "dbfsResultPath": null,
       "isJsonSchema": true,
       "metadata": {
        "createTempViewForImplicitDf": true,
        "dataframeName": "_sqldf",
        "executionCount": 16
       },
       "overflow": false,
       "plotOptions": {
        "customPlotOptions": {},
        "displayType": "table",
        "pivotAggregation": null,
        "pivotColumns": null,
        "xColumns": null,
        "yColumns": null
       },
       "removedWidgets": [],
       "schema": [
        {
         "metadata": "{}",
         "name": "enroll_id",
         "type": "\"string\""
        },
        {
         "metadata": "{}",
         "name": "courses",
         "type": "{\"containsNull\":true,\"elementType\":\"long\",\"type\":\"array\"}"
        },
        {
         "metadata": "{}",
         "name": "only_103",
         "type": "{\"containsNull\":true,\"elementType\":\"long\",\"type\":\"array\"}"
        }
       ],
       "type": "table"
      }
     },
     "output_type": "display_data"
    }
   ],
   "source": [
    "%sql\n",
    "-- Beispiel FILTER: nur bestimmte Kurs-IDs behalten (z. B. 103)\n",
    "SELECT\n",
    "  enroll_id,\n",
    "  courses,\n",
    "  FILTER(courses,\n",
    "         c -> c = 103) AS only_103 -- FILTER(array, x -> predicate) wählt Elemente aus einem Array.\n",
    "FROM enrollments\n",
    "WHERE size(FILTER(courses, c -> c = 103)) > 0; -- WHERE ist optional um leere Arrays austzuschliessen"
   ]
  },
  {
   "cell_type": "code",
   "execution_count": 0,
   "metadata": {
    "application/vnd.databricks.v1+cell": {
     "cellMetadata": {
      "byteLimit": 2048000,
      "implicitDf": true,
      "rowLimit": 10000
     },
     "inputWidgets": {},
     "nuid": "55e35142-3957-41ce-9f65-ef66630ef013",
     "showTitle": false,
     "tableResultSettingsMap": {
      "0": {
       "dataGridStateBlob": "{\"version\":1,\"tableState\":{\"columnPinning\":{\"left\":[\"#row_number#\"],\"right\":[]},\"columnSizing\":{\"per_course_allocation\":584},\"columnVisibility\":{}},\"settings\":{\"columns\":{}},\"syncTimestamp\":1754726938352}",
       "filterBlob": null,
       "queryPlanFiltersBlob": null,
       "tableResultIndex": 0
      }
     },
     "title": ""
    }
   },
   "outputs": [
    {
     "output_type": "display_data",
     "data": {
      "text/html": [
       "<style scoped>\n",
       "  .table-result-container {\n",
       "    max-height: 300px;\n",
       "    overflow: auto;\n",
       "  }\n",
       "  table, th, td {\n",
       "    border: 1px solid black;\n",
       "    border-collapse: collapse;\n",
       "  }\n",
       "  th, td {\n",
       "    padding: 5px;\n",
       "  }\n",
       "  th {\n",
       "    text-align: left;\n",
       "  }\n",
       "</style><div class='table-result-container'><table class='table-result'><thead style='background-color: white'><tr><th>enroll_id</th><th>courses</th><th>per_course_allocation</th></tr></thead><tbody><tr><td>e001</td><td>List(101)</td><td>List(List(101, 850.0))</td></tr><tr><td>e002</td><td>List(102, 103)</td><td>List(List(102, 900.0), List(103, 900.0))</td></tr><tr><td>e003</td><td>List(103)</td><td>List(List(103, 600.0))</td></tr></tbody></table></div>"
      ]
     },
     "metadata": {
      "application/vnd.databricks.v1+output": {
       "addedWidgets": {},
       "aggData": [],
       "aggError": "",
       "aggOverflow": false,
       "aggSchema": [],
       "aggSeriesLimitReached": false,
       "aggType": "",
       "arguments": {},
       "columnCustomDisplayInfos": {},
       "data": [
        [
         "e001",
         [
          101
         ],
         [
          [
           101,
           850.0
          ]
         ]
        ],
        [
         "e002",
         [
          102,
          103
         ],
         [
          [
           102,
           900.0
          ],
          [
           103,
           900.0
          ]
         ]
        ],
        [
         "e003",
         [
          103
         ],
         [
          [
           103,
           600.0
          ]
         ]
        ]
       ],
       "datasetInfos": [
        {
         "name": "_sqldf",
         "schema": {
          "fields": [
           {
            "metadata": {},
            "name": "enroll_id",
            "nullable": true,
            "type": "string"
           },
           {
            "metadata": {},
            "name": "courses",
            "nullable": true,
            "type": {
             "containsNull": true,
             "elementType": "long",
             "type": "array"
            }
           },
           {
            "metadata": {},
            "name": "per_course_allocation",
            "nullable": true,
            "type": {
             "containsNull": false,
             "elementType": {
              "fields": [
               {
                "metadata": {},
                "name": "course_id",
                "nullable": true,
                "type": "long"
               },
               {
                "metadata": {},
                "name": "allocated_total",
                "nullable": true,
                "type": "double"
               }
              ],
              "type": "struct"
             },
             "type": "array"
            }
           }
          ],
          "type": "struct"
         },
         "tableIdentifier": null,
         "typeStr": "pyspark.sql.connect.dataframe.DataFrame"
        }
       ],
       "dbfsResultPath": null,
       "isJsonSchema": true,
       "metadata": {
        "createTempViewForImplicitDf": true,
        "dataframeName": "_sqldf",
        "executionCount": 19
       },
       "overflow": false,
       "plotOptions": {
        "customPlotOptions": {},
        "displayType": "table",
        "pivotAggregation": null,
        "pivotColumns": null,
        "xColumns": null,
        "yColumns": null
       },
       "removedWidgets": [],
       "schema": [
        {
         "metadata": "{}",
         "name": "enroll_id",
         "type": "\"string\""
        },
        {
         "metadata": "{}",
         "name": "courses",
         "type": "{\"containsNull\":true,\"elementType\":\"long\",\"type\":\"array\"}"
        },
        {
         "metadata": "{}",
         "name": "per_course_allocation",
         "type": "{\"containsNull\":false,\"elementType\":{\"fields\":[{\"metadata\":{},\"name\":\"course_id\",\"nullable\":true,\"type\":\"long\"},{\"metadata\":{},\"name\":\"allocated_total\",\"nullable\":true,\"type\":\"double\"}],\"type\":\"struct\"},\"type\":\"array\"}"
        }
       ],
       "type": "table"
      }
     },
     "output_type": "display_data"
    }
   ],
   "source": [
    "%sql\n",
    "-- Beispiel TRANSFORM: Gesamtpreis pro Enrollment auf Kurse verteilen\n",
    "SELECT\n",
    "  enroll_id,\n",
    "  courses,\n",
    "  TRANSFORM( -- TRANSFORM(array, x -> expr) bildet jedes Element auf einen neuen Wert/STRUCT ab.\n",
    "    courses,\n",
    "    c -> named_struct(\n",
    "           'course_id', c,\n",
    "           'allocated_total', ROUND(total / size(courses), 2)\n",
    "         )\n",
    "  ) AS per_course_allocation\n",
    "FROM enrollments;"
   ]
  },
  {
   "cell_type": "markdown",
   "metadata": {
    "application/vnd.databricks.v1+cell": {
     "cellMetadata": {},
     "inputWidgets": {},
     "nuid": "625ae992-4ed2-49fe-bb95-fa1f6b1c0eec",
     "showTitle": false,
     "tableResultSettingsMap": {},
     "title": ""
    }
   },
   "source": [
    "# SQL user-defined functions (UDFs)\n"
   ]
  },
  {
   "cell_type": "code",
   "execution_count": 0,
   "metadata": {
    "application/vnd.databricks.v1+cell": {
     "cellMetadata": {
      "byteLimit": 2048000,
      "implicitDf": true,
      "rowLimit": 10000
     },
     "inputWidgets": {},
     "nuid": "d3848565-fc3c-488f-9a68-56cfa17a8e05",
     "showTitle": false,
     "tableResultSettingsMap": {},
     "title": ""
    }
   },
   "outputs": [
    {
     "output_type": "display_data",
     "data": {
      "text/html": [
       "<style scoped>\n",
       "  .table-result-container {\n",
       "    max-height: 300px;\n",
       "    overflow: auto;\n",
       "  }\n",
       "  table, th, td {\n",
       "    border: 1px solid black;\n",
       "    border-collapse: collapse;\n",
       "  }\n",
       "  th, td {\n",
       "    padding: 5px;\n",
       "  }\n",
       "  th {\n",
       "    text-align: left;\n",
       "  }\n",
       "</style><div class='table-result-container'><table class='table-result'><thead style='background-color: white'><tr><th>student_id</th><th>gpa</th><th>pct</th></tr></thead><tbody><tr><td>3</td><td>3.7</td><td>62</td></tr><tr><td>2</td><td>3.2</td><td>53</td></tr><tr><td>1</td><td>3.9</td><td>65</td></tr><tr><td>5</td><td>6.0</td><td>100</td></tr><tr><td>4</td><td>1.9</td><td>32</td></tr></tbody></table></div>"
      ]
     },
     "metadata": {
      "application/vnd.databricks.v1+output": {
       "addedWidgets": {},
       "aggData": [],
       "aggError": "",
       "aggOverflow": false,
       "aggSchema": [],
       "aggSeriesLimitReached": false,
       "aggType": "",
       "arguments": {},
       "columnCustomDisplayInfos": {},
       "data": [
        [
         3,
         3.7,
         62
        ],
        [
         2,
         3.2,
         53
        ],
        [
         1,
         3.9,
         65
        ],
        [
         5,
         6.0,
         100
        ],
        [
         4,
         1.9,
         32
        ]
       ],
       "datasetInfos": [
        {
         "name": "_sqldf",
         "schema": {
          "fields": [
           {
            "metadata": {},
            "name": "student_id",
            "nullable": true,
            "type": "long"
           },
           {
            "metadata": {},
            "name": "gpa",
            "nullable": true,
            "type": "double"
           },
           {
            "metadata": {},
            "name": "pct",
            "nullable": true,
            "type": "integer"
           }
          ],
          "type": "struct"
         },
         "tableIdentifier": null,
         "typeStr": "pyspark.sql.connect.dataframe.DataFrame"
        }
       ],
       "dbfsResultPath": null,
       "isJsonSchema": true,
       "metadata": {
        "createTempViewForImplicitDf": true,
        "dataframeName": "_sqldf",
        "executionCount": 22
       },
       "overflow": false,
       "plotOptions": {
        "customPlotOptions": {},
        "displayType": "table",
        "pivotAggregation": null,
        "pivotColumns": null,
        "xColumns": null,
        "yColumns": null
       },
       "removedWidgets": [],
       "schema": [
        {
         "metadata": "{}",
         "name": "student_id",
         "type": "\"long\""
        },
        {
         "metadata": "{}",
         "name": "gpa",
         "type": "\"double\""
        },
        {
         "metadata": "{}",
         "name": "pct",
         "type": "\"integer\""
        }
       ],
       "type": "table"
      }
     },
     "output_type": "display_data"
    }
   ],
   "source": [
    "%sql\n",
    "-- Beispiel 1\n",
    "-- GPA (0–6.0) → Prozent (0–100)\n",
    "CREATE OR REPLACE FUNCTION gpa_to_percentage(g DOUBLE)\n",
    "RETURNS INT\n",
    "RETURN CAST(ROUND(g * 16.66666667) AS INT); -- Höchster GPA ist 6.0. 1/6 = 16.6666667\n",
    "\n",
    "-- Nutzung\n",
    "SELECT student_id, gpa, gpa_to_percentage(gpa) AS pct\n",
    "FROM default.students\n",
    "UNION -- wir nehmen auch die neuen Studenten gleich mit dazu\n",
    "SELECT student_id, gpa, gpa_to_percentage(gpa) AS pct \n",
    "FROM default.studentsupdate;"
   ]
  },
  {
   "cell_type": "code",
   "execution_count": 0,
   "metadata": {
    "application/vnd.databricks.v1+cell": {
     "cellMetadata": {
      "byteLimit": 2048000,
      "implicitDf": true,
      "rowLimit": 10000
     },
     "inputWidgets": {},
     "nuid": "dcd6d93a-d97d-4b26-96f6-eb95e062aaaf",
     "showTitle": false,
     "tableResultSettingsMap": {},
     "title": ""
    }
   },
   "outputs": [
    {
     "output_type": "display_data",
     "data": {
      "text/html": [
       "<style scoped>\n",
       "  .table-result-container {\n",
       "    max-height: 300px;\n",
       "    overflow: auto;\n",
       "  }\n",
       "  table, th, td {\n",
       "    border: 1px solid black;\n",
       "    border-collapse: collapse;\n",
       "  }\n",
       "  th, td {\n",
       "    padding: 5px;\n",
       "  }\n",
       "  th {\n",
       "    text-align: left;\n",
       "  }\n",
       "</style><div class='table-result-container'><table class='table-result'><thead style='background-color: white'><tr><th>student_id</th><th>gpa</th><th>grade</th></tr></thead><tbody><tr><td>1</td><td>3.9</td><td>B</td></tr><tr><td>2</td><td>3.2</td><td>F</td></tr><tr><td>3</td><td>3.7</td><td>C</td></tr><tr><td>4</td><td>1.9</td><td>F</td></tr><tr><td>5</td><td>6.0</td><td>A</td></tr></tbody></table></div>"
      ]
     },
     "metadata": {
      "application/vnd.databricks.v1+output": {
       "addedWidgets": {},
       "aggData": [],
       "aggError": "",
       "aggOverflow": false,
       "aggSchema": [],
       "aggSeriesLimitReached": false,
       "aggType": "",
       "arguments": {},
       "columnCustomDisplayInfos": {},
       "data": [
        [
         1,
         3.9,
         "B"
        ],
        [
         2,
         3.2,
         "F"
        ],
        [
         3,
         3.7,
         "C"
        ],
        [
         4,
         1.9,
         "F"
        ],
        [
         5,
         6.0,
         "A"
        ]
       ],
       "datasetInfos": [
        {
         "name": "_sqldf",
         "schema": {
          "fields": [
           {
            "metadata": {},
            "name": "student_id",
            "nullable": true,
            "type": "long"
           },
           {
            "metadata": {},
            "name": "gpa",
            "nullable": true,
            "type": "double"
           },
           {
            "metadata": {},
            "name": "grade",
            "nullable": false,
            "type": "string"
           }
          ],
          "type": "struct"
         },
         "tableIdentifier": null,
         "typeStr": "pyspark.sql.connect.dataframe.DataFrame"
        }
       ],
       "dbfsResultPath": null,
       "isJsonSchema": true,
       "metadata": {
        "createTempViewForImplicitDf": true,
        "dataframeName": "_sqldf",
        "executionCount": 24
       },
       "overflow": false,
       "plotOptions": {
        "customPlotOptions": {},
        "displayType": "table",
        "pivotAggregation": null,
        "pivotColumns": null,
        "xColumns": null,
        "yColumns": null
       },
       "removedWidgets": [],
       "schema": [
        {
         "metadata": "{}",
         "name": "student_id",
         "type": "\"long\""
        },
        {
         "metadata": "{}",
         "name": "gpa",
         "type": "\"double\""
        },
        {
         "metadata": "{}",
         "name": "grade",
         "type": "\"string\""
        }
       ],
       "type": "table"
      }
     },
     "output_type": "display_data"
    }
   ],
   "source": [
    "%sql\n",
    "-- Beispiel 2\n",
    "CREATE OR REPLACE FUNCTION get_letter_grade(g DOUBLE)\n",
    "RETURNS STRING\n",
    "RETURN CASE\n",
    "         WHEN g >= 5.5  THEN 'A'\n",
    "         WHEN g >= 3.9 THEN 'B'\n",
    "         WHEN g >= 3.42 THEN 'C'\n",
    "         ELSE 'F'\n",
    "       END;\n",
    "\n",
    "SELECT student_id, gpa, get_letter_grade(gpa) AS grade\n",
    "FROM default.students\n",
    "UNION\n",
    "SELECT student_id, gpa, get_letter_grade(gpa) AS grade \n",
    "FROM default.studentsupdate\n",
    ";"
   ]
  },
  {
   "cell_type": "code",
   "execution_count": 0,
   "metadata": {
    "application/vnd.databricks.v1+cell": {
     "cellMetadata": {
      "byteLimit": 2048000,
      "implicitDf": true,
      "rowLimit": 10000
     },
     "inputWidgets": {},
     "nuid": "98e68fe5-be72-4de1-8711-915013a5bdeb",
     "showTitle": false,
     "tableResultSettingsMap": {},
     "title": ""
    }
   },
   "outputs": [
    {
     "output_type": "display_data",
     "data": {
      "text/html": [
       "<style scoped>\n",
       "  .table-result-container {\n",
       "    max-height: 300px;\n",
       "    overflow: auto;\n",
       "  }\n",
       "  table, th, td {\n",
       "    border: 1px solid black;\n",
       "    border-collapse: collapse;\n",
       "  }\n",
       "  th, td {\n",
       "    padding: 5px;\n",
       "  }\n",
       "  th {\n",
       "    text-align: left;\n",
       "  }\n",
       "</style><div class='table-result-container'><table class='table-result'><thead style='background-color: white'><tr><th>function_desc</th></tr></thead><tbody><tr><td>Function: workspace.default.gpa_to_percentage</td></tr><tr><td>Type:     SCALAR</td></tr><tr><td>Input:    g DOUBLE</td></tr><tr><td>Returns:  INT</td></tr></tbody></table></div>"
      ]
     },
     "metadata": {
      "application/vnd.databricks.v1+output": {
       "addedWidgets": {},
       "aggData": [],
       "aggError": "",
       "aggOverflow": false,
       "aggSchema": [],
       "aggSeriesLimitReached": false,
       "aggType": "",
       "arguments": {},
       "columnCustomDisplayInfos": {},
       "data": [
        [
         "Function: workspace.default.gpa_to_percentage"
        ],
        [
         "Type:     SCALAR"
        ],
        [
         "Input:    g DOUBLE"
        ],
        [
         "Returns:  INT"
        ]
       ],
       "datasetInfos": [
        {
         "name": "_sqldf",
         "schema": {
          "fields": [
           {
            "metadata": {},
            "name": "function_desc",
            "nullable": false,
            "type": "string"
           }
          ],
          "type": "struct"
         },
         "tableIdentifier": null,
         "typeStr": "pyspark.sql.connect.dataframe.DataFrame"
        }
       ],
       "dbfsResultPath": null,
       "isJsonSchema": true,
       "metadata": {
        "createTempViewForImplicitDf": true,
        "dataframeName": "_sqldf",
        "executionCount": 26
       },
       "overflow": false,
       "plotOptions": {
        "customPlotOptions": {},
        "displayType": "table",
        "pivotAggregation": null,
        "pivotColumns": null,
        "xColumns": null,
        "yColumns": null
       },
       "removedWidgets": [],
       "schema": [
        {
         "metadata": "{}",
         "name": "function_desc",
         "type": "\"string\""
        }
       ],
       "type": "table"
      }
     },
     "output_type": "display_data"
    }
   ],
   "source": [
    "%sql\n",
    "DESCRIBE FUNCTION gpa_to_percentage;"
   ]
  },
  {
   "cell_type": "code",
   "execution_count": 0,
   "metadata": {
    "application/vnd.databricks.v1+cell": {
     "cellMetadata": {
      "byteLimit": 2048000,
      "implicitDf": true,
      "rowLimit": 10000
     },
     "inputWidgets": {},
     "nuid": "f050cb28-f162-4dba-a000-370abeb0f558",
     "showTitle": false,
     "tableResultSettingsMap": {},
     "title": ""
    }
   },
   "outputs": [
    {
     "output_type": "display_data",
     "data": {
      "text/html": [
       "<style scoped>\n",
       "  .table-result-container {\n",
       "    max-height: 300px;\n",
       "    overflow: auto;\n",
       "  }\n",
       "  table, th, td {\n",
       "    border: 1px solid black;\n",
       "    border-collapse: collapse;\n",
       "  }\n",
       "  th, td {\n",
       "    padding: 5px;\n",
       "  }\n",
       "  th {\n",
       "    text-align: left;\n",
       "  }\n",
       "</style><div class='table-result-container'><table class='table-result'><thead style='background-color: white'><tr><th>function_desc</th></tr></thead><tbody><tr><td>Function:      workspace.default.get_letter_grade</td></tr><tr><td>Type:          SCALAR</td></tr><tr><td>Input:         g DOUBLE</td></tr><tr><td>Returns:       STRING</td></tr><tr><td>Deterministic: true</td></tr><tr><td>Data Access:   CONTAINS SQL</td></tr><tr><td>Configs:       spark.connect.session.connectML.enabled=false</td></tr><tr><td>               spark.databricks.docingest.client.v2.enabled=true</td></tr><tr><td>               spark.databricks.sql.expression.aiFunctions.repartition=0</td></tr><tr><td>               spark.databricks.sql.functions.aiForecast.enabled=false</td></tr><tr><td>               spark.databricks.sql.functions.aiFunctions.adaptiveThreadPool.clusterSizeBasedGlobalParallelism.scaleFactor=512.0</td></tr><tr><td>               spark.databricks.sql.functions.aiFunctions.adaptiveThreadPool.debugLogEnabled=true</td></tr><tr><td>               spark.databricks.sql.functions.aiFunctions.adaptiveThreadPool.dynamicPoolSizeEnabled=false</td></tr><tr><td>               spark.databricks.sql.functions.aiFunctions.adaptiveThreadPool.enabled=true</td></tr><tr><td>               spark.databricks.sql.functions.aiFunctions.adaptiveThreadPool.maxPoolSize=2048</td></tr><tr><td>               spark.databricks.sql.functions.aiFunctions.adaptiveThreadPool.scaleUpThresholdCurrentQpsIncreaseRatio=0.0</td></tr><tr><td>               spark.databricks.sql.functions.aiFunctions.adaptiveThreadPool.scaleUpThresholdSuccessRatio=0.95</td></tr><tr><td>               spark.databricks.sql.functions.aiFunctions.adaptiveThreadPool.scaleUpThresholdTotalQpsIncreaseRatio=0.0</td></tr><tr><td>               spark.databricks.sql.functions.aiFunctions.adaptiveThreadPool.taskWaitTimeInSeconds=1000</td></tr><tr><td>               spark.databricks.sql.functions.aiFunctions.adaptiveThreadPool.threadKeepAliveTimeInSeconds=600</td></tr><tr><td>               spark.databricks.sql.functions.aiFunctions.adaptiveThreadPool.useDynamicTaskQueueExecutor=false</td></tr><tr><td>               spark.databricks.sql.functions.aiFunctions.batch.aiQuery.embedding.request.size=40</td></tr><tr><td>               spark.databricks.sql.functions.aiFunctions.batch.execution.size=2048</td></tr><tr><td>               spark.databricks.sql.functions.aiFunctions.batchInferenceApi.enabled=true</td></tr><tr><td>               spark.databricks.sql.functions.aiFunctions.batchSession.enabled=true</td></tr><tr><td>               spark.databricks.sql.functions.aiFunctions.batchSession.terminate.enabled=true</td></tr><tr><td>               spark.databricks.sql.functions.aiFunctions.decimal.dataType.enabled=true</td></tr><tr><td>               spark.databricks.sql.functions.aiFunctions.embeddingsEndpointName=databricks-gte-large-en</td></tr><tr><td>               spark.databricks.sql.functions.aiFunctions.extract.tileMetadata.enabled=true</td></tr><tr><td>               spark.databricks.sql.functions.aiFunctions.model.parameters.enabled=true</td></tr><tr><td>               spark.databricks.sql.functions.aiFunctions.modelEndpointTypeParsing.enabled=true</td></tr><tr><td>               spark.databricks.sql.functions.aiFunctions.purposeBuiltFunctions.batch.execution.enabled=true</td></tr><tr><td>               spark.databricks.sql.functions.aiFunctions.purposeBuiltFunctions.translate.instruction=### Instruction\n",
       "\n",
       "Translate the provided text to %s, and output only the translated text\n",
       "in the target language in this format: <DBSQLAI>translated text</DBSQLAI>.\n",
       "\n",
       "If the text is already in the target language, output the provided text.\n",
       "\n",
       "### Text\n",
       "\n",
       "%s</td></tr><tr><td>               spark.databricks.sql.functions.aiFunctions.remoteHttpClient.maxConnections=2048</td></tr><tr><td>               spark.databricks.sql.functions.aiFunctions.remoteHttpClient.timeoutInSeconds=360</td></tr><tr><td>               spark.databricks.sql.functions.aiFunctions.safe.inference.enabled=true</td></tr><tr><td>               spark.databricks.sql.functions.aiFunctions.useDedicatedHttpClient=true</td></tr><tr><td>               spark.databricks.sql.functions.aiFunctions.vectorSearch.initialRetryIntervalMillis=1000</td></tr><tr><td>               spark.databricks.sql.functions.aiFunctions.vectorSearch.maxRetryInterval=120000</td></tr><tr><td>               spark.databricks.sql.functions.aiFunctions.vectorSearch.retryIntervalMultiplierFactor=2.0</td></tr><tr><td>               spark.databricks.sql.functions.aiGen.endpointName=databricks-meta-llama-3-3-70b-instruct</td></tr><tr><td>               spark.databricks.sql.functions.aiQuery.openAI.oSeries.model.list=o1-mini,o1,o3-mini,o3,o4-mini,gpt-5,gpt-5-mini,gpt-5-nano</td></tr><tr><td>               spark.databricks.sql.functions.vectorSearch.enabled=true</td></tr><tr><td>               spark.databricks.sql.functions.vectorSearch.use.indexIdentifierOnly=true</td></tr><tr><td>               spark.sql.ansi.enabled=true</td></tr><tr><td>               spark.sql.artifact.isolation.enabled=true</td></tr><tr><td>               spark.sql.cte.recursion.enabled=true</td></tr><tr><td>               spark.sql.defaultStorage.useDefaultStorageForCreateCatalogWithoutLocation.enabled=true</td></tr><tr><td>               spark.sql.functions.remoteHttpClient.retryOn400TimeoutError=true</td></tr><tr><td>               spark.sql.hive.convertCTAS=true</td></tr><tr><td>               spark.sql.legacy.codingErrorAction=true</td></tr><tr><td>               spark.sql.legacy.createHiveTableByDefault=false</td></tr><tr><td>               spark.sql.orc.compression.codec=snappy</td></tr><tr><td>               spark.sql.parquet.compression.codec=snappy</td></tr><tr><td>               spark.sql.readSideCharPadding=true</td></tr><tr><td>               spark.sql.scripting.enabled=true</td></tr><tr><td>               spark.sql.shuffleDependency.skipMigration.enabled=false</td></tr><tr><td>               spark.sql.sources.commitProtocolClass=com.databricks.sql.transaction.directory.DirectoryAtomicCommitProtocol</td></tr><tr><td>               spark.sql.sources.default=delta</td></tr><tr><td>               spark.sql.stableDerivedColumnAlias.enabled=true</td></tr><tr><td>               spark.sql.streaming.stateStore.providerClass=com.databricks.sql.streaming.state.RocksDBStateStoreProvider</td></tr><tr><td>               spark.sql.streaming.statefulOperator.stateRebalancing.enabled=false</td></tr><tr><td>               spark.sql.streaming.stopTimeout=15s</td></tr><tr><td>               spark.sql.variable.substitute=false</td></tr><tr><td>Owner:         philippe.christen@students.fhnw.ch</td></tr><tr><td>Create Time:   Thu Aug 28 08:11:03 UTC 2025</td></tr><tr><td>Body:          CASE\n",
       "         WHEN g >= 5.5  THEN 'A'\n",
       "         WHEN g >= 3.9 THEN 'B'\n",
       "         WHEN g >= 3.42 THEN 'C'\n",
       "         ELSE 'F'\n",
       "       END</td></tr></tbody></table></div>"
      ]
     },
     "metadata": {
      "application/vnd.databricks.v1+output": {
       "addedWidgets": {},
       "aggData": [],
       "aggError": "",
       "aggOverflow": false,
       "aggSchema": [],
       "aggSeriesLimitReached": false,
       "aggType": "",
       "arguments": {},
       "columnCustomDisplayInfos": {},
       "data": [
        [
         "Function:      workspace.default.get_letter_grade"
        ],
        [
         "Type:          SCALAR"
        ],
        [
         "Input:         g DOUBLE"
        ],
        [
         "Returns:       STRING"
        ],
        [
         "Deterministic: true"
        ],
        [
         "Data Access:   CONTAINS SQL"
        ],
        [
         "Configs:       spark.connect.session.connectML.enabled=false"
        ],
        [
         "               spark.databricks.docingest.client.v2.enabled=true"
        ],
        [
         "               spark.databricks.sql.expression.aiFunctions.repartition=0"
        ],
        [
         "               spark.databricks.sql.functions.aiForecast.enabled=false"
        ],
        [
         "               spark.databricks.sql.functions.aiFunctions.adaptiveThreadPool.clusterSizeBasedGlobalParallelism.scaleFactor=512.0"
        ],
        [
         "               spark.databricks.sql.functions.aiFunctions.adaptiveThreadPool.debugLogEnabled=true"
        ],
        [
         "               spark.databricks.sql.functions.aiFunctions.adaptiveThreadPool.dynamicPoolSizeEnabled=false"
        ],
        [
         "               spark.databricks.sql.functions.aiFunctions.adaptiveThreadPool.enabled=true"
        ],
        [
         "               spark.databricks.sql.functions.aiFunctions.adaptiveThreadPool.maxPoolSize=2048"
        ],
        [
         "               spark.databricks.sql.functions.aiFunctions.adaptiveThreadPool.scaleUpThresholdCurrentQpsIncreaseRatio=0.0"
        ],
        [
         "               spark.databricks.sql.functions.aiFunctions.adaptiveThreadPool.scaleUpThresholdSuccessRatio=0.95"
        ],
        [
         "               spark.databricks.sql.functions.aiFunctions.adaptiveThreadPool.scaleUpThresholdTotalQpsIncreaseRatio=0.0"
        ],
        [
         "               spark.databricks.sql.functions.aiFunctions.adaptiveThreadPool.taskWaitTimeInSeconds=1000"
        ],
        [
         "               spark.databricks.sql.functions.aiFunctions.adaptiveThreadPool.threadKeepAliveTimeInSeconds=600"
        ],
        [
         "               spark.databricks.sql.functions.aiFunctions.adaptiveThreadPool.useDynamicTaskQueueExecutor=false"
        ],
        [
         "               spark.databricks.sql.functions.aiFunctions.batch.aiQuery.embedding.request.size=40"
        ],
        [
         "               spark.databricks.sql.functions.aiFunctions.batch.execution.size=2048"
        ],
        [
         "               spark.databricks.sql.functions.aiFunctions.batchInferenceApi.enabled=true"
        ],
        [
         "               spark.databricks.sql.functions.aiFunctions.batchSession.enabled=true"
        ],
        [
         "               spark.databricks.sql.functions.aiFunctions.batchSession.terminate.enabled=true"
        ],
        [
         "               spark.databricks.sql.functions.aiFunctions.decimal.dataType.enabled=true"
        ],
        [
         "               spark.databricks.sql.functions.aiFunctions.embeddingsEndpointName=databricks-gte-large-en"
        ],
        [
         "               spark.databricks.sql.functions.aiFunctions.extract.tileMetadata.enabled=true"
        ],
        [
         "               spark.databricks.sql.functions.aiFunctions.model.parameters.enabled=true"
        ],
        [
         "               spark.databricks.sql.functions.aiFunctions.modelEndpointTypeParsing.enabled=true"
        ],
        [
         "               spark.databricks.sql.functions.aiFunctions.purposeBuiltFunctions.batch.execution.enabled=true"
        ],
        [
         "               spark.databricks.sql.functions.aiFunctions.purposeBuiltFunctions.translate.instruction=### Instruction\n\nTranslate the provided text to %s, and output only the translated text\nin the target language in this format: <DBSQLAI>translated text</DBSQLAI>.\n\nIf the text is already in the target language, output the provided text.\n\n### Text\n\n%s"
        ],
        [
         "               spark.databricks.sql.functions.aiFunctions.remoteHttpClient.maxConnections=2048"
        ],
        [
         "               spark.databricks.sql.functions.aiFunctions.remoteHttpClient.timeoutInSeconds=360"
        ],
        [
         "               spark.databricks.sql.functions.aiFunctions.safe.inference.enabled=true"
        ],
        [
         "               spark.databricks.sql.functions.aiFunctions.useDedicatedHttpClient=true"
        ],
        [
         "               spark.databricks.sql.functions.aiFunctions.vectorSearch.initialRetryIntervalMillis=1000"
        ],
        [
         "               spark.databricks.sql.functions.aiFunctions.vectorSearch.maxRetryInterval=120000"
        ],
        [
         "               spark.databricks.sql.functions.aiFunctions.vectorSearch.retryIntervalMultiplierFactor=2.0"
        ],
        [
         "               spark.databricks.sql.functions.aiGen.endpointName=databricks-meta-llama-3-3-70b-instruct"
        ],
        [
         "               spark.databricks.sql.functions.aiQuery.openAI.oSeries.model.list=o1-mini,o1,o3-mini,o3,o4-mini,gpt-5,gpt-5-mini,gpt-5-nano"
        ],
        [
         "               spark.databricks.sql.functions.vectorSearch.enabled=true"
        ],
        [
         "               spark.databricks.sql.functions.vectorSearch.use.indexIdentifierOnly=true"
        ],
        [
         "               spark.sql.ansi.enabled=true"
        ],
        [
         "               spark.sql.artifact.isolation.enabled=true"
        ],
        [
         "               spark.sql.cte.recursion.enabled=true"
        ],
        [
         "               spark.sql.defaultStorage.useDefaultStorageForCreateCatalogWithoutLocation.enabled=true"
        ],
        [
         "               spark.sql.functions.remoteHttpClient.retryOn400TimeoutError=true"
        ],
        [
         "               spark.sql.hive.convertCTAS=true"
        ],
        [
         "               spark.sql.legacy.codingErrorAction=true"
        ],
        [
         "               spark.sql.legacy.createHiveTableByDefault=false"
        ],
        [
         "               spark.sql.orc.compression.codec=snappy"
        ],
        [
         "               spark.sql.parquet.compression.codec=snappy"
        ],
        [
         "               spark.sql.readSideCharPadding=true"
        ],
        [
         "               spark.sql.scripting.enabled=true"
        ],
        [
         "               spark.sql.shuffleDependency.skipMigration.enabled=false"
        ],
        [
         "               spark.sql.sources.commitProtocolClass=com.databricks.sql.transaction.directory.DirectoryAtomicCommitProtocol"
        ],
        [
         "               spark.sql.sources.default=delta"
        ],
        [
         "               spark.sql.stableDerivedColumnAlias.enabled=true"
        ],
        [
         "               spark.sql.streaming.stateStore.providerClass=com.databricks.sql.streaming.state.RocksDBStateStoreProvider"
        ],
        [
         "               spark.sql.streaming.statefulOperator.stateRebalancing.enabled=false"
        ],
        [
         "               spark.sql.streaming.stopTimeout=15s"
        ],
        [
         "               spark.sql.variable.substitute=false"
        ],
        [
         "Owner:         philippe.christen@students.fhnw.ch"
        ],
        [
         "Create Time:   Thu Aug 28 08:11:03 UTC 2025"
        ],
        [
         "Body:          CASE\n         WHEN g >= 5.5  THEN 'A'\n         WHEN g >= 3.9 THEN 'B'\n         WHEN g >= 3.42 THEN 'C'\n         ELSE 'F'\n       END"
        ]
       ],
       "datasetInfos": [
        {
         "name": "_sqldf",
         "schema": {
          "fields": [
           {
            "metadata": {},
            "name": "function_desc",
            "nullable": false,
            "type": "string"
           }
          ],
          "type": "struct"
         },
         "tableIdentifier": null,
         "typeStr": "pyspark.sql.connect.dataframe.DataFrame"
        }
       ],
       "dbfsResultPath": null,
       "isJsonSchema": true,
       "metadata": {
        "createTempViewForImplicitDf": true,
        "dataframeName": "_sqldf",
        "executionCount": 27
       },
       "overflow": false,
       "plotOptions": {
        "customPlotOptions": {},
        "displayType": "table",
        "pivotAggregation": null,
        "pivotColumns": null,
        "xColumns": null,
        "yColumns": null
       },
       "removedWidgets": [],
       "schema": [
        {
         "metadata": "{}",
         "name": "function_desc",
         "type": "\"string\""
        }
       ],
       "type": "table"
      }
     },
     "output_type": "display_data"
    }
   ],
   "source": [
    "%sql\n",
    "DESCRIBE FUNCTION EXTENDED get_letter_grade;"
   ]
  },
  {
   "cell_type": "markdown",
   "metadata": {
    "application/vnd.databricks.v1+cell": {
     "cellMetadata": {},
     "inputWidgets": {},
     "nuid": "00de74a0-269f-4234-8034-44ede2416445",
     "showTitle": false,
     "tableResultSettingsMap": {},
     "title": ""
    }
   },
   "source": [
    "# Aufräumen"
   ]
  },
  {
   "cell_type": "code",
   "execution_count": 0,
   "metadata": {
    "application/vnd.databricks.v1+cell": {
     "cellMetadata": {
      "byteLimit": 2048000,
      "implicitDf": true,
      "rowLimit": 10000
     },
     "inputWidgets": {},
     "nuid": "e927e650-e92e-4d6b-9cde-71341b52e579",
     "showTitle": false,
     "tableResultSettingsMap": {},
     "title": ""
    }
   },
   "outputs": [],
   "source": [
    "%sql\n",
    "DROP FUNCTION IF EXISTS gpa_to_percentage;\n",
    "DROP FUNCTION IF EXISTS get_letter_grade;"
   ]
  },
  {
   "cell_type": "code",
   "execution_count": 0,
   "metadata": {
    "application/vnd.databricks.v1+cell": {
     "cellMetadata": {
      "byteLimit": 2048000,
      "implicitDf": true,
      "rowLimit": 10000
     },
     "inputWidgets": {},
     "nuid": "4b99c2d1-1c3c-40cb-9e30-0b47b2f38434",
     "showTitle": false,
     "tableResultSettingsMap": {},
     "title": ""
    }
   },
   "outputs": [],
   "source": [
    "%sql\n",
    "DROP TABLE IF EXISTS default.courses;\n",
    "DROP TABLE IF EXISTS default.enrollments;\n",
    "DROP TABLE IF EXISTS default.students;\n",
    "DROP TABLE IF EXISTS default.studentsupdate;"
   ]
  },
  {
   "cell_type": "code",
   "execution_count": 0,
   "metadata": {
    "application/vnd.databricks.v1+cell": {
     "cellMetadata": {
      "byteLimit": 2048000,
      "implicitDf": true,
      "rowLimit": 10000
     },
     "inputWidgets": {},
     "nuid": "5db1032c-6438-442c-b893-002c89729ccb",
     "showTitle": false,
     "tableResultSettingsMap": {},
     "title": ""
    }
   },
   "outputs": [],
   "source": [
    "%sql\n",
    "DROP VIEW IF EXISTS default.enrollments_enriched;"
   ]
  }
 ],
 "metadata": {
  "application/vnd.databricks.v1+notebook": {
   "computePreferences": null,
   "dashboards": [],
   "environmentMetadata": {
    "base_environment": "",
    "environment_version": "2"
   },
   "inputWidgetPreferences": null,
   "language": "python",
   "notebookMetadata": {
    "mostRecentlyExecutedCommandWithImplicitDF": {
     "commandId": 6362101898592707,
     "dataframes": [
      "_sqldf"
     ]
    },
    "pythonIndentUnit": 4
   },
   "notebookName": "43_join_set_operations_old",
   "widgets": {}
  },
  "language_info": {
   "name": "python"
  }
 },
 "nbformat": 4,
 "nbformat_minor": 0
}