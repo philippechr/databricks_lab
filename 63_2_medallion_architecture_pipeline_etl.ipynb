{
 "cells": [
  {
   "cell_type": "code",
   "execution_count": 0,
   "metadata": {
    "application/vnd.databricks.v1+cell": {
     "cellMetadata": {},
     "inputWidgets": {},
     "nuid": "d181250e-6c43-4cca-8014-0db485fe73bf",
     "showTitle": false,
     "tableResultSettingsMap": {},
     "title": ""
    }
   },
   "outputs": [],
   "source": [
    "%sql\n",
    "USE CATALOG workspace;\n",
    "USE SCHEMA default;"
   ]
  },
  {
   "cell_type": "code",
   "execution_count": 0,
   "metadata": {
    "application/vnd.databricks.v1+cell": {
     "cellMetadata": {},
     "inputWidgets": {},
     "nuid": "0044f5ba-702b-4329-b56e-418f088f3393",
     "showTitle": false,
     "tableResultSettingsMap": {},
     "title": ""
    }
   },
   "outputs": [],
   "source": [
    "# --- Konfiguration ---\n",
    "volume_path = \"/Volumes/workspace/default/volume\"\n",
    "source_data_path = f\"{volume_path}/enrollments_raw\" # Eigener Ordner für die Quelldateien\n",
    "\n",
    "# Pfade für die Checkpoints jeder Schicht\n",
    "chk_bronze = f\"{volume_path}/_chk/medallion_bronze\"\n",
    "chk_silver = f\"{volume_path}/_chk/medallion_silver\"\n",
    "chk_gold = f\"{volume_path}/_chk/medallion_gold\""
   ]
  },
  {
   "cell_type": "code",
   "execution_count": 0,
   "metadata": {
    "application/vnd.databricks.v1+cell": {
     "cellMetadata": {},
     "inputWidgets": {},
     "nuid": "7bd8a2af-1608-4f4f-85ad-eb99bee5a647",
     "showTitle": false,
     "tableResultSettingsMap": {},
     "title": ""
    }
   },
   "outputs": [],
   "source": [
    "import pyspark.sql.functions as F\n",
    "\n",
    "# --- Statische Lookup-Tabelle für Studenten ---\n",
    "# Wir lesen die Daten aus der bereitgestellten students.json\n",
    "students_lookup_df = spark.read.json(f\"{volume_path}/students.json\")"
   ]
  },
  {
   "cell_type": "markdown",
   "metadata": {
    "application/vnd.databricks.v1+cell": {
     "cellMetadata": {
      "byteLimit": 2048000,
      "rowLimit": 10000
     },
     "inputWidgets": {},
     "nuid": "5883a6a8-7467-4766-b87c-3f1d52909230",
     "showTitle": false,
     "tableResultSettingsMap": {},
     "title": ""
    }
   },
   "source": [
    "# Bronze-Schicht – Inkrementelles Laden mit Auto Loader\n",
    "\n"
   ]
  },
  {
   "cell_type": "markdown",
   "metadata": {
    "application/vnd.databricks.v1+cell": {
     "cellMetadata": {
      "byteLimit": 2048000,
      "rowLimit": 10000
     },
     "inputWidgets": {},
     "nuid": "070d50a6-cc78-4a83-967f-103be62b55e1",
     "showTitle": false,
     "tableResultSettingsMap": {},
     "title": ""
    }
   },
   "source": [
    "Diese Zelle liest die JSON-Dateien aus dem Quellordner und schreibt sie in die enrollments_bronze-Tabelle."
   ]
  },
  {
   "cell_type": "code",
   "execution_count": 0,
   "metadata": {
    "application/vnd.databricks.v1+cell": {
     "cellMetadata": {
      "byteLimit": 2048000,
      "rowLimit": 10000
     },
     "inputWidgets": {},
     "nuid": "d80b6441-7c10-4164-bab6-9f5c3bdba301",
     "showTitle": false,
     "tableResultSettingsMap": {},
     "title": ""
    }
   },
   "outputs": [
    {
     "output_type": "stream",
     "name": "stdout",
     "output_type": "stream",
     "text": [
      "✅ Bronze-Schicht erfolgreich verarbeitet.\n"
     ]
    },
    {
     "output_type": "display_data",
     "data": {
      "text/html": [
       "<style scoped>\n",
       "  .table-result-container {\n",
       "    max-height: 300px;\n",
       "    overflow: auto;\n",
       "  }\n",
       "  table, th, td {\n",
       "    border: 1px solid black;\n",
       "    border-collapse: collapse;\n",
       "  }\n",
       "  th, td {\n",
       "    padding: 5px;\n",
       "  }\n",
       "  th {\n",
       "    text-align: left;\n",
       "  }\n",
       "</style><div class='table-result-container'><table class='table-result'><thead style='background-color: white'><tr><th>courses</th><th>enroll_id</th><th>quantity</th><th>student_id</th><th>timestamp</th><th>total</th><th>_rescued_data</th><th>arrival_time</th><th>source_file</th></tr></thead><tbody><tr><td>List(101)</td><td>e001</td><td>1</td><td>1</td><td>2025-08-01T09:00:00</td><td>850</td><td>null</td><td>2025-08-13T07:39:27.486Z</td><td>/Volumes/workspace/default/volume/enrollments_raw/part-00000-tid-7945478119600530758-3b944590-335d-4346-9107-ed76ba25c30c-138-1-c000.json</td></tr><tr><td>List(102, 103)</td><td>e002</td><td>2</td><td>2</td><td>2025-08-02T10:00:00</td><td>1800</td><td>null</td><td>2025-08-13T07:39:27.486Z</td><td>/Volumes/workspace/default/volume/enrollments_raw/part-00000-tid-7945478119600530758-3b944590-335d-4346-9107-ed76ba25c30c-138-1-c000.json</td></tr><tr><td>List(103)</td><td>e003</td><td>1</td><td>3</td><td>2025-08-03T11:30:00</td><td>600</td><td>null</td><td>2025-08-13T07:39:27.486Z</td><td>/Volumes/workspace/default/volume/enrollments_raw/part-00000-tid-7945478119600530758-3b944590-335d-4346-9107-ed76ba25c30c-138-1-c000.json</td></tr></tbody></table></div>"
      ]
     },
     "metadata": {
      "application/vnd.databricks.v1+output": {
       "addedWidgets": {},
       "aggData": [],
       "aggError": "",
       "aggOverflow": false,
       "aggSchema": [],
       "aggSeriesLimitReached": false,
       "aggType": "",
       "arguments": {},
       "columnCustomDisplayInfos": {},
       "data": [
        [
         [
          101
         ],
         "e001",
         1,
         1,
         "2025-08-01T09:00:00",
         850,
         null,
         "2025-08-13T07:39:27.486Z",
         "/Volumes/workspace/default/volume/enrollments_raw/part-00000-tid-7945478119600530758-3b944590-335d-4346-9107-ed76ba25c30c-138-1-c000.json"
        ],
        [
         [
          102,
          103
         ],
         "e002",
         2,
         2,
         "2025-08-02T10:00:00",
         1800,
         null,
         "2025-08-13T07:39:27.486Z",
         "/Volumes/workspace/default/volume/enrollments_raw/part-00000-tid-7945478119600530758-3b944590-335d-4346-9107-ed76ba25c30c-138-1-c000.json"
        ],
        [
         [
          103
         ],
         "e003",
         1,
         3,
         "2025-08-03T11:30:00",
         600,
         null,
         "2025-08-13T07:39:27.486Z",
         "/Volumes/workspace/default/volume/enrollments_raw/part-00000-tid-7945478119600530758-3b944590-335d-4346-9107-ed76ba25c30c-138-1-c000.json"
        ]
       ],
       "datasetInfos": [],
       "dbfsResultPath": null,
       "isJsonSchema": true,
       "metadata": {},
       "overflow": false,
       "plotOptions": {
        "customPlotOptions": {},
        "displayType": "table",
        "pivotAggregation": null,
        "pivotColumns": null,
        "xColumns": null,
        "yColumns": null
       },
       "removedWidgets": [],
       "schema": [
        {
         "metadata": "{}",
         "name": "courses",
         "type": "{\"containsNull\":true,\"elementType\":\"long\",\"type\":\"array\"}"
        },
        {
         "metadata": "{}",
         "name": "enroll_id",
         "type": "\"string\""
        },
        {
         "metadata": "{}",
         "name": "quantity",
         "type": "\"long\""
        },
        {
         "metadata": "{}",
         "name": "student_id",
         "type": "\"long\""
        },
        {
         "metadata": "{}",
         "name": "timestamp",
         "type": "\"string\""
        },
        {
         "metadata": "{}",
         "name": "total",
         "type": "\"long\""
        },
        {
         "metadata": "{}",
         "name": "_rescued_data",
         "type": "\"string\""
        },
        {
         "metadata": "{}",
         "name": "arrival_time",
         "type": "\"timestamp\""
        },
        {
         "metadata": "{}",
         "name": "source_file",
         "type": "\"string\""
        }
       ],
       "type": "table"
      }
     },
     "output_type": "display_data"
    }
   ],
   "source": [
    "import pyspark.sql.functions as F\n",
    "from pyspark.sql.functions import col # Wichtig für den Zugriff auf die _metadata-Spalte\n",
    "\n",
    "# Bronze-Stream mit Auto Loader\n",
    "(spark.readStream\n",
    "      .format(\"cloudFiles\")\n",
    "      .option(\"cloudFiles.format\", \"json\")\n",
    "      .option(\"cloudFiles.inferColumnTypes\", \"true\")\n",
    "      .option(\"cloudFiles.schemaLocation\", chk_bronze)\n",
    "      .load(source_data_path)\n",
    "      .select(\"*\",\n",
    "              F.current_timestamp().alias(\"arrival_time\"),\n",
    "              col(\"_metadata.file_path\").alias(\"source_file\"))\n",
    " .writeStream\n",
    "      .format(\"delta\")\n",
    "      .option(\"checkpointLocation\", chk_bronze)\n",
    "      .outputMode(\"append\")\n",
    "      .trigger(availableNow=True) # Wichtig für Free Edition\n",
    "      .table(\"enrollments_bronze\")\n",
    "      .awaitTermination() # Warten, bis dieser Schritt fertig ist\n",
    ")\n",
    "\n",
    "print(\"✅ Bronze-Schicht erfolgreich verarbeitet.\")\n",
    "display(spark.table(\"enrollments_bronze\"))"
   ]
  },
  {
   "cell_type": "markdown",
   "metadata": {
    "application/vnd.databricks.v1+cell": {
     "cellMetadata": {
      "byteLimit": 2048000,
      "rowLimit": 10000
     },
     "inputWidgets": {},
     "nuid": "f5ec0a1e-deaa-4648-9506-47986a864750",
     "showTitle": false,
     "tableResultSettingsMap": {},
     "title": ""
    }
   },
   "source": [
    "# Silber-Schicht – Bereinigen und Anreichern"
   ]
  },
  {
   "cell_type": "markdown",
   "metadata": {
    "application/vnd.databricks.v1+cell": {
     "cellMetadata": {
      "byteLimit": 2048000,
      "rowLimit": 10000
     },
     "inputWidgets": {},
     "nuid": "14b817e9-1f65-4f60-a257-cea878fead86",
     "showTitle": false,
     "tableResultSettingsMap": {},
     "title": ""
    }
   },
   "source": [
    "Diese Zelle liest aus der Bronze-Tabelle, filtert die Daten und reichert sie durch einen Join mit statischen Studentendaten an."
   ]
  },
  {
   "cell_type": "code",
   "execution_count": 0,
   "metadata": {
    "application/vnd.databricks.v1+cell": {
     "cellMetadata": {
      "byteLimit": 2048000,
      "rowLimit": 10000
     },
     "inputWidgets": {},
     "nuid": "8495b4c0-28b4-4428-9b8d-c4caffdeb538",
     "showTitle": false,
     "tableResultSettingsMap": {},
     "title": ""
    }
   },
   "outputs": [
    {
     "output_type": "stream",
     "name": "stdout",
     "output_type": "stream",
     "text": [
      "✅ Silber-Schicht erfolgreich verarbeitet.\n"
     ]
    },
    {
     "output_type": "display_data",
     "data": {
      "text/html": [
       "<style scoped>\n",
       "  .table-result-container {\n",
       "    max-height: 300px;\n",
       "    overflow: auto;\n",
       "  }\n",
       "  table, th, td {\n",
       "    border: 1px solid black;\n",
       "    border-collapse: collapse;\n",
       "  }\n",
       "  th, td {\n",
       "    padding: 5px;\n",
       "  }\n",
       "  th {\n",
       "    text-align: left;\n",
       "  }\n",
       "</style><div class='table-result-container'><table class='table-result'><thead style='background-color: white'><tr><th>enroll_id</th><th>student_id</th><th>email</th><th>gpa</th><th>profile</th><th>quantity</th><th>courses</th><th>processed_timestamp</th></tr></thead><tbody><tr><td>e001</td><td>1</td><td>anna@example.com</td><td>3.9</td><td>full-time</td><td>1</td><td>List(101)</td><td>2025-08-01T09:00:00.000Z</td></tr><tr><td>e002</td><td>2</td><td>ben@example.com</td><td>3.2</td><td>part-time</td><td>2</td><td>List(102, 103)</td><td>2025-08-02T10:00:00.000Z</td></tr><tr><td>e003</td><td>3</td><td>clara@example.com</td><td>3.7</td><td>exchange</td><td>1</td><td>List(103)</td><td>2025-08-03T11:30:00.000Z</td></tr></tbody></table></div>"
      ]
     },
     "metadata": {
      "application/vnd.databricks.v1+output": {
       "addedWidgets": {},
       "aggData": [],
       "aggError": "",
       "aggOverflow": false,
       "aggSchema": [],
       "aggSeriesLimitReached": false,
       "aggType": "",
       "arguments": {},
       "columnCustomDisplayInfos": {},
       "data": [
        [
         "e001",
         1,
         "anna@example.com",
         3.9,
         "full-time",
         1,
         [
          101
         ],
         "2025-08-01T09:00:00.000Z"
        ],
        [
         "e002",
         2,
         "ben@example.com",
         3.2,
         "part-time",
         2,
         [
          102,
          103
         ],
         "2025-08-02T10:00:00.000Z"
        ],
        [
         "e003",
         3,
         "clara@example.com",
         3.7,
         "exchange",
         1,
         [
          103
         ],
         "2025-08-03T11:30:00.000Z"
        ]
       ],
       "datasetInfos": [],
       "dbfsResultPath": null,
       "isJsonSchema": true,
       "metadata": {},
       "overflow": false,
       "plotOptions": {
        "customPlotOptions": {},
        "displayType": "table",
        "pivotAggregation": null,
        "pivotColumns": null,
        "xColumns": null,
        "yColumns": null
       },
       "removedWidgets": [],
       "schema": [
        {
         "metadata": "{}",
         "name": "enroll_id",
         "type": "\"string\""
        },
        {
         "metadata": "{}",
         "name": "student_id",
         "type": "\"long\""
        },
        {
         "metadata": "{}",
         "name": "email",
         "type": "\"string\""
        },
        {
         "metadata": "{}",
         "name": "gpa",
         "type": "\"double\""
        },
        {
         "metadata": "{}",
         "name": "profile",
         "type": "\"string\""
        },
        {
         "metadata": "{}",
         "name": "quantity",
         "type": "\"long\""
        },
        {
         "metadata": "{}",
         "name": "courses",
         "type": "{\"containsNull\":true,\"elementType\":\"long\",\"type\":\"array\"}"
        },
        {
         "metadata": "{}",
         "name": "processed_timestamp",
         "type": "\"timestamp\""
        }
       ],
       "type": "table"
      }
     },
     "output_type": "display_data"
    }
   ],
   "source": [
    "import pyspark.sql.functions as F\n",
    "\n",
    "# Silber-Stream: Liest von Bronze, bereinigt und reichert an\n",
    "enrollments_enriched_df = (\n",
    "    spark.readStream\n",
    "         .table(\"enrollments_bronze\")\n",
    "         .where(\"quantity > 0\")\n",
    "         .withColumn(\"processed_timestamp\", F.to_timestamp(\"timestamp\"))\n",
    "         .join(students_lookup_df, \"student_id\")\n",
    "         .select(\"enroll_id\", \"student_id\", \"email\", \"gpa\", \"profile\",\n",
    "                  \"quantity\", \"courses\", \"processed_timestamp\")\n",
    ")\n",
    "\n",
    "# Ergebnis in die Silber-Tabelle schreiben\n",
    "(enrollments_enriched_df.writeStream\n",
    "                        .format(\"delta\")\n",
    "                        .option(\"checkpointLocation\", chk_silver)\n",
    "                        .option(\"mergeSchema\", \"true\")\n",
    "                        .outputMode(\"append\")\n",
    "                        .trigger(availableNow=True)\n",
    "                        .table(\"enrollments_silver\")\n",
    "                        .awaitTermination()\n",
    ")\n",
    "\n",
    "print(\"✅ Silber-Schicht erfolgreich verarbeitet.\")\n",
    "display(spark.table(\"enrollments_silver\"))"
   ]
  },
  {
   "cell_type": "markdown",
   "metadata": {
    "application/vnd.databricks.v1+cell": {
     "cellMetadata": {
      "byteLimit": 2048000,
      "rowLimit": 10000
     },
     "inputWidgets": {},
     "nuid": "34283694-038d-4704-a5cd-380553307d0e",
     "showTitle": false,
     "tableResultSettingsMap": {},
     "title": ""
    }
   },
   "source": [
    "# Gold-Schicht – Aggregation für Business-Insights"
   ]
  },
  {
   "cell_type": "markdown",
   "metadata": {
    "application/vnd.databricks.v1+cell": {
     "cellMetadata": {
      "byteLimit": 2048000,
      "rowLimit": 10000
     },
     "inputWidgets": {},
     "nuid": "69bee578-a9ac-484a-9c0b-f70c44372dac",
     "showTitle": false,
     "tableResultSettingsMap": {},
     "title": ""
    }
   },
   "source": [
    "Diese Zelle liest aus der Silber-Tabelle und erstellt eine aggregierte Sicht für das Reporting."
   ]
  },
  {
   "cell_type": "code",
   "execution_count": 0,
   "metadata": {
    "application/vnd.databricks.v1+cell": {
     "cellMetadata": {
      "byteLimit": 2048000,
      "rowLimit": 10000
     },
     "inputWidgets": {},
     "nuid": "23a129e6-74cb-4b55-a55c-9efe962659b2",
     "showTitle": false,
     "tableResultSettingsMap": {},
     "title": ""
    }
   },
   "outputs": [
    {
     "output_type": "stream",
     "name": "stdout",
     "output_type": "stream",
     "text": [
      "✅ Gold-Schicht erfolgreich verarbeitet.\n"
     ]
    },
    {
     "output_type": "display_data",
     "data": {
      "text/html": [
       "<style scoped>\n",
       "  .table-result-container {\n",
       "    max-height: 300px;\n",
       "    overflow: auto;\n",
       "  }\n",
       "  table, th, td {\n",
       "    border: 1px solid black;\n",
       "    border-collapse: collapse;\n",
       "  }\n",
       "  th, td {\n",
       "    padding: 5px;\n",
       "  }\n",
       "  th {\n",
       "    text-align: left;\n",
       "  }\n",
       "</style><div class='table-result-container'><table class='table-result'><thead style='background-color: white'><tr><th>student_id</th><th>email</th><th>day</th><th>total_courses_enrolled</th></tr></thead><tbody><tr><td>3</td><td>clara@example.com</td><td>2025-08-03T00:00:00.000Z</td><td>1</td></tr><tr><td>1</td><td>anna@example.com</td><td>2025-08-01T00:00:00.000Z</td><td>1</td></tr><tr><td>2</td><td>ben@example.com</td><td>2025-08-02T00:00:00.000Z</td><td>2</td></tr></tbody></table></div>"
      ]
     },
     "metadata": {
      "application/vnd.databricks.v1+output": {
       "addedWidgets": {},
       "aggData": [],
       "aggError": "",
       "aggOverflow": false,
       "aggSchema": [],
       "aggSeriesLimitReached": false,
       "aggType": "",
       "arguments": {},
       "columnCustomDisplayInfos": {},
       "data": [
        [
         3,
         "clara@example.com",
         "2025-08-03T00:00:00.000Z",
         1
        ],
        [
         1,
         "anna@example.com",
         "2025-08-01T00:00:00.000Z",
         1
        ],
        [
         2,
         "ben@example.com",
         "2025-08-02T00:00:00.000Z",
         2
        ]
       ],
       "datasetInfos": [],
       "dbfsResultPath": null,
       "isJsonSchema": true,
       "metadata": {},
       "overflow": false,
       "plotOptions": {
        "customPlotOptions": {},
        "displayType": "table",
        "pivotAggregation": null,
        "pivotColumns": null,
        "xColumns": null,
        "yColumns": null
       },
       "removedWidgets": [],
       "schema": [
        {
         "metadata": "{}",
         "name": "student_id",
         "type": "\"long\""
        },
        {
         "metadata": "{}",
         "name": "email",
         "type": "\"string\""
        },
        {
         "metadata": "{}",
         "name": "day",
         "type": "\"timestamp\""
        },
        {
         "metadata": "{}",
         "name": "total_courses_enrolled",
         "type": "\"long\""
        }
       ],
       "type": "table"
      }
     },
     "output_type": "display_data"
    }
   ],
   "source": [
    "import pyspark.sql.functions as F\n",
    "\n",
    "# Gold-Stream: Liest von Silber und aggregiert die Daten\n",
    "enrollments_agg_df = (\n",
    "    spark.readStream\n",
    "         .table(\"enrollments_silver\")\n",
    "         .withColumn(\"day\", F.date_trunc(\"DD\", \"processed_timestamp\"))\n",
    "         .groupBy(\"student_id\", \"email\", \"day\")\n",
    "         .agg(F.sum(\"quantity\").alias(\"total_courses_enrolled\"))\n",
    ")\n",
    "\n",
    "# Ergebnis in die Gold-Tabelle schreiben\n",
    "(enrollments_agg_df.writeStream\n",
    "                   .format(\"delta\")\n",
    "                   .outputMode(\"complete\") # Wichtig für Aggregationen\n",
    "                   .option(\"checkpointLocation\", chk_gold)\n",
    "                   .trigger(availableNow=True)\n",
    "                   .table(\"daily_student_courses\")\n",
    "                   .awaitTermination()\n",
    ")\n",
    "\n",
    "print(\"✅ Gold-Schicht erfolgreich verarbeitet.\")\n",
    "display(spark.table(\"daily_student_courses\"))"
   ]
  }
 ],
 "metadata": {
  "application/vnd.databricks.v1+notebook": {
   "computePreferences": null,
   "dashboards": [],
   "environmentMetadata": {
    "base_environment": "",
    "environment_version": "2"
   },
   "inputWidgetPreferences": null,
   "language": "python",
   "notebookMetadata": {
    "mostRecentlyExecutedCommandWithImplicitDF": {
     "commandId": 1066111435669749,
     "dataframes": [
      "_sqldf"
     ]
    },
    "pythonIndentUnit": 4
   },
   "notebookName": "62_2_medallion_architecture_pipeline_etl",
   "widgets": {}
  },
  "language_info": {
   "name": "python"
  }
 },
 "nbformat": 4,
 "nbformat_minor": 0
}