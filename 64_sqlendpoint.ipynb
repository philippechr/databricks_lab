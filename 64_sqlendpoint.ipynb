{
 "cells": [
  {
   "cell_type": "code",
   "execution_count": 1,
   "id": "0c4fa51b",
   "metadata": {},
   "outputs": [
    {
     "name": "stdout",
     "output_type": "stream",
     "text": [
      "\n",
      "\u001b[1m[\u001b[0m\u001b[34;49mnotice\u001b[0m\u001b[1;39;49m]\u001b[0m\u001b[39;49m A new release of pip is available: \u001b[0m\u001b[31;49m24.3.1\u001b[0m\u001b[39;49m -> \u001b[0m\u001b[32;49m25.2\u001b[0m\n",
      "\u001b[1m[\u001b[0m\u001b[34;49mnotice\u001b[0m\u001b[1;39;49m]\u001b[0m\u001b[39;49m To update, run: \u001b[0m\u001b[32;49mpip install --upgrade pip\u001b[0m\n",
      "Note: you may need to restart the kernel to use updated packages.\n"
     ]
    }
   ],
   "source": [
    "pip install -q databricks-sql-connector pandas python-dotenv"
   ]
  },
  {
   "cell_type": "code",
   "execution_count": null,
   "id": "7161805a",
   "metadata": {},
   "outputs": [],
   "source": [
    "# -*- coding: utf-8 -*-\n",
    "# Databricks SQL → pandas DataFrame (Clean Code, robust, .env-Unterstützung)\n",
    "from databricks import sql\n",
    "import pandas as pd\n",
    "import os\n",
    "\n",
    "# -----------------------------\n",
    "# 1) Konstqnzen definbierenn\n",
    "# -----------------------------\n",
    "DATABRICKS_SERVER_HOSTNAME = \"dbc-9xxxx.cloud.databricks.com\"\n",
    "DATABRICKS_HTTP_PATH = \"/sql/1.0/warehouses/xxxxx\"\n",
    "DATABRICKS_TOKEN = \"dapi1xxxxxx1\""
   ]
  },
  {
   "cell_type": "code",
   "execution_count": 3,
   "id": "b29c461d",
   "metadata": {},
   "outputs": [],
   "source": [
    "# -----------------------------\n",
    "# Helper-Funktion: Query → DataFrame\n",
    "# -----------------------------\n",
    "def query_to_df(query: str) -> pd.DataFrame:\n",
    "    \"\"\"Führt eine SQL-Query gegen Databricks aus und gibt ein DataFrame zurück.\"\"\"\n",
    "    with (\n",
    "        sql.connect(\n",
    "            server_hostname=DATABRICKS_SERVER_HOSTNAME,\n",
    "            http_path=DATABRICKS_HTTP_PATH,\n",
    "            access_token=DATABRICKS_TOKEN,\n",
    "        ) as conn,\n",
    "        conn.cursor() as cur,\n",
    "    ):\n",
    "        cur.execute(query)\n",
    "        rows = cur.fetchall()\n",
    "        cols = [c[0] for c in cur.description]\n",
    "    return pd.DataFrame(rows, columns=cols)"
   ]
  },
  {
   "cell_type": "code",
   "execution_count": null,
   "id": "2da1ccb6",
   "metadata": {},
   "outputs": [
    {
     "name": "stderr",
     "output_type": "stream",
     "text": [
      "[WARN] pyarrow is not installed by default since databricks-sql-connector 4.0.0,any arrow specific api (e.g. fetchmany_arrow) and cloud fetch will be disabled.If you need these features, please run pip install pyarrow or pip install databricks-sql-connector[pyarrow] to install\n"
     ]
    },
    {
     "data": {
      "text/html": [
       "<div>\n",
       "<style scoped>\n",
       "    .dataframe tbody tr th:only-of-type {\n",
       "        vertical-align: middle;\n",
       "    }\n",
       "\n",
       "    .dataframe tbody tr th {\n",
       "        vertical-align: top;\n",
       "    }\n",
       "\n",
       "    .dataframe thead th {\n",
       "        text-align: right;\n",
       "    }\n",
       "</style>\n",
       "<table border=\"1\" class=\"dataframe\">\n",
       "  <thead>\n",
       "    <tr style=\"text-align: right;\">\n",
       "      <th></th>\n",
       "      <th>enroll_id</th>\n",
       "      <th>student_id</th>\n",
       "      <th>email</th>\n",
       "      <th>gpa</th>\n",
       "      <th>profile</th>\n",
       "      <th>quantity</th>\n",
       "      <th>courses</th>\n",
       "      <th>processed_timestamp</th>\n",
       "    </tr>\n",
       "  </thead>\n",
       "  <tbody>\n",
       "    <tr>\n",
       "      <th>0</th>\n",
       "      <td>e001</td>\n",
       "      <td>1</td>\n",
       "      <td>anna@example.com</td>\n",
       "      <td>3.9</td>\n",
       "      <td>full-time</td>\n",
       "      <td>1</td>\n",
       "      <td>[101]</td>\n",
       "      <td>2025-08-01 09:00:00</td>\n",
       "    </tr>\n",
       "  </tbody>\n",
       "</table>\n",
       "</div>"
      ],
      "text/plain": [
       "  enroll_id  student_id             email  gpa    profile  quantity courses  \\\n",
       "0      e001           1  anna@example.com  3.9  full-time         1   [101]   \n",
       "\n",
       "  processed_timestamp  \n",
       "0 2025-08-01 09:00:00  "
      ]
     },
     "metadata": {},
     "output_type": "display_data"
    }
   ],
   "source": [
    "# -----------------------------\n",
    "# Beispiel 1: SQL-Query\n",
    "# -----------------------------\n",
    "df = query_to_df(\"\"\"\n",
    "    SELECT *\n",
    "    FROM workspace.default.enrollments_silver\n",
    "    WHERE enroll_id = 'e001'\n",
    "\"\"\")\n",
    "\n",
    "# -----------------------------\n",
    "# Ergebnis anzeigen\n",
    "# -----------------------------\n",
    "try:\n",
    "    display(df)  # Databricks / Jupyter / Colab\n",
    "except NameError:\n",
    "    print(df)  # Fallback für VS Code / CLI"
   ]
  },
  {
   "cell_type": "code",
   "execution_count": null,
   "id": "a7dd8188",
   "metadata": {},
   "outputs": [
    {
     "name": "stdout",
     "output_type": "stream",
     "text": [
      "  enroll_id  student_id             email  gpa    profile  quantity courses  \\\n",
      "0      e001           1  anna@example.com  3.9  full-time         1   [101]   \n",
      "\n",
      "  processed_timestamp  \n",
      "0 2025-08-01 09:00:00  \n",
      "(1, 8)\n",
      "\n",
      "\n",
      "   student_id  gpa\n",
      "0           1  3.9\n"
     ]
    }
   ],
   "source": [
    "# -----------------------------\n",
    "# Beispiel 2: Python abfragen → DataFrame\n",
    "# -----------------------------\n",
    "df = query_to_df(\n",
    "    \"SELECT * FROM workspace.default.enrollments_silver WHERE enroll_id = 'e001'\"\n",
    ")\n",
    "\n",
    "# Ganz normal mit pandas weiterarbeiten\n",
    "print(df.head())\n",
    "print(df.shape)\n",
    "print(\"\\n\")\n",
    "\n",
    "# Spalten auswählen / filtern\n",
    "print(df[[\"student_id\", \"gpa\"]])"
   ]
  },
  {
   "cell_type": "code",
   "execution_count": null,
   "id": "bd0c357e",
   "metadata": {},
   "outputs": [],
   "source": []
  }
 ],
 "metadata": {
  "kernelspec": {
   "display_name": "python_base_coding",
   "language": "python",
   "name": "python3"
  },
  "language_info": {
   "codemirror_mode": {
    "name": "ipython",
    "version": 3
   },
   "file_extension": ".py",
   "mimetype": "text/x-python",
   "name": "python",
   "nbconvert_exporter": "python",
   "pygments_lexer": "ipython3",
   "version": "3.13.1"
  }
 },
 "nbformat": 4,
 "nbformat_minor": 5
}
