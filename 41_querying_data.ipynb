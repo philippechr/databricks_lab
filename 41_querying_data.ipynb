{
 "cells": [
  {
   "cell_type": "code",
   "execution_count": 0,
   "metadata": {
    "application/vnd.databricks.v1+cell": {
     "cellMetadata": {
      "byteLimit": 2048000,
      "implicitDf": true,
      "rowLimit": 10000
     },
     "inputWidgets": {},
     "nuid": "75981cc6-b13c-4683-a7cf-fe1941d8c8f0",
     "showTitle": false,
     "tableResultSettingsMap": {},
     "title": ""
    }
   },
   "outputs": [],
   "source": [
    "%sql\n",
    "USE CATALOG workspace;\n",
    "USE SCHEMA default;"
   ]
  },
  {
   "cell_type": "markdown",
   "metadata": {
    "application/vnd.databricks.v1+cell": {
     "cellMetadata": {
      "byteLimit": 2048000,
      "rowLimit": 10000
     },
     "inputWidgets": {},
     "nuid": "c56133b3-6aac-4218-9ea4-8e2b982a6129",
     "showTitle": false,
     "tableResultSettingsMap": {},
     "title": ""
    }
   },
   "source": [
    "Prüfen der Daten im Volume"
   ]
  },
  {
   "cell_type": "code",
   "execution_count": 0,
   "metadata": {
    "application/vnd.databricks.v1+cell": {
     "cellMetadata": {
      "byteLimit": 2048000,
      "rowLimit": 10000
     },
     "inputWidgets": {},
     "nuid": "6e5d6ba7-36b3-48ae-ac06-58dbda1c2c87",
     "showTitle": false,
     "tableResultSettingsMap": {
      "0": {
       "dataGridStateBlob": "{\"version\":1,\"tableState\":{\"columnPinning\":{\"left\":[\"#row_number#\"],\"right\":[]},\"columnSizing\":{\"name\":158},\"columnVisibility\":{}},\"settings\":{\"columns\":{}},\"syncTimestamp\":1754655508624}",
       "filterBlob": null,
       "queryPlanFiltersBlob": null,
       "tableResultIndex": 0
      }
     },
     "title": ""
    }
   },
   "outputs": [
    {
     "output_type": "display_data",
     "data": {
      "text/html": [
       "<style scoped>\n",
       "  .table-result-container {\n",
       "    max-height: 300px;\n",
       "    overflow: auto;\n",
       "  }\n",
       "  table, th, td {\n",
       "    border: 1px solid black;\n",
       "    border-collapse: collapse;\n",
       "  }\n",
       "  th, td {\n",
       "    padding: 5px;\n",
       "  }\n",
       "  th {\n",
       "    text-align: left;\n",
       "  }\n",
       "</style><div class='table-result-container'><table class='table-result'><thead style='background-color: white'><tr><th>path</th><th>name</th><th>size</th><th>modificationTime</th></tr></thead><tbody><tr><td>dbfs:/Volumes/workspace/default/volume/courses.json</td><td>courses.json</td><td>329</td><td>1757583402000</td></tr><tr><td>dbfs:/Volumes/workspace/default/volume/enrollments.json</td><td>enrollments.json</td><td>371</td><td>1757583402000</td></tr><tr><td>dbfs:/Volumes/workspace/default/volume/image.png</td><td>image.png</td><td>77222</td><td>1757583402000</td></tr><tr><td>dbfs:/Volumes/workspace/default/volume/nested_json.json</td><td>nested_json.json</td><td>1186</td><td>1757583402000</td></tr><tr><td>dbfs:/Volumes/workspace/default/volume/sample_data.csv</td><td>sample_data.csv</td><td>69</td><td>1757583402000</td></tr><tr><td>dbfs:/Volumes/workspace/default/volume/sample_data2.csv</td><td>sample_data2.csv</td><td>75</td><td>1757583402000</td></tr><tr><td>dbfs:/Volumes/workspace/default/volume/students.json</td><td>students.json</td><td>322</td><td>1757583402000</td></tr><tr><td>dbfs:/Volumes/workspace/default/volume/students_update.json</td><td>students_update.json</td><td>216</td><td>1757583402000</td></tr></tbody></table></div>"
      ]
     },
     "metadata": {
      "application/vnd.databricks.v1+output": {
       "addedWidgets": {},
       "aggData": [],
       "aggError": "",
       "aggOverflow": false,
       "aggSchema": [],
       "aggSeriesLimitReached": false,
       "aggType": "",
       "arguments": {},
       "columnCustomDisplayInfos": {},
       "data": [
        [
         "dbfs:/Volumes/workspace/default/volume/courses.json",
         "courses.json",
         329,
         1757583402000
        ],
        [
         "dbfs:/Volumes/workspace/default/volume/enrollments.json",
         "enrollments.json",
         371,
         1757583402000
        ],
        [
         "dbfs:/Volumes/workspace/default/volume/image.png",
         "image.png",
         77222,
         1757583402000
        ],
        [
         "dbfs:/Volumes/workspace/default/volume/nested_json.json",
         "nested_json.json",
         1186,
         1757583402000
        ],
        [
         "dbfs:/Volumes/workspace/default/volume/sample_data.csv",
         "sample_data.csv",
         69,
         1757583402000
        ],
        [
         "dbfs:/Volumes/workspace/default/volume/sample_data2.csv",
         "sample_data2.csv",
         75,
         1757583402000
        ],
        [
         "dbfs:/Volumes/workspace/default/volume/students.json",
         "students.json",
         322,
         1757583402000
        ],
        [
         "dbfs:/Volumes/workspace/default/volume/students_update.json",
         "students_update.json",
         216,
         1757583402000
        ]
       ],
       "datasetInfos": [],
       "dbfsResultPath": null,
       "isJsonSchema": true,
       "metadata": {},
       "overflow": false,
       "plotOptions": {
        "customPlotOptions": {},
        "displayType": "table",
        "pivotAggregation": null,
        "pivotColumns": null,
        "xColumns": null,
        "yColumns": null
       },
       "removedWidgets": [],
       "schema": [
        {
         "metadata": "{}",
         "name": "path",
         "type": "\"string\""
        },
        {
         "metadata": "{}",
         "name": "name",
         "type": "\"string\""
        },
        {
         "metadata": "{}",
         "name": "size",
         "type": "\"long\""
        },
        {
         "metadata": "{}",
         "name": "modificationTime",
         "type": "\"long\""
        }
       ],
       "type": "table"
      }
     },
     "output_type": "display_data"
    },
    {
     "output_type": "display_data",
     "data": {
      "text/html": [
       "<style scoped>\n",
       "  .table-result-container {\n",
       "    max-height: 300px;\n",
       "    overflow: auto;\n",
       "  }\n",
       "  table, th, td {\n",
       "    border: 1px solid black;\n",
       "    border-collapse: collapse;\n",
       "  }\n",
       "  th, td {\n",
       "    padding: 5px;\n",
       "  }\n",
       "  th {\n",
       "    text-align: left;\n",
       "  }\n",
       "</style><div class='table-result-container'><table class='table-result'><thead style='background-color: white'><tr><th>path</th><th>name</th><th>size</th><th>modificationTime</th></tr></thead><tbody><tr><td>dbfs:/Volumes/workspace/default/volume/courses.json</td><td>courses.json</td><td>329</td><td>1757583402000</td></tr><tr><td>dbfs:/Volumes/workspace/default/volume/enrollments.json</td><td>enrollments.json</td><td>371</td><td>1757583402000</td></tr><tr><td>dbfs:/Volumes/workspace/default/volume/nested_json.json</td><td>nested_json.json</td><td>1186</td><td>1757583402000</td></tr><tr><td>dbfs:/Volumes/workspace/default/volume/students.json</td><td>students.json</td><td>322</td><td>1757583402000</td></tr><tr><td>dbfs:/Volumes/workspace/default/volume/students_update.json</td><td>students_update.json</td><td>216</td><td>1757583402000</td></tr></tbody></table></div>"
      ]
     },
     "metadata": {
      "application/vnd.databricks.v1+output": {
       "addedWidgets": {},
       "aggData": [],
       "aggError": "",
       "aggOverflow": false,
       "aggSchema": [],
       "aggSeriesLimitReached": false,
       "aggType": "",
       "arguments": {},
       "columnCustomDisplayInfos": {},
       "data": [
        [
         "dbfs:/Volumes/workspace/default/volume/courses.json",
         "courses.json",
         329,
         1757583402000
        ],
        [
         "dbfs:/Volumes/workspace/default/volume/enrollments.json",
         "enrollments.json",
         371,
         1757583402000
        ],
        [
         "dbfs:/Volumes/workspace/default/volume/nested_json.json",
         "nested_json.json",
         1186,
         1757583402000
        ],
        [
         "dbfs:/Volumes/workspace/default/volume/students.json",
         "students.json",
         322,
         1757583402000
        ],
        [
         "dbfs:/Volumes/workspace/default/volume/students_update.json",
         "students_update.json",
         216,
         1757583402000
        ]
       ],
       "datasetInfos": [],
       "dbfsResultPath": null,
       "isJsonSchema": true,
       "metadata": {},
       "overflow": false,
       "plotOptions": {
        "customPlotOptions": {},
        "displayType": "table",
        "pivotAggregation": null,
        "pivotColumns": null,
        "xColumns": null,
        "yColumns": null
       },
       "removedWidgets": [],
       "schema": [
        {
         "metadata": "{}",
         "name": "path",
         "type": "\"string\""
        },
        {
         "metadata": "{}",
         "name": "name",
         "type": "\"string\""
        },
        {
         "metadata": "{}",
         "name": "size",
         "type": "\"long\""
        },
        {
         "metadata": "{}",
         "name": "modificationTime",
         "type": "\"long\""
        }
       ],
       "type": "table"
      }
     },
     "output_type": "display_data"
    }
   ],
   "source": [
    "%python\n",
    "dataset_school = \"/Volumes/workspace/default/volume\"\n",
    "\n",
    "all_files = dbutils.fs.ls(dataset_school)\n",
    "json_files = [f for f in all_files if f.name.endswith(\".json\")]\n",
    "\n",
    "display(all_files)\n",
    "display(json_files)"
   ]
  },
  {
   "cell_type": "markdown",
   "metadata": {
    "application/vnd.databricks.v1+cell": {
     "cellMetadata": {
      "byteLimit": 2048000,
      "rowLimit": 10000
     },
     "inputWidgets": {},
     "nuid": "186edb1d-9cb1-4b75-8332-272ef8b7f538",
     "showTitle": false,
     "tableResultSettingsMap": {},
     "title": ""
    }
   },
   "source": [
    "Querying JSON Data"
   ]
  },
  {
   "cell_type": "code",
   "execution_count": 0,
   "metadata": {
    "application/vnd.databricks.v1+cell": {
     "cellMetadata": {
      "byteLimit": 2048000,
      "implicitDf": true,
      "rowLimit": 10000
     },
     "inputWidgets": {},
     "nuid": "fe2a446d-5c28-4c94-aad9-92aa7a4d3c16",
     "showTitle": false,
     "tableResultSettingsMap": {},
     "title": ""
    }
   },
   "outputs": [],
   "source": [
    "%sql\n",
    "-- Students\n",
    "/*\n",
    "SELECT * FROM json.`/FileStore/tables/school_data/students.json`; -- In der Free-Edition nicht verfügbar\n",
    "*/"
   ]
  },
  {
   "cell_type": "code",
   "execution_count": 0,
   "metadata": {
    "application/vnd.databricks.v1+cell": {
     "cellMetadata": {
      "byteLimit": 2048000,
      "rowLimit": 10000
     },
     "inputWidgets": {},
     "nuid": "e75b8ffa-a142-4f52-bdad-762014bf2fa8",
     "showTitle": false,
     "tableResultSettingsMap": {},
     "title": ""
    }
   },
   "outputs": [],
   "source": [
    "# Alternative:\n",
    "students_df = spark.read.json(\"/Volumes/workspace/default/volume/students.json\")\n",
    "students_df.createOrReplaceTempView(\"students\")\n",
    "\n",
    "courses_df = spark.read.json(\"/Volumes/workspace/default/volume/courses.json\")\n",
    "courses_df.createOrReplaceTempView(\"courses\")\n",
    "\n",
    "enrollments_df = spark.read.json(\"/Volumes/workspace/default/volume/enrollments.json\")\n",
    "enrollments_df.createOrReplaceTempView(\"enrollments\")"
   ]
  },
  {
   "cell_type": "code",
   "execution_count": 0,
   "metadata": {
    "application/vnd.databricks.v1+cell": {
     "cellMetadata": {
      "byteLimit": 2048000,
      "implicitDf": true,
      "rowLimit": 10000
     },
     "inputWidgets": {},
     "nuid": "f854e974-aa93-46fe-b245-73f786ec3f33",
     "showTitle": false,
     "tableResultSettingsMap": {},
     "title": ""
    }
   },
   "outputs": [
    {
     "output_type": "display_data",
     "data": {
      "text/html": [
       "<style scoped>\n",
       "  .table-result-container {\n",
       "    max-height: 300px;\n",
       "    overflow: auto;\n",
       "  }\n",
       "  table, th, td {\n",
       "    border: 1px solid black;\n",
       "    border-collapse: collapse;\n",
       "  }\n",
       "  th, td {\n",
       "    padding: 5px;\n",
       "  }\n",
       "  th {\n",
       "    text-align: left;\n",
       "  }\n",
       "</style><div class='table-result-container'><table class='table-result'><thead style='background-color: white'><tr><th>email</th><th>gpa</th><th>profile</th><th>student_id</th><th>updated</th></tr></thead><tbody><tr><td>anna@example.com</td><td>3.9</td><td>full-time</td><td>1</td><td>2025-08-01</td></tr><tr><td>ben@example.com</td><td>3.2</td><td>part-time</td><td>2</td><td>2025-08-03</td></tr><tr><td>clara@example.com</td><td>3.7</td><td>exchange</td><td>3</td><td>2025-08-06</td></tr></tbody></table></div>"
      ]
     },
     "metadata": {
      "application/vnd.databricks.v1+output": {
       "addedWidgets": {},
       "aggData": [],
       "aggError": "",
       "aggOverflow": false,
       "aggSchema": [],
       "aggSeriesLimitReached": false,
       "aggType": "",
       "arguments": {},
       "columnCustomDisplayInfos": {},
       "data": [
        [
         "anna@example.com",
         3.9,
         "full-time",
         1,
         "2025-08-01"
        ],
        [
         "ben@example.com",
         3.2,
         "part-time",
         2,
         "2025-08-03"
        ],
        [
         "clara@example.com",
         3.7,
         "exchange",
         3,
         "2025-08-06"
        ]
       ],
       "datasetInfos": [
        {
         "name": "_sqldf",
         "schema": {
          "fields": [
           {
            "metadata": {},
            "name": "email",
            "nullable": true,
            "type": "string"
           },
           {
            "metadata": {},
            "name": "gpa",
            "nullable": true,
            "type": "double"
           },
           {
            "metadata": {},
            "name": "profile",
            "nullable": true,
            "type": "string"
           },
           {
            "metadata": {},
            "name": "student_id",
            "nullable": true,
            "type": "long"
           },
           {
            "metadata": {},
            "name": "updated",
            "nullable": true,
            "type": "string"
           }
          ],
          "type": "struct"
         },
         "tableIdentifier": null,
         "typeStr": "pyspark.sql.connect.dataframe.DataFrame"
        }
       ],
       "dbfsResultPath": null,
       "isJsonSchema": true,
       "metadata": {
        "createTempViewForImplicitDf": true,
        "dataframeName": "_sqldf",
        "executionCount": 6
       },
       "overflow": false,
       "plotOptions": {
        "customPlotOptions": {},
        "displayType": "table",
        "pivotAggregation": null,
        "pivotColumns": null,
        "xColumns": null,
        "yColumns": null
       },
       "removedWidgets": [],
       "schema": [
        {
         "metadata": "{}",
         "name": "email",
         "type": "\"string\""
        },
        {
         "metadata": "{}",
         "name": "gpa",
         "type": "\"double\""
        },
        {
         "metadata": "{}",
         "name": "profile",
         "type": "\"string\""
        },
        {
         "metadata": "{}",
         "name": "student_id",
         "type": "\"long\""
        },
        {
         "metadata": "{}",
         "name": "updated",
         "type": "\"string\""
        }
       ],
       "type": "table"
      }
     },
     "output_type": "display_data"
    }
   ],
   "source": [
    "%sql\n",
    "SELECT * FROM students;"
   ]
  },
  {
   "cell_type": "code",
   "execution_count": 0,
   "metadata": {
    "application/vnd.databricks.v1+cell": {
     "cellMetadata": {
      "byteLimit": 2048000,
      "implicitDf": true,
      "rowLimit": 10000
     },
     "inputWidgets": {},
     "nuid": "2787b2be-99f1-4270-82ed-a504c44d2254",
     "showTitle": false,
     "tableResultSettingsMap": {},
     "title": ""
    }
   },
   "outputs": [
    {
     "output_type": "display_data",
     "data": {
      "text/html": [
       "<style scoped>\n",
       "  .table-result-container {\n",
       "    max-height: 300px;\n",
       "    overflow: auto;\n",
       "  }\n",
       "  table, th, td {\n",
       "    border: 1px solid black;\n",
       "    border-collapse: collapse;\n",
       "  }\n",
       "  th, td {\n",
       "    padding: 5px;\n",
       "  }\n",
       "  th {\n",
       "    text-align: left;\n",
       "  }\n",
       "</style><div class='table-result-container'><table class='table-result'><thead style='background-color: white'><tr><th>category</th><th>course_id</th><th>instructor</th><th>price</th><th>title</th></tr></thead><tbody><tr><td>Technology</td><td>101</td><td>Dr. Smith</td><td>850</td><td>Data Engineering</td></tr><tr><td>AI</td><td>102</td><td>Dr. Lee</td><td>1200</td><td>Machine Learning</td></tr><tr><td>Philosophy</td><td>103</td><td>Dr. Kim</td><td>600</td><td>Ethics in AI</td></tr></tbody></table></div>"
      ]
     },
     "metadata": {
      "application/vnd.databricks.v1+output": {
       "addedWidgets": {},
       "aggData": [],
       "aggError": "",
       "aggOverflow": false,
       "aggSchema": [],
       "aggSeriesLimitReached": false,
       "aggType": "",
       "arguments": {},
       "columnCustomDisplayInfos": {},
       "data": [
        [
         "Technology",
         101,
         "Dr. Smith",
         850,
         "Data Engineering"
        ],
        [
         "AI",
         102,
         "Dr. Lee",
         1200,
         "Machine Learning"
        ],
        [
         "Philosophy",
         103,
         "Dr. Kim",
         600,
         "Ethics in AI"
        ]
       ],
       "datasetInfos": [
        {
         "name": "_sqldf",
         "schema": {
          "fields": [
           {
            "metadata": {},
            "name": "category",
            "nullable": true,
            "type": "string"
           },
           {
            "metadata": {},
            "name": "course_id",
            "nullable": true,
            "type": "long"
           },
           {
            "metadata": {},
            "name": "instructor",
            "nullable": true,
            "type": "string"
           },
           {
            "metadata": {},
            "name": "price",
            "nullable": true,
            "type": "long"
           },
           {
            "metadata": {},
            "name": "title",
            "nullable": true,
            "type": "string"
           }
          ],
          "type": "struct"
         },
         "tableIdentifier": null,
         "typeStr": "pyspark.sql.connect.dataframe.DataFrame"
        }
       ],
       "dbfsResultPath": null,
       "isJsonSchema": true,
       "metadata": {
        "createTempViewForImplicitDf": true,
        "dataframeName": "_sqldf",
        "executionCount": 7
       },
       "overflow": false,
       "plotOptions": {
        "customPlotOptions": {},
        "displayType": "table",
        "pivotAggregation": null,
        "pivotColumns": null,
        "xColumns": null,
        "yColumns": null
       },
       "removedWidgets": [],
       "schema": [
        {
         "metadata": "{}",
         "name": "category",
         "type": "\"string\""
        },
        {
         "metadata": "{}",
         "name": "course_id",
         "type": "\"long\""
        },
        {
         "metadata": "{}",
         "name": "instructor",
         "type": "\"string\""
        },
        {
         "metadata": "{}",
         "name": "price",
         "type": "\"long\""
        },
        {
         "metadata": "{}",
         "name": "title",
         "type": "\"string\""
        }
       ],
       "type": "table"
      }
     },
     "output_type": "display_data"
    }
   ],
   "source": [
    "%sql\n",
    "SELECT * FROM courses;"
   ]
  },
  {
   "cell_type": "code",
   "execution_count": 0,
   "metadata": {
    "application/vnd.databricks.v1+cell": {
     "cellMetadata": {
      "byteLimit": 2048000,
      "implicitDf": true,
      "rowLimit": 10000
     },
     "inputWidgets": {},
     "nuid": "d5e3280f-8574-4d97-bd64-afc5c36ec401",
     "showTitle": false,
     "tableResultSettingsMap": {},
     "title": ""
    }
   },
   "outputs": [
    {
     "output_type": "display_data",
     "data": {
      "text/html": [
       "<style scoped>\n",
       "  .table-result-container {\n",
       "    max-height: 300px;\n",
       "    overflow: auto;\n",
       "  }\n",
       "  table, th, td {\n",
       "    border: 1px solid black;\n",
       "    border-collapse: collapse;\n",
       "  }\n",
       "  th, td {\n",
       "    padding: 5px;\n",
       "  }\n",
       "  th {\n",
       "    text-align: left;\n",
       "  }\n",
       "</style><div class='table-result-container'><table class='table-result'><thead style='background-color: white'><tr><th>courses</th><th>enroll_id</th><th>quantity</th><th>student_id</th><th>timestamp</th><th>total</th></tr></thead><tbody><tr><td>List(101)</td><td>e001</td><td>1</td><td>1</td><td>2025-08-01T09:00:00</td><td>850</td></tr><tr><td>List(102, 103)</td><td>e002</td><td>2</td><td>2</td><td>2025-08-02T10:00:00</td><td>1800</td></tr><tr><td>List(103)</td><td>e003</td><td>1</td><td>3</td><td>2025-08-03T11:30:00</td><td>600</td></tr></tbody></table></div>"
      ]
     },
     "metadata": {
      "application/vnd.databricks.v1+output": {
       "addedWidgets": {},
       "aggData": [],
       "aggError": "",
       "aggOverflow": false,
       "aggSchema": [],
       "aggSeriesLimitReached": false,
       "aggType": "",
       "arguments": {},
       "columnCustomDisplayInfos": {},
       "data": [
        [
         [
          101
         ],
         "e001",
         1,
         1,
         "2025-08-01T09:00:00",
         850
        ],
        [
         [
          102,
          103
         ],
         "e002",
         2,
         2,
         "2025-08-02T10:00:00",
         1800
        ],
        [
         [
          103
         ],
         "e003",
         1,
         3,
         "2025-08-03T11:30:00",
         600
        ]
       ],
       "datasetInfos": [
        {
         "name": "_sqldf",
         "schema": {
          "fields": [
           {
            "metadata": {},
            "name": "courses",
            "nullable": true,
            "type": {
             "containsNull": true,
             "elementType": "long",
             "type": "array"
            }
           },
           {
            "metadata": {},
            "name": "enroll_id",
            "nullable": true,
            "type": "string"
           },
           {
            "metadata": {},
            "name": "quantity",
            "nullable": true,
            "type": "long"
           },
           {
            "metadata": {},
            "name": "student_id",
            "nullable": true,
            "type": "long"
           },
           {
            "metadata": {},
            "name": "timestamp",
            "nullable": true,
            "type": "string"
           },
           {
            "metadata": {},
            "name": "total",
            "nullable": true,
            "type": "long"
           }
          ],
          "type": "struct"
         },
         "tableIdentifier": null,
         "typeStr": "pyspark.sql.connect.dataframe.DataFrame"
        }
       ],
       "dbfsResultPath": null,
       "isJsonSchema": true,
       "metadata": {
        "createTempViewForImplicitDf": true,
        "dataframeName": "_sqldf",
        "executionCount": 8
       },
       "overflow": false,
       "plotOptions": {
        "customPlotOptions": {},
        "displayType": "table",
        "pivotAggregation": null,
        "pivotColumns": null,
        "xColumns": null,
        "yColumns": null
       },
       "removedWidgets": [],
       "schema": [
        {
         "metadata": "{}",
         "name": "courses",
         "type": "{\"containsNull\":true,\"elementType\":\"long\",\"type\":\"array\"}"
        },
        {
         "metadata": "{}",
         "name": "enroll_id",
         "type": "\"string\""
        },
        {
         "metadata": "{}",
         "name": "quantity",
         "type": "\"long\""
        },
        {
         "metadata": "{}",
         "name": "student_id",
         "type": "\"long\""
        },
        {
         "metadata": "{}",
         "name": "timestamp",
         "type": "\"string\""
        },
        {
         "metadata": "{}",
         "name": "total",
         "type": "\"long\""
        }
       ],
       "type": "table"
      }
     },
     "output_type": "display_data"
    }
   ],
   "source": [
    "%sql\n",
    "SELECT * FROM enrollments;"
   ]
  },
  {
   "cell_type": "markdown",
   "metadata": {
    "application/vnd.databricks.v1+cell": {
     "cellMetadata": {
      "byteLimit": 2048000,
      "rowLimit": 10000
     },
     "inputWidgets": {},
     "nuid": "3430c272-a813-4ac5-8802-9759760bb6ad",
     "showTitle": false,
     "tableResultSettingsMap": {},
     "title": ""
    }
   },
   "source": [
    "Unstrukturierte Daten"
   ]
  },
  {
   "cell_type": "code",
   "execution_count": 0,
   "metadata": {
    "application/vnd.databricks.v1+cell": {
     "cellMetadata": {
      "byteLimit": 2048000,
      "rowLimit": 10000
     },
     "inputWidgets": {},
     "nuid": "7e9265b1-8e66-4654-8cec-e68f573b95cc",
     "showTitle": false,
     "tableResultSettingsMap": {},
     "title": ""
    }
   },
   "outputs": [
    {
     "output_type": "display_data",
     "data": {
      "text/html": [
       "<style scoped>\n",
       "  .table-result-container {\n",
       "    max-height: 300px;\n",
       "    overflow: auto;\n",
       "  }\n",
       "  table, th, td {\n",
       "    border: 1px solid black;\n",
       "    border-collapse: collapse;\n",
       "  }\n",
       "  th, td {\n",
       "    padding: 5px;\n",
       "  }\n",
       "  th {\n",
       "    text-align: left;\n",
       "  }\n",
       "</style><div class='table-result-container'><table class='table-result'><thead style='background-color: white'><tr><th>path</th><th>modificationTime</th><th>length</th><th>content</th></tr></thead><tbody><tr><td>dbfs:/Volumes/workspace/default/volume/image.png</td><td>2025-09-11T09:36:42.000Z</td><td>77222</td><td>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</td></tr></tbody></table></div>"
      ]
     },
     "metadata": {
      "application/vnd.databricks.v1+output": {
       "addedWidgets": {},
       "aggData": [],
       "aggError": "",
       "aggOverflow": false,
       "aggSchema": [],
       "aggSeriesLimitReached": false,
       "aggType": "",
       "arguments": {},
       "columnCustomDisplayInfos": {},
       "data": [
        [
         "dbfs:/Volumes/workspace/default/volume/image.png",
         "2025-09-11T09:36:42.000Z",
         77222,
         "iVBORw0KGgoAAAANSUhEUgAAAlEAAAESCAYAAADdWICBAAAKrmlDQ1BJQ0MgUHJvZmlsZQAASImVlwdQU+kWgP9700NCSwgdQm+CdAJICT0U6dVGSAKEEmIgNDuyuAIriogIKgsWRBRcCyBrRRTboqCAfUFEQVkXC6JieRcYwu6+ee/NOzPnnm/OPf/5z3/m/jPnAkCms4XCFFgWgFRBhijE240eFR1Dx40CPMABMlAFVDYnXcgMCvIHiMzZv8uHPgBN2zum07n+/f1/FTkuL50DABSEcBw3nZOK8ElEP3OEogwAUMcQv05WhnCa7yJMFSEFIjwyzQmz/GWa42YYLTsTExbijrAuAHgSmy1KAIBkjvjpmZwEJA9pei9zAZcvQHg9ws6pqWlchC8gbIjECBGezs+I+0uehL/ljJPkZLMTJDx7lhnBe/DThSnsnP+zHf9bUlPEc3sYIEpKFPmEIJaG9OxZcpqfhAVxiwPnmM+diZ/hRLFP+Bxz0t1j5jg9JZQ1x1y2h58kT8pi/zmO53tJYvgZrLA55qV7hs6xKC1Esm+8yJ05x2zRfA3i5HCJP5HHkuTPTQyLnONMfsRiSW3JoX7zMe4Sv0gcIjkLT+DtNr+vl6QPqel/OTufJVmbkRjmI+kDe75+noA5nzM9SlIbl+fhOR8TLokXZrhJ9hKmBEnieSneEn96ZqhkbQbycc6vDZL0MIntGzTHIAj4AH9AB5bABjCAG7AFwQCpKoOXnTF9GPc0YY6In5CYQWciN45HZwk4ZgvoluaWNgBM39/Zz+PdvZl7CdHw87602wDY1SNQN+9jxwLQinRJQWfep3cAAJlnAJzlcMSizFkfevqBAUQgA6hAGWgAHWAITJEabYEjcAWewBcEgjAQDZYDDkgEqUAEssBqsAEUgCKwFewAlaAa7AOHwFFwHLSAM+AiuAJugNugFzwEA2AYvALj4AOYgiAIB5EhCqQMaUJ6kAlkCTEgZ8gT8odCoGgoFkqABJAYWg1thIqgUqgSqoHqoV+g09BF6BrUDd2HBqFR6C30GUbBJJgKq8P68EKYATNhPzgMXgYnwCvhXDgf3gJXwLXwEbgZvgjfgHvhAfgVPIECKCkUDaWFMkUxUO6oQFQMKh4lQq1FFaLKUbWoRlQbqhN1BzWAGkN9QmPRFDQdbYp2RPugw9Ec9Er0WnQxuhJ9CN2M7kDfQQ+ix9HfMGSMGsYE44BhYaIwCZgsTAGmHHMQcwpzGdOLGcZ8wGKxNKwB1g7rg43GJmFXYYuxe7BN2AvYbuwQdgKHwynjTHBOuEAcG5eBK8Dtwh3Bncf14IZxH/FSeE28Jd4LH4MX4PPw5fjD+HP4HvwL/BRBlqBHcCAEEriEHEIJYT+hjXCLMEyYIsoRDYhOxDBiEnEDsYLYSLxMfER8JyUlpS1lLxUsxZdaL1UhdUzqqtSg1CeSPMmY5E5aShKTtpDqSBdI90nvyGSyPtmVHEPOIG8h15MvkZ+QP0pTpM2kWdJc6XXSVdLN0j3Sr2UIMnoyTJnlMrky5TInZG7JjMkSZPVl3WXZsmtlq2RPy/bLTshR5CzkAuVS5YrlDstdkxuRx8nry3vKc+Xz5ffJX5IfoqAoOhR3CoeykbKfcpkyTMVSDagsahK1iHqU2kUdV5BXsFaIUMhWqFI4qzBAQ9H0aSxaCq2EdpzWR/usqK7IVOQpblZsVOxRnFRSVXJV4ikVKjUp9Sp9VqYreyonK29TblF+rIJWMVYJVslS2atyWWVMlarqqMpRLVQ9rvpADVYzVgtRW6W2T+2m2oS6hrq3ulB9l/ol9TENmoarRpJGmcY5jVFNiqazJl+zTPO85ku6Ap1JT6FX0Dvo41pqWj5aYq0arS6tKW0D7XDtPO0m7cc6RB2GTrxOmU67zriupm6A7mrdBt0HegQ9hl6i3k69Tr1JfQP9SP1N+i36IwZKBiyDXIMGg0eGZEMXw5WGtYZ3jbBGDKNkoz1Gt41hYxvjROMq41smsImtCd9kj0n3AswC+wWCBbUL+k1JpkzTTNMG00Ezmpm/WZ5Zi9nrhboLYxZuW9i58Ju5jXmK+X7zhxbyFr4WeRZtFm8tjS05llWWd63IVl5W66xard5Ym1jzrPda37Oh2ATYbLJpt/lqa2crsm20HbXTtYu1223Xz6AyghjFjKv2GHs3+3X2Z+w/Odg6ZDgcd/jT0dQx2fGw48gig0W8RfsXDTlpO7GdapwGnOnOsc4/Ow+4aLmwXWpdnrrquHJdD7q+YBoxk5hHmK/dzN1EbqfcJt0d3Ne4X/BAeXh7FHp0ecp7hntWej7x0vZK8GrwGve28V7lfcEH4+Pns82nn6XO4rDqWeO+dr5rfDv8SH6hfpV+T/2N/UX+bQFwgG/A9oBHi/UWCxa3BIJAVuD2wMdBBkErg34NxgYHBVcFPw+xCFkd0hlKCV0Rejj0Q5hbWEnYw3DDcHF4e4RMxNKI+ojJSI/I0siBqIVRa6JuRKtE86NbY3AxETEHYyaWeC7ZsWR4qc3SgqV9ywyWZS+7tlxlecrysytkVrBXnIjFxEbGHo79wg5k17In4lhxu+PGOe6cnZxXXFduGXeU58Qr5b2Id4ovjR9JcErYnjCa6JJYnjjGd+dX8t8k+SRVJ00mBybXJX9PiUxpSsWnxqaeFsgLkgUdaRpp2WndQhNhgXBgpcPKHSvHRX6ig+lQ+rL01gwqMijdFBuKfxAPZjpnVmV+zIrIOpEtly3IvpljnLM550WuV+6BVehVnFXtq7VWb1g9uIa5pmYttDZubfs6nXX564bXe68/tIG4IXnDb3nmeaV57zdGbmzLV89fnz/0g/cPDQXSBaKC/k2Om6p/RP/I/7Frs9XmXZu/FXILrxeZF5UXfSnmFF//yeKnip++b4nf0lViW7J3K3arYGvfNpdth0rlSnNLh7YHbG8uo5cVlr3fsWLHtXLr8uqdxJ3inQMV/hWtu3R3bd31pTKxsrfKrappt9ruzbsn93D39Ox13dtYrV5dVP35Z/7P92q8a5pr9WvL92H3Ze57vj9if+cBxoH6gyoHiw5+rRPUDRwKOdRRb1dff1jtcEkD3CBuGD2y9Mjtox5HWxtNG2uaaE1Fx8Ax8bGXv8T+0nfc73j7CcaJxpN6J3efopwqbIaac5rHWxJbBlqjW7tP+55ub3NsO/Wr2a91Z7TOVJ1VOFtyjngu/9z387nnJy4IL4xdTLg41L6i/eGlqEt3O4I7ui77Xb56xevKpU5m5/mrTlfPXHO4dvo643rLDdsbzTdtbp76zea3U122Xc237G613ra/3da9qPtcj0vPxTsed67cZd290bu4t7svvO9e/9L+gXvceyP3U+6/eZD5YOrh+keYR4WPZR+XP1F7Uvu70e9NA7YDZwc9Bm8+DX36cIgz9OpZ+rMvw/nPyc/LX2i+qB+xHDkz6jV6++WSl8OvhK+mxgr+kPtj92vD1yf/dP3z5njU+PAb0Zvvb4vfKb+re2/9vn0iaOLJh9QPU5OFH5U/HvrE+NT5OfLzi6msL7gvFV+NvrZ98/v26Hvq9+9Ctog9MwqgEIXj4wF4WwcAORoACjJXEJfMztczAs3+E8wQ+E88O4PPiC0A9a5gesgBAYjdg1h9xMogGoRomCuArawkOjcLz8zt08IkISP3BACyWX3t9uCfMjvT/6Xuf1ogyfo3+y9EUwhDqFwupAAAAFZlWElmTU0AKgAAAAgAAYdpAAQAAAABAAAAGgAAAAAAA5KGAAcAAAASAAAARKACAAQAAAABAAACUaADAAQAAAABAAABEgAAAABBU0NJSQAAAFNjcmVlbnNob3SBLEnhAAAB1mlUWHRYTUw6Y29tLmFkb2JlLnhtcAAAAAAAPHg6eG1wbWV0YSB4bWxuczp4PSJhZG9iZTpuczptZXRhLyIgeDp4bXB0az0iWE1QIENvcmUgNi4wLjAiPgogICA8cmRmOlJERiB4bWxuczpyZGY9Imh0dHA6Ly93d3cudzMub3JnLzE5OTkvMDIvMjItcmRmLXN5bnRheC1ucyMiPgogICAgICA8cmRmOkRlc2NyaXB0aW9uIHJkZjphYm91dD0iIgogICAgICAgICAgICB4bWxuczpleGlmPSJodHRwOi8vbnMuYWRvYmUuY29tL2V4aWYvMS4wLyI+CiAgICAgICAgIDxleGlmOlBpeGVsWURpbWVuc2lvbj4yNzQ8L2V4aWY6UGl4ZWxZRGltZW5zaW9uPgogICAgICAgICA8ZXhpZjpQaXhlbFhEaW1lbnNpb24+NTkzPC9leGlmOlBpeGVsWERpbWVuc2lvbj4KICAgICAgICAgPGV4aWY6VXNlckNvbW1lbnQ+U2NyZWVuc2hvdDwvZXhpZjpVc2VyQ29tbWVudD4KICAgICAgPC9yZGY6RGVzY3JpcHRpb24+CiAgIDwvcmRmOlJERj4KPC94OnhtcG1ldGE+CuXpvh4AAEAASURBVHgB7L0HnGRHdS98OndP3jQbtLvSaiWt4iqhjFBAgABhC4NAtrExn/0c33sYf9gGB+z3YXgP/57t558TtvEDDDZZJIElgaJBEgghCRRWCWlX2rw7O7OTOvf3/5+6dft2T/dMT9g4p2ZuV90Kp079K517qm7d2B8/MFSLiUgNFw3dUeP96VdtDoxGhJvBsSBBM80oHZ9MMw7SkLZPT9ubVul8mNmGgCFgCBgChoAhYAgcKQSSrTI+XIKLF7iaeThc+Tfna/eGgCFgCBgChoAhYAh0ikDSa31oU3hpFmCoLWr2ayYe0miK2I5mc3req0CFBM3aLtJoJ2y1omN+hoAhYAgYAoaAIWAIHA4EWmuivFTUAQedCjmUr6Yjy7AqLsaj4BYPBDK1goQmTAEcM4aAIWAIGAKGgCFwVCAwRYjqRPM0F86j+5+mTd9C0grkKZXCTJCaFj0LNAQMAUPAEDAEDIHDhEAoRIWCSocZe00Ro7eQe5TKbGl2mLVFMwQMAUPAEDAEDAFD4IgjED/iHBgDhoAhYAgYAoaAIWAIHIMIJKPaIr/kNlM5mjVPURqt0kbpRt0+LpfoPA1drmvOwEc02xAwBAwBQ8AQMAQMgaMEgXA5j/x4QaYdb5RtZrsniUKTp+vtZvqkGxWumvOILh02p7V7Q8AQMAQMAUPAEDAEjgQCtpx3JFC3PA0BQ8AQMAQMAUPgmEcg2XwuU6sS+dW1Zg1Rq7jeL6qB8n5R29P0fqQd1UZ5f7MNAUPAEDAEDAFDwBA4GhFoWM5rx2Ar4ckLQe2W6Nr5+zyaaeqSng802xAwBAwBQ8AQMAQMgaMcgRmX87yw5MsRvZ9JUPJpOrWjtDtNY/EMAUPAEDAEDAFDwBA4Egi01URNt5m7ndaokyW8Zg0UC+3paRhuFlo4OxLAWp6GgCFgCBgChoAhcHwj0FaI6qTYMwlNndCwOIaAIWAIGAKGgCFgCByLCEwRojpZUvOaIm8fiwU3ng0BQ8AQMAQMAUPAEJgPAg1CFAUov9zmhalmQan5npn7pb9O3vTzzHr60ftWtH242YaAIWAIGAKGgCFgCBxNCMy4sfxoYtZ4MQQMAUPAEDAEDAFD4GhBQDVRXivktVBkrhOtkE/XaWGUpk8UyYBe/tZvLu+UpsUzBAwBQ8AQMAQMAUPgSCDghCgvwcySg6jQ1WlSn5WXpVqlmwvdVnTMzxAwBAwBQ8AQMAQMgUOFwIIu500nGB2qAhhdQ8AQMAQMAUPAEDAEjgQCbYWoZoGIm8apReLVbgM5NUjcZO43mpNGM51WhSRNM4aAIWAIGAKGgCFgCBxLCDS8nRdlvFmwoYBEgajT79vNNn40b3MbAsc9Au3WrDvtYK0AOlZokvdjiddWWJufIWAIGAJAQIUoP263G9eIVFSj1CxMtUoXjW9IGwKGADtR9NEk6vbooNf4OL5T+qDpbJ8mfD2jKbLvjHOiSVotePU0NTh605R39DbkUxNFQwL3UVT+FtyZlyFgCBgCzQg4Icr7RsYw79Vs+3FQl/eC+DGOoU3jrPdifLrbLQE207d7Q+D4RqCpozQUNhrGXtOB0Q4ZTdcqTRCunbJDus0degpZn2en9DwBn87fR+1oWId0D1n5o3yZ2xAwBAyB1gg0LOdxCOPDKocvLyy1TuZ8fZwqbqObqzoc/qYjbWGGwHGFQI1CSQ2X7zQthRTfc2h7gSLWoAWeDpSasCe2MgFd1UQ5urOhqrxPIetp1gM6p8nSteL18JW/metYPIbqYR3VQ8xlCBgChsBMCDQIUdEhbKaEnYSTno1JnSBlcY5XBEIBhB2hoUO06hm+ByIsWHpj+lYxQ7waBDNm0Rzb0wxSkDScM1DVGC5FrQVNhkToBllWp+TtKIS/NQhOYTLSbTbeh0w696Eof0OuFGpj7hEwBpV6kK0DiSwoWOAC7qCYyncoCzcQsxtDwBBYbAg0CFEsvB8cIsPZYsPEymsILAwC6ERx/HGOdv1JZ+RpaEf1uVH3NEncLB9EaEWfOfve3CnN5vxaaY08rSj95nTN94zrRZHmMN57ms3uVnG9X7TMUbcPj/IXpe/CPTdq+xsNQr2B1xoHREhQUaGT0TyiPhezDQFDYHEi0ChENQwiixMQK7UhsJAIxLFsla5VJFXLY+KtONI6Kevc3JCVWw5z03OtNnXCb4gc3kCj4598dKpv7MSNNKMCRUigpSMW84JTa11QLBB4qAhrFH5akgs8q+DVOVst5zXyeojLDz4quKqxpJQlgZpJSRVlYWkdHwncsHDQrym+jbhOV0oLMwQMgcWDgApR/lyn2RR7ujSthpvp4s8mX4trCBwrCMQwCZeG98q9t3xCBvLPiZTGpFrGJF1NSgnqKU7XTghpVaJA2mgV1ODXqrc1RGi6ORR0jxWahMIt2SW7czJcrsipr7hSNl78GikmV0kFgiv3RsVoA9aaCoqIHy/DjZT48SX1L8rwPpRhSd6MIWAILCoEkn5QWFSltsIaAocaAXQs7VsTB2T86Qfl3T97vtQm9ksC6o90lQIUZmQqW7xq5lDzY/RDBCrAvJjLyYGJsnz7oa/JnkpJVlz0Jimnlkmtmg7qpqpvFKsezklUrkIpTUWMCleRe3MaAobA4kIgOdNTFCeCpnFjcSFkpTUE5oFAEsti2Upezt2wUnLltKRLZcmWsaxVK6FfYcnMOtc80J19UsJdhRA1mU5JqZSR1ZW18qWH/kNSmZwsPfUqiWcHpZyISRkDXw1aKT3KBWm46VzHSpWM6/lO8bP6rINjLkNgESCgy3lRQalpjFAIvJ+ND4ugRVgRFwwBTrxJTM6TkJV0qahSlmQ1L6lqGRNyGfmwR1mvWjDAOyDkllBRL3nsUcOy3SUn9KByTpB/vePfhBW1evNVkuldIhOS5m42aBMx+oX7w1wGOh4G1YYqDpf49IiEDniwKIaAIXD8INC4sTwoF8cHLzjRy4b5ABizDIGOEfCzK6ZhCFHJWhEbzPOSqU5KvFpyk3PHtKZGbO6T0f7aHDsad7p4TBeN20yH9zOlb5VmJppzoTsnmmBehShsJK9Vs3DXJJkoybkn9ssvxzfJxx78soxXJmXTJa+TRGaVxGNZqUAbJbE8WITeEE7u7eReN5pOeNCI9mMIGALHLQLhnigOjhwU/MDg7eO25FYwQ+AwIIAFIWx9wmRdm8TUXcQd99qk4IclvbC3zZIRdtYmw/7a4N3k4W99v54pbhN5vfVjBG+mpG+XIPD3+TZH83Q8f2F4uwSM4BPB2S6a5zUSVUm7e2wZj2E5FWtxafgOJIpy3rqM/FxxhXzyns/JyP4R2XzDuySdxFt7UBhWkykpY/8a0+o2NmW2Xc6ajf0YAobAIkGgtSaqaeSZad/UIsHKimkIzBoBCkq84tBEYacNXqtH54IQlZYSJAB/jMAsyPq+CdsfDOn7JxUkPthT1Knex42Gt5AB/IGSnq6nEdozpA/jRRwN+Uf8o87p+I/GU7cvYFCmFsVw0YIAWp6+p6V1EsOSKsNw1XDAQV8qLq/cOAAp6XT5u7vvkB8k03L2NTdItm+llPAyQJVvU1KCAjh6glQrwj4Dsw0BQ2DRIJDUsSBSXD+Qei8/Zvl7sw0BQ2A2CARTdTCpM6X2MdzPt295kvOlM5vSLHTc5vFnNvR9+WeTpl1cagy701W5YtMySXSfKx/58hfluWxWzrzyTZLL4KyoeApLe9QgJlBv1C16U3d5H7MNAUNg8SDAFX81zUMB1/7d+v/iAcNKaggcCgS4Odn9USsSWcYL5CuVpjp1z5FB7csdpCUbvu83236s6IDMlCjNtKL3UyJ36BGl0eyeiYSeIg/NUpwXCkYFYVwK0i3DcsmahPzOG86XnXd/Vn5y1y3SUz4o3bECjuN02ivGZJ2pUhE/fIGARu1wRHUccFz1Z0o5H/s1BAyB4wmBKZqo46lwVhZD4GhBgNOsTrX80Y3JzY8tRwuni48PrRIWG0t8CWikeiAIXX3qcizxvUL+5tZb5IFyUS75mZ+VUjWBow8y0EpxXS84fX4muLiWqBlo7c8U28INAUPgGEOAo0FENe24t+5+jNWisXt0IMCO4y/tVRSUtIu5ThbMp2SWmqm5Gi9+hVm1IjQb8rOJ2y4vz0zUbhW3U78onai70/Szjse9a1iow8anFLSFudKIvGJ1Un7zdWfLrvu+II/ddovEx0f0LcsEtFL6ORj8si501xt4pMaJu9xwlmp4uf1leA8wWga6zRgChsBxgUAwwtfLog9OfpSue5vLEDAEZkIgWNrhso6eSK4zLKZYbyM9V3vi6sGZlN2veXZtdV/PWLsmo8B00leVmu/PsKdL4/h0tFv+zpC+VZqG/FtFgJ/nKShWm1iN3spro1fDXUjTl70hlHmyXhAYaAVZE/Ea9zslUSsQpOIV6Unm5dL1WfnAmy+Sl7/9eXnqzq9DuDoo8dKoJqtC4KpCd1WJQX8Vx6Wbz1H3qOToFdO1Q5Qu0j6a2LFbQ8AQOEYRiLsnpWOUe2PbEDhWELCOdlTXlBO6oIsK6knf4IOIlEtW5ex1vfKeG18h2+78V3noa5+WDJbznPYpOKiCwhOEL35rjwdaULByF0Uzfsh4yrPqUY2FMWcIGAKdIxDuifJj/ExPeJ2TtpiGgCHgEHCLd9z87DQgztf3uTmh1ELDMq0mh3l3kBHjqHKmRdxO0rdI5rxa8Ns2bqcBC0BzuvKSjTj2SfWlqnLxurS898aL5O/vuFUeSWbktGvfKrmBQSmUSlKtghFUJk8sV5agcUql01KuVnHOVAUfNcbhnqA1L/w6xcTiGQKGwGFFIDwnqqGT68hyWPmwzAyB4xYBdid+YoTGTaTobfN8WpnthDyb+LOJq4Xq4OdopjkdbzzbK85zpOIluWLDgHS96SL58y98FtJVQjaefykEpCSEJdQnhSjULi+6uWsqj+8k9g2ulnh3vy71dQCTRTEEDIFjDIHwxHLPt386nm5g8XHNNgQMgZkQmG4LOR9doqb5Phpm7iOBgNYIvtsTr1WkP12Si1an5ffedJ780S2fkh/f9w3ZeObZ+n1EwX4q3eMGYblGgQraqP0HRmTw1LPlzGveKAkc3lmL4ZkV+6UqFLrMGAKGwHGBQNI/EHOpgQKU795RYcrHOS5KbIUwBI44Ar6XRRnxfrS9m+F8nAkeaeDd8uHGR28ZSBpm5oqAahCr/DgMhOFCXrqw4fyyU5bIn9x4iXz8trvkwjVnyo03v1liFcTh8QfYZE5hinLSi1u3yj98/pvy43sScsEV10iyZwmOSEgirIIaZqX5a67cWTpDwBA40giEy3lkxI/FFKC84KTdPBicaXn/I8245W8IHBsI+F5Fbn1Hgl/UOyyI9jbXyfxTzJSIAY0wjTkOLQLAO1IXMXw8Ohkbl4tP7cdXpS+RL93zLbkvm5a33vyrks71SCwBjRMY4rLeYH+XvrX3l5+6Re7c+aJc/dPvkFj/GqnUknhRjwd3zuGzP4e2sEbdEDAEZokA37g2YwgYAocFgbn2Nj8tt2GSZOdKug1J864jEIi2gThL8agsmcSoXHDqoPzMqy6Uh27/ptz+xc/J6NAQtEz4wDTUUOUKNpRjSe+iczbJ+3/1ZhnfvkV+cO9tMjG0S+LVsiQT3D+F86QQn/ZCGsp80WshaRstQ8AQaERAd7s2j7+mbWoEye4Mgfkj0NzLpqPYOK0y5ZTUjVGmI2Zh80BAYfYVENpVSVbz0luZkIs2rJaff8Or5IG7viL33HWbjI2OorIgZlWYMgZhS+TizafKn7z3t2T3Uz+QH975VUnl96sgVVdHLlxlqvCEnEnRX/MoviU1BAyBGRCwA0xmAMiCDYH5I+Am1LootHCT5vx5MwqzRYCH6yXwCZh0WaS3VpLzNq6Qt77pUrnvrlvlnrvvkhKONfDCTAlfhylXoJE671z5n3/4OzL5wqPy3a/+q5TGhiWBp9VUMoG95pTOGndJeQGolV3n14XGsPFdcNVAz1pWHR1zGQKHAwHuJw87nn/QYsbe3WBbDz0cdWJ5HKsI8Jyg4NJ38jA5+nfzaPP8JX0xy58nNJdy+j7IjjmNiS7ntHJPk9SCgIDHTAfCEJH6aOiOrKhJAkJUujAqZy3vljPXDMjLz2/Bm3jc84SzoXAoZxV1XSqUpVYoyOnrVsuHfv/dUt31nDzy7a9KenS/9FQKEp+cwNt/EIQwGlcSWAoMLror9MNVDa4abG5MjYMuj16I4xM0tfg4Xg48CLvoBKmmtqGfo4Efy2TGEDAEFhaBBk1UdBmP7uZrYbM2aobAcYYABRx/+dkXE5cTqFhWzmLUFjDSdMaJXozdct6bKfl0pC1sARBwteI0P/hocRlLe3jjbkUuLbteeknuvfdeeeHFrVIsFCHkJCQRT/HcculKJ+WsUzbIH7/71+XAkw/I43d/VaoHdkov/JM4b8ofkcBT06MXNV+8p+3cEJ+wm5WfmaGABG93BS3LmscCVLGRMAQ6RKBBiNI01gM7hM6iGQKzQcCLQ96eJq31wWnAObqCqF10MnFNJifycsstt8k73vEu+aV3/bL89m+/R3748A8lDoEnCe0UTy+vVSty/rlnyod/79dlz1MPym1f+IRU82OSTWWg1YIwhfOmUtWkXknY6cCtfhWEV7D8x2/2QTgr4biEimSRfzdW83rBCI9iMGMIGAKHE4EpQhSHeGqMzRgChsBhRgAqBdVAUP/kJ2eqGaroprzojhjetrsi0cw5DwRYDX45jAcSuKvVAIm6w/IttYzjk5Py1NPPyNe+/k15+80/L7/4znfJli3PqFoxnU5JJT8hF2xaL3/y//6GJMb3yp1f+ZQkJvZKb7Yq3V0x6e6OS09XXLpyMclCRspmapJJVSSNi3YuUZHl2LHeU8NbgrodClqsWgbcpTB4x3GKOhpG5CJf4QV/DZ8HJpbUEDAE6gg0nBNV9zaXIWAILAwCnHYx6aoA5J9ZvITUKBQtTH5zo6JiQcBOdFl/btRml8qLJHNHgyeEI0+oheZKw/MwO84hFyFDlycpBLmDj0qlKsUyNnuXy3L3XXfJM888I+9/3/vk9de/VgZ6u7BPqiibzzxdfv+//Rf5i3/8lHzxbz8kq07ehL1NWVBx7YTU3OXoBtTxkFuTrmRKVqw9UQZOPEmSvf2Sx5JhmL2mg7Ck7W62JbL4hoAhMBsETIiaDVoW1xCYDwKcZ91sPwMVP10yGtzRW06MoQkCQi9OnA2REVszDVPQoXGoXmFUSEzVUGqiENKYviHhtDchE5oDdjkHsUkPYRGyUZ4UjiCm5h71CPynWojpP51C7Y9qgJAFJRpu0J7RRDHx6clv1D9CRHmKFCCIqTHg7fDDa3hIrzyoEASNEO4pTFWLRXnu2efk99/3ftm3b4+88x0/J719fYL1PTnvjNPlfb/5y/KhP/9Lue/fPioT40WcM+XyUo0Rlu20TlA2zwGFqFqxIKshdF355pvktCuulixOQy9AkCoRA2+0SoiqGUPAEDhUCJgQdaiQNbqGQIcIOBmGUx1nPdg6+bVKXA9olDU4YTN5dLp0btVG8PX3CNEalgZjgRDFJDUsD9FmihgmaOciwVmYUBBDGtIGGb4/RsJOCIAH4nAzttLXKFFxinkhJplwnNDRwvDNNAhKgbBEEYFCVBU2dgohPnNjHtMYBgflpKzHtA3QIZjLqs6QGtz8D/xcGZRIUB7QwNKalgbersR4Q4904EtBimbv3r3yV//nb6Qrm5O3ve0mLNXlJIsRePNpp8gf/PffkL/+67+Wu+66WyYm8MZdNSiLCk+k5IVSOJFHVUrywlPDMlaelCLoX/baG2U4haVCxVxRQURFXnnAjRlDwBA4BAiYEHUIQDWShsC8EeAcTaGDMybnUJ3A8XFb3lBo0LOBGIp7xg0NI8MwfijYNLp1uwzCY9jEzGk2ju++URCRWBFXyaWf7W+oeYLAhu/L1WK4yBg/caLfnoMQoPwEzEaFNWRNdv3Ur0WNCg0NvFA0q0oqPqmJcNIS0nFDNd9/I1YUsBoSNN4wjLwqv7hhEhUyfTQwwijAw5Opu10YIccBBhqP+0ddHbh7wkiBh8XTIoZUNDoEqX3yF3/117J582Y5A1qoJJbluPH8vM3nyO/97nuxDyorX/narVLK58mEXkrTkVcirlVAw1Upym4cqfClf/47yecLcsHrf0qy3T34rAw3npN/Cl6OhuLiWLBfQ8AQWEAETIhaQDCNlCEwPwR0Bq6TwCRahZaI5wbhKyLQwGDfi17QJCVKnKoRF2n0P5gsNTU9cKmBUBEKL6CDJDj7UWJJpIbGiOdaxREehyCRCDQ5deErIBGZwAOf1hZocd7nq/dFbHCOY1d0oVjBoZLY9IwA6oucIcE6Uc+q0/QEfDM+iTWZWhzCA0perGV17zQ33FOr5pb3WDCmqdNuSo5wF6rKskRKhY0y+CYmDGMo83XOwFPJ0U99FbMyuIgRV8husThEqhiW0hCu+DJ//FP/53SESkBTV1GRO3fslI9+9KPyPz74QVm5YgXqtoIlvKqcesop8mu/+qvQROXl9tvvUG2UnjvGpUsKh8qe00iRIt/0q0ETVTiwQ+74t3+SyfK4XHbDm6ULS3uTOAy0jKVAFfCQ1nHuSNivIWAILBwCJkQtHJZGyRBYUAQ4AZZqadk5XpbJPD4lUoDgU6YglZBkmpOqnxyDKTLUBpENTracamH7CTjwoRCCD5fgDgKOFPFB3UlZ1peRgUxcfVUSQqgzTgDwd9PbjEueU7JvtCrD+4syiVfya8xfBSKWyNNzvFMOUVFFbbi8ABPyH82RaZ3Q15VJy7KBHN5U44GXZQhU+FYdSjWTUQrQ/JTi3bJj/5gMj1cklVsKJIAHtHAxXiEvpKbcBTw6nN35UDwAE/nRi0QB88gEtHpITP0eBSga1capy/3UsAxZLpXk7nv/U974ve/JDTf8FIQyLAXCP5FIyDnnbJbfe+/vSgGHcz6M4xHGx8akVKR2MKAHLGuKJUQ6uqs4YBPpR/e8KPd8CW/5pWNy5RvfIolUH77w51I5riNMmNMQMAQWDAETohYMSiNkCDQj4Ca+Zt/O72Mymk/LV+54Wra8OIp5eomUyznsv4lLuXYQEzWnSRo30aszmGDVzYmXEoFOwIENLRE1J3wlPg5tVjI2LMt6JuTG15wjm9cvxTlFLuXsf11e1L0Uqim5/Z7H5OGnh2QU5xdVEl0gF+pxlFvy5I5ScZofzQ/FqKFsWoQ2DFAIo+DXnxqRd731Gtm4OgfBZQLkIURx/YzXDIai48FqTv7t1vvl5b3U9q0CpngrLk46efBHGk7j40hF8FUPt6AGMQrZQRtETRKEoO37d0qhDF8INXUh1lGI/lLrtHvXLrkPh3JeftllMjDQr2zzLKkCluU2bdokf/6Rj8iHPvRhufUb3wBPCgziOJFMS0iWwCd0X/odPoiFMrHvZbnnls9IKpOTS667USpYKqzwEM8wARM5QXZmlKIcm9sQMATaIWBCVDtkzN8QmC0CPIMnSMNJldJAOPFhAuRcyDeudLlIZzE3lYVCA259eufAMlM5KS9uK8vKU94i3X0bsFyU1c3D1Sq1F62mwpBCwEk0Dnkgj1hqoyCWrEixuFP2PHe7HBiFMOC+SePS6bLYLAFAVtw/VMAepad3Q0AbfLWcfuIrIVjUeVKEVLCjbODw8qGc3h0CBMLzTbvRXauOy+M//LwcLFQlnShAEzWJ8iCtjzYj21zWLMnWfWVZtektkhk4R5f14hBu3JKmI1WvF88XCSMT5Y1aL6f5Ymi+MC7P3/9ZGS7tC4vgy+O1b2GRED+NU8ofeOABnB+1RS699FL4iGqfCAGFsHXr18qf/o8/lb6+Xvn0v/27lKC9YnVTY8Viuou8wM0Lf7HCmIy/9Ix84x//j+SwvHjBVa+XavdSGYWWjfG5/EtBk+4Y9q11YhgXDHUS1eIYAosSAROiFmW1W6GPFAKccGdn8NmQWLfEU8sk23sCJsws9rpAS4I5sLUQNTN1fvCWQlQpCSFgAsJUrBcTa1lFmJlTTx+DgkMF9DPdAzglco3k+k7E6dt1rQ7L744BqNstKYZLkJzA/SQOG/7Vyhi0W9xAXYMmjRot+DMKifuoLYk6TwozfPuNy5q1RJ+ke9dAiMICJ/hMOLkI99MR8AIUM8OFuLXUGDRa4An7kARaobppzRRPL9++c7e88MILctllEKJIilG9YAl71cqV8jtY2pvE4Z1fxWbzyYkJ1XgxqosMCzeoSpXrVEAqFaU4vFdu/Ze/h4aqKpuvfoOkc/0oj9sfxfpR0ZWSV1SqU5r2YwgYArNFwISo2SJm8Q2BQ4UAJ2M3Q2oOdHLpp1guShlLRhXuWqb8xMmP87jGdZqFTllymiDmA20MNAwURKiZcjqhTqm0ikfmOZsjDJeejwT+yDM/whs1kA/UeDsa1uhuTOdpV8E3lSMxCpM0Sp/5u9uZf5keAEKQ0KVN0iEzernU0/Km/POHGZIRJuUOc2oePRuBxkfJ+biONn/LKEABB27uHxrSNBVsEueeKCWN8DwEpziWXQdXLJc/+MM/Ujxvv+N2GR7BMi7aRChAIwGLQn4dN8gXHzUe3vkT+con/gHtpiznXHO9pLv7ISan9VMx3PivTJOR6QQpVzTVdHWOLYmaMQQWDwImRC2euraSHgsI+FnU84pJjiJOBm+6JTHJYgs1JkxMgthQxPmPU7U728kn6MBWCYGCA/85oYZTageJO4gCvijokF++eaaCSiQTL/w4QaW5wJ4+pcSmMNVOUdzDohvoq8BCaQr/s5rpQdafwxQHllUIMHokAEkFa3gk2doE+Sl4jOV4VDZ8UODLutEY/NF46uANDMoB6WfPrj0qFJGHON9oxEUBiQKVGsRZs2a1/NmHPoT9cCX5+q23Sr6EpVwIUi68bhEZx407+PPgjufkm5+ERioVl8uue4NMoqr5xh639Gu8+o8j0vSr52GBZWoOQ6GtKY7dGgKLHQE3gi52FKz8hsBRigAFjbgeRuT2woQCA/z1Nf3Aprvd1apouo8GaXRVB5m4aRUeh8BwAtZLBR+6qUlx2pQwzMeZ1qaQ42hRCKHAQ7FE93J5Yaoj/pEK+euyopbdCTdKK8DEk6Gfx9XFciHej7bKXYROhTwKN+5NwSiaUbzpTiDfIoQhaqKKONE8lUrjzCh8XBh75hIJCsqoEVwsLwtJjRQ3nKcRL0rXccMoxAIhIE7hOoEN70ns+xrdu1W++DcfkQfu/AY+dDyq/j59PY1NAx5Hsw2B2SJgmqjZImbxDYHDiIBOeJgVuSRGYYETcKCDoBzhJk4/K3q+MInSy3szDQ0nV++naSOROI2GYRr7SP9EuQHjNLQgWJBT/YMWSWOxgLxYwA6Ne5MPAgukoDSWHIuB4odCUTuj2YQoIa8AWM+D4ou3BB2j5BL1xT8KQySKH0+e53TxJYNUmgeFQtvIDwdTcApSsZiUn2jo1qU+3deE+m/SQjmqyEOJMyHbCLFB3tBeFQ9ij9Q//bVMHhyXi1/3FkllB6SY6YJw6OIwAfPVhJqj/RgChkCnCJgQ1SlSFs8QOBIIYG7joY58lV4FKeWBE2Z00qM7YoKgYA7W6TESqk4/sfs4zhO/TaSa03V0vxA0QkaiHIKw3mIREvuFqLVRGMK4QcE7YNKJNU50SEIrVcTZWzXSa04bzT4MC/JRScd7Oj9Hl4lcQu+r94ivmiWEUhDKZDIyODion3/hsqeCH5B2FeFocOlSOVMtnKfs8w1sjcp2gZTYm1aDgEQBLo52I9WSDO95WW7/wqfhn5RXXHcDzpPC0I8zyJxhTF92l2cTdbs1BAyBNgiYHrcNMOZtCBwdCGB604mV+idMcKpuaJyqOe1NuZAmiNqyGM1TJbPgNS8TEInyMi960ybGpE9NipOipo05JRAM+rI6XutoRHlXt4/YRITY+nBvuyhBPYU1EiSkIAynCq9Iy039PBdq7dq1kssF52gFZXFLeVzGZRmZiEI06VLQacNQkA0tCkQ0mpT3eluVMZxj9e0vfloeuvPrkpgcklRlXFJY8vNHg7p0M9NX4vZjCBgCioAJUdYQDIGjFgFOu1HDCQ6XmxWjAbNyqwAQkPFTplsJ451f2KPb38+KfBjZ5xN6zMnheSBf/qIfTJiBj+O8O/pVaJnOCaROWukoZRDJ81LHi+zoUmvAXgM1aId4PhjPs+JFjVRXd7dqokrYG5XAcl7UOEEKcSEo+rfxKFBNlRldGZhWXSgXhSJeFKfU0I9CWHFMxnCy+Tc/+XfywH98UdKFEenG6aoJrhuq5ooUgjQupf0aAobADAjYct4MAFmwIXBkEaAWglqMQE+gMyV/5m9UcOL8OYXUVJ8pUdp5YJankOAme2fPSVvUjj79QV9FBU7+czUgQUx94Ulp7qXuLGU9ltMnveLCC+WMM8/Agao4owtaJ6dtmlog1r/umw+Ky9TK+9SooY9fNtR9YiwmaPB0c8FBpaVqQe77wqdUJL389fhETPfyhpOtQiLmMAQMgRkRMCFqRogsgiHQIQKYrHR+R3Q3TUYnZjeFcnKja3aTNgl7HupTsfdptn0Mb4fh8CAZvQIBxMWJcutThRmGyWd0IClT89MxOtFPVZvMSKLTCCpY8rwk3UDdaaogHphkPen7jmSYFwx1N436IAS1gyH0D8QZ3IdeoBN1+zv3uR0IRPjr7uqWSy6+WNatW69Cso9DPqKGdDwt5kQ35C0nVEUjqtvH5A0LhXv8sy4CfRvuQQOnn4/ufFHu+vwnceZBWS69/ibJ9K2SMj+kzKRmDAFDoGMETIjqGCqLaAjMgAAFEz8LUYDgPAY7sPhWfRDuI81Ar02wksaP1zaQfrNx36Vr9I3mqm5OqIziCIJP7jEKxAhuSK4XJiAUpRB4eYs0YKiFSiMphQ/nM5W7MA+fdo62vqWGN9ZU06Vl6JyQ147FuIzGtJRMiEerIrbyi2SlHyTWumd6R8MnofBCLRCrXnggJ+7jOMJg02mnyquvvQYHY+JzLpo32ZiKFUF0Ah8EJwUV9MguPOnv8gl+I8zr4Z/MkhcjOhdsGB7aWsvLxMvPyb3//jFJ4Xt/V7/t12QsmZECeTFjCBgCHSNgQlTHUFlEQ+DIIOAmZkzDmD3dRLtAE10w0+sc27JozCeI1DK82dPF5f4eLk95fhdKaIrm5jCZDW/R1M4diJBTAw6RTxnfO+T5UN3ZLnnnL/6inHjiiUCXZZi+PrnBnBelcJbbCY24JcRITb9mo/EaRCwfQ1MwkX44eWxoj3zz83hrr2upbMZbe9I3wKCgnfk0ZhsChkA7BJq11+3imb8hYAgcDQgEE6fX9HBK9IbuQFnhvdraGrdVKD/doioOHyOaQ6sEzo+TNl/FR2JMwG5YcXft08w3pJXw0ClNviWnikEUTw/MDBJqqSlEBFcgh3RKtm080k0iz66unPzUDW+UG974Rj1gU7FumwoBwJVCE/7DDeYOV2wep2oTl2q7wChRV/4jdivSoKh1rNpK/dbebrnzs5+QJx5+UAqTeezRwseoNRMXbz44t8rf/AyB4wkBE6KOp9q0sixuBDjxAwFeR8JwjxHnXtVCeQaOFDM+/w5t8k3kosLpQmJJWl3dXXLVla+U3/qN35D+/n7NkYdshsYxEd56hxOiHJAq0EDCoZDjBJ32dd6aXKNvnIJYYUz4iZgXnn5C0jg/KoWjFyjc+RPhZxT0PKNmGwKLEAFbzluElW5FNgQ4lTZOpwEm+ukSun2ot4PwDiy35NhBxKMuyuzL2kkRKCilUim57NJL5AMf+AD2Q23CNwXxRh41TCHORBx/VI/B6PIdbHLEk+r5aZgyNoE7MZUxphqNO9U7EKpJOCKwBfEomsUhjVUrkxLDh4uT8HCaJzjoDgRLx0kL4uZlCCxyBEyIWuQNwIp/bCLAyY9ak/mYKuZUkogHE7e7440n3GzPJ7ejPy03YLujAOq8EgGubk5nuCzWLJ4kkIarmzxQc/nSZfLOX/hF+ZX/8suyAt/Ac594SUFYcXucSNtplqhhcmIStUD81AuFqaefeU6+/OUvy5e+dIsUC8Vg2bTOERf0lEZYbz6MIhr/XAW786Oc5krLhWhlHxX5pSpV6QKpCdhcknULhD6mj2i2IWAIRBEwISqKhrkNgUWIQCgjqFTmJ03ai8cQA3/NvdQOM+5fSqfxSRcITFdc8Ur5f37pXbJ582b9sDDfKNS3CoNMQuxxrwKUrtGBF2ivytibdP/998sHP/y/ZMuWp6SQzzekncJnA7EpoQ0ejKrcqoM/fDeTwiB8qQ6DZEg9Gf1r0E7OV2AHITOGwHGJgAlRx2W1WqGOdwQ4vTWb2Yo9Pn6dltNb1O+bc1ic9x4Pj1c7FBI4Z2ndurVyyikbZcP6dXLjm98s556zWXp7+1RAKhQKWMar6CZxCicUtvjj6Tu67k28QqEk37rz2/K+9/2B7N23V5fyGC+Qsdqw0EipTST19jF1k7n60IXPFrfKQFVxmvt0JC3MEFiUCJgQtSir3Qp9bCOACY8zevOsjnmu2at9Oesx/YTaPm7nIW7pqxVzndOYbUy+aacCyWwTtooP1lVcCEBRy0OFG+9slTSTTstb3nyjvO8P3i8ZLMXxJHLKJGUcbkktE/eQu/1GTE1K3LyNugz4pzsFGolkSm677avy/vf/oezYuTMUsqbLW/lx4Ktzbj/MISpWubtmMW9utC2VIXB8ImBC1PFZr1aq4wIBt+3YTbduKgt2zLiJPviNFjWY+6NeU9yOnhMWfHylrrO0/kxJ04mHm365/MPYoANJj06fRyc02sWpc+WoueUlh4ZbiAo3drUj0eTvuXIYk55eTbH8LfOv8+B9A5sFRmA+P4HltoqUYMchDGkODPNZRQi02nzPzedxCFTPYOnu/e//A9m9Z48kcTBnBXuUDoWJsFMnz6LohVD8e5zrEcxlCBgCUQRMiIqiYW5DYD4IUB0STphuEqIqgpMVLNWWuCicpTrLqFbDidzVpCzN9AimWMnHipjk8GZXOQN/nxlokbA3Ubf3i9gUG+I4+JGaEU7P1IAkal2wsdmZ9APmVLACWTeRRgi0dcbw6ZCYTKYqUpRJScbzeNsLB0zWMkjhhBVPzGlkoiAgVzDDDdUsi/5FiqQxg3sgIjlgkc3hhG2UI400tVhF9/REkrTlklJCQrL6cd9ENinVeFKywLLKukLePIFcTcObivDzxMkjOWTdID4FnVQZRwMkksC1JlkIQ6xwklEsyZ8SJA3nUmyVSuilG8m3b98hH/yzD8u+ffvwxhy2fbvoPrXa0R8NZuNSQ9szSZv3PizqCqL5qEzDNqMb3bnZHfwqTS+8NdJBajOGgCEQIGBClDUFQ2ChEOBcFNDimUm8a57CVAPBCbajPCHcQDjoy1RlYtcTkioWZBxfDikm8xKvZCEBcSuwo+QmZceA08z4DMCBFwoCbvRtMnzWpYDJP1/Yhw3LO/Bp2jUQHnIqSHA+JVXKCrQ7N9iWjAQVvO4Xj03KxPALckD6INxQiHJG5T7wowKL94RNDUwcf8SHggdf63cTueMjxBFp4+VJydZGIKAtRUxdIwMU2GvEPx4WOpNBnGq+LD2pmgzvfVJyhbLk8CmUIngvAt/6G3rMNcxZ3Q4P/Go+4R0wHJdyfj+E2zWoM+CAvU/KvweTPCG6S8E86NFo2Cq+/73vy4MPPChFXQKsx/cxWyTzQYHtY/icGoPD0DA4whRxR9tkHP5GW28jFbszBAwBj4AJUR4Jsw2BoxCBVCIvmzYk5ZkXviPDIz+C4FOTEvwq/mTxYFr2p4Rz2nWCGoUJTIc6W3Na9FoFekFggRaliI3Q1dqkLO87IMsHT0DsQii4KI1Z4pGg9gLZpLEX6LTVA/LUiy/KWH4f+CkoL05xxtmbW5g5YYczueakJ3BDnHM3jIUS4Ifc0/joSbzhtrwb4llqDbRQ1M9VpYJyMnvGbaSqScMfhvENtC4oi05ZlZQX93xXivsflYlqEdhCiApkMMLm6YQ2/UIBWN9jw+fwYpLJZGQS5zh1J/ZJFvcx8McN2nqqE5mCUEUa5K2loeCINPuhffou3sbbSy1UmE/LFIfMU8vqC9yW4UOWvRE2BI45BEyIOuaqzBg+bhHgfBstHGbyHmih3nTdGVKu5jApp5ywoEtkmJjDiZYChBeS6Obsx4vUeFFbU6dMnU+thmUs/SBuBVQnIQBg6a1WgkYoMtmDjqNSTwtiLQ1jqCYIGp1u8H3jVRfJ9Vf28015CDqjCCMl0nYxvaZOPYMfilYudxfXh/m7qECVQHl74pM428gJaCzjzFySIoVMkW58JfldN14qeUlDi4XlvVqZohj4c2V2wmfADyUq5Z82OSeeabj5QWGaGFIm5OsP7ZCxVEbyExOSyWVVqNNQJkOerC9Hh5z6+kJt8DM5yYQ88fgTcsftt2tOnZWF1NsZT79d+FT/aJ7EWos9NZr5GAKGQAQBE6IiYJjTEDiqEMCcm8K+nAT2FgkvGJWF8KP7cTgzqwdElHCC5kTdZKJLXEwSBlO0wZ2mdUc2OiGnHiOMOqMDaSCMUFBIlEvSjw1XPYkDEKKqEM4o6EQmdc7WodDXRFizZoSICXj2QeQ5RkESAhsVVzGeaRQtYyRps1PLS0xjeenF/q8eCkQq4TgMeSaSE6Pq4p6TJjT3OjkIXZoOv4xZjqWkK16ScfBahfRR45IelkxpYrxXl6dBu15Gnl5Os+XpLTIyOqp1yVAfWwMP40803yPJx2EssmVlCMwZAROi5gydJTQEDi0COoFBKHELR5yQIYhQaFKBgUIJ3FSrUAujglAbfrCvSqdkRnUu/Q1EKEz6zIF3zijJwE0r9I/4tXYiJoQQ6mWSNWi2oOdh6hj8GoUmUvRUo5Q8g4HNoIiTt66YTIvN9YoDhSAaRmxFUwPrIYjGE7wZG6KPS0dMqQ2CcfuY6nQU12ZsNdgJPpoIP0QvXSuizI6mavmoylFh0Qlkdao+lbP59h0/6fL4E0/IOA7UpInG9W5vu1SH4peoMG+nE1TxEtiEG+0PRZZG0xA4xhEwIeoYr0Bj/9hHYPplEzfd6zQNp06kOte5Cc9NeRCSMONpGH6cVqoJFx+9wdt7BiJUoNVSCSM6YwfRKEv4FA1k9AYhYaATpBrihGH0bbhpiKZB0wASpsSeLl17ZGryRX4ZyCvKO27VBAkZpMWEo8a1SzX0xcZ0WEqCYT5IbXfDWKF/UyYUzFKxEpZGSxAaqYXiUh9xwMWEIOFJ4g6+ztCPn4EpQnu3fft2KXFDOfx8XM0ziHvoLeUmyJ0NivfRi9yYMQQMgSgCJkRF0TC3IXDUIlDXFDWz6GUOP+fNalM4JCOm92/NNdOe2/3hmGy9mAEOdZ5HnviP+E7LOrGqC0SI2kHahvjN1JmxYun0XNTucQO/48hhHE3PvWI0tBJ4S5JvJ45NTrrPuiAZv7t35A35N2MIGALTIWBC1HToWJghcIQRCOZmnYu9sLQQLNVpIQf8u8UsN6mHqpOFyOhw0ehACPKs1MselBcBCyEucO8TsaO4SxmIy6LTLrOGuTKi44AfHOabeYfaKAbMElmFwl3bbB1vh5ono28IHIsI+LHzWOTdeDYEFgUCfgqj3eqaCwit6Hg/5uLdtI8F0ymfzeXy9wtSRhBze6pArVOGILiUSkXIUDFZtnSJJPGWXiBPLQhL7YhEy60CVTsBKpSw2lEyf0NgcSNgQtTirn8r/WFGoN1cNR82AgWIUyDNQMjHjUbTSTTqYe45IuB0UG7hlTXdrrbrEhZjFArYkJ5Mypo1a9TuXAKbG5s+9yn1rux6nmk3X3PLz1IZAsczAracdzzXrpXt8CLAU7aDHPXwS8xS1DDoUz9sfVFLN7sEyz1B3PBhP0yMaRTu0N+Xoince3tb8/FxvGeTPWXiDMJ9fq1otEvTRDqQGWZgYEqiw+Phy6DcBVKE35cUcoDAICgUSKeNHyRkHMVNM8GWcSWiKVGHqGuqlvgmofPS2NVA3cSlu1yuW9I4sPOss86SVCotE5PuDb2QrwV0KJ/kALywfRED2o41bnenK7C1PLx3oXCYMQQMgSYETBPVBIjdGgILhwCnrMNo/HzXbs5r538YWTyus6Iwws3lYSFbAc7QegwVsgOv9evWydKlA9BGHd5hmbKSyksh3+YwBAyBThE4vL21U64sniFgCLRHoNXcjNh+eq5P0Y0k2vl7RYNNpI14zfZOdY6sm0DLNHN6pnC1VsVnX84++yy5+uqrIESlVIM5c/r5xbD6nh9+ltoQIAImRFk7MASOIgR0Sg2EJJ3kmgQmN+WCYfo3hbUrBumEE6ZPF7WZ0NPydjtix7i/x9dj0mAf9rKFtSlVHLi5ZGCJvObV18mqwRWHRYhiccmBGUPAEJg7AiZEzR07S2kIHDkE6vPvwvBgs+nC4DgrKlj64ydreKI7TpXPpFNy+eWXyeWvvCLYYD4rYnOKfJzLzHPCxBIZArNBwISo2aBlcQ2BQ4FAoBVqJceoXxBOtYFuAm4VEXz5MNqhpqp5lmRYqytIb6oJADFn44H1BILlOq0DX8nctM1TzCE88TwoXz9wV6pl6e/rk9/57XfLOWefgQ3nWXyX2C/4eZrzs8PswKpvLzxoVduMLkOyDJwWaNN4293ZryFgCDQiYEJUIx52ZwgcdgQ4TU03VbUKD6bkuqzURMCnafJuWTZPq2XgcejpBYmFLJoTdTxFoh4IIsjM1QUdAdL6fUFuQA/umQxO3ZSOOBs3bJA//qM/lFM2niTpdFq3WPn69DnMxw7fwQNR5SAkHjpAnoFemIr6zydnS2sIHH8ImBB1/NWplWgxIBDMa9QgVNGLVZswh3JzEg1m+TmkPvaShOWdJ+sqD4GGHq5JotDiNApSzICVNJ1REQYRnHaKIo0TpESuu+46efd/f7eccfrpkkm5jebN1Nybfc2+0+VXD1MtFG5VA+W925JqG+BTmm0ILFoETIhatFVvBT9WEXCboTmxBRdmQuo1aFRIUFfkx8/VUTsS7J0UxPQbet5jXrbjp1MSflLvNP6RjOcFKKfG4bfyAKwWl8MpLpVMfPl53+JqUQBXrwjAWWKJeELe/NM/LX/1F/9brn/d62QAy3ypVFI/VswPFlOA8mY+wpSn0dZukLLaxrKAxYaA7uPjXr7o1XL0OXzIaAeK8kP3oeeJvd6MIWAIHMMI+HnO23Mpig41JNCCCMOar7nk0TaNH+hCKSIak4dVusNJozxEY3TsDuhrWTtONH1E0qI4E4Ngow4lrj5ByPTp24WOHRzVzeWbN2+WD3/4w/K7v/teOfXU0ySNk81TCTsjuR1u5n9oEeDw4B+2mm3tpb4vR9mYf3eIUnPulmPF1GiHw8d64+FA2fJYHAhwsAhNfaoOXcFg0jzO+PCG5CGd6R3hzhokTvDBi+KOJ+iTRglrGCJyU7P6xxE9EUlST6wuxOFgSTdjahLe4PLLVxrP59VgM3Y9VNOG4aRG48Npcxj2VN2dG7QRxrfYoNHh5VN5HBvpanDwg3S6eds/kQIdaHBUVkQMnz6aomM32UXGvoSqGQLteALfvoNA5T4i7Dhj1Cq0S6GgNSWTxhIwfgLf0OPSXhwaqZNOPFF+67f+qxwYPih//w9/jxPNJ8N8p5CalwdzDgpGOwTI+8+LuCU+xhEIn6/QLrRFaLOlyxn23Hg4rtDPtaF6DDQpalCVkG/zSIUIGkfp1mP7GAH5BkvHOe2A9fgBlYZ4jofAKyxAU5R53poQNU8ALbkhECKAAcJ3/Cq/8YJOq3tmEEH3usCOcxBBrHB+YuIgUcP4Q/8mE2szCASijRubEKcVbU+qRvU7MorVKvBCxuCnSvEoRgEFb40J/Z1hdvq0iVvaLB0HrzgC+LmQOEjRaFrnjPxycGPBeCEO9/348Q551SAM1YsDmrovyEfQJJqUWqgqMtP8QSJOPrSMThhSTJDM5RKkCy0kwBtvUsPFFbUYhzt14IZ5NeUXpqs7lG67aOpPPoALrgQ0REBGSpWKJFLICcwmkmkpF0p4866KcNDV+q/TV1cLv7jy6YSvCs6Q4pt6uWxG65YCGvFnodux1pRDh7ekxosV693e7pCERTuuEfA6YW0VOtDQ5Roi+7N+4ogIBN50sA87D44xHK3Yq+im7foxHBpPaSCNi6O+/HGG/R4uXjW6QVdJB8HtLeYPown5s7DGhKiFxdOoGQKHEQGKNE7AcZlylsZYER0n4A6GEBfG4QkROEzxvwKBpuKoqD5KJ2eNiWBO1qTHiLiqFH7go2kx0eoY6OMGdj035urSMUgp8RZGBTPKMqDlBDLeQJSDYBfDeUmeBgdZDeecjtGyCgHQXSAUQ1lr0PpwMCZRGPIKoqFRvhOgR8GRpauloCFKIw5ixvKIivzC2HN0gIAKxsB0fGJCvv2de2XbiMiSVetkzeAyufD8c2TjaZskA01UsVxCnhEGO8kSdVCBUFYuUxhEAhYdFukgyHk1VHgnRDuNE2TYaXSLd1wjoAILGh9bBftaVQcAN5Z44YnCjRtbGIMxKejAZmL9eCi82ICDMGfz3qXjAx2ps8f6lu7iq4eLBXoUoJjWjUY+thJ2EZt+VQNGQkFfqek3TJsizfHWhKg5AmfJDIEjhwAHC1wcR2ggUFQwOIwVEzJycFI/G+I1YC6C+y1XyvrKfDaVkO50TZIYiJJpbFYulTFJF0ERg1HDOISBDa/+VeMZOTCalzwEkZKkOSxKIlaAgIMhD/lyQOrpzklXDPQRg8MhB0LGK9SSMl5NyOjYOIQB3YKtI3CmK4txtSo9+MRJDzQ4cWqLIlowxzHEIA7KEJao7SqBtzx4ruFQyhIErjjKnc8XpFgo4MTviiQLFelJZSTFz6ZgSS2Ty+iyGpfYdDlNkpIArQTZA62GoroMO/sNcNf0cOst6QGL557bJt/58SekkshIH8q4euVyOXnjRvmlX3ynnHPuZunp6dEE1AgGbNT5gIfnifMOTXhP7KDNcpJTEOiizOlX5yASBymdC0mFZFVTqVMkbmh7DuA0s7gQiFY92nb9AQv9Ek2D2nZqRfnJIp64n8CLD05IQTjS6sMF2hTHA44tJOfPRqObbbxWxSMcxg/GiKPfIpFqpCgWqRY6oM3+rLHIRwJjUoWJGQmXN2zUEZ6dE79g1uVXD4wxH59unrYJUfME8OhI7hvH3JuFpvRk2hRKB942YeZ9GBEIqlmrCz8VDCgv7t4l9z36khTj/RCMMtg3MxEy5FtFCpuSKVx1ZbIQNlKyDG98Le/LyUAuKQM9vdKdmJBsquwGK6SmJqcM7c3OoZLc89BTMlRKSjHRDYENgkhsHIMqtDwY5Di5L+nrldeed6KcABkB50OGg9lIsSZ3Pb5Ndu4dcvxgEGQ7SmJETlYKcuV5p8lpq5dg0C0hnMNkmDQY5CjEpWSykpKRclL2Q1DaeXBMxssV2Te0D2Uvyf79+yWbyUiGSqdiRQXF/oGl0tffK33dcVmOa2l/l3Rh4Ie4ibyogXJPr46p+f1SCGGRyX0FgurExKQUIUxOjI7I3j275MdPbZH7H3hQbrrpJnnb29+O859O1gRc7ouWlzS8ibq9H9/Ki2NC4OTk9lz5kNnbnr7mjx/adYM7RKBfKGDVA811uBFoGnhdXfkajDATqcQWoZGI7ZwRAozib0kM4waFHmUFP9R5U6wRjAFVaEnZ9mslalqdsMRxAc1bH7QSdCOErZ26YxWwkJ42xyMKYMyqVoKmGGMLNdVsd/RjCJVGek+Cmpj7DrPKAYWhRJzCmwuCp7rVZjo4akrQPSDyXj1hIcmcjdIJUpsQNWcYj5aEbArR5hCt3s551EZxuR6QAABAAElEQVQaJUOqzaQQPsWv8yws5oIhwIrBoKX1FZMSRpkXXt4rAxvOlfNf93OSyWaljAEtHC0CNToHsTKEj7HJiowMYaIfy8v3f/yIPHz/vbJm5RL5+es3ydr+uGQhZCSpFcKyV7mSkGe27ZHqwAZ53Q03S6p/FfJNYIAcQziFEdKsyUP33i0/ePoJWXbeCZJLlSBI4QkTjWXfWEm27MrLa9/8Llm1fh32BXEZDoNrsSjf+szH5KnnX5JTKXlB7KgfBUCgMOxiwJwAJ/l4NwSnsnz12z+UJ14elhM2bJRLr32NrDu5R3I93TLQ2wMNTy8Ucog7OSb79+2T8fGClJDHvQ98W3b/+Hvy/t+8CSTHMSrn0YiJTVNjZ5azNFoLIKP7tWD7e9okrxMEJok4JpEdu3bJP/7zP8ntd9wu73vf++S1r70O84E7sqCTbP2kwrhKv5NEbeL4krMvN9Aiz8GlSbUMbYiY9+FBQAfcei2F7QAOumnCMZn3lHRg6ovcvGMvDYym4V19KZt3NY4RfCiiEEQauEiXLzakM1gCp8E9KVEgSkEbdHD4gIwePCAFPLANHxiS3UN7sR8QfQu0hnftQALkgXEohocKpauMUshymin6uYcwaqFh4j0IydTbIHnFGBDDA1J6YEAS0Jrnurulb2CZrFx9KuIlJIuxbsUKfGuS6ck3HLrXijbSUoAqlvjABHdATwUxxtfIgc1w3oOEN4zOlOzHlN2cgaMxGkYoM8cQAqxJVjYqVvd5sM71zpVBK1qbgusIQcnozVgaHPjR4uDvTECTtH1rQYtzTteq+NaFupAm7LQ+udnzQqAlng72pkoLPLXe+IN7qqqTGcknBqRr5amy/rQLIETldADxgxTUIxigMBwgSQ3aDA5jVe4LQvJr3/pT8vPQmHzuM5+Sj3zlS3LDpafL6zavl67CQU2ShIAWK09IZtkpsv7MC6RnySDoMG8OuGgTIFsuVTC4rZSPvOc9cvJJfXLK4LB0Y2mPQhSeLSWH58+TTjpfVm7aCBUUNVFIXyqA329JdecBcgNSfEMQPMHE4K5AA1bIdMuzIzX5/L1PybZdY/Izb3ubvPsNN0iqpw9LB3mwgfgxnOiNRUQKJGr4ZKz0QBJt9oqrrpRv/MvfyZNPPicXncUP++IpFrQFy5FuiHTJZvUbQK940g3DmmGxGm0XsUphE6wWINQ995Pn5d3v+W35q7/8C3n99dfrhvFSAQJkxJAO2wRtGt8l6SZ9Gg7uczEkqVdAn0s0nm/SJH29RySOD7r0OZeMLM38EAjG9ygRX0/0495AZ9yYrfsXEYFvr7IXJaF1Lk7m9WwxyhaQhtBm0MNgp9JcEsODEiqfbatQyMvo6EFce5HmoCSwPC4Tedm3/4DsP3BAhkdGZP/IsIzs3SsVhJES9EV4XwMCEt4iTeBBhrNDtTst1TT7JPiANjzX2y3xLPZcdrFHwg8PUKlMSpf9EthSwEbuNKpkEHyMY58itha48ZClANugVatOyvjQLqmgPGy7FBATI3gYooqKWiykoQBVwVXFCf/pri5Zho95r129RlYuXS19uWWSzHVJGcJYHDzloIHvxUNXKpXWl0F0zsP4wTERQxmGS9AMlhm5X5Rjpo6zWjTOr+SCWJNDYO0s+z0WEOCkxHqjXfVuVijrlD2Mhg2YkdTb+ek9veAfxHK2NgL4sPNpAN2Ovk50SobN35n6EogmDHzNOjIIsA5waZVxc3ga8gne3kqksbcANiuUwZwlg4uCd0UbgRsIWK/cuN2LAe/mX/o1ufjiS+WWf/obyVa2ytVnr5YMNl9Xq3yyhGDCN89AO4HB2bUiKvQRxIFFynLC+pPlwqteK7fe9235zbdvlhwFB2h8yAaHw3gcgg7S17jWhzwp4NSwTEdOnEgAP/6BV+x2wvJdRh55cki+9fh2OfOaN8ivXXOdrBhcIVkMkAk9wRtLkzqc0+ZFOuQF2h11uZ9kukswa0gtzxjuKbjeVyIRZ+t02Wkq1gTL6YUQnd5wT3+O8wFr6H9uk/j4+Lh88M/+DFq+srzlZ96C5QhMS9BWTWdIhl1cr+kiziEsOi6E+TC/4IoUdQ7ULcn8EGAtOKPjuLYrTuPsL65psX44z+vyGW5oY9sgmj0EqfwEHobKfHaRwtio7N29U3bu3C4vvPg0BCIs+UOAKkJ7lOcydAbCQwZ7CdHHSY/7LCsQksrdNSllkePqVZLFPdt6GsJQjW++wrD9kpeKpnFcxbHEpkd9IK5vtIxdQiF0bNLzWFAGhsOohbdP9Vkv6ECaNOg8qYEElv9ZTu7HxMMZtjDwwZ77snQsQbYUoigAsS8NoeMN5beJvLQNwhfGIgpGmiYmWfDWDaEpiTSqaevvl1UrV8uqFSfJsmVrZCnGGe6/5GNiHHssJdOH8qGMoIss1BB/Gv6aEKVQHIU/ro6CaiJ/vvY41bCVYUJgb0GL1kbElq1RnB87HG89Gd7TTZuGblX56j1+OLHBTwdpOHRg1xaD5gKbeTARs9HEjEx3s6G/mfkj0ArbBqqB2AC8uWk63LStleIryU3iZb7dhdfsazVoPOIYyiCoxJNZPIWlMFBw70Ic+4cG5IzNF8v1b3mnfObvPiynbVwrg3iKTGJgZEtitfoBj/cqHSAbDiZxDKyk8cabb5L/7/7/kKGJpPRy4zgGWfIW/rENKSEliUEJt/QiOXjxjRsutGG3lfzg2R1y+30vyZt/5bflFa9/DbRr4BXl0GaO+NQ+qViEga1cLYCWG5wZrnuHsAxBwjUKgCqgcADkcyWGRif5Iad5GuTF4tB4291FfiNx6ItbLcfWbS/Jx/7l47J+3Xq59KKLFAOdXLRULj3jBrWsCd0mXlcXLsah+21bnkOXpVEOEND+4vsK+oS+ys9+RskGLaIKLYk2JG0g6Dlo+3wxJI6HpGIxL5NYXpuEwJSfHJU9+3fJ7j0vy74926U0ckDTltnr0Z8oZPEU/GQXBCMsz1F7FEO/reI4jTI6fgn9t4yxIpHFAxD7EnKnIKRaVWiSBS+N0LDvs2Pq3EAPRHQvhMBNHvGjfVUFHnhoJ9VILlzjcFgCDRTHzVE68IBW0BKhRXKbyYlHVfAqSRDm8naZ4zEJfV1fMsG+T+UY9wnMk1W8gBKbBEZY2quUahAagdUEXkrhiylYan9+2xOSLENQw7hCwSq7dIkMQpM1uGa9LBlcLzE8iGWzXZIB3UwmhzJnoO3DgyvGUBOiWMdHmdHKR9th82H7ovRNF5+kGcbbEjpLFo2bYUUsE7ARaSw0aHQ3dftiBcm1cTIOJxylrpYTwrRn6BMFYiABJ9gCVLdlxM2gc2ke8HcdmZThDnsN79mmSdDMgiPgYWXlecORhsIALQxO7lwqHzGIhPgl7Em47667ZdsLz6CzY1kOu69XrhmUjWddJstXrYU6Hm+sQQiiwj3b1S3nXP4q+eFjP5Q7Hn5cbrz8NOEuBe410kMk0a5ci0SebqTDAE7xB/miLXQt6ZVXveEN8r1HfiirL18jGQyy1JGxbXGc1fai7ZPp6ecuNColwWWvYiwlW3bn5SvffUp+4df/SC6+jst3eNsOYWx7bGNVPD1X8DRZKU3KyPBu2b17hxw8OAwWEnhLEJvJ+/BkuXat8lYujmK5EcsEqp4Hr3zU5SRE7dw8DSlEqbAHsoo4GfAp3kPU0BmDPNlvH3nkMfnkJz4pm886G5vh+UYhJjMfmYB5Q1q4tOzIsbmfNd/7ZHO1yTfL4a+50rF0c0QgaFSsV30jE0ID9xJqN9GxuwjNEvpKcQJ7/0Zl58svy7YXfyIH9+2W8clxGc1PysED+yEc4U3VbiyfdWPJbRk0KquXQxiAoAC1FOUfdBcpo5LZVt1Ygv4FT/eeLkaEFDVMfECD6MQ47l+FthonFY4/MFWGwehDgHPW274vC8KpzUHj1bgaATQ0aZCGQwmbvQ5tLhapuoc3JHN5khDzdvE0adBXyCs13TG85YeT2ZSfGNaj+eAUw8szsS5uLqDWF2XGWjUFtiRoJbluDXoJ7BfFBiqMLyUZHh7Dvq6n5dmXnpT8GPZ0AYOebuy9xMNmV/8yfIZpnZx44kY5Ye16E6LCupqPw9UBqzCk4l2s5HAwRYPQSmfD0Jju1/lpc4EvZXZULpcsmFYbaw1v/Eyou4RKzk/gkxC1CSng6aOEK5/H+jDSHcD6NQUfTyO0A2aUnrZS5oULbm4a7O0bwMiPtXKuGWNSZWNNp7M6cSaTWA5J9EsXXhf3ZeIEWimjBaoPKXkTRSDwiwb7aLCZum48HnUf7/LJF2DO8ySPHzuoEBVofOU0lS4/MS5fxn6ndUtTsqSrLJOlA/Lsg8Py8U98Vt7yjl+Ra6+9XtK9ePrEXxkDcw5v2d3w9p+XD/zmr8irLzhXMtBclVHXXHqikMN4qoXCSKSTN0ZBrSO0me7efjnrgkvl/37tK3L15kFZiUErhqMLyJprGYzLP9a+q1kNg1P3JWAv1OhkUr5x92Ny/dt+Xc6/9lWS6sWyAcKZKg5hroIn4H379soP7viG3HnH12WyMCT9/TnJYcLgE3GxUMYTeFFP9R7AZtSNG8+QXVtfkDM2dAUiIIhF5JMmuOZ568pUJ0KuUTYUUqtHf1woNYdxYPuDHzwsDz/8sFz5ylcGGNVTm+v4QkCr3zcR3Hhn0DoCDz6oot2gLbP1UAtVhUYoX5hEu8fepD27Zf+ul+S557+Hzdx7pJwfh6YoJylssI4t7ZbqcghNGLOXn9oPYQICA4QK6l85CXEuoaDDR/FiHH05mJh0byHCnEFcNFg+a/Aiz5QxNJQ36kNtkEbTAJ+y3tBdLEceeYKe3x6ifYEJmJ/SJy3mqSySTb34o9khKqP7MYDp2xkf5GwKbIzpHkzoVCEM1PjBdi2A25alGWi+VNLnuGUBWwZW9SMB3yDGuIY3jCulIlY+i7IfCou9Iy9jlfB5eeShO6SKe9NEEefpDNFtY7RiUMMuBn4p2sK4ewoG6ACoCPy6ICwaJ7APhAKSNhKuZ2AyYp2m0CrTOImnWsnj6XoYr5UP6avbIwf34uliRIWoPJ4wihCiSng1vAKFZgVP1BVMbGqCzqF5s9XxCjjRcO/FG/YAtZ0FdRMcaDB4CmHXZUNN5rAdGJNWCht3u+M5fQsih815OexJyUFj0dU9iCWgJZjA+qUbEro+haBjcADQc3nQ6vnQxMmRWgcewqb3yGdqR3BCVLipncwjPv/IFzshOzINrWmqROMcsR+ta5e78g5mFRfyTByAB9uD36QfFEkHCE2FcO/XUIZWnhxVWsduSKpaRzxhvfaCjbIijSeqcq9Mylp5bmdVvnvLp2QQm0Ivufb12GfgtFE8n2DlqpXQYI3L2NiwrF6KQcgPOiiDKxfyxv9TTz0hzzzzrFx11VUysGQpksZlzQknS3xgtfx46wHpP22J1r/vAyieGnJeZttFu4tjn4K2DRAs4DypbXugNcotlyuue71kIZSxc7B1UotVyI/KEw/9p3zjs5+W7vEhee3Zg3IC8uPxNIkYJhG0lSo0bzyYknkNYWPszh2Py4risKxfeT5U7+7Jmiegg5yawHI3s/xlWl6clDydsG2y/UYL3ESbAiiXHnZjs+5/3PEtueJVV2GMIBauEZCeJoeDNoeKAP0wL0/SZ+Pvp7MZV2kHDLMZKX3Y9Gq4ZkN4ukwXcRjxVHxh+5P3KUDwoZDjQAJ1TptttwINEboA+kRV8vh24s6tL8nuHS/K0BCW49AXRydGpIT+WU2hnWQKkj55ueQyJ7ilODwEl5gWF8fRIjLmw5X7czwEo6zWhtMekTuEhWOt3sKDLZoBwb06XNzQR8cfRGiIiDiMRj8N97Fp86GL3prAdeogetgZg6ApSZlcw0ggiKSDEkoXZSvQjLm4TOSScY8l+aKG2JEJaDAc/sRIQ4AdZ1M+KqqSH3lRU8f9UZLBiy84Cy9excMaH4BWot6wsb6KnegmRAGfmU0d9Ia4BDc0rA3ONjDqzx+MfJwE0Gm4jy4F1WIc+zeqeKqoBFokrmEPQ2AawSui42M7Zd/ebTJ88KAUMBkU8GpopTIhlSzUkVD3J/HmAZ8ueOhyBm8Z8I0kTgwUynxjco3CNQ7lheyAfXKjpYCDg7HGh1sHczQKhtbybBR0C16DxyvsMDHc78eTPc8AIQ01kM5z2ZWYvPDqKdaKe/DaaTeEqz4IVMuWLZPB5SuQkFouaLNS4DPVC94hlFHLBYzYaF2P0lzBCxsxJx2eKo1wTtZgMGjyyNLxxNjucmwcdb8KcMCVn6VxG+IWsB+NtjBlmI6ie0NueSYvqxJ4uyWJARoD8dKT++XJJ56Upx/9vlwGIYpjkwrQ4Jv74dadgM2VhTH4QxOJ9htIUq40bDe49uF8ps985jOyYcMGvHY8gP0GcenJ9clb3/EL8rm//VM5fe0VmBTwwADjBirWKXMJ2hvy1JpFW6GgXcDrzY+/8IJcfs3rZGBwUNsLh3PGKeHh4rkffV++9u//LKtwRMxrLzxbBpdgmSKBxQfyg6MYYtTTow2xHzK/k/tXSPnEJehLRcnm+OACPRoj45+TmB/PlcHZ/njIQYuGlqfHUipAsBnNj/uMFxoEsO9N4o2jH/3oR7IdSzInYA+GoxTEIhk4XVYuI/dbj+XCQqodOYgnUFIWo7yRttIPMvV5dUTUIk1BQGEEiB5TjmnEXdsJ+mEcwn4Mm7preDuzgJcN9o3vlZ3Yw7QH2qYDQ/v1Ko0ewMSBnYK9GGtX9EJrnNM34Mo4DoBtuYzx3+2VY61iHMV849uEjvEBV1G3ekU9fIIgLi0do8G4D2JbZdcJWx4D1AMxg0hOo6SRGJHcBLa7462n5wNcjHq8hnCNFPwgk3oY4+PeMRSNBbejRc96fIc5hwdn6nF47/d7+bT8RJM3dFGwrRvO8bpJATZXi/gqi5k5I8DO4KoTJDBws4uw4lTaxtIIA7WeMQkluSWvhHXWvVDH4u2IvXt2yrbtL8nQ3j2SL2FpDhqlWD/3lUA1uwQb/LBprSuzVGrZQSli/OcGXS5XcN8EW20F92qQh74gjYzc3hj3hKuMMULAI3nVFIhHntiHVGUMm4xSUxLrcZHohSMYlYR7Asagi87KeBUIU1UsmSTGnQROzdme8f1S2DshJS4rQlMWL+Lkagh2A2tOkGWDJ0tv9zrsU8FGPWg4li1brlqtKlRLLALzYmfQV1mJHyRE97TCLsi3qZxhF/LuoCRBiFnt8WCNo66AYwqbynkqOAcM9zbYOBCdxNLXQcQBtqgMtgsdPmDnoInkPh1uPK1gsOe+CGo9uSmVkwFbO9vjs88+o8tRZ2BfD7VZWWi2LrziVfLxv83IM9uHZOXgcnQN9gttfVqHHHiCW608tkXW7iSOHtg+VJYbXnWtHhhKLS0HZg7SYziD5muf+1dZAqHp7a9/tSSGd2APA/ZGgWGUCjbaHQg5zkANfa6KnRFlPL1wTxX5T0ILrN2SBMlDlAnlZOF+SD00yM6VPvRRrHlXBV9P4zDOLVuellWDq3TvSz3WEXAFjDbwfwTYOB6y5Ljmx7IE2py+XYYz1aroi2NyAOcs7Ue7xorDyzvkaQjSo2jTRexZrHXjO4mDS0XWYBUguxoPE9inhL5bhqaqQk0UbB4XwCX2mp7LBLTQ3v1Dp47lQT02t7t2uKoGtF1g4K/dZkpLridqCGenniauT6X8uYTe65DYzIdjH02nmHQUFxOkCVEK6/x+KF5w+uGOfZoYzqCpYM8SVDsygQPJdu3YIdue2SJ7d27DEt1OXZZIDEAtuAJP76fgcxk57DnCJr4KBvwatFW6QIea5uY41DwqHTmgTZbRCGroOF600KUizny82DRgqXQOgY4TUGgaWk1wA22DJmNK5OHJkBINhS51u8Ihb/AGmno+FYpZwXkgBSSi4Bhb0SfpWh/0CPV0CexcHIJGbf/OH0ly+GEsQ2LyhWDVi6W/Jd39snTZerxKinM8VkKwwiulCWi0OGEmgQPfJqP+gW9JMAc+adFov1SmPJfqPacft7l+TkmPjkSsoDogAU8tcMHgymUC7pTD+ZPQhubwunKXTKA+9xcSsn4QG7DZvggx4tLmq8BbX9wm8QsYhjplW+Egjfqm8KTtDnXSDYFpNbQnn/vc5+TtN98saewnYFgCb69c/zM3y0vP3C89K/hAgDNYuJkbxNmcyDpPswlEMfUtQwB7AWdGDVW7pB888SmbpaFwRbMfr2YXsYn8p68+V2Kju5C6IsPjVXnsmRdlHO29RB7R5P3eC203iFPj52lwEvua5Uvk9PVrpUfLwB7kKSv5Bflhnq7fOJ756/gguK0NH47GJydlCJpoCqlEBawR9NYJDqUv8lWePbvePpR5Hqe0OX6l0tzEjfEM+5bKxUk8ZMRkz/bt8uwzT8lLO5+U7Xu3Y6zDx5QgNMnKbkmethbnrXFfKvosx1vgjzUA2BCWUDG6/xkqVP7pG6fakRBJ6wm+2mecKMV6nGIWuj6njD9Tcjx0HpzjZmkWuvjaV9BjTIgKKoLtoTXI9ebYauDVQROtnWH8ZEa5XJDt25+THdu3yPPPPyoH8XppHuE1vDGQHeiT3Io1uoejBImjhs7CXDm96JkaqA3XLhGfzChdV1VkU2OrH4I47wVBtNTAQT5U9epLo3Scv4+mlNBJdcJBx3Plrk8qikVIFKkCYDQ/TrSqcXOinE4c1JCBDo3++jzTfZJa2g9tNGjzMyQgkIcma+fkftm7db/UnntYEhCYeObISrzqvWrVaTh9doN0Y1mQS4N8QzCGPVl49FIeKBY6VqLMabb6E7BZ9wh8I5w1hS3wLRuDN1G39ztENqH3+DdnQS3NOHh5fmgCT79Y5sLBdCOxSfnWw09K7oQL5LLXvAXr/hjsE9Awom1VsFR7AMt0PP9xyZIlIDwJIQT1y7eDWM9umtdsevEm3CkbT4Im6hF54onH5fzzLpQ0lnj5DazzL79K/u/9d+DAvQNoq1yuq7cv5ddTwg1557VnZEKWr14JIaxL3xhymiVgijay5dFHZP0KvHWHjeZd1XEpQFP79I5hufORIXnVT12PJXMITPrM4Wpb3wRkJ8IbfGP7t8vd9z8mK3pXSvdSfrMPS4AMW2CDnue6VtijmMFM+ThchvFSCPdyUYM7VStAGiohLjDHTeSCbqX9nEG8n4n9JhLH/W2AkZZzCjZ1jxTegivg9fnRg7vkwPYnsRH8acwJL0ke2zgKEIpSK3KS3Ijlua7lqlmilolLc/iyEfoCYMf+WbZRzc6vOqAy3ByEXwYEfareXurMhXV43FfIkS0gcTYhCnWgaletC0j49XboGioaLrUvbgkDmhGgxomE6lkuj9SwpDDJjd8Hh7CJdRveoNglTz//GPYz4Qj8HAQEDPx9mIwoRBWgWSnzDSPkUdZN6KTBizSZD57YEUYWdEBW3njvfMiiapro8Ib9lsE0QR+Oxld/Te4jqQ8JBRk5Aj6U3t6EQ0Lgp2Hs4TSQ4hjObu2WBQNhLAjmdEvNFY9IgMJDT5KlXBHDOnKi2i3p5UiHpb8KJvUxCFj7tj0qW575MfaM4W1BHHy2Yc06WdLTD6FqNTYtr8bbJ3hjAldcz//gWjROx4VqHA7IdJj8dUDBRBMyTSYdEnS5iLB8eMBneK9x5vjDgqnxdpQORb9DYFgZvCjUBkLI1FzcW5Yr1qyX7//kZclibxu1/0V8HLd3/dly07t+DccccB8On5txRhOElfzYmNzzzS/LGeuWoqawxRJ1yD0Cev4KBG/GI3R8qq7g6IA+nH582eaT5bavfUHO2LRJ0n04dgNh6zfieITVG+TxrS9jX1wOfLqhhml9vTi3qxk2q/1Du+WkjVdqmRRJ+OlEgreTtm99UVb34Q3REk5Sz2Bv3WQVGhzBqefr5bqf/W+6b4EHiwatUPPQcmFT/cHt2+QT//sDeJPVaTbdl+ZdOZSdBfghv1oltPHHCY4PQVqOGelDG4UPNPMbYg4N1AclQiYmMNRKKVgBNbo7I9wyZ/8M75utJ0Xbj3++LJptSyqLwZOldxdrUrXwWA8mNlwSRyWpbMu6YJuPQWAvYi4YGx+R7bu2y25ce/a9IHtf+hE091jqXrlCUl1YJs/1SBlvriawWbnEJTnuayJ9VoDWO/PECEoLhtWvtkagCxEdW2oH0TSO/wmjeg+zFxwBVhfNohei3LDrmqEOHH5kATh6Krh2GiwtIZACVJKnNuMdyRSOEijkh+XFbVvwquPdsvfFJ2UMn7roG8THVFd0SXbZRnQSTDQY2LnrBGtTbPq4uFSlDv2hPifU6SgbbhrQ4TfoHRofPco9cTTsciMlmGg3ghv/4RQRpeEiT/mlFoB5uE6riTVOkDQSnx1duWHsqf7wUu0WQjz/1JjpgxQmUX8+FTfqHYRmI4ZD3pzpkdR6nGGCVHEIVUXMjlu2PiQTe4clic3uSyE89a7fKGdecIms27BJurqWYYLvh/YBgxDQo1DKZdAYJnm+lutGNo48xJxUySvDUYcBjt5m7HkZbS8ekyilqF/UHY3j3JEmVw/0SaIw10MJtF4M1gEc5XL1F42EvU14/fm3/uu7IRxB+IDQn8Seim4cY7BkxSDSBfhXuasOWAG7XVuflTu/9Fl57y9cjQ8SQ7OKTdmsc16EVutV8URfAAv92KN0yVmr5bYHH8VpyFulFxpEx3JMrn3jTfK//ueHsHTbhb6Ec1qQnq09apR/0OHDRCZehGZyHG+JspewnwQ54umdm59KNbzOnVkCngqSLeGwULzdVyrjBYbsUl3OS6Vwng76oBplAv0P6fZmhvHwgjdroL2i8KfHRAEHlmahDccQGtqk3rJuNYb7YRz2iyT2vUQN9ze6vhbV/UVjzM0dsKd8kUdtRiDlkHY8K0/w07IsPERzY/yIpHJjiKr98dBLIUoFKWg9hdsOeIAtHgRTGOQqUN3uefkpeewHd8mO55+SfVhA712xRDJ4QSNxyRkY/hEHDzxVPw/w4QfY6gd3+YYqewf7mboQ4IJdqeGmCduW3tCDjojRASCaMBLWHDcSZM75IbDohSidYtl42VBh85mAhm2Ow5obBNH4IUwla9hUcnC3vPj4EzKy41m5/wffRVfBAI+O0nXh6dKfgwoXG1z5XSM9qIxPGP4pAg1cJyMSV+MmdX9Hm3kG/SXqfdjcneRP4YPGDfCzYy06KDtcHC1iTGErwYEJG5lLeHOllu2V7tNWSgxncxSgQRnetVW2fe4xTKZJLPudKJecd6n0nniS9JxwAtJBCMOSXwxaLH3/hSfJBUb3ETBj/Xf5+bCFt4kgr8Bo44nce/8FtrkU7A5BnVo+1tcg3nSLr1zFSoMgwc372FcHAYqXmybY5quy56Xn5Esf/5hcc8HJsro/I1m094kiJ3NNqkKW1jvvddbFpkq09+W5mPSjzp567GEVclP8VAIeHk47/QwIVUvkkcd+DBkI7V3ZczySL1WwwNZlQsIEjdcoXu3WjyejHVDrSgE8BgG8p2+ZVEZ24hwpasUgbOGjxAVodUuY0HhYoNMmkzYvEnP5cHLiHW2K1MwLu/OCOLCOAsMjQXp6sfTNb3WgLMo7y61uMujqx5Xr0DOsfYa5ghVyEwxhhz7jozAHN/4DB4whcQDi2hke3NA3SqUR2YNluu1Yan7koe9JDMftJVb3S/aCk3BGGs5swupDHlpUvk2tAhg6kg5FrFetW99O2Trb166PRXjoVhM64Be4ScPM4UegPtsc/rw7y9G34ubYOiM3e87l3rVADrBJrGMXcfYD30gq8xAtTDhxzBYxPAnvf2mrfOe798iun2yRkdqYdK/Hq9/n9EsG+0IqeH1/AgM6DlVC53CvdCsnJM1ZgP9BC1drSmt3PDRwH3ayui+mnXonCrynkPLRwwHYe7S226ZvFb2BJ5dyxvSI4PnWqvQJPCDMJ4jjjlcAFnwqh+Ygj6e1OA5RTPAr3n09IievwV79ogzhW0i3P/5dqT50r/CFwmx3l7zymmtl/SmvQDq8VQgtQ4lvlHHihraKVaCDFoQNzYx5tjOt2luU13bp4O8GWBeBULla9QVuTKi+iNA6FHHbBgR0GnjykZmjn3CdH8/tSmD5TkfaCjVOWKKDxEoBig8JFWx4PYiPez77xKPyxY9/Qs5em5WrzlknmdIotDaoCkDGYyzIkAo+SMeykTrTpzGZ9GDz9pXnniy3fu2LcvHV18vSpctRhQmcJdYlN73t7fKf736PHMQyoR4wCX8aijSeDpd+SXsF3ty897ldulRCPZQKb4yXysqZ518kt33qu3LxmevQNHBsAwTmOM7LEbxhODG2A3WO5V3wWcGeohQuL4AwhpuiIAwCGy7laYNwbJCVI2q4LMRxZhBfok+grbLQxJb8d/6gwhQ0LO38je8CtD3l+VM9vBR89/BlmW3uaXwNgocrUiNKKbIHn0mp4TiKGk4If2nrU/Kd739dRod2yjgGlyy0rz0Xb5BaH7Zq4EE6jzrlW3Q83LEKtbsqPcGAa39axahf9FN2ANaZ2o7Ddni3r1n2nc5KF43Wnl5ntCxWHYGjX4gCr+410TrTOlag5czYQXwE36MiJKJOiibawPCEm8GTbQz6/hremihBXbtz+0/k0Ye/I1txsGAZa0W5lUslPbBS8su4CZAaKhwlz6d6UMDDd8iTb7BkQVXzQYdxFkJ9hCgjcFOdO51pk2xKkk7jNSecKX8fvx39dukZX6uhRV2wxBRvVAihmhtGv7lG7IgvXk2vYLmulsFSDT8BgvEnNYAzssZwejv2kuzd+ZJ84dMfxWvxq+Sci66WU049TZZgQs5BwKUwVuNbkwo8aloZ0SzcD+6Zv9aTyxpVE62DwDOSpJ3TpXLxHQ7e3SIFIoeUlYEWcbyXZydM4ANoRz19xHo496UVuUSKs8lqOKSVp/HxeIkiNvgP7XpZDu59WR781tfl+R89Kq++5HS5aNMaGcBm8rQKXHyHDjUD7Lgnygk1QY7kHw8YcWyySuDTKueesla+eM8W+RGeyq+57nXajrlJehP2Sb36uldrWqZ0S7qNCLtS1OTUU0+R+/CQMjo6Klks2+kyN4pXgUb3hFNOw+cs0rLlhd1y4SZshK9OyCDagGDj7sc/8nvYwN4rI9Veufldv44DONc6gaQOAyoZDBMehUh/oqEL5/akw7ymJ803UNevX4+T1U/WDfwutqtTNtlgZAqIROt6errzCWUu0Ws+tI5UWsLPVuaGm6m4hT6+vqKMIpDaUA5FiVgR36HbJzt27pd9O7bKg/fehTeud8rkQAkvCQ3g4Q7bCvCAV8F36HQBGn2CH+Kt6pHfeGgBA+5YDTiRlwrGWrGuZjX7gBlajfUdZWo6d0BguihBWIdTYgeULIpH4KgVovxcGxWgfHtnG9TBELZvFL5AndrRZqdubhIvjOM7ce4TK9/5z/vk2Ud/KPsK+ySzHF+2Pm9QkjhUsoaNzZPYJ8K5hfyw0buG7/bjJLgJl2Eg6srA6ZTaAXjSMJEy7Uujvu6nhVck9NA755v/nNO7wY57pbispxjRAmw1eMZq7rMk1KCo4T61HHDuwRsuCSz7bVwt5YPY1LlzRB59+gH57oO3yUqcrr5q46lyweWvlsETzgDmVD040YZtSjcXoyG5+oO2Q3nn0yF85lwOx17017fjqN/CuckormkyKUGj+uUvfF62/Ph72ABZwgc3oXka4QZz7I8q7ZP+dFXOOWm1vPHtr8QmcWzUjk9gyz7fXoPAiqUv6EmQB3sIsaf9/7P3JtB6HVeZ6P7nO0+aJWuWLNmyLdnyQOIkdpxABickISwgBsKUhPfgQbMeb/VreAve4q0F3bDo9R5NA900TUiI09AQJ4BDEmew49hRPMqSZcmSNc/D1XR1p39+37er9jnn/+//30H3arjSqXv/U3Wqdu3atU/tql2zSgtsOsEraLRcgN6FQ3DetmmV/MsT/yDvevghjK5QcRVZtnyZ/O7v/o70YFrPnTXmolIieN9fCj/XuFQki15IV0tF9qDDcufb34ajEYiZmwaS0osDXN/xwx+Sp/7hL2TtirulM1PGwGSX/MyH7pXTA8OSwZTif/uX5+T+h96HU9OXkCsRSvnGFM3UhprvlO0IKxiX5cZxCE98E/5NZNIY9b4dZ2ytvnWdm5IlM2C0jmsW34FMhHrS4Sw+VoSMYrMnjeQ6BHR5osxHv7fLmdtiQOlBmA/WHZssj1js3YJrroaxQHzrC9+V/a89I0fPY7QTU9w5XK2SW7tcKriProQRRJwvC9EgFsgLD3qFvOiRLFybx94eiMDJbPhxrkNflVMsG3yPzeznwHWnRGkDh9pIC1yUv9DsrdDp/DQrRZWSSYi7topBbBRn7q7DkCum7hIYeWptx9WsGKY9d/RNeRVC89qO1yQ5B2cfLe7Fmo5lUmpBz53Ds0iqWsGQLtxM1YSzonSgsufwLUdMNMwTz0pRSfTLx30g1xvUG5uCqPcP3oHLchH4zaBjwvQjaTWaamgWvxEs143RkA38PDrriZFzddBXeUoL63fQsGsb7jlOTYuLyctYb5DHT79GO54ru1ABVqW72CsDZwfk/Ik35Y2/2YnpqD65d9M9su6uu2TR0qXAlZbBPJrnJBp6qAxU1Nz6IF69SSLIZa+w0a3lB14RuvhG45Qw9zH1xF7n7XqlgFcFgXBwsGHU85a0IGlkD+3dDk3oZ65m/gwfLwzBeZxBtOU735C7l2GBfnJEOnGNS+9tWFiOs7raMXLHMVQu5E7zKAPYuiaQ5UxHBJF3ZqDeeC+WaD1qDqMp7IC8ff0t8uqOF+Stndtl3YZ79JDALE7ZX4QdgHrmF3Dyj1+e0szrFchvjtQmUQDmYHpu7Zx2efk7X5UNd98tyY4cdneWdGNfElPtD3/oR3Gy/xn5D//l8/LT790k61Yvk6U4lHDRPNCNKb/ejt3Axy8CpgAfyVS+o2PDaUwUDvzQmCE9NxkJ63KN5zvTcLmqRTTBZ4GSmcbSgTLWqy2QD37g/Tj2hBsvnEwQk50+Y3hQY4H22jQcXH3qDijEVBvHUHjxQrkPw63Ea3EHIEfWr3dDEi0vTk5DojWMTNO6xuXO7qRzV51wpAnlEUpTSss+dkle7Jf+Ewdl2wvPy97XX5HKgjaprsSyjQ3rCKwbhUa0nge+gHdIgxUY0mLZUgUYGx54Cr8rhK7MuwiODnQBNYwoQhELEMJ35o1SeGWTmHmiZwHG606Jin5jVogq5L7RCcNYHBiqVtjG1TAc0IF0OTgtxIjE6pWNczZXkYvYVr3jtR2y7aXnZWC0H2twsHtp3SJJ4kb6MubBy1jnpLv0gCIs7K6CZnLOpZQoHP3MkF4XYj4T2GECDQGnhKshhgk8J0h/gthRBk0I2ghAv6/PpLPsG7OXVxvDKn/HYwSyE4hvVcY35+6rDE57z/Z1SQULkUsjVdmyc4u8htGYuR19ctv6Dbgo935p65mLMRdMdaG1KGoDy9O46xKqTfYy3kih5kzjhq7LQBWNYi2dMqY5Vt35hat7Nq1dKgvSI9KKUbwsDkqF6gilCYziNB1/qli4BCg2phCH3GAa9elQNhRY1w7Og+zcvWaebP3+c7Jm/Z16bQubeC5FIz7+OeMaFY7QUplSliP9VnyHtQu75IVvfVcuHv0paV11G6b1sLMP34Y6XRpHG3zwsU/KkuVQ1r79z/LVLc/i7kac6owRyRQWsx/tH4KSyrVWlo5PTq0wJ1Hf6bqZUogZOcSLy6flN4SIUlWEAsXpzg0bbpe3P/ggvgEVvGbURGM2g5m8vyWj1aO9+OiWktmTx3qNIMcllIEYc4K+4r6J68hwFCqFjSgpnWfL47iZITl4YJfsev0NOXH4sAyWBqWSw7o7HDabhlI/0sY71FAXAZ3iYVkOyhgYqIx0+dcT9lWDDQnjq86oBHHo4eDr2O884+es4sB1pURRIWGFyoaMazBSqDnT+LGgcfQpKHksxKgsteNGeLjLOOOGhgtpnXHw2hNF0adxbvRJsd5pdPic7D+wU7Zt2yKnTx7A3UQ4xG8ZLjxtA0vQ6+UuMT1i39NEGjT9iMCo1zgPF2ccgLqgqcLXRZ/263TTv9z4ZGkY174fsuM9w7CxWQzCGI0/NNjYeMx+HhrxjCTbOe6YxBkt2C1zdkiOnDkph589JFte/J7c+8CDsur2jZimxdqGNqyfYmQg0TKoSgpefdmha0LDjCj5oGpMOTECJ8Ri2Q4AFWXw5h3GNE2SEAEnat3wTmCRRhdGavow5ZXBbjoctoQztni4prYuTi6iFXx9WsxUfX40OabreEYpbcVe1TtX9MmffemL8uGf+Gm9L5EjbySN40POOJvRXQeEDsIAAkcXrJzfKZtXz5N/+Zs/k5/8tf9Tehas0O/IuCnIZBdOHn/w0Y/KHff9kOx7c5ecPnUS67t4KnlafvK+tNx6K7eTc0pFWzJNhXGZmn4cpVs9pv8ArijbLIdMx/4sEcLxx7LFXwZTQUuXLJaPfPjD0tWBssf8Y+SCddT0jFFxeXiCYj89Iq6L2OREAr2tBHfu4iWZxJINHLSKMT90rkalHyfgnzx3QLa++X05iVkIrIKSJBaJZ7pw3yfOcSpDaS/iFgnuzGb54TedHFf5oZm4s9QxyZjXBeNiIqbEgetKiaJ2zyqZ9QhvY+d27AzPl6E0oBC6HjOc8GCFw8XHNElsIQpGJhwwfBnGign7K9BwsPizQh8YuCjbt74ke7Z+Ty6VBiTRizOfNs6XBJQo7OZGFCQGHMRn67E0FaZV35AAfEJD2h2ZE4LejAA1rLkc/kaZZsjw/XAfrZ8ugidahhQOheQi0Nal7VK6OCRDx8/LN773T9L64tOyZMV6ueuu+7Au5U7d5VXSQw9Z9WnBQwpmRxNr5GahoT/hrRE3OPox3Gzzr7WD6FFvy1fUz9OkZ18F4UwTPzccorTQqYN08E7y6h1MXXClK3UblZmGCdYkhBfS3NgwuooM0s3isuzlfW0yB5dRf/+735Z3P/rjekiq+6zA4WWTioJToMxmCm5krDOZl/fds1b+6p++J9/50uPygZ/6DO6TxFEXqBhS2Rakha+CKcKepavl3ltWI3FQAIWJlhuF4oQk8FpaAZ9IqGYWdYxS3ThDk/UlCs8WWqp8OPTqHeWYuWlrNHT6OrEQ/tOf+hSm8j6gU3vKG9QxBmtkKErzrJEP8zRI2lE/T0w0eCK30W9RzZ4o3rUMJ43RbNfQgjKFcK7xTiSL6JDzEpVBOXRgj+zZsVf27twqF0r9IvPS0rKKl/uifGVzUMB5XArKkRYqfltOzVG2vPHlyF5Dm4Tgp+FsySyO9w8B4WI4DTMwGxitxMaPBhyYUSVKiwJqE6evszBZil6DZ1lSY5UFbMC4CpQHWWKIFTtxeJFpFVMORfQwS7hJnotjuV6D9aLrrfEeOQzJYghfz70BXKsWfhRbnsuhSRMrlDIcGJjKDcsp3L21beursvv17djRdUFSiztx2vF8rHeCkoWTxctYd5MoYdt0CXd98Y904eeyMBM9RMt7bF8JDuj3sjrLJ1BBDeoqP0zpsZRhyiQJv0QXlPPWXmlZioMbL+bl8Indsu8NXAuy+Fa5+4F3yYqVq3HHXyfKGgssm1wuDA3LsJYLlkVXOMLsRCtarUAZv4lhUDT+OKBNMLhyTjoAoNSNIcjF5EGWaTTQzIkmo40CFSnE0sw0S4H+tYS5tJy3kg8cbkoPI8fYrdqNFuv9775L/u4LX8BOyYdk8dIVROJMJL+khEocz22qcARGaSvz8HnpxUjwR959t3z11RfkKzhl/Ec+9jMyd/ESKLhcu8apQDZAiKz/kFXE19FrvLt7FgnBQPfVGIM/rRfgx7+ZMlGWI0VPmcPPdzNsV3nAPnnehkXLP/OJT8jHPvZj0o67JLViAwBjReNY3EY2FUUaras8gMuZ8/deDa0gjXpQBNAr0NUIWA/TEOPV9ARRLLdGGPjmyHSE8ulCnX8mVcbGh6KcOXNY9h3chutXXpWjxw8ACJuFFvbi0NllMpLGRdW8+Benx1LZQiFSnAnudIGZLAsIpz8SFDX6zsqJDgusq6yi8LF7VnFgxpQoVm5O+CjWbtcNCzP9ubuGRYYLgVnLZFHZ8ggBrNeWLBd3Dw/JpTNnZHQIIwSXzsnFiydxHP5FbDMdkDJumW/BmgjiYq9CRQS1b4oFHCcQl1Gx8vLRdAcuwO2cJy1d8zEFsFTa+hbBPyfHjuyX/ftelp27XsdFpRCQnhbJrUDPth17kCA0PFGcFVwVPQ9tLIGWaTEXKqhOIwsrFlKgdJCW2Fy3HEDZ4ndy1SE/GMoiRyzgQpHUS3lTGMFMZtsk290i6UUluYDzkp7+1uNYZzNHNt99r6xbsw7ngM3F3EsfLgpFaUBENoI0bLSdkym4AuGeGlwT7nzY8PvGHzHUeMu9gMK6d/OvtWtS8Wgq0lLBBae6SBu0wcVzspjnMsp8gZsy2B1nON2QR0I57sBuki5TImwKnZskRrA4EuxOha/gDkREAxoqTjqihbQSOEEcJ63J7ZgWzxVOyIE3fiALFi7Uab1oIpqDUdBTyYE+/BBLF66Qp8CJyXlZ2peVjzywTJ7dvkU+9x/flAfe8wHZ8LaHpbV3Ic6NymH0xnMTtLv1RFQS+X3wrlN5mJLHLtoSjnYYOr0bJ+FfROeMhySCxib5RXYnZ+wT0AYuVy8xqmva3WQyeI18mOJKujjluHjRQvn4j/2YfOqXPoXztPo0vQQabY9K36MPI5Vl2cpZNNzFdD5RdxSm3k2cWofR4ROmpT/4RW1Lvx7HtXynSsw6n1dvpfHjSfwlbBDKc1s0/FtRr7dht+jwxTOyf+8eObgPo067X5fBVB7HyLVIC3bzVnM4mBd3dubxYXjzQZVTdjaiSV5QRLTVspw67jfihx7NAqaxJqgxvq4gXhdEIHI3NjcSB2ZMiWLxUcFES+Am5VioXDG0e81yWMydxH1bVShL1eF+OYfeQT+uS8EtvVIZPCstpREcoc/Fr0PS11bCKb5J6cZZMEt6eiEoxErcNBi1ghJ1nmcEDV6SfuAbHEjKsHTI2eQcOYxG70K5S0ayvXL6fL9cHD4hib4Oyc3vkXIbD+RD1eZqJeBCBQ5cxEt6vc7kCj08ND3YDKNx6Tt3/Lx+OGDfLvp9tFJjpWWVGUoQv6R+SzihFmBqCMFYkJ5AuUh1wHMQ5ersCXnm2X+SI3tXyOZ73yWLlt8lbdkOTPeyM8AVFSiJWumOqTYNu6bDtFQmakqNpxDW5denzAHxuIo9iU5GpoITlEcHZeDCGRnBTlOuH6KiN4K1f7wpvgplqgq4Klr8MhsgNjigj0REeQbPiHEhaOPBrGEZxf2Ql5DvFNKC2oYR3TOQS5w9VcXdeJoZqG9QVNqxC/Dhzavl9e9/S1auXC9d85ZGvgFwAbYyjMW7Q4PSggbM6gsSQmqYHJo3WT63Rd63eYU8t+O4bPnq47Jz28uyeM1GWb1hk3Ri40cGZ/PkMLWnI2qKFhsEoDwWcBXHMK4OOnXyhJzYu1UGD70i8zD62N7CM7LwBTHaPeOGRPtGlyXMKVLwRNnj+qccjtzYcNt6+TGMPv34j39cujG17E6Zd5Q0/wZAQTQEawI0WeWpEQpF6fEzC9EfleMgbUa+LgwppBrlRi+rCWrzmKrjLl4s1M9Dcb54/qy8dWSX7H/jFVwGfxB3c+LcM+zibJu7EEcT8FBWnPEHHMSkTIWDU3aq7KBs8o+l0ClSYIIDVF5olOhDGejKbNTbuRnoIxOnOdVXI46NEvvMOg7MmBLFKQMatwCcBZyX6aIgovJOlPKSw46H7FC/nD/wphze+bKcfOsVjDBdkLXL2mXDmjmyfFObzMXJ1D2trdLZMR/ndGBcCIJRRoWYS6LXgMWB2tN0iWB0i3dpQWiq3XoLPeeyzxX65MV9Q/Lki3vlB0/tkPTKO6QLBy92rF6lF0CyR17iyBN+qpBFhINtihZ5K+h4CYq5Bmj24sd1zgH7fCGZ+HhjPRHsPC2IZUJwDkyyp01acbwFtHPZdQi92J275J773imbH3xEch0LcbwFp1845RspH0FixBZgDHyDchT4eEfTgHrA8d6ZHhQD9Khf3vK0nB8u6+Ga3EJPU4FiNXjiEC7KXkSyQTd77o5OJq9rh7zsaoS6B0987+xok5PbtsuTn/8z7JZrQUcH0+tQCs4e3yeDR/dKei2OI/BKGZXLFszJ3X/7Mvnrf9gif/8Xf4ipuFVMNdBlMTaNe++G5cSuLbJ57ULJYFMIO0kE0E4MyOP6xSqm8edh591H3nmn9A+WZPueo/L6Nz4nX/38f5HRbLssnNchK1etkhzqDRpelHzyFK5lOojrYS4N42yqnNy6pFs2r+mT1Rvvlw6MViSqo8BN6Z85Y7hok26e1l7F4vYMliW0QNGbv3CBPPzuR+RTn/60rFmzGkxHHaSa6QzRYARY0ZsmWutImm3op4l2etGNCOSRt0i0YFaDo09lrKHjrEYWd9eNDA/IG2+9gfWuW+Tsif3SMq9Tp+w6upfgWoMsFokntOPETj0lQRVE5wxp03JojDTbEg/BGroAZjHGhtd2VmrfxkLHPrOHA1NTorTw+WLi1PQgpyWMw5ew5iSBCjSLnn0WBRxj6VK8cFqO7XxRDm/7nrRe2itz5II8vL5XNv/CElk091bc44heBU5S5lQE+4e0E4Ke84iuYpEs00Tvkr02XUQLGNRT+HG4PCn5UkZ3V715+Lx85aXD8i/bcHM2Trie88F3SnXuAnSSMYLACpnNB+cKtJhbUacgARn/MeLKhpSQDGWbalChw/sRPggEcGxmIQdYFpyxerOKowDYP2XJS2Hksr0Hl0jjIMcfbH9Gtu58RX7ooUflzk3vwJb6eVBU2EEwDM7WSjniFaYAT+3p0geFR2WH02szYzCWKvdtQoeh75QMDO3SBrqCxfFcH0RZ+dWPrpMerDHkSfwsuAl2bOBPo5a9OK/gyfxw9Pi2hW2Sq8yT/oEDUim4TF8arsqq7gzO3bpDFnd34uLgUY3Hc9cYpwcC9csfe5ccPIpp+uFdAU7NPhLl2sWH71go65YtwqgyRrM44wFiExA8x1cA4b/Ke/LyF2UhRhn6bl8k77h9MTpnuFoDG09Onz2DtS77UD8QFnGRyoYl7dK74VbpwkgPlSuOOSQxus3zsJJI030TIq77eCGFk3YxPRpDxQXzXZ0dsm7RUpm7ZJWsuGWR3Hn7Onn4kUdkBZQ9XiVVKeRViXONqKMZtY3iIT7DqR7EbY6raLPuo6FdU4ad97V7ajll/cz1dzjTDQrUyPAFOfrWm7LvhR/IniMHpIhLzdsX90nP8g3YXYfz/VCmyjpdh1jIjOM7+Mw8ss6ng25lPh+Uj8vNtX09s68dq+KUrx4HpqZEebq83uHeWABhONGBSQJMK+DwytEBGTq2ByNOL8r+V78la+YMyk/etUI2LFwut3Qsl84s1kNlcKYLpu1YAenCVNhapRAf1p+wYHNrOgs3izS3qtLoE48K1kMNYxrhAKbxnnhyuzy3+7ycbp8vldvuRacjI6XuDgzd4qA0KF9YW450IBzo/THDFCQm4zCqh2tUmCw81Z+E0XjLvbhnTdxoQOyetRzgN6feryUDhUDvvkLPtdqDkdG71uDy21F57jtPyOHd2+Vd7/1RLEJHJa1Te2OzrEVGCwni6zoLKgZUmuDJAjaDhti4BjGL0Y/bsdYP2omWc7QdSA1KFMo/d68m0HhzTRjHiLX1IA0TkcJGC3Fas8C9bJ7G1NTgPYLOTxnrpLKQqSzWpCTR8HC9FFNlB6cLU2atUKT6Vs1H3nlnn3LF2VTk8OOIAu/lS+J6pYAUD+beb5HmzwAAQABJREFUvZJBWQROnnGl7EO8ThzM2Tu/TdbhMMSEnkaPagMjWtwMkMIoXAJ36iXKI4jHlhIVgLaalHxnbATO3r331C2ShlgkMYVpu0cffY+8/6c+Lb0Ll0lPZxummcBzrIXid+G3qOhRLPwyYcqha+rJX6kYV5cmS81//DGZgj//WV5Qt49cGsDVK0flrd3bZNsrz8slKFM4al+ydyySTFurlCi3mLLjelc2GywzgbIEPEzNF4cxKU3WIziKAsgV92QjxnA3HAeaK1Faynx+g7JN4dfyDK2elRMaHmg4aVRcVdy11Y7KaujYPjlx4FXZ/4N/kh45L7/+nuXyAHqPHdBkOjPYKTc6jIoc89hYS0FsVZRynviNKtVVkCjhOuIE9FrYCYOKiEtWE5jWK+Jo/SGce7PvXEJ+sP+8/Ov2I7L1NHqAt94rJdyXVoIQ8fR9Cg8PXkRLVyswXohUsDR7PnP0iBjvCx+6asMIFgW3UNW77IVADUw0XoPg2OsKc8AaL5a4qNGvjG+nF9TC1qlo2FzAyqmrXA9267Vm5NDh/fI//u4v5GPve0zmLVuDUdBuNJ64DqjID88pbFhYe0TjOs7RdBg4E8bh4ZMKFEUVS8l1ZxunyqhAufPSXG6r2BbG3rsjiBb96znQnC5eQpzESFYVm0CoDLAM59BQ8cRxyofuXdTMKkEqLZXCKJQkKlQQRjRmpCkwaAypzCWBI4FDJx1dBDBemc0YcEP+lVrQzQ4V64MSrq3JYFF7EmuiElxEDzDM7sMQD1a8gE5qNppXMshplT6ccDNolFxwGDTNmTNHbr/tNpwzhzIBHmQxMq9cQp55MnbwDZA88+TUREWgBIWukD5duBy+TstF/DWfgtjgwW9KfwtTdyNiCD8tYykY8jBVlR3gxrpwLcv6/VB2sNINt0uM6u/0sdNyBPcrPv+Dp6QwdAE7bBdIy8L5Uu7EhcEoT9y1zU/PUU3mRlMB79XgRX0saefrYOg2fyMx6lcPG3BKi5kLDRoAIiISQ8hgTwudsbmhONBciYoUgKBM+bLBIsk1SawAUjiDiVtIU6Vzsv1fvyj7n/+m3LUiKb/58TVy66JFWOo9KK1VLEDlGgB0DKnBa5Fmz9VXbFqhs9fAH3C7RgGChJcyKkRe/FvBjpzRZJucL7bI339rh3zllfNyMtcubTjbp+WOeXIRZ8iUOQwLSVSZAdFcWMteAoXTRmidPCHFaPnWT0phdQLBipeVrvY2WLuocChQ8LDo5E2AqzHomDiBR+y4qhxwKoVL0nqP9v34mcvsDGjlRxhXHvg6gkt2Cyjn6e5WaVu/UhKY4vv7z/0RDuq8R7ff9/SsQJlD+cM54NyuL9ihpndpeRxWVqwBVQrgybSnbmpjsexxMXfaK24sjKbPGG6NAbKUDry4dYuRcmuAdTZ5kgRuKoUJLNhVPHgoHug+nEbUB4WKAsasEwg8yOKYAr44idYYeA8NZd5XBIiHcCYG49ohvBMXjH4RjiRFDCEzGGlQg2k9M04OWYOQJ3g4lM7hvLU+YHggs3yZqiHeIEt4IdFQBrkOjaNznEYt8x0fooKR+aCsacPuIvLIFmdg+w9mPrXkuExoNVQbcNlvTMfwebYrLqakPwWIsO+yU6qPaCnQ33LrbModZYds4YhmCnzLwOZyj9H8OXnjtRfk9Ze/JydPHMQ6p24prO3CUSU4ogYjU0Mc4WNJQ1zNlypeviNDDyaryYQyTS819AeMhigM3oNvQwhAeiZZsPrWCVkwMhXkK0iU4D4N54yfNxYHxlGiGmeURYO9SPbYc1h3kcGOnbO7vycvPPVZ2Tjvovzx/3qb3LKgBWuZBqQzh4YHlVwCZ72wLqbRgqgFEAVX/VxxZh+To1Ksi91IFKpZvCdTuD8LI1B7zpbl628ckf/5/G45meiSzk2bJINjDS5hqLzMystwawpAwoQgDFqUUakFAoC0Wed5uSBJY4zCUiLNOBI98eYZ2zcSB7Q8sFxEM+W/O/2oiHNTQgWjHam+Vul45B5M7R2Xx//kj+WDH8FVJLdt5EAUDMZltNHnCAvKNAo547PM1WGnx4wYNgH8TWQUZmKwAA07IY2MiQPDFILyHDQ8cAfC5eSvEY4xfkF8F6JpIP1oWmPiXI4HCZ5BpMw6UXINGqcTsRVGFSjo0+OYxnxtFGHykI1iN/YLcJIPwUst7AyyKIIYiVlDoL5MnD+q1NjFWMbOVyRcwHqnUmVQTh7fL3tffkle+v5zUsSF0+1rFkvPrZskjytZUtiRV/Xnhuk30Hz4j1GTIgI0LOIJp2+OfLGdem5DpakWb/x283Fg8koUyhnn9Fn8GCmDc2lO7XpJdn7772VBeb/8xvsXyz1YJDq3FQtBsT25gnUQiTyLqvY5tbPFOtkdYOgYzcLvXa5Di4POqERhgxG2nbehUsrKudE2+dI335Jv7jomF+ZgxOnWe6TaiSMMuuao4kTEetieKj2UlgCpQ02pVC8qUnAEAlUHp9BBoItrz3pvRq33M9jYnh0cCBp69ymdvlBXJiLf2EYzeRI6F56XccZM5tYlUjo1JF/55t/Lyre2ydvf86i0d8+FnODQWPy0mFj5wyhEMAJEDs1IGYoQeI24XsexaVPheObQzDRuYo3inxaxdcS5blqj7xH6ufquLuK0iJjhyCCVumygz4akTz8hRUqE7kex4PleaawjI1/KGO3N4FqW4tCAPP/MN+QUzvY6P3oaSlVBcnf04ogInCbe0SJDWSipnF/GTRZqLpOdpIJRXTVgKhUxkjDa0zVRnNPFFce/njlQo0RF2hUtYDWEo2BVMVQN5R9nvFyUfS9+Q3Y+8zl5+5qkfHjzArlzSQYLP3kTPNcncKSKsTE8ixLZqJyHCpQrzITOoKdfQMShVJscwYLx1w9elCe3bJfXL2Bk65bbpTR/roy2t0qRp5MnsdWcBr3+BH6cdnA95wapaUPGDDBCfTjf+WOgAsCemonybWoxY+hrxwFXDsb74lZSrNhwrZ1NMxW5zqg1JamFKIctSdlzdLsc/59H5B1QpJavuE3aMjgmAeePlXEAJad3uBuNi6N1DRM6IkFDNW0GkDqjdNrIrgsEVzo3M4G/YblBpca1aDqjy7EOnQqdGZY2TG9mUF8lLMwBFQuqm259GG2uqBvBYcsnjh3BXYivy57tr2AyfFQyveiE9OHuyy6sg8WpzLrUAzs/qlhjN1P1bXOezkQJuUpsjZO55hyoVaJYxIPy4xy8hoFLFlj5d6DROHvqgHz/yS9Kdv935NPvWypvv6NF5iQvSCsOysTcG6Y8MKGBRoMKDReWEov1wIibBZdipNdvqAfVLCw1h3skn5SzxZR8fftR+crWfnkTilQOh+u1bl4rA3lcAYNeC9fvVtiaYehXsbGiYiKcNolqZvCiaS4o9SGX0XPw+RknEUdE/Jy1HFBlh9+ZZQwmKGJwsGJPoILPzGuVFLZWnzt4Wr72xOdk44M/LO944BEoUtghinErlnc9hwq2U6JY9jxCxXr5D8UCOYvNVeZA5POF3KeLa0WdsuDqp2l+a6TDpLQMqY2H84Dj8oyRzrId0g5cCPBVskM8hXRMPoyioJOgDuMHOhFcu4cORQt2V5690C87dmyTt3Zsx0XSx0Q6sDxkUU5aca4Wr/3i6G8RB7eW8dOpcRU+EgVlFQk6PluKsR1z4NpwIFCidLqCQsSiicJKxYYmhcKKgVQsDB+UM7jGYes3/lI2dfXLY59cLKsX8OTjC7oAUGf6FI5FHPBBa+ME1S3wdoLBw86qOPQuiyXpiWQ7dtvhepZ8Qr718mn56ov75c0RCNqtq6V822K5kO0GLBoiHFrH6on/rkeD4xHUx1VSpNmmSxwM4XT1FioG1hYuP/StNYzvqxIVeO+uBap9I4jS4b3NPYmotYjit+uZA/ycQePAFxRLt47Pf36UuQpGHgroPCS7s9J7V6/kT56XV575Fzm+Z6d88OEfkZVtLdKKk7JTPBUdo1duZLa+AF3PXIhpi3JARdzLO+tMM66caIlB4aBtigMhCBgBplcDw4Xpo+gspjjcD8MpLF6GnUrhcnQeUYHpr7CuUpApP4wSrRLxwg4yaY9SrO/wY/7YiZ7QABnjcM8ljT5BN1d6t6BzUeKVRJCTCg5OHjh3Tk4dPSSvvPgtOX7igEgXrlzCTRIduMe0gk56FReF82wn9LKBidLSDuLQAiEBLttw2EFUpH1hmrGJOXCtOBAoUSRAq3iUX2r4+kMPl7skEiNDcmzvFtn2zf8qP3xbRh69e7ms7MtDCRpGHE5ROKPTaSz//p0FnVUJjckilTKeQVCotGOYtk8Onq/Iv247IN/ec0KOFHokv+h2CFaXlOf2SR5XV5Q5960KkKXi+mQ8GZkipoLGIF2RzpRoLFWL43xrnlrR1fjgxais92/ybugtmr0T3PyaRI29ZxkH7HuazW+Ngq7bz1n2qExh6i7Z3SZtq5fKqePH5R+//AW5Z/lyGc5fkgLWfGASA5MXKJvAoWii5WUcdjQsquPAx0FXngOmQLE6o+H31M6afiy80dYRQv3SCjPRY3hoGFfZ4PohKFMDAwPy6rZtsnPnThwo2i8X8P7dZ76LU9lR7+EMLt5jOFN1DEm1okhqtYqm7X8WNoZ+yysgCeNqexerhCNvWnFKeKI8JIVLJ2T/ftxfh9+Jk8dlCFf+JHDcTfvaRVCcMGXX2wbFCdIBfMpX5Zulys0Z1qKYH9Iz5xiiYo+YA1eXAzVKlB56CYFIYcg1hZOC0xgBSgz2y/6t35WDr/6zfOzebnn/3b0yL31Wkri2gcI2XmGmKsOKhefJcC5bFwPi+pbRUlpODrXIa3sG5GtvHJTvHrkkwz3zpX31Bhya1ifDoxi+TfOgzHB0SXdDqODAL+ARXeGP4usqrxAiAG3q0FhNQxthGj9GU1RxwA3GAdb1Vv5ZPnm5bRJnF6V72qUdW68HT52RZ1/dIt39Z9DwQbUvcCSBJSouQTdYUYhkp9G3tToqAhaUAV/DoCClcSr7+Qvn5Y1du+SJJ56Q3bt3y1t798rIKJYyYOdfEedQ0WY3MogeRTkdt2pSbkSJ5Zq5MGVqTB0ID62FYSscFDpuGEpgVx0uHcLOC95MV5Bjh0/LCVwLdOjQDtxhdwSXyuO0dhxAmsU6wkzvHAww4eDM/DBmIwCPITFVxYCwPr2wxq8PmU6G47gxB2aGA4ES5QqqK6S8RT2HwzBT+Qty7I1vy/5n/kp+5odvxZULbdKXOQXlCgdmYgqDEqTDrBFaosWcbipQI7hmopzCkCwuBj52Oo/j+Yfk755/Q7aeG5L8wiWS2niX5Drn4RZuHJSJs/mTbVg4DgWOo2AqpNoT4VkgTJJSxp5JJCUCNTWEM1hi8Ma6kHzVHpUFjLWjwdFoStxY8NjnJuGAdphZHFG8tJyyWGLaDid6oKfdgrv2luAeNZS5g2/qadYJLugLCpCVSWPWuIUYQFOFN7yxfSU4wGkwjppY3cAyUP+FgnT1m9eFWkSUHE7X8etTYfrLv/xL+fpT35QTJ05g+i6sr5iWljdDygTHGGCZqBiNiWMeU4vI09lLUJY4albQM7KwtCNbkqNH98hpjMK+9fobcu7IEWwUyktmbqu0r5wnnS05qWJnHdfNDqdxJASUpyouBFbGmRAZOVF7TF6Zd08vrUasiMaP3TEHriAHAiWKaeiaIizU5ghUV6Yi237wrBzf8o/y25/YLOvnFaQzhUMzcXwBt3mj68AY+GP/wUqxL9G+odBQ3nqa7cRRBe3yrS2n5F+3HJA3TheluHKFpO5bjBPGcYkwBJFXsnCXHefCq9yFkcSBhfxhAqRaxi3xMCo2lpT6xI+YA9eWA1Tq7cwYFk1t7DjqhEaSM9HZzlbJolPAeyUpFk5CIDXeHVDfpFyzsXYFP4AMHU3ihABTcXnZnUqUawirdcEVSl/ZSo0lUHRY110Zw2NjeHHyV598Uv7zn/+5vLb9dbz7E9evTJJ1WOu/O2ptFE7ygNmn7ceI4HZc1z3XPHwWo64ljC6N4pLr/W+8hXWAW+TQge0ywrsQu1Du18yXts4WnK2WQKuBndfQCXmeFvFRPdSRJ6agrHYKo0uhjsQGrxUeaYOoejAynJRBp2SS4tjEHLh6HAiUKBa9HIQniW5CDrrMnpe/Jqe2fF5+7UNrcOfdiLRjhwTvgYJmg8tGMVoEm2ugtDGgPyRB1aoqeiY4H6rEOxhaOmVvf0meOzIgX9/6mhwotMrgHCwYX7NQijimfwTCVcaPRgeXuHODjY8KGbBVs07QtDLz4qUWpce/a2w8SMgYQ5g6uDEwiDcBSFPUluQE8cckGXvMfg64Gpu1OPLiGgBW6jS6/BeNoxutcI0GC5kuStceNwsMga0AwclAX6ataAcbJax8ma1R+TAPOCdpNEakZ++OBSHFMFrQPV0R0lzgOM+ADEQyt8VX2zzHwTFuEOsCww1cqG+4oN/txrWExkXgA0kHm3AzzqUYwHTynfxwygJeGExeMcBXAoTVT++9DZPisJdJ2BncwJDnjmMg+/ZTT8l/+MM/kgMHD6LudNdhEYVmmTTQTZtk6Jv6eBdT9qkrUADQ0MH4hFYFJkDmfPXEfdTbKXSQ0RLgD7zCSKoe7YFRpww2RrTh/LORwfNyoXBSTvUfkz17dsuxQ4dkGIpfqgvfaWkPFpNjJgFTk1XcuVhEC8ONRJoigrX4k8NKMh4BDT4PCkkagwD4ePlSyvHKMJcJOF05CLIeOAgXm5gDV54DgRJFKS1jLVILFvid3PWy7Hv+H+WX3n2L/NCyKq5tGYJAsSCz0GOnEQpugkPNvjLW6zKgBeESGAzxpnnRi7zVX5DtR07JN986Kc+fQc9kAW5rX7YKytM8HFTYjsoDN5rrZZxejigUKkeukqtSclV6zR92VK7wWms0cq3XpN+axx03yUnjjwFvNA5YuXCbKcLyo/6+HKu4QEZ4R5xzOy5oAwYPwxHlTYjJ+Wr7Q08C1wdGI07SrSjQAXLT8EAKhcTR7OVbu0JEFkks4gySGUM8gfhDS0lj9KJe0QXHmhEXNPmnIWFdY+JvabgRkxo6x0Vs+eMoC90wRGWGdCK5GjLx7dy3qgVlNKOM0emeqhkZHtFF5N9/7jn5/d//fdmzbx/uA+QVNiQigg1u0ws0nXETM8oi8Rs4mXtOJoTGIeW1K1RMyYMUlHreUZjA9rwkTgsvjmDd6qUhOX78pBw99Ja8eXaXnD99GEs0sFWit1va5vZKAUpTRe/bYS6ogjneKFXkJRzKefIa71FjfDa/2mzWvhErvyIZpSH6wDvw1kMavtiOOXClOIB5NBZGFkrcxp4pyum9W+WFr/2Z/NR9XXLvyhw2mF5CuO+pkgqFd7v3ONVWSmZwp11WRqnwFDJyaTQr33j9sHz26f1ypqVNZNVyqazuwjk6XdiBgVPIEYfrnbS4E5evIcYt/OMGkqjYxBy4NhzQounLsGsXWKZBC1si+nOUFm7XgGAaA14844aNiVdfHOGIRkl0D0Z1zQobC/q7C1XhIO7A1LwEvhM6lCynIPD8qgpGzXR9j8oj6eeQQZgUaY+mpPTwQTwMtDWKGs8rUT4jWAEDF+sLZ8yekEYCKLDnFA7x5caXMkanpYJdXzpawvQnhckjI8GG2CKajQBVLqlIgPdYUjAF5Io2SkvU3YjCXC4nhw8flr/+7/9ddu/ZI3l0KL2u3Qjc+RmpzSGmEcLyhiu68L1wUaJOMfLKIvSs5eLpY/LaSy/J8d275CIWvic6cpJc1C2tG2+VdBeOqMmP6HSdtiIs4EYnea38Dr3UA9/RTehdPrk2hX75GOKYMQdmhgNpd9s7RpEwx104s1d2Pv1X8p7bCvKhBxbI3BR24fEyVdc6BClW2WPBGFYxxSm5bhlIdsu+U6Py7WcPyte27MGVLD2SvPNunOa8UIZxPUYBwpjEZTEpHJCZQt2UwvEERVTefp9JgHdKDlbY19pYZXGt6YjTvy444DoGrlAkfPkM2mxtWdB4UIGCglTxipQjnI0248GGrFG5IgwNz1vjsTmcXlF1yjdKPOIjHPXxBdHH0YjjPRC3wotdcSTDMORyKI+T1VM4MBRbCHlfJVOjbqQNoDZ4cNbVAUqupgGqFJgvnjjYBewkS4PwdvStOtHEclzCjcg5pVCjTvQgXv6gkVRJL+gbxGG8eSwL0Lwj25biRKjCZpyRPL/0m5gb3uV2nIeXwrKFYenCwY8p3sAApSLMa5hKgCL0UloIyzDS1Yw2psg69X/83d/Js999VkfkbWTIshxQ5YB9KsSoHrAb1X/RVKl8Njf6mTXY4lQlB+WpDecBjg5guu70KZwgvlN27npdLlw8hfsiOyW1qEeyq1di3QdHnERGOVWHQ5ZLWBtFQ72TVGlxAJlBHjR0Jh4zj3EmqIpx3NwcwI2PqNxQ2eWHB2T7N78oa3NH5MffsVJ6M9iWjd5fCdLmDlxj74EGvUGMJg1jjKp/pE3eOizyha+9IDuOXpLiLSulfP8jELheVZ5GuYMD8uUW/bFi5tQGUCiiWCCUnfHjxuGAtUeaI5RvVWp4/g0GT9DxSGEdTBLCRP2HOolrBk0OOH2CbgVfGabeRIi4RAVo1zgjPt5tQa2O8iiYRvCypdEaPgjFTlA53YGras7JE0+9JEcu4CBbdIao+PCWARo2wU5vcnJfr0SZokDYUC3CtD1HMmAKAMhgncyD6/vkZ39klbRhnQzmqzRvqmxGVAziamrQW6ti5ImNNu/TPHp8WL74xNNyeiiDeoi3/DoeNY0fBJhSoRzwvnBHEq8grR7sIFs+pyyf+ckHpTMxCkbgY6lCXJuOKgoB7uYOoq/PHpcx7DtwQL76ta/JAK48McqYlSh1zbFaiGE22uzdwqdmn9m7R77w//0xZhMuyRnsnGub0437IRdIe3qBLg7nJRF6CTcKZxIZi6amdJN+FGpXhl2u3LE5Rt/U6ImhYw7MBg6kE1iblMkXZdf3/1m6L2yVT3xguazpQ4VfwH3k2EmRwPZbtgKssEZxxtMwtuaduFCWV09W5FuvvS4v7R+Q4Y650rbhLsnP7ZYKDhssYQqDR2FyrRSNCRuVKO5aopSpnwXMBk7FNMYcGI8DbEDwC5sLKDso5RyRKuDMg21789KJkZ80GmVefcERqXBHEWUEftzBxxYISJI6RaaiorLC3UjczMHT+9uyBbl9cbd05LTf7xUBClOYeugaSzQVsiqOYLiA6fezhXkyd/VD0jNvvZSLbPicUBq2QFnwsmzYKMa1acAjCSUKHS8V8cqoXOg/JAPFt7D+EVvbMe2fwGhSlZtHyJe62Ia3oY2lAlXgGB3GaFQxKwfOlGXzI7+Mq6I64I8klZBaamrxBGqKpm15dCQwp87wxPCB82/JoaPPoA5j/xLxlF6n7hqcxTCb/gGf4CYlY/mDahTrSBOYOmU9+O1vfwtnJx1z60IRIcAVZCNwEH3EmD9jBLF8eP17JNoknIdPHZbe+TgsdvlCyWDXdBE77EYwylQkD8ho/mBIQVQ5cpsTXJ3ODoOq3WAI3bWqltGuaOJHzIEbggNpHpo5cmiX9L/4uPzmBxbJ+j4MY4/gjChc9iI4dTaB851GJIeRpw45NpKRrzy9XZ7deVJ25jskteQWydx3pyR7OuVSaxZ9UPa6RyE47I6w4mFViT8IlO7mg9uLICDpnp7Q3xBfIM7EDcUBK9Fa0lHuE4kspsu65MvfGZDCCA4j5PZvnJ3DNT1sZXy7NEYWuG5KwxQhp/fKuKA7h/iYbrn4uvzBL75X1ixug6Sxu2IGwKbsGCEWVGNDTrHWBYeV4FaALpnTs15y7asgslBWLlMm2WAiQzqCxtGsZOki7gZHXTJ8EiPd7ahKcPUHaTNiSWoNTc1eoMhQMcNQVGsGa6ESeSlm2qV77nrJF7FBBaM6PLPOst0My8T+oBmdv9H8oAyD7gQXKEHp4cngXp9VFMpWTzg+UWDMrcqTz1sk2MGBSMZPY7Try1/+ilzEKeScBSiDX4QlDsVPaENId+irb45z9YqhD5qGlVs+R3KbbpGLrWmUCyp7TnnSTUTE6zNPJVBp0AyyhmepcZnWPHDolL4aznhBrlw8PGMTc+BG4UC6dO60vPTVz8o71+fkthWt0pIdkSLuOKqk0jh9uUsOnavIy8eK8vWXX5Dn3jorKeyyS63eKJ3zF0kxl8WBaViKiPbAKVCNquBorxPC5P7BP0oYFS0KWFTI8BqbmAOzlQMs1lacWdYxFZWUPtlwx/ulivU8Zfwl0TglMLLCPVJsgqzD4WTCvXMEyy2ehQIBxUFHRKBIFIvn5eXncW9kQm+01KS4hopaRLg9n0RMYPxQCRtEPYsNVOoIVcNojeS6DpB5VVzWpFIhcx0pTh+6RpV1AX4KCy+STQsP+o1nCKfrjWC7dBy9jKN0e1wOI33HN41yFH4Lt3uNq9BIYyPjlEZHO8MJ1gQ0iM5RKG4QOHn8hBw4dFAVY347VTwCqGvh4AegTo/xUHwqngOoNOGdZYp/5H/06fhMXxrY7DTrR/Sc5YYKNQij0jURczx0bMUcmG0cSJ/e+bzMSR2R9z64BtMDJVy5kpABLAXdcXhAtuzcJ1uPjsjRUhZDu/OkunmdjHT0SrG1FT0VCAaG552AwK1iRoGBEwJDq1ZwIFzw14aBAgWBi+WKTIrNjcgBtifuhxapjKu20324vB5roqgcce0TD5RVIaGCgZ++0A1PPd6DbiLBOqLkMGzAY1qwiMtcJYcrkQCvP8VBUI7t2gvep2Qax3MS6qS0XlrDxeQuIULxx6aT2EgNByT4rgvpEUr/xikhoJlhBB3JADJtmJmKGVXJwGeH1dFojbfBNLPHUkIlQv/ISyql+NObGRqg4LfVZI0coHP8r8fLd9IOPmC6toxRrjexYLtYxIYdVyH6ctAgkcCLOKJ4LdEAYHoORRfFH6KjwsoDQdX4ZGlRL3JfHA5jBAJM0VL4mgcjNE6jBix+iTkwyziQ3v/Kk/ITD90iHd2t8vrhM3Lo2CV5bt8ueeHEkJxJ5ySxYIlI3zxJdWLhaRK3iuM4gzJ6llzDEfQqkWkVDzy0cgmYoOLGKsQZ9mowPE7j6z3nHz9jDtyAHHDNBko/HHp3JKbFuT2f27tLKS7C9g2+nYcWNDIUJN8kQ9YSeu8kpC3FjRoczaL8EbtTGyiHoaH/VE2TOECrmKlceLk1zImAZuej8gw0hOfoilcBdXSD62eYU+4poWHOohQ73+ZPLqK3ukbzrOl4hRPR3Igd8zAVrA1g4aW7ImlzGo8KBHiuaOvALTXaNGY7F2njj7lmRBeZikcal6ofwuGUhYJTourQAraRMey0JxejEZbGfsSJHz+goVblznm5FF1ZJICB0F8jwMOVRb47aLrGGhdjrH/sE3NgdnMgnU1DWRpJy3/75zflB9vPyZlihyQWLpDy6rmSnY8D1NpwYTDWJFB4tLLCjpsk1nMk0c1U0WIFCfkYoxSZtLmY2pmMxWh2F5aY+svhAM/d4TpBt6CaTY6bNsPOMh1hMZyRBsgERRsoTiphfaLG55G3vGcNmz20wWJclUz/bhHpP3nDKSaniEw+Tj2kUR80s4H8R2kyT9QccEZD6vGF74xjkBbfK58EghfrHgfBp8EwcIoGiHRUCyNRnHbVxVBasVn6U8QX0O3i8XqXMg7ULORRHmq+/VTxXjl4KpGqQ/EBNis3yeO6JEOdmiHBB6iDil9jDtz4HEj/4ERVXn36vGS650nynnuk0I5FoLgksoyFlTx9tgoNiWtgVei9psR39qpotNrifLgKHAXKhIohHkglkNUr/thBU2Ow9h7bMQduQA6gAyJJNJo8g4myga3jOsrEnV9ePBrlmkqGGspcGUoTYbV14w4+HIoIAXQ/omMgfhbHxZz0k7HHRMbUmck4k9X1PLQNa0Ago3KKEpYGkgiMRfl3vvHnjB+zgEdQDVhQU5uNOn/ASZu49R1u1jlIiIqPdukUaUBhU4wuAJGbGGLQKSzNilHv8OoTXsyfO4bC5c/5kw53cCnpYUwXiy6EgKF6YKi/qaFJ8g28SSsxGS0EYWYdXr7NpGHe6lNT/OSzJ8GKnEvXfZOAvOhKfAJonOb8djjiZ8yB2cmBdHbdOsl0tkmiLSuD6ByXcHR/lT1Tnx+1+TDpoVPD8ERFqpWYh2W9SgGkCDpwB2n1rXvzwEEK9h7bMQduRA6g8YBCouqDygsbE38vWa1A1GRexYg+UFAwqQQHfCBUlEyVznHi1iCaxAuVMMprkOYk4owH4khTKh0Y8Zu8azpMaSoZACwqFlePAJNVKMTugmaIduMAeKwkkkb+zJ8JNjY1EFQq9SuBZoL7wAzukyPi5StWeMW3Ma7GvpOjo3Hcyfk6JZV1OpWiSI6YNIyr070/Xry3C4yfMQduUg6kSwu7pZRLY/Aa6zR8XU1eRAUk6jY+sZKgiYiae6Pw1XrW4NJI8SPmwE3FAadQ+CY1kIc6MWnKEdMZKIfmDoWMvvhFG72mmJoHsAGdLD1Mz/Ji9BhtIRnE5jCGDfJU0ghppUITYrO6KerjYZWIMN7luDQ/fDjSHV9Vo2qOTXmBjDN5zT/i0k1Tk2P4Z3AW1epVq4XXvoyO1k/rWaIubvhs5k+IaJilGsacumssjiAP5IMPHgs19ZTiGDEHbgQOpAvtOK0Y49IqFF5I6i9V9V2QsfkNa0wfRoEOBW1shNgn5sDNxgHXyPHEcp79RPngjienhEzcFLnY4/BsQoBx4l5WEGlGszpG9omMxFieHGEcNXLZDppiAk7fKFL2+qLTREhT/UGDaXeXkRKjutEu4gMCl5UaTLX5B4AqWjYC5cjQqHx4k8/nJQvlac2a1bJ4yWIZGhrUO+p4TpQaxyjnZtLqj5IC3M4dQaZQDQgL+O/QTPnpk3A8QGxtEyLpmJNw9eRYYs38LTy2Yw7cQBzgGnFfyYW5CmSZgkyhsV8I0sRF6WGlVv9rAh57xxy44TkQCo/K0uSFaQLOEK9vyVRhiAwjTxBzJoK5maSi05TsgJm8e3r47jIbScrCYDOMr5MxzKY36mR0vutxB7ZY3wAQQv9pKFDERPLcKdx8ixDA13EN+UDq7AdnHS0V3ALB9VYPvv1t0t7Ooyo0NwHW+neHy/gbtYMosSPmQMyBa8gBrH6C0QqPLtYezqJ3YCJ1QrR+cOGoRDmSpassayuEIH5NJRv6xq6YAzcHB0yoaM+0icrcDOJXRQf4IuidlxtJsxEgN9KENTSqLDhgUkGVjlUCR2wYpD9DFtQ3k+RFBN6N4DEFQ8o0qThRwZi+4YhhVdeh8aQr4o7ylG77WVr+XWmkH+lgPE8XvXwcnjlFJalcLsmHP/wR6e7B2WGM53+82ofhPF6BPzNjFSuGWBq0Z96479UAryXrg4wbZjeIEXvFHLihOQAlCstWVTAoBqGJ1FsRz9BpLidT7I3iT1GYlEVtg47tmAM3KwesmaF6MRuM0VtXL4B0TszVyL29AVR1KWaPADBUolSZcq+Bv71OaEOhCUxNpWT1CxUouk15CaAv2+GmW50S47MxPq4okGofpKmeHvBBp/yACvadd94pD73rIWnFwcXwgPIE1uDR6Nc4cSYaTbgx1LR869HXv3vkmuUmYdNKP44cc2AWcEBrqJryb3UniFf/2jp0giwhhklUYE8QJQ6OOXDDc8CECOLmehqzPsfMhvux8+R+1qjr6JPm0PJdl92aCqcurOEr8dTjIhL71SssDZFMwtPhUyVKaaSyWJ/uOGhY541RbOjnccCiHsXLpXt6euWxxx6T29ev1+k9d1xFk7SuaF2qGY1kqgkNEYjYGXMg5kDIAV7copKtZ81oT4lCFAtSyKLYFXNgOhzw8sQRFRtJiY6uTAf11YqrtJN+ywMThlvrCdrOzfv+eBwDR7dpcyF9tCYxXYCxp2aApYZ3UaxTwzQe9BisXpEaL86kwlTbJO/sh/OicOjm3Rs3yqd/6VMyd84cyWLXnnGSNk8VqxnBa5gQKR5DdUPIcT1V+dOWYNL4SJvSF9HBiMb8x00vDow5cANxgPIam5gDMQdiDswMB9io4hdt2lX/IXbzNHvKKV52xCmndMUjoMPKdU/ve9/75H/7lV+VtrZ2SUORujYmogldGwLiVGMOzFoOBFKrYsRHfT3FyfoJTX2k8SJMBt948eOwmAMxB64PDlDuTZ7ptnoAto0ceUL1aihCIyjBo8aDeB5gIiuC2qXjPYgvSHciJFco3Gjz6DG5qbnTJ9hjHAodOIQep5bz8M0EpvY++cmflRTu6Pubv/msHD5yRHgUAqtdnRhAJEM/qar4crNoiVxu/DhezIGblAPpMTs/KPEUqEDy69xjGAXgKOyY8KjHpAGjkWJ3zIGYA9cNByjv+OnCaVYU/MFQtOmvIm7+PkynixRAQaf0UFRQk6BR6A/pBW7vRxr4d+VNtP6y9Lwf+BFdFK5aEIKcIhWN56hMcl80tKIU7I62NvnFn/85Wb1ypfzJn/6pbH1tqxQw3Ud8PHnKduoxxVpM9ma0TIcDxEU8M4FrOnTEcWMOzC4OBCNRs4vsmNqYAzEHZgsH3LgMFABdFDVbqL5KdHK4CcoSR6Ueec97ZOOmjfLMM0/LZ//m83L46BHpP3NalaiaUSjqOaY/XSUy42RiDsQcaMyB9JiOB4UzFtDG3Ip9Yw7EHHAc0Om6CDN07smWWPol0grjj0OgrmDgVAL4m9UmyI3PV/g+qWx5cNWH1M1RJ5G5fX3yoQ8+Kps33yt79+2V11/fLsdPHJdz587Jjp275ODBQzhbCqNetg5cE3PMHDOrMBVCDJaL32f/x7HcxHbMgSvOgdqRqCnWA1ecujiBmAMxB8CBmdY6KOj2sybTrb2xUaNatk++YojqRozFIyud4RvdYbo+YELLHeTZBAzoVH8Lgi2dwAMO+k1sHKVGL+GbTxLWYqx9mzglYnZx+DS3pofMtOHsqDWrV8taXA/z7ocflnwpL4ODQ/In/+lP5W//9m9x5x7WTAV5itI7mZQbwUydftOhdaY2gtL8I16xM+bADc2BWiXqhs5qnLmYA1efA9qooI2yrd+6pDo4XTtsAENXhEZt2xjifzZK0LClmlpD6G4YwBUk1SKw5/XHNU31dPB9MiMcqoIxPshISAlNfB4xeS1LSX9JU6eo8WjLW58SwBoYYwGvlqkgHrOewjBMgnRXC6AfEARSTYo4G+FVLB47w/ke9WMQjhTAHViZMqbW9DYZN5o2liOEhYkko9gi7w5ggqfXPhw1nha1oFIhT6VSUUlMpVPS1dopc+fOk4ULF2rCXCNl03uhAjlVAiagb4LggHtI1mclXBI3Qdw4OObAjcQBp0QFEhFmjZU+DSutBsEuMH7GHIg50JQDlBudesFdaZnhsmTR8uVTJUlAuKh0VClcMNYI6Yt/BH5UnCoQ0yRbdhhVpOCHf2zsUt1BsSEC0+OPsquoYTdsWinTKT5GJFcdkFThuFSzeSkXcoCv71dBjQhbalLQ0KiyUWkjYiQ6KoVyv4yMHpf2xJBkywOSzcKbdDE2kg7y1xCb8yQs8wH1CZkqymgihVGZoqQLozJy9iDy3wk87tJfxuAhmY6vTtlyWDSEof4VCGu4Qj5Q+UtIFvnvGBiWuYBNlvw3AqNxGEEQ3+gnMu44NEM6lV7zaGRrpqN0OKCAv4oP4dSQmCRxQmEaHS1JCmumypWyBpkCxdih2/A6nFfkGcmvsZOpMu+xiTlws3Kgvsa8WfkQ5zvmwIxxoKZNSULEclnJtqDxLw1LMVHAdnY2hi34sZX0Tbq3GVfja5vIxr2gSpcgHmHTyWH8MHLE0Sw0ygn8VH3S1rQm5Yb5UfxUGBB9Xi4pvdXzcnDrl0AX72vD3W7l2mWSqhy5GzYb4gs8mZcKrzBxSlRJLkm5NCjr7u+TdLULil0G9FMhYcb4m5hWh9spRIxHdamzJSW3dIvseu6vgSHnFSdCIpQogZp85ahVaOAmvxTA0o3aoAthHVTKCv2yalkRuQDfwVPNf4gocJkCpSjhy9TMHQCN64jSZ4BGE8hVhdD5k4bgLwTxkQzPmABDemXsRskZKVcmxRhrzIHrkgM1SlQjudC6KBIQy8l1+R1joq4XDkQFBHLDUZRSYUhOnnpFqkN5yVeHpYxRlSpGbbDBnXqQmsDGm4qb+SN+IsFRKPygiOQL56R86bBkU2u04WfzHY6UNGvyXRr2xAAWBnbKcvuyBbLi51dJPjMHoxznMWoGBagUqRJIAxrzYKTEEDSwHc2My+ExKImJEbjz0pbJY3rsvNMyXM4axG7mRQXKKVEpaC1p5HXlvG75t7/8UclgVMrl1itPitupaLjHF/Gs0uKQDjPiGerhHJc9DLQfnrBeLWPEMDWKr3Ia+Efhhzg69Wpxa+ls7FsL49Kp9+N7o9hGs7P5dGocXaTR5dj5E8dVMI3IvArJxknEHJgtHGC9VGOsMo96mt/UelpRDLE75sDNwQHX/KHJ83LFtUDpxCUZ7H9essPDYMIQRqJGMVqSA1AKIzQuhjaTPo7FJcc4+mJzO4lqu7RhWm/pbd0yp4NTb6PaFlMBiMZhvPp3+gWGu7uKo5JD+tkMVbCyVHIXgAsKUBaKFI3RglSoSI1nwmDXyGv0BNZCVcugAz/MOzr1hiHj46pJB6AcZSOLOG2XwXRWu2AKMluCQjUinJF0tFGRcnhVpfRzXC4LeCoz+OZgFKEmpAjgIn38g2IGBTCRKOK7YE0SOOPY7+NpnPChvsYnpO/eVUVFPMMdwk/WpVkxvIwEXA47nr68hLguP50QxwQuT0sNlGa2xid+iTlwU3Ig0u28KfMfZzrmwMxzIGh0MAVVGZXOxKD8yiffJr3lPN6HJJkaRJpouLmoCcYUHm0OLW7QiLLhhJhilKiQzyIWpvTSwxgpAYDC6C1riofvE7VtGgVAFR0t4hsWaGMaL4W1N7oIXKfcHDo+rfkOfRq4gIbKTpARNvSaEGDdsBDeGU5lhYbu+uk1DWjyIDLeJVeRLEa30lWOElHZITaHkYqGSxJKoXM4XMonejgczpNPcDKAA11wk89GXwLr2LgOy51tBf8xyovDZIvu+SkDahSvpytMcEqumtE/oLLvkODUKvPtFcUpIY2BYw7EHJhxDqSjom6VeX0qTeqPerD4PebAzcsBbYSRfW3wPBvYmLLBw38qOYCRlItOCShx4z+VllqjsqhxIv4qfFSdsI4pzXVFcHKUROE4zaexfAR6Ts44pYHwGDFKDENJ8HHNDtBMDqejvQ7WUKqyU0vpZEZqiDMFHElM5akSA6KpPNkSLVdfWZoMc2whtwJjwaHG5IP8Qn0fi3F1nRn5TcTkA3brOfZCQSNAxCiI92MSVHLSKXeNC9+SuMZFdw5i9KxUKks6gwuGMfLHjQbErSNndTgj6BWfvhPWBxDc5dml5/zHQRJFOA13fQqarsv0NLDGUWMOzAYOoKDXC4CR7f11JMoE08KiNisPJ6xR39gdcyDmQCMOUJbs58KhLqEtLmJEqipQViolbLSjMkSpqpWsqKzWNtquwU9wcXkUKHghnpqARqTV+LHRd5oBcXPajcFNcNSSWYOn9qVx/Kn41uIjRaTTk6ZOt0oooLWONqbFX52394U1xhDSKWAaxMhmOL1paZuftzUNhOlnND+OXiH14eERqWJtWYpHPZSxGxOuCgB5KnkSMFVOp0bTrMPNVyMjVA1rgZQv8Bqbz1q4GXlDIgE95pgRxDGSmAOzgQN1UkYZoKh7E0/nGSdiO+bAdDkQaWwMlYmfa3t8Y90AzuDNbtRWGS6DqW1Cx4aGcKFL8SpooxRCuCvjmhyNQdpek4xSaspDANPEEY3TBGTa3o6XbqQoidG2dCotzz/7gry677dksARKoThx1CyNub5Vq1bJhz/0IVmzZg00EoxUYQ6ACpUfpJskLS5XVyNvzQhSZRsETPFLNkMX+8ccmH0cQPnXaXXOJmDtQNr1QGdfPmKKYw5cTxzg2Uxs3GoaOP9iDf+4oz3XU2ZiWibkgNWb4ffmCNSo7Nq5Tw6+8KaUMHXHQ0FxaIRO3FLJ+uxf/7XMX7BAPv7xj8tHP/YRWbZiGaZ5sfWg7EamGiWqZUrXqVEp48+PjjUCvkJ+SkMUN8p67UhpNDB2xxy4wTmA8p/C0ooEl2UUucklYmLBiDAjdsYcmAYHVJbYXQ9aWb7gFZYtgVaP6COADT01VgP/ECJ2XUsO8NPwG/FHVagMhahQKGAiL42/Mv6cEkUaS+WyXMIOzf/8F38uX//m1+WxT3xCPvCBD0gf7strNiKluLEIn+NdOualRy4Q29U1Wg59knE7cXV5H6d29Tgwtqplbc3OC2jwskcrOYxz5HgILn6BEmVCYvbVIztOKebADcCBiPSxkVE5Mj9M63AhuY1ITZTbGhk0HBNFisOvHgciH8g+TwLnLXCIn8qQ+RGM2wcMvID1UTxTZmBgQF5+5VU5cviw7NixQz7zmU/LylWrEc8gGce7DRlzh5pcfeHHXYEOIgpAoJk3sdI08zyNMV5fHKAU2ehySBlGfSnTnHbH7mWdbShjXWq+IK2lgoz2n5PSMHYLW4QaQamXy1C2DTy2Yw7EHIhwwBo3epkSRTGivwooXM5WCB9Ctzde5qJ4LCi2ry8O6KfyH5aWfjNVoPxHVD9TcpwiZSNNHI2im+tST506LV/60pdwrcuo/NZv/7bMmzsX66QcjuDSZUXu8q9pIdilGQkI1DYHN9PPaEoB7jCrgVfsiDkwOzngjzhhRzco7Czg7NYgLJkSbAmRFk67D43IpSMHZOD8KVk0f44sv3V5qERp5k0waAfIFJcG1/g5n/gZcyDmADhg4qKdES9HGCxQE4gV3/WHh3k6EH2a8hXt0BAsFOwIcOy8Pjjgh57KWGBaQiVLm6NPZoJPjg/J72if3WAuDAzKP3zpK9LS2ir/5td/XRYt4iXDoWFZqCRReXMOAQgqOqVArFfJaAG8SmnFycQcuCYc4OXmTBgdXQw36YgTZZWjT0WE8aaJixegPB2RltFhWbxorqx/5J2yEHZLW65OibIMXEUZtSRjO+bArOdAkwZHG08Kpf+5ppQvjXNMODNetu11XLsJunHjxIHT4AA/IZjO0SOuWiL/vU41BikVavs+6vYvFV4wnM/LE1/5Z1m/7jb5mU/+rGTSGKfSw09r0USKRW1A/BZzIObAZXLABBPyi9sVeLZbGl5pdIgqowUpnOqX4qlT6OSk5NY1i2XZ8kUyf363pHDvKBWuEm43CKbzLpOCOFrMgZgDTTngVkHxCZHDnzWD2twilr2HCKyhDX3CxjfqF7uvNw7g++IoA+7Cc9+w7kvyU9d5MQdUunjYVH//Wfnbxx+XezffK3fetYFBsYk5EHPgCnIgFEcqUFCcsJs2WcTl7lCeiucv4o7SIWlDZ2bZmmWybsNq6ZnXRu0Ko1YlKePMPk7Y8wy4WIm6gh8pRn2Tc4BSykYVtjatKrVjFaebnEuzL/uT+oT68ZG3iYCdgs0DOHe/uVue+PITctfGOxCN8SeKO/tYF1Mcc+BacYB1cHh9E2WLShB+ZUzh8VDc0QtSuoTF4hcuSfLcgNy96R5Zu261tPW2YKQZB+gmoGD5y+A5vc71Upy8T7u5QJ8tk9lYfq/Vd47TneUcUD1JhxeoOJlAjc2UtpEKDDiA1bSZ8I9O6Y2NffV8NAeezglTBfBkQSfE5QGudfqTpVPh+B350xfHCT55rx6N3unnAnGGVMgpHoNAzhVLRdnywgty4PAxWbbsFkVURU+4iohVwuOXKDsbl8oozujD7QQ0vLbqKgoRu2MO3CwcgHyoKFC23EgTlhb6epUH3cK3WJAsp/CGBmX48EEpDByVOfM7Zc2mO2T9mrV6SC6n7CqpYcguNoQo61ir4won4DIRjkeibpYyFefzGnAAjR5HopiytaTXi3Z0DbhxcyXJr+6q3YnzTThU1lCYjh07Kjvf2CGrVq7AmVNuJ9/E8WOImAMxB2o5EO1EOEWK3Q6ORPEic164nhq8JPnjR6Vy6rgsXLFI1r39EVlwCxaLt7Z4VBxtwp/W2XTRhDJtVXmsRHl2xVbMgSvGAcidV6VqknDjD2w+68wYj7rw+PU64gA+rnVJIxVsQwIDOIaGlbG5K5hWuDhwSZ566il59NEP6jQwz4OKTcyBmANT5YDJDdY5oYbF+eKSKvBwzIJULl3C3ZYjUjh7UhZgd93tH3hIFiyeI6n2tBT5V8Ri8XQKYulktFYGo3LraGqsRFn6U6U7ho85EHOgjgMmTLXCx/bU2tRoSOC2aHXYxn0NIo8LFQdOlwPks308fCddWYH3xp8MwEFA9ANF3SSI8asygjOjdu7cqRcWcyqvVMJaDRvFnC7dMxk/yNNMIo1xxRyYPgdUsvwwEdc6tUCuOhNpKE3nZWDPPlzXUpCN92+QxW+7TbrmtEoGC8UzUJyKgOU8XxLyxil0ip2J+XhUNVaixosRh8UciDlwGRxAz6Zm9MGhYFsUNKdwWNsU+BHMPF2UK/acTIVxxRJnNmsyfSVTmhncJJdrSnVd6bRp5/QDtkyXynL02DEpw+bRCZwObmxsuoLhBsOCcpUKS2OiYt+YA1eQA2FZ56EiUcMOCLshKgkQAepQPK4gc2FI0keOyrnz56U7nZV7779b1t6+RpKteUm1YLn46EWRDDorORxpUMV4VYX7qGkcxmgazdyxEtWMM7F/zIGZ5EAVSlQ127CNs80dFPygOTQHaYi6G9Fk7WYEzubrG4E38jMFhqjMTTiinCouxpuqsTSvVfqTo9cxmDRSt1Fa4bbqOzhlXJE5pcjhtQ/DGM0N8aSAuIzRJzu5PMkLinVFOuMhvn4MpcAjiuKMupunM62QuiQsZ4azLti8YzvmwBQ5EF0A4UqVPlHguK4pVU6rKFSxW66awrEDmIbDzUvSguGjNK5lyZ8+LfkjhyWDBeELVy2RJfffK3NxI0BLW6sks0Wp4qiCUgUjUJksNm2UfJ3HxehAYoXYptLrC3ldTmIlqo4h8WvMgSvCAVWiIG4Q2FBK61Ki/JoAW1BEps0ralO+J5DxKPi4bqukokANyIkGz6j7Wqc/6cz470TFjzTrz7tDHKZEMZRfiD+DDqGiLtbfPGcqm4OyDcNRqNrywPgMwM879b32xXldiWdNmmECpmSbIhyGxK6YA5fPgaC4WQGLoFIVS0/xR31aHsF+Oe6yG8XxBDjfaXREWi6clfVLF8nSNUuldekcybbkfOwSFC7EUcGCIGGaL1HF6BN3wCoEhcsbwOjYVsTLgqJ2rERFuRG7Yw7MIAdqZY9v3B/S3KgQ10ZqDuxDGGeKUZritEaQdrTeMv+oX1Mk0wiwdK5V+lMinQoO/nittPsA/ApBtR9xR79OPYxP0TOWChRHoLq7ulDHo/rGeyqV0nVRY2hr9DGiyY+JEHvEHJhNHEBhZhm3H+QhiYpBjylA/yRRwQgUz2wq56U6eF7KZ89J4cxFWdjTK4sWz5cNDz0gXR0tksehmIVsAqNORcmk2IkdKyROQr2cjg2ekGmxEjUhi2KAmAOXz4FoE3r5WK5ezMuoQ2aUuGud/uQyg6+qmp59Xd08jaj2Xqsua08XYVS5wpCxOYXOJG1tbbJx4yY9owY7saVSxNSex2x3ek2OxisLRVrqjbZ33tOmqOthbqh3VWQjjNBeQFgGavKqdx7W+PgXwGu8RmE3ox/4GfCVvEVnAlewJPHLgk8d2RYpjQ5J8eJ5Geo/LeXz/dLZkZNFa1bI6rs3yfzuHmlrx6hTCqeKJ3FEiC4U59rC5h1YwqhRBSvyPSfJfoxlNYCcOp4GSGKvmAMxB4wDHBbWH4S5gtbRvbOKmPMEO4cAAEAASURBVJxpJKYWc7I4DL6RTRyGx+xGcDPtF03L3GZfTlqMOx6vpoqzlhZiNuzcOE2e8Y9uVsTOz6XhQh385Kji0qdMJiP333cfoiEdlBOWFe4WujrG5w/TG5p+kKjlOfC4DAd5cJ2ayWZvKlmYLE6yZCqwM8XCqeRlGmlGszZeklE4lxxrSJR9CEUKmyzSeeyeO39Bzp69IAkcjtmKu+xWzOuVWzatkb65XdLVh/vsIDsQRClACcPYE9DwihZYWp5hIYxipWYGFddaJWq8XPq0YyvmQMyBJhyAYFKEVE5VeCHGaI+GIduHhkoymK9gKy2GoNErLfPaAO1xmVQTZ9QdpkHfFCsA1gK0CYfagP58NhoVUEJCFBO4FCmrHPTcUHWh4Q6xIyqCmRiH052hB03UZhjezUvDw4cqjagQOUVVQT44TWWgtO3HdGiUNc4ZPDWIgEZGEFLnAAynw7hIm7AuL7AZj2FByu69LnbNK2FLmDpIJUEv+OIQEikUHChN5BQ29ED7qcqpwbIM84RxxeCeYc7s3aEP3kiTN2n0iLt7emTz5s3q4/iUhi7FdB2mwOHjBXg0YBoP4Kvw2ySQT7VdWUYGQ8M0fYITjjRF8qUIWHZrDEtEvan1CWOErjBGLazzbwTHkHFga4JqXsKkzMXgIAk67MXHYwEzL4ujdkNPDxENa5Z+FMYQTxa2GZzhmSG7PhmQrN1Gkm4jS4DRnIBPrGdQEagH6wSKEMs56zjuqquOYpoOF3NLflDyw+elODQsOYB3YaR28YoVsgqLxXvn9UiyhauhcAwIEHCtUwkwjM/uDElyss5CDABLnyThZ0Zp8i9jSmUU0CLU2Y2VKJd6HWj8GnMg5sD4HHBSyvaCa1sowMVMWvJdbfKnT78knTjkLYVdJAXsJmGDrPLJXlJgIm4qZKx8fKWS4ZD2KA6LK+KkXcTkEDSrHioIjZSoRkpIkEy9A8C8C6oCZSGdTcv8hfMwhK71m1twiTqIeUkELSc8rGKEP6sk/uk/G5IGRisnhHGn2VmsX+B5SHqVCeE1SiTvxGg1WxRd1M8l2yAlh45HBSxatEA629u88uOrR8Qj76lkKTp+rHFMmUoRYEZHRuTChQFVAKlsJKBU4SPjnfTjG2D79I6j5+RC3i5xcXSQfJcCnngJK+lIuj6PmWxG3vZDD8j6desdRQqCSUDSC74FNBtOxRcS78FDj/FcAYMNiAqU+7Hnzmxx/QmNKonOObmnz0/4ERGNrZwqoXCTUKaPfwNVxJoB56NsVVACaYCCBA8C1Bv1qoeFZ70X4zXCqfgMb215DJLSePyKhhSuKC0WXdUCMpBwBhtgqXNEwwMEHqZZ/Ho4gk8EyzgWz39cn8r0LM8r1CFRQ4VIU6Ss6Z1zLpRKOv/SGV7eizqM/Uqczl/FOU2lkSFc/DsopdPn0QOtSEsqLwsXZ+SWO9bK3DlzdLo7xboPiIvJIuokKFD4szpQ1yeBDezwVVnm6mgK6Qt5Hrii7AkBJ3ShmzMhTAwQcyDmwGVxANvV2zsleedmebmErbfJdjRIFclnMLKB06lR+2oFoC2W4rcKjkLJigmKFhrPLLpXrSVcCbJju+SP9kuuCOUMDZJVWRYrSmIjv2h41M0GgT+Otrztgfvkw5/+FGhl/wp/VBBY0SEC1/Y4w5Tx8w2RS4uw8OIDxj3VqQ/tG8JzaHhEXnttm/zH//c/ySi2IjseuOrf4kSrJGufzFbcAGDShG/UFqbTadm0caM8+v6fk3lz56DtDndEsmLHv6bLkZ6JDJXhJEbN+vv75Y/+8I9l91v7lO/ESC4oKthp5LuEXx4jjaTLMJtt3xNBTc2CBQvkPe95r147USqAN0CkDQQaDS4657oO9uDJY36vEHdTlJML8IzkdRhpKI0sm0yBvCXftZz5TNGiMf6TCPsGwTdiHHgqfRrBGlkX1z0R4GEUVwjsgvWdCY3NqdEWxUY3owQ0+MAQt/fwFhvysRy03NXCBm9GEzxIg31lpkHDtIMipagMXySiA23yNPhoMP3q4zeCi8a52m437eaocnWJUax8AmMSVdYnzreKuiwBhSmF4wdSGJ0vnB2Q0sUByV86Izl0MLvQ8emZP19uWbpUFt3SI+29uFeyjGMJND6eXobtW7tvwW/SgFXBd9JSHGEMoWeGj2lqgHpCJwoVkVrmLws/MxchM3bGHLi5OQB5SCclhbn7EfS2ktVuTOOJlDA3l0AFwuZJK2CrDWqEjr0tKDaQ/SojQZlqHa3IwKXXpHDqHDpp3J3CCstXBXR4Q5xBZW5+FlhnU+ypKPCizUWLF8hj/8svyKZ3vQOX4XIbMHCzAvR0JU2J0t4dJd3UiAjSZhUAGy2O3KCBXnTbOtmya6d87evfhCI1gjviXDMR5MWji2QpTID4fYDmMQLE92w2Jd3d7fKJX/2M3P++H0ZvtoQrHNgjJc89cbCpQLEynsiwbkxBKVuHRN+zb6+8+Wf/Vc5fxDZqRA2qZbiVdjyIUatS/aYOvyORHzJMLfjk8HLHGrTIRz/6UXn3ux+WAqYyVGkCPBVbpqXKKRQcqiNpIKTf5Rqn6IIfSiiwgBiiK2OnUyqFKy8wQlCAQqX8QoD28n16LFs0PF+nhFOeOXrpMgxPhhEnfrqOi6OxHNUCLvzDn/+OG3hTwzeHU13et87ScucTRhBLfT2eIEYI5r0a4w0+fUBOFA7u6AcKkNNBOP8tjRlBuCHz8e3Vd4gCsDEOAtpvTCA8+NWjGRsPtj5+FJZuM1F3FLeFT8LW/PNrQJaAjuUJn9x9G19++J10OhpXriRw5UqiUMQUXUEunTwjJQh+BgpVNpeT5YsXyfKNy6SrKye5jlZJYWcdttPpNHmR5zjhg2kpRRqk3KoiR6XbJUtyFGYSpM8kSLoFPU43ZO3KDZlBlk7IVlI8IdBMkhrjijkw2zgAAUH9V0WrV0R9IDgRF2qRVjgVXDWA+wecCAUVNqsH/mhQWcCZRn2NthNbdXGQ3Orl0np6QAYv5aUyjJN2WbHAXysPOmiQpI4CwNY6jn6E8cF8rTHw55RUW2uHfPTHf0wefu8jkoAiAm1HcTlYF5nTFs6Fpzr4cD41OBu86BQYiEimsO5nbp/8/Gd+UfYdOizbd7yBNUcYdYGpxxTQ78MsSVY7OrNoEbzN6ca2nm557Oc+Ke985N3K+2xLqx+J8g0fGcQWVPkzcafPpYV723GX1i98+pdk94ED8uUvPyml/KjDw7QdOkWLNzWOJE+YecI2H+KlYcPDabx3QXF97LGfll6sieLUXYUnlkOBs2k8wvKCYteYaJJM9vIN0mV8pQcP2jkoB8lLA1jIm0L7hW8Fltk0iSWk1T6AK8kREAEAflP8iMDRY24qrvDDOTyYJEZ0jmbyDzyncgXEVuwBBoPYisC9Ma4afqtoQXCeeBqAA7NnY18LDW2DczSH/hO5LF4IR/rwZpkJAxq46lMbi61BpGvq1ZxC5CX4NlC48fGo8Cc5LYdOQBvW1iUgI2UoTKPYTVcaGsIap1GMcCelDXVAb2dK5i1eJsuWLJb5GC3OYtlDIoEylcSUHspGHnYZP5VQyAPlRIuBsrABVUqLL0LgWAOIK8bHdHakoL3jCjJXRubK7JUiOQ530pDm4NNHKWOOFFDB/AMeAXDUP3bHHLhZOcDqBSMwqFSSvAazglXmbHtQ4VTwcwJDQaoRLngzHkYHKGdo0CoE7c1Kx8bbZfjMBakcHJEqene62NmisyKn2yq3CEovzgg0o4AAx+GO6Yw8/MhD8qlf+oy0tXRKFeuukhWeqUJ0aCTxc4Y9YhoqJKROAdRnogfXKDgaEpJDHXP/3Q/Iv/u3/05+8zf/Dzl+/Dh6pcBJY0m5t+CpqfFBAxiyha8KDgcr2VyuRd71tnfKp3/+M9LR0oUw5gO8RyWsjTgtxCLpXHxKh3rRexxDXYH0dbX3yu/+X/+3HDxwRF55basUwH/iphLhRrVqsbk3UlibKTvZnDRncxm54/YN8m9+7ddl3a3rMAqFhgbTh5o/JFyC4sSpjFSxoAvcySXW0aq/8HMAB/5dGmZHX+k2Y7CAS3egHMJWha3A0SSsMbl4Vs7t3CFlBKE5UBpU11deAYnih430K1g7JzjAMIGyw7zXcjKpowvMXzWFg0NTrSjvKP3YPZXNZiWBEQZ2KqhYK07PNo412HvASXhxnEENg1UugBfy5DIOTx+vYooZvcyQdjVRT3o4nMpnZSDhPC6N490a14WwsCBl98eIAUq64R8Mj9SFaUT40a4xfAcS9fbuEGkE0uc/4tPYSRyKrHFw0zByPshM6Iqg0lDwhdlmGkmUSSxWgBu0+ZFpzmpVBnD8wLmLOPTykuCuFWyVy0sXLvddu26lzF0yX9LdbdLS1S6dvTgLjSOZw+iMlAZQRnAeGo4kYH2nSjYw67ompdkIIRUhnXipMdEyqBwjrhqIK/OSWPvTH6sWWzLSMr9XhjuyMsxtQKzg2evRQg6BodBSIDQPCCczSU99AcV7QHRQoK4M4THWmAPXGwfYaJjhFJlV1M4PrRIVCagkrITcMQcmLWE8i282QxQvHGz4UxwCHxyR/q8/J8U3D2O7L0alEJbGg5jNqHKlDQXTwK8uCU5RlaEYtLa0yINvf5v83u/9nqxdvRq9SdDoowS4EF8pBQ61LWCKdrSi5nRaGsP43/nOd+R3f+d3ZA/WGnEXXAY9Ul7HwLvjSEeUbKWLufF0qO0J6+rokJ/8iZ+Q3/6t38I6qLmSR6+XDZ6mSSR1hGuO6vwmyg6VhSz4deLMGfmVX/0V2bLlBbk0OKjTfaS0gqlDRUnCgrIAn4Bwlx+mzeAW4Hrng++Qf//7/4+sW3ur+pFe7io8139WBgYGpH9wQI6cO629/Me/8Lj865Nf1YaG6754plRLV4vk0jnJtGUl2dmCtggjW1h/ku7BdIgyEPeHZdH7x231nV2dOlVH8kazKINQOnL4BnP6+pTuAhU2kKvKDcsBGKI8RL5pGE9tPEZxftUgFgAPD0GZZwFEoAuGDfBB0K/tK8qYTuEQB/7ZeaACOIKRiSLbGcRKYEpnBI1oEd9cqCyiM5+CckbDRcTtGZz7A+Rcm0btroR4w8mspLDesKUVChoVKtBbbM1AAYTKD/4xPmWgrNPmkBuMrrpcEBTfCspvGbJEkwQ+Mp/hvmXDFDrpdX4KpCF4Rz7IhyLJY4YVKRyGXHllWBjTwdPlGaTOmofFVU8iNWNus+FPWH2lA79oXCtnFr3GNhwuTjC1zc4L1ydBIU5y9Aj080sSWqdhGY41mWmMilawTq+KowYSmIJvHcZ03OAljDKNSr40Km0oj504zJIdspZ5c2XV8uWyFFN0WUzLVXMJKWC0uVguoGw5hV0rK5Q3LaLIhNZdHHnFd3AZhA1So18gykBmW8ujZitkQi0LqMOQCcROtcpwwxVGIcC0TOLJ55+rfueVF+Xr33taBlpB2JwuSUE4y+ghYVRXC3SZawrUkAifOqhgj8q9wZ/U4iWgLVaiPM9i62bhQHMlyuQn5IRO04SvTV2sU0K8rOAwuoLGJn1mQC69tFPyuw/iwLkByRbQUGgFDlQqh5REk0ZUIBTdiEmhwuvo7pIf/eAH5X//jd+QpVjEyY6T7vwDnFUy2j76hsOwRdBMyRnmA5QBJxWBItLcd/CgPP6FL8gXHv+inB+4iAaMi7M1E5FqD0l5AnxVo68trS0yt2+O/MEf/L780AMP/P/tfWmMZcd13nl7d7/el+nZhzPDIYdDUhIlUY4sS5bkSHIS20BswAIcOEB+OED8I//yK8ivIEgCA0HgwDGcxEiMxHasII68QZZky5BNSdZGcRdJcR+Ss8/09Pr2l+87p859923dr2d6hsNhVfe7t5ZTp06de6vq3FOnqmQSfdfERBnjAmwvAK99cm/licp5tYsasLfLYCDPQpty6epV+YP//fvy6//pN+TaCnZMxjPhoEz7D2okWFftHcnIpJ+0wmgcPjs3JZ///C/K5z73WWiesvL8iy/Isy+9IGuVTcoDsgEBpYKBh1OrE4AtT5Z12i8HIbNYHpMK7EQmpie1HiXQk0c8GEqpw8omHfijfJBDXK2GozGgAaJwz+neOubqWtAgcKD0Z61064ADHBCwOo4DEHhmXbz6gV7LyXF6Gn7+OPQqW1llTefwRU0d0wyfnwVYwzQPYyjMcCUl6a5ikNaND5GhitWQTOegnuW6dTgKlRVMFdUpdG015Mq1NSg6sNp1C0vhyXvAGs9RIF7cFuL4TrcwXdqGlpKCO5/d+HhZ4UoQYilEsi2ocAYBtKkqOCwSgJBI6lvgf7OEOoImrV+oSa1gNTJxg4zBD2lkAH10ak+o8Rbm1YPkufvT8QmkVjngTDASJ/MxET9/cEmmYR48DHUUWUkffhCOsuANN7HM8KxGfMBgf0p8jBnulRXsAA5BN4OtBQrgcR71b+Kdy+Cdm1mclSXs03QAwtLMzAzs5xpSZruDQEtBl3wu4OgiahCbeM/qeBma+DDiFK5O/ZJ2TcUdsHQWz37SNd94BzVksIRJO9bIWa680MTBsHyOBuP8JOus3DTOG/VnLl+42q5COnz1/Fvyf776p/Lt556SDbxTFfwa5XGp4AunOs6XzKR11l+FJzxAV0uz4vrqQHWekBaFqBt9JjHfu5QDaSHBNFHeGrxb7VTMppg64WG+biFKuw5rbRg4JmGtXnnmFbn2t09KGftQNbcqGGC4isWdd+iIAQm0saH9DTu7oydOyC9Bc/P5z39e7XC4hJ/2CuyXE2rhJy4bjuFBAsM36tL8ISYOeuwy8xjM1mCL88U/+qL80Z/8sbz44ktyfWVF6tBK1GGIygN56aiV4ICXZx3QaR84eFAeeuhB+ae/8ity5sEHVfhip0zhjDZFRm1SG8XhF9PUeYj3wXBpCPrJC2LOY5DgV/gzzz0rv/3fflttuy5euKhbIVSxvw2NZimkUIqj0JTDQEx7sBwEGQ4w9zx8UgWGIqa78uhfJ6YmZHx2SkoYpGbnZgCDqV90u9x6oow0Tulm8cvAvk67VkynVRoQOsA/CnA6TYbnS+0if7bsHvxFtch3DmKUdPQZ4CEDFI4PGEIG4Ok3jZINZEk6wQgXrj7wF7GlA2NVgNLnSHECeVkgcWkW1p/jhOFnpApJuLegIeKAS2ib9QBP8VybzKiRhoNeKx55kcSVopzmqa1XYWmFKSCshmxCyOK70WY9AoFgP4SuNVmHEECt2SruKnxhdWgVwlguV5AsppMoTACz1Di1NFbEs4VGi37UTwmhcTN2xGZ1CqCXz4t1rKGqVitSaDxr4b2z4hlHfvAPYqYxM9TDqlcAIN9TCpW0SQZgj0MEYBgN0SNJU7aCEdSwkYfgktJGAAoiFOSboJ9CoaIkz6BpIpYcnzuZCMq3NjeAFWEITy20szweZBGG39juTAXtNoTy8ZlJmYeGd3l6RmYw/ZYbL0KoxFMu0X4J7yUMwPNoj+Qdy6pBCOa5j/b+wY6zYe0gA+2gLjQAK1VY0kqR76SKV8QTg/IJ+JWJNyJE8YkMcs4/lGHFobTgGQS+y7jM5rkreBQQ5MGUKibAz12/LE+/8oL82de+It/70Q+lvjQvleVFyYyXpIkGzM0DWUd+zRhF5Ah/CKF1J3tmRCFKeRIv7x0OpIUEE6KG1/1mhCi2O07tcWVL4a3Lsu+N6/LZM4/IH/7eH8iFSxf0S7CGzlRV82ia7Iqp7eAUx0ce/aD87M/+rHwM00j33X+/Ch6tIKToUIBmba0ZbZwDGv7Z3VmXZy1+WK1sgB6WanR4qneeVpYSKQUIUytY+fYcBJOXX35ZnsJWCE8//Yy89tqrmm2yPCmnMO31gQ9+QB5++GF54MwDcvjwYXY8KkiwfOJTnKB7O2eiUAqit78ywgyAbEAZRMmr8gPpY+MTEIrysgnD2Zdeelleg6H8D57+gfz5V74iL7/ystShbaGx7fShGdl/bL8cOnIYm2lOq7BUmcpDYCrLOE6VL8FWiNqiNH7lehjwgvQQSiYUBCX8bJhBPhVcQFvQIvDGqRnjBHmCJ0tclHhCrN69D8cgrrWj2pE/+1fY9EXHtnSalkFqiBfUKB0Ynhyv7g1EAcFqRu4NcjpthEKJRSFCfYjPFWIoVtHwrlpEA2Ss/nT7h+BnHAUP1bsgmUKSTlECkhIoLVbGIFcQN3lI/mxubqpGrAJBoKJ2OsiNCrNt1LnpI58/hDFWSYV6CMbXKaRBKKMMxGdwGVrELWhljCYoIZDQQhtt4z1IWMBUlJvHfmIlPKgc6OGz7HKh3XGg1XysD+trVVX+crxuwgynRQ0kF4EwmeXhfVNtJTRvBB+DkDPPKU8gmJ+bheYNNml4HSgM0c4yCxwlCO9j2FZgAlrdcbyLFBYpbOnKS+DmSmI+4zaEeLU7UxmABLkzv9IIbmtb0eWjfBfIf5QTnimJ4nO1j5g0DgBxOpF/jGbdGYXfIKfvSgLgeHr4mGRkz0aHDAGUb8heuczWxWvY4wqSK/DXqT4GY/HtJ5uwKXj1zbPyp489Jn/+1JNyqV2TLKb6ZBaq8nJB6nkwi8xMqknGUIgKBPs90L6HNO9V3SOeyIE95YANInuKEh0OmqZ3QKGzZedfgPF3Bj16/s2Lcgaq49/5t/9R1jEV9tZbb2Ewf1Uef/xx/cJnu5vFiq9HH/2QTtnNzc/J3Ny8DgTE28AgQQ0UnfZJgOedzgUH9aPD9w5REwdciM/zDki2egQAG/ABxTyIY5fGL3IKbiXYZ+SzBdjbrEOTsI6x3zpHfs1yEKDwQvspFkYtRh4DR4dHoR6DCEjF4Xs9CSlJ0KIbaexe4bMAYFBvpQ4DH1boZTiQIK2AQercxXPy9rm35dz5t+W555+Tv/7Bd+TNy+cxSGXk5KkTsh+blk4tzUgLUx9FfMVzyo3aKGqVOJ1megSS0dP5gxk6zcYklEXesH42cBg1TQhEruAIYAAMgrM+Q2bk8+AfBSqWwgTUjgxXP2/AF4QrwttAyGfCUrd33LJCoYiDKBUvi7Vy8ERVlNFpI0CSElbIxgj6dQDBM2eeDt+JU1Egzv4QEeJYCxP5WKZCWhoHLiVCITWOQcIYHLiHCP1DNjsBgOWALo5bgK1Ti4M0VqOEM9oIq8SBQJv+sfzUeGXxLDldyKlI8oyUKF1Kk4X5PqvGiBoyoGKSCoB8Z1H3NrRoOnWt9VSSCaYE8F23894Yo7HhDvEfiGiT5Uv/8xB8SARx076LBvzeFqnxKqF4CjHeRpQvZL0SZDQxjm2vTcEKZcNnRt6I55PjlW8RXm0NUcuqAhXi3WndCAk8FEDp7G79C19YiyUM218nrwGnhCjmDT9N67lYW3AAx8PYQS6UT4wBlG/bXrnM6rnz/iEDtPZ6UsukjRYPe22rLmcvr8h3sNHfN/GV9fTrL8lWGUapp5alASmWrPAPGJP8veokmH440rt3NCvKeIkcuNM4EN52I4s98XYOHc1IDmi883OU7NBz7NjRXgtvXpKH1rPyhf/wm2iI+GrGlzSnwbTjw+DIDo2d/hg0yZw+4DDAklv4YlYKcEm+EtFek+5GP4LYI7AZA4h4hhEcaLQaMzAYMB2dxsV4LYdlsG6c5mBl4Wd8Um+lHvQjidoADlI+OBBHL85+KoCfeZHQDCoO7sPFbSQK+NG+h9OHBQhxbQhMlVoFg6V92a9AQEWJ8qPXX5EnfwgN2UvPyPVNTDniA5TPZ4ZTcDjDKwtD2iKmpfij0JSBPWkLQhNHUE5rsX7sZTka6XNFknE2TT3jmICfO4XzAJPIGc9jT9UEAsShDE578UFY527CjkGHPOzjEwzMEwKa7G8J4uB8wLEk5EJ9NTfr5BCJHzEBt9HBIOmBC7jNa28ao7SauKgf4eR9D/X3d5L56Fiq/VkYOawuyi69kASlwynUCMRZqufrhCnIabm4M48LMAk88QWn7yiEFdZPYVNYDYxX5GRm8IqCftpp+0V+1cABB6lXjsJPOnmzzLwqkpA9PEcKMJzW5ZukbdyoVDzmZSXU6Toxog0YQrQnIxYxTNdnCowBkHD6Q9jeFLyyGmO4tE/QPJ26kS/u6FfaNQpIVMvkqbx38nVi8aQB77R24lm2OysjTWcnQ6d8h7Z7qlIhYVAZ3XlGD3GjXTg8ONz5U0EokMy53Hl0vsvHl+TMwaPymQ/+mHz561+TX/uvvyFrb70tk8cOytjinLRg6FjHPGkdD9Yrp2+CMxD3YdUbndQIGTlwZ3Mg/Y7v1EjTsNvVioOBw1pbtXbaxMCcRWPTQRIJLE93N0ebLRax9BxtmPDWOePOAEYKTiPaH/Ea5m5aLaSDELHCo9N6xI+f9hO9BANNBwcHoE6oF9TDvRDaSSrBSMGgk9TZM+idtTG6SZ9+t7LsgKwXZ1dWD7BzByBh+WO5UKqrZoJLrvm1Tfuhday6W69vyYVrl+S1s2/IE88+Jc/QvAHLsLNlaJYWSzJzyI6hmJ6eVnueGgSzJkYt0kgqGzqoBI0XCFbBJxBpg7Q9iSRHSNPspMweggUVpWfmANURopKvfockGIjwPl0H29QTUjDAkE4rAgF6mIF51SUehKxGvTEEV4fklFf9ROc73CvqAOq3ZHoNEYoHCJJBOCAzDRJfB8fuuXm3uK4UrYzR6pBMt/KtjTDeIZQ/aUAmIEN6aT2jnD4H5Z1G1l7pII/r2NmBQU7N3IlxH/E1VBODGK0AAJV2f6bM2BEbEr8LKYRVwYzvAVEoErsmsgljrb1wr95tndOQAvIsvPv76cmkjkxhGvsZf25OB5OpL9QwgAhvsExxx5gBbki0PTQtuSuTgifRwzJ3ZdnzACZUO84eSSfsvlplS7/4Th4/Kg9dvF8qFy5L5aXXpP7M61I6tCTlk0dl4siyVGYgTGE1g+mZUSH884XRV+OdqZ9XId4jB24rB7xj2ftC2ZCsczTcFuaVq/NM4IGGJnQs7Mi4ZJ4DLWliPPtimz4hBgIasJ2Nx8Ge2KzrpFChIV7gNK95U1fg13QD0vEglbp33kAnEYKQUJqNPyMWEqqmO8Gz2hQ8qSmo0vYDS+S5Ou55bLfw3aefkOdeel7OXnhbBaephVnZ//7jUl6g8Te2D5jArt5Ysk1NADdCxXGpxideySQwwXgyjDDWxWowDKIvfgRwHbgUL4FTGfShIGwsTFCzf7bnBQ/nakI6fClnA7rH9aBI4Jiu5XOAHQaUQJuH5bsbRfh2WN5TWdPRfX7CjUKO8yINn6avD/EtixhSsyTaa+P3JGFknoxCepoPg+D5mpvrlO8xsDxzb6ApAU7i+z3DYZjipQyH6sd4O2K4/qOrHBLqxGoC59nV0h+dDaz8S1Rvk3s0uLsCFTeWmW6+8IaM4dyn/MFFGTu6XyYP7pPGVFFqEKjq+DKDuQFw9sizaZupLgpiIHIgcmBUDnDQ4teg7qEDSwsuI+ZHDCdQVNTCSE6/2SuyDXJwtzbPZezptt6xXwixBFNQ5EIUWnKnc+hpv66tUgFiJOKTT+YRoNNf5UaSC6mktDP47oBT643pQmSibRLtqjaw583FKxfllTdele8/+7Q8+9qLcnVjRbJYlTwPm6Z7Tz0kM/MzUsQ+S9iWGKuysCISfVodYhPVV1o+eGQU4usbfnKc8WQd73TKRvPuydW1T0TmAnOnNMZ6yfS7U+I8kNw7gkLqfdiJ4LSUlPK7l/cO3qSoO9LjNA8irjft1tfJn5vfB1Hlcd3tovuZj5Lf8dz5d+t/7kw689u9FN4Q2Hlqm/J5eM7t68oLdM7QVrdhF1A5e1HkwhXZev1t2di/KMX9czJ2YFFy85PSnMMGVLQBAA+sPPiIC4HQDQXuIORvbVcjBPxOjfrO5G+kKnLglnKAS8JXsOndt77/PUwpcek1DV3RtmAhS8HGRCy2HwpSbEbW4mgYClmra6i1gRlfkIA10QtTXfDRMJVtl5IC86vrEaKI3FJwZ0E7OOIf1RnF3dBWF6PLNT4JTu/UvC/RslAewvyjzef1rTVomc7LK+felKdffFY2sBx78fA+mT99UA5O3wutFFbPTY3D9grLv8mNPJa9o89Tg1rkz5DHiO8IMIqekIFQcsx5Ah8fgTLRkp3mAHwDN8Pfn9EK8bKcmn643cc4Lse9HYZe6gbOyG2HYKe05NnuBIiZkMB3p99zDEPh8A437E4+EEcHvrcE5gTQwOhBkb0lBcKT6N3nIY2j5AqUan2S4qJnJA7QHICPWRntd8/pjcW6ngAYbvZ4kZtvETtUqsNxInMDglTj6opsvYYN4XBGVvHQouRPLEsRhpdt7MPRgiarBWNLPboAuPgCejl+FAOpGdRxGqVOXbxHDry3OEDBwT8y2G5pM9LEFNQLG2/Jv/7C/1Ahhxvf0dVgIE0YDuq2JiYM70BCzY0uHkGqtWPN0rkocmy8Cbgi9uMpnIdmhrZUNGJ1KG+0IdwlOI0gRA0u2JGn7kmBqTh4O5RQDxcGsp7KaN2Rn3tVcyVRg1bk2LOmPYYl7dhZsM29mMZycvD4EbnnnsPYvHICmzEiHfr5BoTMzdYWVgrC1hO2UuyRGuzrUAZnvegY1LvdtEoeF6KMX4Bnf0Yc7npI9ejt7549yUwPsCbh7uwOPiy9G7pTH8Zvl4d4B6X31t3JGgQ7KK6XnqFhR5ziZwfWEh1/L00duBvzER9xO3632yI2KyshLhSADDtKzP6kemkaFt8LNzjsNDI17U9D9/LH4Xrj03miv5sDpokKLwYZx1fAGen35CXAy2BftuhI0B/px5h2mFRHmQElPoR1qk+wqq92ZU2qr7wlueemZfroQZm655AU9uGIAZyfs4k9y+rs2Lj3FPdI0Z4QHT47axBiZfsL6YSReI+jP7rIgbubA9qNJkIJBmKNQCvAVBK9LbSlLGx1nkd7bNUgWlACYBvh2WZqjcgghnA2WLZe7dDZ2NiO8EsaOYOE4cJ7aF3QDkvYVyq/ekXOf/Nb2B8HWhj8uoWlG2+LZneF4kZwXM3U66z2IRZ1IoQpx+BLkUXjc66eaUNLJzAInzwyi40uT8nxD7xPlg8vy3gZx+6i72pCy1TDPnncnsD2wEMfB6VcHX+6A2FqwCZ6FUxDOdsOOIBRASrA9tZjt2Eti89MPURqdR+GJ/14h8EMor+f48NyB1IGJBMvy98NrgFouqOUj8Tov3SyJqYjtPxB9esCCgHlZg+xg+j3enVwWCa+04Pe1Q5c2tdTkNbH6R9UN+ZNp9PvONie+52n9qd0YpJXCVFpeC+pAxl9wzigmqjk2QyAGvQ4+RLpi6mdW5rdAVpbrj2SNg63rJ+/KNeuXJOVF16VaWwVP31oWUrH9sk4to+vY8+pSgnHEmAb/RYGhgZ++jj17QVuRTP4JRlAboyKHLi7OZA0PjYNNA7uPYRdrin+8KOGTVJbUBA8tHWGqTvrhClIeXti+0q1XxeioM1SwQJCVPbyGkAIg8Ea+XjmnzX+m2VzqtxtUfkHVTdQIlcBjWvntE8CmFbJSJbMRF7Kh2bl6Olj8sCHH5Yj9x8XwVQdTvFCjaA5Z12xGk/3vOEgqHotIHFkxs3uwpMQOM1y0jxM0izaBSgHcbRpIdLjUllv2uvl7QaRsowvT8oRj0fdCE5HdTN5HUfnrm84gk4ZKafzePr9HbfnwBi6veQ12xxdqqTkVegux+kz+G46PW6Uu9c3DduLO53WqXuaM2kIzZ1C0U13GjL6h3GAn6sDHZnJF9/5y4egDE4/RyZqb5aOJDqGrfNTg1MEW/WqZK7Xdfv9rQsXsEngvBSW56W0f0HKMEafmCvLRgFfu9wqgZt/ch8NLRyvaC96FhFd5MB7jQOJ5MAGEbQvsJJuh92uyQ5rKmg42sMzhJ8LTSoksFFpwyJ4cAwT1oYDapsoKzUx9Z6FppiOAluihUpGxF48CrrHl8FlmEYNmmsuegGI2W1CZOGZZtAmjc2PyyJWDH/gYx+S5XsPSXluUvIwFud5oG2oyzUPVuVxV2afkqEIZTXt51BvpaxMwIEXpIW8MZpIDAVN2o06NsvdPUCR3yzvxpzR2p2Xz+iddDdem3eS6tRTGMQ+xPFZp52D9USnQW7S34vZS+xFSzj/wZv0D71wFu7FOhgqxu6WA6GL7M9Ghvujc791ooj1h+X3YZ0B0kO3bFmgNm9BM1Wt4+TnLRxuiLOmsmcnpXT2rE73lY8uS30Ke9xg6qGFk5851ceOgVe+LE5PP7UxJnLg7ueAtoKkzaEZomFqnG7mCD/Hbkbgl9Z0aEdLbZS2odCVhps1KgRSI7y2WgoBhEchKlTBUD1VdIrZjigVtefe4WW4YMfVdgVMzU0tT8sCbDAf/okPyeHTx3HeF3aWztAonLtHU8MG4sgnCj6sIVdis474Q3V5ZQR+w8tUEKQrBC5kHXml+cLNYDrXFHs7kTfhG4SP78M77QbRdeto2psKb0ezlmAvhVYjzeO9Kb2XO71YU4X3gvo7uh1IyNOLtQ9VjLhhDgzVRA3GyN7COlM9hT70qvYFxqT+p8k+ig+QKeyWtbNCDLdJaKxvSAMnRTcvXZba2QtyJvdROY9dgGVxRsrHDkgFdlP65YieLsFMZOHLDz5zSaJHxHvkwN3LgaTT17bAeqIBdBqZBdnbM86dtpFOQ0l2Ke9KZ1ZkAhi3RPA/FTwoaKDNmuhgIkMXfsezzT1NziAwyDYdZwZOCLNuHbpTACoAUXjiUReTS2X55M9/Wo7hYN/y/nnZwhbkW1ka2UMDzrPLIESFQyW0/1DmkKCA2gTMDnZLGEZxd/wg6tKYBvu7cQyGGR7LMm8Ow3DcMSVyIL5fo78DKkSll+kyq/dZjGd3yR81ShpP7iqHTRyyqxmVs1H3NmyaqbI/Zxa7GAzP7KJj55WttWW2mZN/8yv/XJaPHZXf/L3/Kd9/6gdyDStlMgcWpLWMlX6wW6ABOo9Q8P5Vz99SxIBzuhTrzpdBAt/OuSJE5MA7ywFvj7TnoeaJbUo1UGhjullm+FTW91vbBuK1cRCg0zqTfZ20OtZ+OzXjFDqRo3XiAyaX4en22BcJhRFDgkWFKj8It5N7mK8rb9BRGzbDWKe2yJHDT6dBlGNVQfmYqsviSJZWsy5TB6Zl38n9cubH3ycPPfqwbGHFHT+6VnM4FBYZeCArp/m4nxMRdXopBhPmoBRkYnngk5fHj8V+x1SFUL57ukGynwt50EfRS3YH6KAZtH2kNJ/y1zHY3bNbyOpvftPna6Gp4gdR6Bi7cXns9nfiC6/PQMCdcKbzc+zoLP1X1g7EOVJkX8EJV0N2C/eBjYS8m84Rs+jzNV7Zsx41n8E5/aPmGgSfigsVV/73oHSe7Pa5Ep74otuZA7vSRGm/kupc2FGT0a6JYnHe3Zk/9SBSz5wwFJ7oeGWDo4X7dLYop+cPyL/6J78qZ1cuy+M/fFa+/tT35btPvCBZLOUeW56TBlT2Daw80qk+HoCJvoYdpgpWuOtLg3t0kQN3MweSV1zfeV5QW+35kpSk+h5zIyuHaEzepH2iCj1suaZP7hLIkpK295BE79QdMhFmGAFC0aI1yXoHlKpxWCXHjPiIypdxAPHchDzy0Ufk+MMncPTKnMhMQbYmAYNdfU04DAII+ieVGyF4pbFqUeCV0hP6IROfDEoJ2NWlPx+x98fuCmkE3pYD+sIHCHtbtgW/pYk3Uv6oeUaFu6UVjMi34UC+t1PbBlbV+SY4oTNFD9HfSfTHJPi2SeJrwi4n02hJEXCLOKV9fuaEnDxwSD71yIflyWeeli9+/SvyyqWrcn1lTWpTY5IrT2HPKRyEjAq0IExxV3R2nSxG65T66k5oiJ7IgbuGA53OVZsWL/qB04nvVNXiFC6J7A55tEHiiv+2Gl5DaEJbymSxGzq+VviniQSk0EY4z8yA/hjTiU2Smar50jEmOBGv9gFovDQW1z2p0KAzEJxypZxMzExiVe8itie4T+7/4AOycLAsLXQWTew5V4cNJVfbkZzBxTKBzu8W4lWp7IoeTLfl7QLsIOnzoTYDQHfT1/ahfJdFDKr/3ldhAJP3vpCIMXJgWw4MNSzfLhe7mfCtp2DpqbGBrzUzMCHdP/UA6m7JiON3LpbMSAabBU6ix52bnZf7f/wT8pPvf1ieePMV+erj35Ivf/fbsp7bkNLMrLQmCtKGdqqJI2Zq6Ex5Nn1fMVGg0ucUL3cRB0YepdCo0g3CWbDdiA7tEyfwqdVpQNWbwceKFLAxZa0CXDYNr2iIg7gdl9IUGrrHeXmD7shr0ETCdot9muij8IRtTyheFcvjcu8j98mDj75f5g4fkNLCJLTSGWimruMDiq2dU3GgDXNH3S2/t0Bixo9FBZfyetSQFJ9OIw664Tkt3Wrjft772RHoSQN19apdCe+6wM4c2osq+fPYC1y7x9H/THeP43bleDfRert4slfl7Go6z6ft+EDYrbjmZy+I4QZ3TQhBdewqjK3vFCVV+02dr2vJ3PiYfPyBh+SDp++Xz3/mH8g3n3pZ/uSv/kouXF+TytiG5KCdak1DoELny768nfGqsaGRWm/WCLMC+tW+F5RHHJEDdyMH0GbQkNqT45K7dxktCMIKBSrtjdmWbAKMNe8eyhjytsZUd+k4y0tUFH34z3uzck0qq9cgr+Hcurk5eeCRM3L0wfukdHhRNVFY2wvLLFpZYhf1zIZN9bWKyAstGYrhjuK0qaJ/d44E7D7XDeXZHWEROnIgcuAO54BLGiORqUIU9lXp7aZc0dPbD3nnqt1TTx/lsAqDC4Uo+5AlIKboWA4EHWq5TKiCmh/TCdP5ojy0/7AcXzoqH3/wAfneM8/Icy+/hFPXn5QVCFGVmXEp4sT1CqYEqOJvKA58sXL7YcpSNLKgs2LMH6+RA5EDHQ7wAwONGiKTZBdw2sBPfRg+NFL+Mw2NR9s82izbL9PYntm0vF0zQT9mAlbC5TD1xnu70ZQiGmO+gfxbValcuy7Xzp3HaQYiR5aPyJF78DuCvZ0mJ6UwOSaNAo6xkXUtn+hwxgEowE7jRIZpRsWJGFJmBMDHwpmgsQahfo1jvDvNFQL0e7gP0GCYzMonFQ1Z9ZbOn453/xCcoQaBYAA7DZ4v3iMHIgfuVA7sTohCLbR/xT0RnFizdN8wYvv3LH43NOhUkV87are/oBAEIC63JiwFKdiJQpgSeejYYbn/0AG5cOEReeLUaXns+aflB2+9Jitbl6CVGsMxDyVsRIguF8RaF4uM2gGytF63HeEsObrIgbufA2wF9rbbtYWz43ASb1cTZyM1rTQbK/9tdSxbmbZd/RoyXrUhWXE3cLZbmqdzAQmFp/ZGRdaur0hrYwu5G7qj+NH75mXfkRmZnplGR0NBiSvqKMrx1+3aEMOYnnRECFkbD3CaQSFMJulFkKALMBpO+xkxJBPB0vg1Ly+9+ZOElGcAzgQf00bBkUIXvZEDkQPvKAd2JUQ5pdmwAzLlkb1q8vphp1+5YZKQS469c9FOmR0MC7Q7jV7bsM/gIanLSwvyMz/9WfnYj31EXjj7uvzJt/5avvHyc3L+4mXJ42yxHIxSaYTegpFqE/nb0FIpLqLyDn/glyVrzDJ5jy5y4L3FgeS1T5oAG4w5+6QJYbRBW86OtoU2zDbJMzQpUOkfz9XEFiU5HgF1bVXWL1+VDLRPM+Mlufe++2Q/PoaW9i/ig2cTX0m2lYI2SyUgocKLDvcOLRYRykqghuVLAFKe3cCmssWOIc2M6I8ceE9yYFdCFDvIa9euQS2PbetUgtq582FX19vd7cjpkIEdKXdMVi0UymM05SybWmCnSYEL/S5UU61WXWamJuRDp0/Lg6dPyYuvvSaPfe878oUv/alczr4t4zBKrWNpdGUSWyRgZo+TkuwDuYTbHOuya0pD3niLHLhbOcA20d0urCWm4tBG2VZb1QpW8eGomCxsEzeqWGlLS6qa1LeuShUb6l47f0VmihNy5uB+Ofm++2ThwCLOscNRLJiuq+bWoGFuQmPF4tgWrT2mSrk5BpPAtBv60ZQGCv7evANAdh3Vi5Ph3dC06wJjhsiByIFbwYFdCVHoHaXRxOoc2hfdZtfTBbo0pUKVmrjD6LWEz+EsOqMxbBD4kftOy/Hl/fLEN74pr/7N12Xz7Nsyds9BKRyYlxzO0apNTer+N5o3QW4dN6/dLgHojo6hyIG7lAOD3nhvF9ZKrOI67uPCdpfLwci7DkGoCgGq2pStixelcf2SZOvXZAEHjz/4iY/LgX3LMoWjnerFdWiHsYgkV0M7pMgErEGwUNsqfqRFFzkQORA5cIdzYFdCVLvZlHwOhpxcMTfAeSc7IKkvamgXmSTAA4Rh4i3kt0Qrh8as6Hodnioq/LNTZ/9bqWzJeGlMpopYtXflumxevibr5y5IDkfKlJbmZRyr/Iqzk5LBlEIL2yPUUSfuhs5pCaL0MrRgItUIL6yvOjEicuAu4gDblv28UrB2Mm+4ZbELeBu7hmfR7nK0U4TwJBUs5diEjdNmVbZWN2QSbW/2ILYoOf2QLO1blEKphP4Du41zZ3L0PE3cvZ0ZWrZntaxCWZbi5fff+9P7Y0Kum222nt8L8HCqp+inb4cYx9GHszefA/bGx3DkQOTAncCBXQlRnMLjJnjDnPcHw9JHiScO+1GrZDl4zpd+8YY0haCkBMdO3MQe7FgMiauO3OzwOU3HgSDH3ZYB0q7g8NHqmjQvb0jtRxdk65XLMn3PYZk5cViKh5akgg39NpGzgcGhpR15WnwDAhan9MROjXyP7m7lAN5v/TJxQQr1RFiFG059a3NrSaFdlXZtSwTnX45hk9wtbIRbffttyWOq/wGsmj3+4Q/LwuK85Evcu20dtoh17O1UxzYEwMEi0CgzmO5LtyY7NiW03y72pqG6EkYMaMMdAkvcO+EP+UOfY0wgulHyDinWOpPQrxCP03gzOIeVFeMjByIHbhUHdiVE3SoitsM7rHtjJ+x/nj9Dwck7RB0IkMJ7ctgewjR45U7M56/KCoxcV8++KROH9sn0iWMydnBB6uUCphcwbQlhqgkpjoOH4vBC4j1y4K7mAN55vPdN2hmiLdFAvMD9NTnG6wcLPlxgJJ6/clHaFy5J5e0LUqs15MipE3LqZz4rB/FhYrIW2hg+aapN7uyETxtondg2uc8UrRzNdbdu/1AKifEWORA5EDlwx3PgjhOi2K3qL3yYqVbJBSLvfKkNQ49Lo/Nuh3BPlOIiEPCpgIUIargKVWimsF9No3ZV1q+syuZr56V0YJ+UYTc1dc8hqc6WpYr93Bvo71tNZECZpCW6yIG7nQM6oYape24zkMf89jg/PCAotTc2Zf38BWmuXME+BTW5F8bhhx89I1NjYzI/NSO1MWwnUqxBYNJWiyaDQ8Ox4EPPs0PTcUUOF4TYx05ve+oN32mcDp3SXpMVpce95mjEFzlw2zhwxwhR2sGyD2U/1dNXUVbq7mcckHzaueNNQxAPd0LnPc8vbGil6g2c/l5ZleaVdUxJXJHKWxeldPKI5PbPY0MqHCmDvXLUeoPbLrA8Fd441ET33uXAKE8//ebdeZxKU+e14Vudx/RcHtsRFHHPVTDJvXpF1q+tyFi9JsvYSfzUJz4iB0/M6WHAGXxocA+oOhaccNVrI1fX9kvcWN+hXywZpKsSywtkYe6/89gSKYociByIHBiZA++4EMX+VPtUSFGD+1WkeoLaY3lg+zpmuCMnOm/D7nZcFuYUHfeLsi9j2wiwha9uYm7AtmP1ElYUvfyGlI4clNKpQ1I4dVBkrABBivITDzvWoQYh2l3hBqe3xFDW4uL1LuJA32sXHvyQKhLcZr/o8+mrAcBpvNujHJB5WBQRGTJHn6DWCNOp8t21HzxKLPZyamKVa70tWy+dlcbFq6C8KidPLcnhjz4s08uLUp6bgY1THducwCZKtUw6WYfFGUCs9k5oE6FQLZPnYDIpxAWyhhEe4yMHIgciB95VHLjNQhR70t7eFB06onheVhZG4FT9U93fplCjPS8EFlUApfKx56edk0swfTjZabMLx5c0BJ4GNE06SAAfY5ssQzek4bOyAU6N2PH1zZB2/hdXpXoZ5/K99JpkX9wv8/feI5OHlyU3XZZ6CcfLYMBoUEhTYOAFecFrd6KO7t3JAX/VnPquMJ6yvn9I1HdMn3p4+CGDRnF3M0+DfZC+yylhqgtnyMe4kCXEjHZL6PDMpmklMqJM0LJ4Cvp4b7GbU2pVXV0yWFVXv/iG1FYuSwkrcPctLMn7fvrvYC+nGclOoV0U8PEARK3MurZXTtXRaQmI19V8IYZ1YNtluWxfbNFKIuMsEvGJR6HiJXIgciBy4N3IgdssRA1nETfMTDsToBiDDtiT9O6BNHS/n4bnLUwxXL9+HXtbpTRRIbsNLwF/yM4kPbaCd57dx/81LMd+8axcxTTfGjYHnIAgNbF/WcrLS1LHLui6IpBbI/jWWT6OEaeOHLjr9B8joruTOWDvGQVtPMT0cxxEdFpwScPCT/GB24CYgAFs/gL7++D4el9l4mFcGp/D9tzTqFiWhVmiZfZ0vStNSOPXCN7rHGz8CpW6bF1dkfoqNrmEUDU7VZYF7Bq+/KFTsrAwJ6Wxkozhl4GGqU5Dc60PcKAuyYcGaUKYZVh59FulknV3SNPWh2hLsWtPdWIwciByIHLgXcmB2yREecfp9xF4xYHHxgPtqBN/xzMAiePHwMVOHwPGxvq6fnknOgDgVLQOOgALozgQ8p8DjmxgddEWNFMr2B7hzUuyte+cLGFX9PLBfVLFDuiZibzUdI8pG8KYV2dHElq9MK+QlTCk6Bj9DnDAnlC4+jsSnp8KBpqEi4HgJeKztOfpUbybn/H0WbpJGQh62L3EQZAArsKIByHYMFnxGVKEDZ5NQzU/mh4EJ+KAuOIfAcxsW4MADxZQtGHPlK/VpbaBdxgG4pnrG7JveZ8sYouPfYtzsoi904ozOSykwOaX0DIVoG1t4N5SwYvItQC92VYELC/UMtBn2igLaPtBOkpXwUuB05eALh0V/ZEDkQORA+82DuxaiNJ+fFcdIDvV0MuOyh1O1emXr2XwDrk/ey9ehJU2CjEYOOBnMKEg0M1wMv3WhRQlcYSCS+fJcaESP+I5GGGvqRqEqdW1isw+8rDITEkKy7PSxC7o69gWgZqpFgZAw2MFhmL50Q4X4qJ2isy4I5w+FjwcFYH9GeHl4R934mY8dhzTZ2oaF0xS6WMMaczLH+Mw58V3jxof2uTxmMYCN6hFkmqnYCNEZwIRtaU4YrfOqTFAAF7fewjujOfmtnyHzYU4vlv+Qxo/Dkxwaku1VsW7Z9NsNE8y5S4+JrCfU7NWweG/bVlawCG/R5fkxLEPy+w8puqKWDSBU4FbOHKliX2cWIk82h/eZEXOulOQUrYoQtLoNPFOHmiqVqE7rSs1nYkT9l3hGIgciByIHHg3cmBXQhS7vRYHgU7PfsvqnBZmbraQ0MX3odGBTGNtYEv366yidfOdAVJn7DDAZTFILjQz8ksf/6RMHVnWA4+ffep5aWI1X3tuWvKYBuGw28KAxDIyuqqvr/gYcQdwgO8Gf9y0lc9JhSMIIG1MAVM4yEFwzm3CZgiChQsLGTz/xuoq4kzQqVexU7cKTcgHAYfCTxUaULQW3ck7s1VTAandgEYT9nk8PJtSPN8NltOAEEUBTN9H5me6ClGptsYXktPSQTOUhaxEAYfRaueEWzuHdFSAwvrkzJQUyuNSXsI03X3Lsnz4iBw4ckjKk5M4tQn2WhCIWjjXroEDf3UbD6yyU9zAn55ZV/TphoFSo4sciByIHIgcMA6MIESFjprw6LH5VcqOlZ23/gyPXZnQ5wZGsvtXSA5MagTuX/P6CY0ydMCwAU4HLwVPdeApb1IkB5jgdCpDh70OoCsdEK13AAAgP0lEQVR/rGRcKeQofCcfwxzQoEew4QLZXaALqPXWwJEXB7Dc+6c/+XflJz7wAfnG9x+Xrz79pDyBVX3rpYwUDi1Kc2pMKjyUlZhQLwpWxKplqGBltFl8Gnv03y4O5PFcxqFlqpy7LLK2hmnbTWnVIFxsVXBwbkXa69iVe6OiAgZt7EzDhPcT+4zpsUN4mioMaWPA8+SdglAdmhw+aYY5JUyHLQNU26TxfPZMZ4KKQ/TAhXjg6Di2EYQQl+OxKRCyGOYijAwMvjMlGInns1I+PCMLhxakjIO4HzjzAKboFiVbhqapjHRMz1E6on1WA+3E25yWQsGLjYP4OoWqj21BVVK8EaYXgPHBGawFoqbJuRLvkQORA3czB0YQorqrz69k/WLm4JDu57vBekLbAVqa9c3spM3HWGoFGGKUxbJI9/UUkQQdn8Hxyp/FGpAJUy5A+T1BoPBcieQu5dUo5uf5X8Q6ifP5ji/sl0Of+pz82P3vl69865vyNy8/K89ir6k6hKjiBLRSsJdq8/iZLAY0nX9BVq0ny+7F7qXG+63kALlu7wHu1bpsvv6WNHFIdWtlVWRrS1oVHmsCzRHPhKNAr08Kz4uSAoMWZS8XkSlCBcOFrvvJalnpfAaC6TgKSNQKMUd44Xl3568H3htu25FBo6DAVJwdg91SEYscZmVqYUaWsOv+4fsOygLOqpuEkbhu8QE8NAqvgmYoThW/tl3gNrRWDquU2FJ5ucmdkE4EvCnSEpBBnlHhBuWNcZEDkQORA+8SDuxKiGK/SHuf0N3fwipqj3/L8HNI0D4+6ejNQ7nQ09TvAh2/0IPfRxFO23AUbuiu59hfB3/37j8k9/+jX5afuXpJvvDXX5Ev/e035eLV65KdmZDWWFGq0Bg0CjDeBdeTAZy1TOi4ZVWOiHs4QMGBz6CBaTiYUuvRP4LVlk0cBdSGELVx7Zq01mGADWFKn48+b2y7oR8REHlcu0S8Ov/Fd5ZIwy8IXlosovheqRZK8cBPVSfi6TBBHN47RgRgZMhA+O78RMbxHo1BKF/EgoaDD5yQY6dPyBjixnGQdqk8hhlA7g6OfZsaNf3ZNB8QUfhSTagTYsWw7OgiByIHIgciB26cA7sSojhA2NTFjRe4U05bdYROX01mbZzpP97FsFBT1eV0pOqK6Qpw4HSnegIOeO4G5E2+2iFA0U9BimBKHbRKWVgNc3DKwU/cORrEb9bk8MS0/Itf+Mfy+U/8PfnaY4/J1775mDzzxpuS2T8ntcWyZHGaPYY7HVO1eB3RqaKK7nZwgOy254j3C4ZudbxrxX2wZ4NNWwGJNA+ahsqwAIEnB6GJCwoooFSooYKtEu2nmte3dGsATjurDRNgW7CN0pVwyFPFvkv44qAcIxlos1rVLWlUq9AQAW+xKILd8bEOAbiJtwINJd4vtbHCNCDKy0Kgm1qclbkjCzJ9YEIWlubk5MmTsrRvGdpNCEyFDDRMKAcG4Vv4bTSwfxPK00ljVhDaKtbShHXcqerSNzdwmDDRRQ5EDkQORA7cFAd2J0RRiAiCxE2VusvMHAjY5fvgp9kHDgL9AwNjOH5w0Ey0PxpQLH2XfgwdEGbznwtYqnlAPPM1wwaeupHhVkOOlWfllz79OfnMox+Rbz//vPzOn/+xvPTCeSliCmYLA2MNAyqFOSuTVxOk+mnojwHwe9KR/3TpZfYWw0j6HCKJDZ7eeAAzCloavh81amqo+cEjwIbd2NoCydQaAagFmaeFlyc/O6HvP22Rcge4wACp+OkdzzIHGDQPpcOFqCI0lCUUUK/ANk7fWTxx2EtNr9alCU3X1hZWeq7j7MYKDNHbmzK9b1L2HzwgJ+89IfNLC9LOt2RyYRxTwW3dNLaarUtdp5Kh1UTZugEmKk7FFkiAD4IbyYZL7haM18iByIHIgciBPebA7oQoamOUgNBL7zExvehc6GG8D4FWMq9Og9/TUPTTMVeg2BEwGlkYTOdktLth8ZZOrRR8uOhKRXr5B4TEqXipUYARMQexEgbppelZ+bmP/6R89IMflD/80p/JXz7+HXnlzRWpYY+pWhGDYYlTfMyJPaeoGsFIrDQwyqncnigC3lVOqz6gRspf5QkYkuaPBRJ2WdYhWPhg+BD1QQISAorawFGCoi4HSTptDY++8ZROEM+d7plI+yFOs5EMlpBFvgxXvCFMOToH6SZbxLOEBiqLo1Eybe69tGFaIqiEGtBKXaivyXipLcUxkcMnD8nBY4fk8LElKYwDI3BPjI9JtV7VPZu2oAWjcNaiZAdxCZTghwg7nA5+dyCAjkTBMaTeENYITYmXyIHIgciByIG94MDuhCiWCKEgdNV7UX4fDuKmQOICFMMcJHTc08EAMQhwwOIWAhwq6KczY/AwYigC+kOYAAGpx/AesprHExSWl2EOuzhj6qbBk+0xaHJjT3Uc6YgDP8aotgp+PQCEh7dOlOWf/cIvys9/6tPyF9/+lvzWH/2uXMSp9+PH98kGVvThTBloE8pajyb3UyAuUpgQyfB7x+nj7a0uI/WHhPD8ExA+X8SRbTYFrAxEHOPDM6IgBIaqeAS/Pjqdc6NwpElIBjxeKgUlchWu+KADPkRRnqEeEc0B5dm0HeNy1abkYai+cf6yNC6vyObaFcg9K5h+y8kpTMftw4q56aMLUjpQlknYMtEInCtJuYqTKz5r2OeJ7011E7ZY6kgUJ7dRUNhvivRgklFT2RpVxANYijzLmpBLHMBCWs0bchtYvEYORA5EDkQO3BgHdi1E0R6If3vpOFh1DLcHY6aAxAGgU7KKKQHYYzlC8Nf9bU5IDiBMceeCl4f77kSZykB4LSUU1cRy94WFRdi3FKS5xeXsdMzAH4c2z2DxHGxp/8LU5dk5+YVP/pT8/c9+Wn73y1+UP/zWX8r5FqZ75krSguFwA5oPFtPE0yG8uVCw4g2xOmp6vMO9O+4DnzeFmkA+731CQVfVTIhQoMAHXaavMOSfC/vAFIQk5SbYpbiZBz9qjvTHFwQankwG2xio9AQonc7rFEqbI6blEZ9fwwaW2BJBYM+UgZ1UDTZQ1SvXsF1CW8Zh5D0zNS773ndCjh77EDa4nJEiNrWsQbPE/Zmy0Do2UU4TGstrK1elWODh1rCbImFdri/CXmSF0U8L9fkb4AJSF4oYiByIHIgciBy4ZRzYtRC115RwvNIxC7YjAwfWUGBagPLBojNoGpDHAyP+fGixtC7NhEZ1QwwYrkLJ/TeWUyiUZHJ6mkXBdZfFSB2TNasPdoAxtZVO9U3k81LAIPrLn/05+eRHPipff/y78n++9hdyqXlditNYbTU3hYOOc1KHgXATBZLaPho7Fe4ncnsJpB/+NsUopwJznEf2/EEAIno5SbI0LgCRB2qXxyk0JiRI4EeissTUSyGCOxYxgVtzIIp+/BdyEH5xflwGRtxj8LexN9R4u46pOEyhYXUbDcS3sGdUFavzqHXMwJ+DlJPFNG0zDzVhvijzs1Myv29GZuZmZAwbWxYhII2PFbBSbhzTs3hiRVjH8XxF7AQO03RpF6GqAhEJ2SA2C1yqVUKkV4VUmtOae8DuJB/5BnOqGzSGIgciByIHIgduLQfecSGK1ePg5ptjDqtuejhxv989T2/Y47vvDoVC4bpD3ZCDQoTXn07xeG6/Eyf9GOQ8iki0KAx7VEdx+NNwCyvBsjKbKWKfn0Ny8lP75BMPfkh+7b/8Z3nsiadk7J4DUlyalcz0hFQwMHOTRBs4DT/RellWE4sZfE0TMxhiN7E3i83z85mTOUE+MjaFq9KDiqkGEMKL5mFF4VGDbwhKJlYiEv9Mz0M7mINgyulTbj1BRtMIvNnGFBmzcldxeLi6LldBHDRI1CI1YOhdgxDVxmYHFKK4UWYW8QVsbFnCFFpxYkJmlw/L3Az2Y1qclzGsrmygrCKeS3G8iB3qi2YjhfIo4FBsU6FNJ81w/lxQmnWpUkOlc3gnzEjenq7We6eLVmYnoJgeORA5EDkQOXCrOXBHCFGsJLcLSCQPDhLBqcChI6jHjHLfdYZRkI4IkyJeczDcHRdmkjSaGo8cBtR5WBi//+BxeXTpqHz1mf8ra+felvHDy1I6cUSKOK6jCY1UGzxqYV28YaRgQascDL6obncJZGUnxnwuiBhv0hwKKYPrl8JDAAsihxHRlUcNrjvFdtIoMIR4FXwoEEJ4IA1Kh2qOAKIwHQQKAf60sW0E4RoQdOzYIQo/nFrDDxJKG2fGsYDm5gqOWdlUfx1G3YoJghDUhuofx+aUefCQGqUZ7D5Zwi7ePKKnMAUhCILS5HRZxifHpDTGH+KRr4jtCPKYsq1h4011qHgpCE110MPjWUAMn4Ims0w+IX3GuLC+NG/jk7IUBdN4+gjneS1ltCuxWYmjwaehlC/piOiPHIgciByIHLghDowgRKGLV40BOm0Ofj4Asgfv7Y136tVT8NSsuONeS8TLKTcdSHExqyAOFBziMVgCnAO35+JZZsmglMLlOHvvts8TY42IMMR2g6XoC6a8mu67ObNsFR6cCE316TqqG4jAf11AiGd6x9FMhzl1hRWQ1mAvxV1+Gpg+yuCYkdbahqyfvSQbz74h46fvldl7j0kRR8lUx/PYF4h2OxSqbLCmTkYZk6KfZJB3pEcpYYE8/y0NE8jRupKH/CcwLi2c8UbHwZ+rzzjtpA9Hnw1AcOwJhRruk5SHsFHHHkj5KrRrNF5DGW0Y0vPehJBR5fJ+1I4H8NawMo37LRUhmCAzpsegPSIs6US55Am1QCyLpGagCcqPj8MHWQhxeQg7E1OY6kTZRQgzY9gzqTg2BdiWzMwsSZH7CRAWaXRZ7OFV4r5McHlModL+iAJ7GTvNs76qqaI9EgG07rjxrg4e8LouOOLFUGhsrcU9oAII2YL8aUfByG3uVKCC0VWvvRPrmjjUi84WRiSx/R7k6eSyp9sPFGMiByIHIgciB24XB0YQom41KUFI4wDBEcLGEy00LTTdaip68XcGq96U7cJOvA7/HUBWhCNrSCZuFaACBIdGEyptYKS8k4PiAyvjIcysy+aTL0jt3EUZP3FYxo/slzI2hqyPYbd0DOBNLrUnQv+FMnij+MRolsutE2wjU0YQPAAyAC8VgTnYAnE6jAN8o1aBbRAEKZ4Rt1VVQagJuyAegUJhSGrUwCAflva3IBCpoAU8BdgAcYpqDHeW3YQRdWve/AVOjRXnIdRAMwTBoYQVa/SXoSEiPawKbZVKEHRyzM8Xgj+UEcjEAjUIVfjVMeXWBB3cvLKE6TUKUdkCagxNXRPaKf5xV3lOGeYoBOLOaTZqslh2PUftFvmu1beytJT0xQS5dEyXH3npUpy0CF5DGuulYmwIO4DJYIxEbtCm7zqCA3GFTIaiB5EjjPfIgciByIHIgdvOgV0JURyAGkFDsTeUchjjoMBrWqzYG+y3BwuHPf+xLvT3DHQcqYPr+FIRPSOn8gR5OLAWMO3U3qpJ7fVz0riyogflTh8/LMXD+yWLFWAN2ORksNdUk8IGHQQHalfyelAthm8cT5LFj4O5ynIUIqjp0TPhICTRdohpkGCqa1eRVsUht9A/bW7oNBY3kMwBdhqamyKOGKGdEAWSyfEytD4UiiD0QAgqYPUZZZ0pHH7LqbpJvYMcCFF1HpKLNL4/1GzlKLGRVK5WBC3Ex+lHiHlKP1c+6q7eqD9FEBWIyCPaD+GP0iUN82sQ5JowBs/q7twGqxpGoFehBPAqNKFccocCFx2FM8aHgAppfc/FUvfgqk9zGzyh5O7bNvAxKXIgciByIHLgTuHAroSoBga86ysr+iXvY/aNV8QGNMvv/uFDmU+PEJ4DpLnh8A5x6+8JMShqO3pYxzBwj0QU8QIfhQz8qKVpNrBabPMNufzWJSkcPiCTMD4v4eDZAgzQW2UIU4BpwXia+1fluYkn7XhgL5TD6rJ6ZVM3bmxh6qyJqTfBtgwtTLMBSG18ZoFjYnJcpmdmZQHG0+PjJbMZ0r2JTPDhdg4FTOtR+0TNE8UWPgz+NbG/kb4TXAXHMI25QY/vLM6acwaWd+UChRg8VKKhFo61VcGGaFHZCtVwEAadu3YHQjrc6uAJjY04FQzTbYtPXXXlJuDU1g54ElEGcRSijH7L4GWkst92751Aw22vdCwwciByIHLgXc6BEYQo694xDmFQa8m16ytQXgy0KNolK3zg46hJvxYwMo6UcifJ02VTsoejku5RRQoxABMthYU2hIWO8bbXxe8EdrLgUebR+Hi4I7hnUdFBJUXqYOg48gcAGkyvbkrtR6/JygUKU/tk4sQhbN64pMeW0E6JdlWrG+vS5llttQ0pZWoyNYPNHbELdgmCUvnAgizOzUNrVNbfBPY1ol2PGfdrgQhjKT80Qpway0H7xB25IcYhFrZQeA+a0Hjxj2RRk6Qk4q5/jNQUXME0JZ1s0Himsa4W4L2l9m0Wa7xiOmoOEOUJ82quRBRSDBpFoIDXhGuD9ByWZkJaQJG+qQBneOI1ciByIHIgciByYHccyKtCAXloAJyD1oGDj9qU6Nc7kWGoxLSI+niHzUmGK8WYEgYvTbzhC8UE/hRjuG+PzMvdOxr6y/Oh2FMYJpVaZY7WEBh0p3L4nQ1qoM2kJLPZ37SolQE/KYxQA8JkTmlVoSHK57l9AXBQEEFcPQcxBRoa/lSLQ2AKYWrAjDt3hoRNNp9BBhqn1mUYareuSPvihGSx5D6LLRGmZqbk9H37ZXFhXoqYThuDVoqapXEIUdzs0WZOIZDAq9suQMhiXVrhZeB0IL0ZvA44Zjk8Gda+85SUJqSQPBpNKx4GyAwKTryHnLwzqHyhwIRAmmuEtBgiIk5LJc8cNkGXeFgY4HDDeruAgXEEAIbwzsKLIC6aT8H0YgJ3T2QnOfoiByIHIgciByIHduRA/qvf/RvsfbOIPXBmZbIAuxfYmnCwp/FuNqvzJToOUQfAE+zVxoSDEtygIchSdiy3G8BG1+64HUI6NoKAdHmD6OmG2AFpKnkY3s4ATzsb2BsBkCsJaQzOqSU6pYOSngpMGOgpGPAHrQ70OArTalGYgL0QjvqowzaIMOvYo2i1tipSRF4IAXls1piDrRHW5SM9J4UJ2CBh2q4IzdHUPhwdgpVps/Pc6LEkS/sWZfbgPhy/B4NsPjagz0GAIi3UFJHutKOgpA7Ck6YBUG2PEEkBxIQg5u5xyGerKSnoBA2PoyKo4rVyPadiIYNU+uUdKYFXGtAwLuCBGq3jbjABg5MRopmIt5GFaf2STVcH1FNRM79VSBEyLrrIgciByIHIgciBm+VA/t//3m/qkRVTmTGZzJXkxMGDcvr+03LmzBk5fOQo7GKwvBwDHrUs1KI0KSdgQDJxoTPWJWMyBywfpXzwI5XuT9LcQ3j4OXAyo8KlkTBzv+N4HHJ0JXoxhgjigRMGKPpV49OVY4cAy+kg1XqTVOpndF8k8kKno6ysNlUcKIfFKo3QLrWhvaO0VYdRPm2WNBFgm1jtdv78OTn39jl59vln5IVzr8r3n3lC2hMZaJOm5dCxA7IAA/JxrMabhVZpAsbaNLguYH+jArRKE5MTmGDjajqYPnGbAMplQQCqw9aJdkrkJ55cX73JO3VKLoQh3hHh95Daf0NhpiFCBnUqgqmPMc4r4iJd6rwwBQhxA28ABIzhgSAW8nl2T2NWCq8G4IUwaEIVk3y1I/Mk+ZkxuE4uj4n3yIHIgciByIHIgd1xIP+xn/80Rh+swEK+2oVrsvLmRfmz7/+l/K8v/z+sbod9DexiypNTcvzYcTl57IQ8/foPZbNVlVYJgxPGaD0LDIN3vYahCv86cNooBoyMCIOYp/WMXgSl43Qigbk8nloYtUJWPBykgw2WAlsOTUIOCxGDFqVhCkrcLLEG2tPpBnUTV0pGEIq4GqwF4+cWVp1lJ4qq8WlAiFldXdXf9dU1WVtfUyFpEzxcrW7K2bffkIuXLuL+ppw7/7YKNdwOgBo/rm6bxjEv5Xv2ySd//B/KRHkC9GPOjo6r5powDAd/yGsKScoRbPC42lpXfquwoTNaFOyQh0IcPXwY+FG06OND8hwIE1JDnAlSCYCS0XVBku3pxXyWX8tAWZoL0YrDkhTEEjpYmNMFLo0FLAWjThwzd+A1EBKphWonmiykEBmcTdGZ36+Kgnzoc4Pi+oBiRORA5EDkQORA5MBQDuRbYzqcqV1LdrksS0vH5UD+lGobqjhZvgJDZdpIccXXebkuEw8uyMcXPiNVClyXrspVLLtfh6FzC6fXtysY3HC2WAPGzw0uP8fyeU7/6RDOMSsMdl3UMA6CSQmaFVulZYJCHvsF6TBHgQCDph71kcrI8ZQTOmnnwyKHcmpsMqDf7JAw7HpimgaPSyMZ5Cec0gkPhJo2psk2sk35d7/16/Jbv//fsUwf9cY2ApUmVs9lseINjrtelyfLUpqdlLFFnLFXBg3YjuDQPScFh7zI+MQ4zlkb132PaMBNLVIDGzrWobWqtGrAhcNquQqOlWT5eU67kQy7UrtEwcVkpUEVCRWldmaAEBFSgTG4gII38/ZBOGS4Ey+9oIjCpVKDSsBxalLFKUSb+BZwBTgrge8FXNDiUfBTF24WYLrh6AhXlmI0JlDqScd10KRju+FjKHIgciByIHIgcuBmOJBvZM1Gh0haJU41YdDCyF0qYgND2NoUWjmY6GDKiiu08DfZmpPlMwelsIlpJJ2Zwon00EJRyKpBmNq6viarK2sQrq7JtWsrdoArDnrliFmDIXVLj+uAfwO7PqMsbohILdRKbk2+9I0vy5MvPg1CWtB83aO2PIkAgFE0GQ5BDzdj7HOIV7st2m7B1mdrsyIrlVUpznJKMkBzdIVfV5vxDo1GDsv2qRGixJKDdqlYsO2peexHDsv6BUKT5oF9Upkr2mC4XcCeSbNLS3rA7CSEpQnspN3KYjUcD56FLEEhinsvUVtVpWwBDRKNyVWoBJ3cb6uSo/bNbHu4Mq6uwhT2eEIeFcyQRtHJl+uTXx1HQcUjvHKdVPOFeAgoDtkrjBCuN24Ytl7sveEOPZ7CcgOdToAmhYAW7FIihTGymaWnf0xHjAtZGnJkRmkv/QoSL5EDkQORA5EDkQO3mAOZX/3qv/QRqasonyJhpNqf4O6Dq2fQwQsXh6WskPgRr9ofCjx6Uj00LNj5ulHHfkIQpOorm5BZgAljJDVXa2trIhuArUOYQfQWlujryK+FmSChK9sgHDVg67PJvY7onCh4CUqhK4+jPqamJtVvNkImBCq9JBAwWeyWTQNqCodF7pjNKbrsFo4LEWiJJogZq9mgKYL2qAYhSsnQWLskYZRPv4aBW6fRQljjQzpzmZ6GPjoTDugznnmqY2PFQuWUcIXkBQ4wmok4CG9wfE6GC7Goo8fD09HEwU90hEvQEiDlHEcqakRvp079GZjWTVMHxuveiUmI06qxjmnHcG8c04fhT+eN/siByIHIgciByIG94cAAdc5oiCkguVDigy6HtcQPzYHCYLCrYQUaB7gsltqXCiUVJqi54aDPaSlqHxZhcJ1BhqwuLeN2AJ2B1Y3DKSBRM8N9qirUanUNpFq6aq8otPEoELpEgUGhQgk2ONV4sHysQKRWa6uyhf2PcGYd7a+wkiyP7R5IdQ1+E0isbjqmK2a7EJsLIyo0hjSPGzasO586qLYTQBzKS2ep7jyOdHT8JlA4TOfudPGutHeSbrEI0nmeqSLh7aE5XTUCajjAJExL5+nGFkORA5EDkQORA5EDt4sDA4UojlWjDFM+piWwqQEw8SLRpmg6dwo2LRpI457sNg2JqqX7BHB6EZonhImXeRU/YI0uhDDDluM5aRxhgQRXKpfU8c7pyJpguhApJkTxjkEcZTpGmyakXRGgIL80gU+tdDCtxj0CqjTkZtlAaLkUvV2YyV0o14Oj3dMI0jnSyILQMQw0na3Ln8bRldAXcNSew+99gLckwkvjnT+nZtTCPP+o8BEuciByIHIgciByYG850CdEJYLRLsY0z9NFWjLGJZ4k2QzIEdQkS1fNCLyqzcHdbWCykIJUkGKcYgBh+OdWCyZm4Y6wCUW8c6KMQlNPBVRAo1jEeGq8iAzSE4IUw1T4QpzlYtgCmhZyKQEAYNKNuoG86kIWkBshXSlOndLRkzIsqGiG0OvRfnccfBY70+nQN3MPJZPINBH0p+ufTruZ4mLeyIHIgciByIHIgT3kQJ8Q5bh7xzXG+7jmd4cddB8E04mDLxmlOUJ2fhrdAbQyEfYon46i4bhNF7L0IPTQC1QQkRCTmh4DUgplFKH0n8iACFZQzKHG7bzDDtxwIi0tg5E6EqB38zLmHXBOhFZgtPJBNKHpnHcW6tTHw3fE3Znt3E7CdwR1kYjIgciByIHIgciBhAMqRCXyTBJtA64Pvh6dFiKYxwfltC2Qw9LeyeMdllog4iBe8zm0leSbJXqs35nHy6YtOh23ReIelsSkWidIPaY9ImRKgCKIuoABeRwfxSp1IFb/gjqKaPVIF0tVbMwTivYseicPPN75EbIlt0H8TRLVE2hLR26bSSlMQw/0O/+ZOIy23ozbFtsLvOtwup5pfyAwXXjav+tyYobIgciByIHIgciBW8+BoZqoQUW7sMA0DoHpcC98egDvhbXh03P7vReDhXuGWhV7unNQHOuO6cOUSk7wJR5CI4B/F4j0npI6mF3lqxTiQWJaKnmX3i5itslLSlKV2QYyneT1YtyoJaXz761/Jwp660j4nfLsLYURW+RA5EDkQORA5MAoHNiVENWLkEPb7od0w3Izw2I6r5afikh5e8ndIdydM7F7QgFeR967oXZAuefJTsnoiFOy4I6Z3hnlz04cfee5viPjIkDkQORA5EDkwHuSA/n0wMnhLB0mR9JajF4OETY9BKa1T72wnN67FW7A2rmbKqbDA6sZ933q5cmNFtDB3Znq7MYFiF4+KRm9kd25RglZbQZD7lX9BmMfErsb6W4IihgdORA5EDkQORA58E5yIBgFvZMkxLIjByIHIgciByIHIgciB959HPj/yStzFpRB3foAAAAASUVORK5CYII="
        ]
       ],
       "datasetInfos": [],
       "dbfsResultPath": null,
       "isJsonSchema": true,
       "metadata": {},
       "overflow": false,
       "plotOptions": {
        "customPlotOptions": {},
        "displayType": "table",
        "pivotAggregation": null,
        "pivotColumns": null,
        "xColumns": null,
        "yColumns": null
       },
       "removedWidgets": [],
       "schema": [
        {
         "metadata": "{}",
         "name": "path",
         "type": "\"string\""
        },
        {
         "metadata": "{}",
         "name": "modificationTime",
         "type": "\"timestamp\""
        },
        {
         "metadata": "{}",
         "name": "length",
         "type": "\"long\""
        },
        {
         "metadata": "{\"spark.contentAnnotation.mimeType\": \"image/png\"}",
         "name": "content",
         "type": "\"binary\""
        }
       ],
       "type": "table"
      }
     },
     "output_type": "display_data"
    }
   ],
   "source": [
    "image_path = \"/Volumes/workspace/default/volume/*.png\" \n",
    "\n",
    "df = spark.read.format(\"binaryFile\").load(image_path)\n",
    "display(df)"
   ]
  },
  {
   "cell_type": "code",
   "execution_count": 0,
   "metadata": {
    "application/vnd.databricks.v1+cell": {
     "cellMetadata": {
      "byteLimit": 2048000,
      "rowLimit": 10000
     },
     "inputWidgets": {},
     "nuid": "4c8c23b6-0ebb-43ba-81c6-d07ddccfdc29",
     "showTitle": false,
     "tableResultSettingsMap": {},
     "title": ""
    }
   },
   "outputs": [],
   "source": [
    "from PIL import Image\n",
    "import io\n",
    "\n",
    "# Laden mit binaryFile\n",
    "image_path = \"/Volumes/workspace/default/volume/image.png\"\n",
    "df_bin = spark.read.format(\"binaryFile\").load(image_path)\n",
    "\n",
    "# Inhalte extrahieren\n",
    "binary_content = df_bin.select(\"content\").first()[0]\n",
    "image = Image.open(io.BytesIO(binary_content))\n",
    "width, height = image.size\n",
    "\n",
    "# DataFrame mit Metadaten erzeugen\n",
    "df_meta = spark.createDataFrame(\n",
    "    [(image_path, width, height)],\n",
    "    [\"origin\", \"width\", \"height\"]\n",
    ")\n",
    "df_meta.createOrReplaceTempView(\"image_view\")"
   ]
  },
  {
   "cell_type": "code",
   "execution_count": 0,
   "metadata": {
    "application/vnd.databricks.v1+cell": {
     "cellMetadata": {
      "byteLimit": 2048000,
      "rowLimit": 10000
     },
     "inputWidgets": {},
     "nuid": "3501728f-a800-4d99-9765-db85e2544db4",
     "showTitle": false,
     "tableResultSettingsMap": {},
     "title": ""
    }
   },
   "outputs": [
    {
     "output_type": "display_data",
     "data": {
      "image/png": "[encoded data removed]",
      "text/plain": [
       "<PIL.PngImagePlugin.PngImageFile image mode=RGBA size=593x274>"
      ]
     },
     "metadata": {},
     "output_type": "display_data"
    }
   ],
   "source": [
    "# Zeige Bild im Notebook\n",
    "image.show()"
   ]
  },
  {
   "cell_type": "code",
   "execution_count": 0,
   "metadata": {
    "application/vnd.databricks.v1+cell": {
     "cellMetadata": {
      "byteLimit": 2048000,
      "implicitDf": true,
      "rowLimit": 10000
     },
     "inputWidgets": {},
     "nuid": "bbd12a10-e32f-4d4d-81af-c99ed6bbf7c9",
     "showTitle": false,
     "tableResultSettingsMap": {},
     "title": ""
    }
   },
   "outputs": [
    {
     "output_type": "display_data",
     "data": {
      "text/html": [
       "<style scoped>\n",
       "  .table-result-container {\n",
       "    max-height: 300px;\n",
       "    overflow: auto;\n",
       "  }\n",
       "  table, th, td {\n",
       "    border: 1px solid black;\n",
       "    border-collapse: collapse;\n",
       "  }\n",
       "  th, td {\n",
       "    padding: 5px;\n",
       "  }\n",
       "  th {\n",
       "    text-align: left;\n",
       "  }\n",
       "</style><div class='table-result-container'><table class='table-result'><thead style='background-color: white'><tr><th>origin</th><th>width</th><th>height</th></tr></thead><tbody><tr><td>/Volumes/workspace/default/volume/image.png</td><td>593</td><td>274</td></tr></tbody></table></div>"
      ]
     },
     "metadata": {
      "application/vnd.databricks.v1+output": {
       "addedWidgets": {},
       "aggData": [],
       "aggError": "",
       "aggOverflow": false,
       "aggSchema": [],
       "aggSeriesLimitReached": false,
       "aggType": "",
       "arguments": {},
       "columnCustomDisplayInfos": {},
       "data": [
        [
         "/Volumes/workspace/default/volume/image.png",
         593,
         274
        ]
       ],
       "datasetInfos": [
        {
         "name": "_sqldf",
         "schema": {
          "fields": [
           {
            "metadata": {},
            "name": "origin",
            "nullable": true,
            "type": "string"
           },
           {
            "metadata": {},
            "name": "width",
            "nullable": true,
            "type": "long"
           },
           {
            "metadata": {},
            "name": "height",
            "nullable": true,
            "type": "long"
           }
          ],
          "type": "struct"
         },
         "tableIdentifier": null,
         "typeStr": "pyspark.sql.connect.dataframe.DataFrame"
        }
       ],
       "dbfsResultPath": null,
       "isJsonSchema": true,
       "metadata": {
        "createTempViewForImplicitDf": true,
        "dataframeName": "_sqldf",
        "executionCount": 12
       },
       "overflow": false,
       "plotOptions": {
        "customPlotOptions": {},
        "displayType": "table",
        "pivotAggregation": null,
        "pivotColumns": null,
        "xColumns": null,
        "yColumns": null
       },
       "removedWidgets": [],
       "schema": [
        {
         "metadata": "{}",
         "name": "origin",
         "type": "\"string\""
        },
        {
         "metadata": "{}",
         "name": "width",
         "type": "\"long\""
        },
        {
         "metadata": "{}",
         "name": "height",
         "type": "\"long\""
        }
       ],
       "type": "table"
      }
     },
     "output_type": "display_data"
    }
   ],
   "source": [
    "%sql\n",
    "SELECT origin, width, height\n",
    "FROM image_view"
   ]
  },
  {
   "cell_type": "markdown",
   "metadata": {
    "application/vnd.databricks.v1+cell": {
     "cellMetadata": {
      "byteLimit": 2048000,
      "rowLimit": 10000
     },
     "inputWidgets": {},
     "nuid": "93a989c5-b279-40c6-b9fe-bb0a77ab38e1",
     "showTitle": false,
     "tableResultSettingsMap": {},
     "title": ""
    }
   },
   "source": [
    "# csv ab Volume einlesen und als Delta-Tabelle abspeichern"
   ]
  },
  {
   "cell_type": "code",
   "execution_count": 0,
   "metadata": {
    "application/vnd.databricks.v1+cell": {
     "cellMetadata": {
      "byteLimit": 2048000,
      "implicitDf": true,
      "rowLimit": 10000
     },
     "inputWidgets": {},
     "nuid": "9984304b-7721-483f-9624-45f0162e7aaa",
     "showTitle": false,
     "tableResultSettingsMap": {},
     "title": ""
    }
   },
   "outputs": [],
   "source": [
    "df = spark.read.csv(\n",
    "    \"/Volumes/workspace/default/volume/sample_data.csv\",\n",
    "    header=True,\n",
    "    sep=\";\"\n",
    ")\n",
    "\n",
    "# Temporäre Tabelle oder persistente Tabelle im Unity Catalog\n",
    "df.write. \\\n",
    "    format(\"delta\") \\\n",
    "    .mode(\"overwrite\") \\\n",
    "    .saveAsTable(\"default.my_csv_table\")  # Speichert in Unity Catalog"
   ]
  },
  {
   "cell_type": "code",
   "execution_count": 0,
   "metadata": {
    "application/vnd.databricks.v1+cell": {
     "cellMetadata": {
      "byteLimit": 2048000,
      "implicitDf": true,
      "rowLimit": 10000
     },
     "inputWidgets": {},
     "nuid": "27b7f7c5-881a-4066-be4c-844921308e34",
     "showTitle": false,
     "tableResultSettingsMap": {},
     "title": ""
    }
   },
   "outputs": [
    {
     "output_type": "display_data",
     "data": {
      "text/html": [
       "<style scoped>\n",
       "  .table-result-container {\n",
       "    max-height: 300px;\n",
       "    overflow: auto;\n",
       "  }\n",
       "  table, th, td {\n",
       "    border: 1px solid black;\n",
       "    border-collapse: collapse;\n",
       "  }\n",
       "  th, td {\n",
       "    padding: 5px;\n",
       "  }\n",
       "  th {\n",
       "    text-align: left;\n",
       "  }\n",
       "</style><div class='table-result-container'><table class='table-result'><thead style='background-color: white'><tr><th>id</th><th>name</th><th>age</th><th>city</th></tr></thead><tbody><tr><td>1</td><td>Alice</td><td>25</td><td>Zurich</td></tr><tr><td>2</td><td>Bob</td><td>30</td><td>Geneva</td></tr><tr><td>3</td><td>Charlie</td><td>35</td><td>Bern</td></tr></tbody></table></div>"
      ]
     },
     "metadata": {
      "application/vnd.databricks.v1+output": {
       "addedWidgets": {},
       "aggData": [],
       "aggError": "",
       "aggOverflow": false,
       "aggSchema": [],
       "aggSeriesLimitReached": false,
       "aggType": "",
       "arguments": {},
       "columnCustomDisplayInfos": {},
       "data": [
        [
         "1",
         "Alice",
         "25",
         "Zurich"
        ],
        [
         "2",
         "Bob",
         "30",
         "Geneva"
        ],
        [
         "3",
         "Charlie",
         "35",
         "Bern"
        ]
       ],
       "datasetInfos": [
        {
         "name": "_sqldf",
         "schema": {
          "fields": [
           {
            "metadata": {},
            "name": "id",
            "nullable": true,
            "type": "string"
           },
           {
            "metadata": {},
            "name": "name",
            "nullable": true,
            "type": "string"
           },
           {
            "metadata": {},
            "name": "age",
            "nullable": true,
            "type": "string"
           },
           {
            "metadata": {},
            "name": "city",
            "nullable": true,
            "type": "string"
           }
          ],
          "type": "struct"
         },
         "tableIdentifier": null,
         "typeStr": "pyspark.sql.connect.dataframe.DataFrame"
        }
       ],
       "dbfsResultPath": null,
       "isJsonSchema": true,
       "metadata": {
        "createTempViewForImplicitDf": true,
        "dataframeName": "_sqldf",
        "executionCount": 14
       },
       "overflow": false,
       "plotOptions": {
        "customPlotOptions": {},
        "displayType": "table",
        "pivotAggregation": null,
        "pivotColumns": null,
        "xColumns": null,
        "yColumns": null
       },
       "removedWidgets": [],
       "schema": [
        {
         "metadata": "{}",
         "name": "id",
         "type": "\"string\""
        },
        {
         "metadata": "{}",
         "name": "name",
         "type": "\"string\""
        },
        {
         "metadata": "{}",
         "name": "age",
         "type": "\"string\""
        },
        {
         "metadata": "{}",
         "name": "city",
         "type": "\"string\""
        }
       ],
       "type": "table"
      }
     },
     "output_type": "display_data"
    }
   ],
   "source": [
    "%sql\n",
    "SELECT * FROM workspace.default.my_csv_table"
   ]
  },
  {
   "cell_type": "code",
   "execution_count": 0,
   "metadata": {
    "application/vnd.databricks.v1+cell": {
     "cellMetadata": {
      "byteLimit": 2048000,
      "implicitDf": true,
      "rowLimit": 10000
     },
     "inputWidgets": {},
     "nuid": "39b4f700-ed53-4ba1-b767-e6052b0d9e7f",
     "showTitle": false,
     "tableResultSettingsMap": {},
     "title": ""
    }
   },
   "outputs": [
    {
     "output_type": "display_data",
     "data": {
      "text/html": [
       "<style scoped>\n",
       "  .table-result-container {\n",
       "    max-height: 300px;\n",
       "    overflow: auto;\n",
       "  }\n",
       "  table, th, td {\n",
       "    border: 1px solid black;\n",
       "    border-collapse: collapse;\n",
       "  }\n",
       "  th, td {\n",
       "    padding: 5px;\n",
       "  }\n",
       "  th {\n",
       "    text-align: left;\n",
       "  }\n",
       "</style><div class='table-result-container'><table class='table-result'><thead style='background-color: white'><tr><th>col_name</th><th>data_type</th><th>comment</th></tr></thead><tbody><tr><td>id</td><td>string</td><td>null</td></tr><tr><td>name</td><td>string</td><td>null</td></tr><tr><td>age</td><td>string</td><td>null</td></tr><tr><td>city</td><td>string</td><td>null</td></tr><tr><td></td><td></td><td></td></tr><tr><td># Delta Statistics Columns</td><td></td><td></td></tr><tr><td>Column Names</td><td>id, name, age, city</td><td></td></tr><tr><td>Column Selection Method</td><td>first-32</td><td></td></tr><tr><td></td><td></td><td></td></tr><tr><td># Detailed Table Information</td><td></td><td></td></tr><tr><td>Catalog</td><td>workspace</td><td></td></tr><tr><td>Database</td><td>default</td><td></td></tr><tr><td>Table</td><td>my_csv_table</td><td></td></tr><tr><td>Created Time</td><td>Thu Sep 11 10:12:26 UTC 2025</td><td></td></tr><tr><td>Last Access</td><td>UNKNOWN</td><td></td></tr><tr><td>Created By</td><td>Spark </td><td></td></tr><tr><td>Statistics</td><td>1209 bytes, 3 rows</td><td></td></tr><tr><td>Type</td><td>MANAGED</td><td></td></tr><tr><td>Location</td><td></td><td></td></tr><tr><td>Provider</td><td>delta</td><td></td></tr><tr><td>Owner</td><td>philippe.christen@fhnw.ch</td><td></td></tr><tr><td>Is_managed_location</td><td>true</td><td></td></tr><tr><td>Predictive Optimization</td><td>ENABLE (inherited from METASTORE metastore_aws_us_east_2)</td><td></td></tr><tr><td>Table Properties</td><td>[delta.enableDeletionVectors=true,delta.feature.appendOnly=supported,delta.feature.deletionVectors=supported,delta.feature.invariants=supported,delta.minReaderVersion=3,delta.minWriterVersion=7]</td><td></td></tr></tbody></table></div>"
      ]
     },
     "metadata": {
      "application/vnd.databricks.v1+output": {
       "addedWidgets": {},
       "aggData": [],
       "aggError": "",
       "aggOverflow": false,
       "aggSchema": [],
       "aggSeriesLimitReached": false,
       "aggType": "",
       "arguments": {},
       "columnCustomDisplayInfos": {},
       "data": [
        [
         "id",
         "string",
         null
        ],
        [
         "name",
         "string",
         null
        ],
        [
         "age",
         "string",
         null
        ],
        [
         "city",
         "string",
         null
        ],
        [
         "",
         "",
         ""
        ],
        [
         "# Delta Statistics Columns",
         "",
         ""
        ],
        [
         "Column Names",
         "id, name, age, city",
         ""
        ],
        [
         "Column Selection Method",
         "first-32",
         ""
        ],
        [
         "",
         "",
         ""
        ],
        [
         "# Detailed Table Information",
         "",
         ""
        ],
        [
         "Catalog",
         "workspace",
         ""
        ],
        [
         "Database",
         "default",
         ""
        ],
        [
         "Table",
         "my_csv_table",
         ""
        ],
        [
         "Created Time",
         "Thu Sep 11 10:12:26 UTC 2025",
         ""
        ],
        [
         "Last Access",
         "UNKNOWN",
         ""
        ],
        [
         "Created By",
         "Spark ",
         ""
        ],
        [
         "Statistics",
         "1209 bytes, 3 rows",
         ""
        ],
        [
         "Type",
         "MANAGED",
         ""
        ],
        [
         "Location",
         "",
         ""
        ],
        [
         "Provider",
         "delta",
         ""
        ],
        [
         "Owner",
         "philippe.christen@fhnw.ch",
         ""
        ],
        [
         "Is_managed_location",
         "true",
         ""
        ],
        [
         "Predictive Optimization",
         "ENABLE (inherited from METASTORE metastore_aws_us_east_2)",
         ""
        ],
        [
         "Table Properties",
         "[delta.enableDeletionVectors=true,delta.feature.appendOnly=supported,delta.feature.deletionVectors=supported,delta.feature.invariants=supported,delta.minReaderVersion=3,delta.minWriterVersion=7]",
         ""
        ]
       ],
       "datasetInfos": [
        {
         "name": "_sqldf",
         "schema": {
          "fields": [
           {
            "metadata": {},
            "name": "col_name",
            "nullable": false,
            "type": "string"
           },
           {
            "metadata": {},
            "name": "data_type",
            "nullable": false,
            "type": "string"
           },
           {
            "metadata": {},
            "name": "comment",
            "nullable": true,
            "type": "string"
           }
          ],
          "type": "struct"
         },
         "tableIdentifier": null,
         "typeStr": "pyspark.sql.connect.dataframe.DataFrame"
        }
       ],
       "dbfsResultPath": null,
       "isJsonSchema": true,
       "metadata": {
        "createTempViewForImplicitDf": true,
        "dataframeName": "_sqldf",
        "executionCount": 15
       },
       "overflow": false,
       "plotOptions": {
        "customPlotOptions": {},
        "displayType": "table",
        "pivotAggregation": null,
        "pivotColumns": null,
        "xColumns": null,
        "yColumns": null
       },
       "removedWidgets": [],
       "schema": [
        {
         "metadata": "{}",
         "name": "col_name",
         "type": "\"string\""
        },
        {
         "metadata": "{}",
         "name": "data_type",
         "type": "\"string\""
        },
        {
         "metadata": "{}",
         "name": "comment",
         "type": "\"string\""
        }
       ],
       "type": "table"
      }
     },
     "output_type": "display_data"
    }
   ],
   "source": [
    "%sql\n",
    "DESCRIBE EXTENDED workspace.default.my_csv_table"
   ]
  },
  {
   "cell_type": "markdown",
   "metadata": {
    "application/vnd.databricks.v1+cell": {
     "cellMetadata": {
      "byteLimit": 2048000,
      "rowLimit": 10000
     },
     "inputWidgets": {},
     "nuid": "aa05c19c-0138-406a-8fa6-950a5a413f10",
     "showTitle": false,
     "tableResultSettingsMap": {},
     "title": ""
    }
   },
   "source": [
    "# Insert, Update, Delete"
   ]
  },
  {
   "cell_type": "code",
   "execution_count": 0,
   "metadata": {
    "application/vnd.databricks.v1+cell": {
     "cellMetadata": {
      "byteLimit": 2048000,
      "implicitDf": true,
      "rowLimit": 10000
     },
     "inputWidgets": {},
     "nuid": "3338544b-7652-4798-a2fe-e0738db602b7",
     "showTitle": false,
     "tableResultSettingsMap": {},
     "title": ""
    }
   },
   "outputs": [
    {
     "output_type": "display_data",
     "data": {
      "text/html": [
       "<style scoped>\n",
       "  .table-result-container {\n",
       "    max-height: 300px;\n",
       "    overflow: auto;\n",
       "  }\n",
       "  table, th, td {\n",
       "    border: 1px solid black;\n",
       "    border-collapse: collapse;\n",
       "  }\n",
       "  th, td {\n",
       "    padding: 5px;\n",
       "  }\n",
       "  th {\n",
       "    text-align: left;\n",
       "  }\n",
       "</style><div class='table-result-container'><table class='table-result'><thead style='background-color: white'><tr><th>num_affected_rows</th><th>num_inserted_rows</th></tr></thead><tbody><tr><td>1</td><td>1</td></tr></tbody></table></div>"
      ]
     },
     "metadata": {
      "application/vnd.databricks.v1+output": {
       "addedWidgets": {},
       "aggData": [],
       "aggError": "",
       "aggOverflow": false,
       "aggSchema": [],
       "aggSeriesLimitReached": false,
       "aggType": "",
       "arguments": {},
       "columnCustomDisplayInfos": {},
       "data": [
        [
         1,
         1
        ]
       ],
       "datasetInfos": [
        {
         "name": "_sqldf",
         "schema": {
          "fields": [
           {
            "metadata": {},
            "name": "num_affected_rows",
            "nullable": true,
            "type": "long"
           },
           {
            "metadata": {},
            "name": "num_inserted_rows",
            "nullable": true,
            "type": "long"
           }
          ],
          "type": "struct"
         },
         "tableIdentifier": null,
         "typeStr": "pyspark.sql.connect.dataframe.DataFrame"
        }
       ],
       "dbfsResultPath": null,
       "isJsonSchema": true,
       "metadata": {
        "createTempViewForImplicitDf": true,
        "dataframeName": "_sqldf",
        "executionCount": 16
       },
       "overflow": false,
       "plotOptions": {
        "customPlotOptions": {},
        "displayType": "table",
        "pivotAggregation": null,
        "pivotColumns": null,
        "xColumns": null,
        "yColumns": null
       },
       "removedWidgets": [],
       "schema": [
        {
         "metadata": "{}",
         "name": "num_affected_rows",
         "type": "\"long\""
        },
        {
         "metadata": "{}",
         "name": "num_inserted_rows",
         "type": "\"long\""
        }
       ],
       "type": "table"
      }
     },
     "output_type": "display_data"
    }
   ],
   "source": [
    "%sql\n",
    "INSERT INTO default.my_csv_table VALUES (4, 'Dora', 28, 'Basel');\n"
   ]
  },
  {
   "cell_type": "code",
   "execution_count": 0,
   "metadata": {
    "application/vnd.databricks.v1+cell": {
     "cellMetadata": {
      "byteLimit": 2048000,
      "implicitDf": true,
      "rowLimit": 10000
     },
     "inputWidgets": {},
     "nuid": "7ccae20f-d0c7-4f29-bbe9-ba1011ccc843",
     "showTitle": false,
     "tableResultSettingsMap": {},
     "title": ""
    }
   },
   "outputs": [
    {
     "output_type": "display_data",
     "data": {
      "text/html": [
       "<style scoped>\n",
       "  .table-result-container {\n",
       "    max-height: 300px;\n",
       "    overflow: auto;\n",
       "  }\n",
       "  table, th, td {\n",
       "    border: 1px solid black;\n",
       "    border-collapse: collapse;\n",
       "  }\n",
       "  th, td {\n",
       "    padding: 5px;\n",
       "  }\n",
       "  th {\n",
       "    text-align: left;\n",
       "  }\n",
       "</style><div class='table-result-container'><table class='table-result'><thead style='background-color: white'><tr><th>num_affected_rows</th></tr></thead><tbody><tr><td>1</td></tr></tbody></table></div>"
      ]
     },
     "metadata": {
      "application/vnd.databricks.v1+output": {
       "addedWidgets": {},
       "aggData": [],
       "aggError": "",
       "aggOverflow": false,
       "aggSchema": [],
       "aggSeriesLimitReached": false,
       "aggType": "",
       "arguments": {},
       "columnCustomDisplayInfos": {},
       "data": [
        [
         1
        ]
       ],
       "datasetInfos": [
        {
         "name": "_sqldf",
         "schema": {
          "fields": [
           {
            "metadata": {},
            "name": "num_affected_rows",
            "nullable": true,
            "type": "long"
           }
          ],
          "type": "struct"
         },
         "tableIdentifier": null,
         "typeStr": "pyspark.sql.connect.dataframe.DataFrame"
        }
       ],
       "dbfsResultPath": null,
       "isJsonSchema": true,
       "metadata": {
        "createTempViewForImplicitDf": true,
        "dataframeName": "_sqldf",
        "executionCount": 17
       },
       "overflow": false,
       "plotOptions": {
        "customPlotOptions": {},
        "displayType": "table",
        "pivotAggregation": null,
        "pivotColumns": null,
        "xColumns": null,
        "yColumns": null
       },
       "removedWidgets": [],
       "schema": [
        {
         "metadata": "{}",
         "name": "num_affected_rows",
         "type": "\"long\""
        }
       ],
       "type": "table"
      }
     },
     "output_type": "display_data"
    }
   ],
   "source": [
    "%sql\n",
    "UPDATE default.my_csv_table\n",
    "SET city = 'Zurich'\n",
    "WHERE id = 1;   -- Alice"
   ]
  },
  {
   "cell_type": "code",
   "execution_count": 0,
   "metadata": {
    "application/vnd.databricks.v1+cell": {
     "cellMetadata": {
      "byteLimit": 2048000,
      "implicitDf": true,
      "rowLimit": 10000
     },
     "inputWidgets": {},
     "nuid": "e2389e78-814f-4ca8-a6d2-02f31dfe2a60",
     "showTitle": false,
     "tableResultSettingsMap": {},
     "title": ""
    }
   },
   "outputs": [
    {
     "output_type": "display_data",
     "data": {
      "text/html": [
       "<style scoped>\n",
       "  .table-result-container {\n",
       "    max-height: 300px;\n",
       "    overflow: auto;\n",
       "  }\n",
       "  table, th, td {\n",
       "    border: 1px solid black;\n",
       "    border-collapse: collapse;\n",
       "  }\n",
       "  th, td {\n",
       "    padding: 5px;\n",
       "  }\n",
       "  th {\n",
       "    text-align: left;\n",
       "  }\n",
       "</style><div class='table-result-container'><table class='table-result'><thead style='background-color: white'><tr><th>num_affected_rows</th></tr></thead><tbody><tr><td>1</td></tr></tbody></table></div>"
      ]
     },
     "metadata": {
      "application/vnd.databricks.v1+output": {
       "addedWidgets": {},
       "aggData": [],
       "aggError": "",
       "aggOverflow": false,
       "aggSchema": [],
       "aggSeriesLimitReached": false,
       "aggType": "",
       "arguments": {},
       "columnCustomDisplayInfos": {},
       "data": [
        [
         1
        ]
       ],
       "datasetInfos": [
        {
         "name": "_sqldf",
         "schema": {
          "fields": [
           {
            "metadata": {},
            "name": "num_affected_rows",
            "nullable": true,
            "type": "long"
           }
          ],
          "type": "struct"
         },
         "tableIdentifier": null,
         "typeStr": "pyspark.sql.connect.dataframe.DataFrame"
        }
       ],
       "dbfsResultPath": null,
       "isJsonSchema": true,
       "metadata": {
        "createTempViewForImplicitDf": true,
        "dataframeName": "_sqldf",
        "executionCount": 18
       },
       "overflow": false,
       "plotOptions": {
        "customPlotOptions": {},
        "displayType": "table",
        "pivotAggregation": null,
        "pivotColumns": null,
        "xColumns": null,
        "yColumns": null
       },
       "removedWidgets": [],
       "schema": [
        {
         "metadata": "{}",
         "name": "num_affected_rows",
         "type": "\"long\""
        }
       ],
       "type": "table"
      }
     },
     "output_type": "display_data"
    }
   ],
   "source": [
    "%sql\n",
    "DELETE FROM default.my_csv_table\n",
    "WHERE id = 2;   -- Bob"
   ]
  },
  {
   "cell_type": "markdown",
   "metadata": {
    "application/vnd.databricks.v1+cell": {
     "cellMetadata": {
      "byteLimit": 2048000,
      "rowLimit": 10000
     },
     "inputWidgets": {},
     "nuid": "b0de2d36-9725-4c21-bdaa-eebb6124d9f5",
     "showTitle": false,
     "tableResultSettingsMap": {},
     "title": ""
    }
   },
   "source": [
    "# Time Travel"
   ]
  },
  {
   "cell_type": "code",
   "execution_count": 0,
   "metadata": {
    "application/vnd.databricks.v1+cell": {
     "cellMetadata": {
      "byteLimit": 2048000,
      "implicitDf": true,
      "rowLimit": 10000
     },
     "inputWidgets": {},
     "nuid": "585d233a-f571-4172-aab1-d738f7a1a48f",
     "showTitle": false,
     "tableResultSettingsMap": {},
     "title": ""
    }
   },
   "outputs": [
    {
     "output_type": "display_data",
     "data": {
      "text/html": [
       "<style scoped>\n",
       "  .table-result-container {\n",
       "    max-height: 300px;\n",
       "    overflow: auto;\n",
       "  }\n",
       "  table, th, td {\n",
       "    border: 1px solid black;\n",
       "    border-collapse: collapse;\n",
       "  }\n",
       "  th, td {\n",
       "    padding: 5px;\n",
       "  }\n",
       "  th {\n",
       "    text-align: left;\n",
       "  }\n",
       "</style><div class='table-result-container'><table class='table-result'><thead style='background-color: white'><tr><th>version</th><th>timestamp</th><th>userId</th><th>userName</th><th>operation</th><th>operationParameters</th><th>job</th><th>notebook</th><th>clusterId</th><th>readVersion</th><th>isolationLevel</th><th>isBlindAppend</th><th>operationMetrics</th><th>userMetadata</th><th>engineInfo</th></tr></thead><tbody><tr><td>5</td><td>2025-09-11T10:12:49.000Z</td><td>78230215195550</td><td>philippe.christen@fhnw.ch</td><td>OPTIMIZE</td><td>Map(predicate -> [], auto -> true, clusterBy -> [], zOrderBy -> [], batchId -> 0)</td><td>null</td><td>List(3435003450261849)</td><td>0911-084307-qtm8t0kl-v2n</td><td>4</td><td>SnapshotIsolation</td><td>false</td><td>Map(numRemovedFiles -> 1, numRemovedBytes -> 1237, p25FileSize -> 1206, numDeletionVectorsRemoved -> 1, minFileSize -> 1206, numAddedFiles -> 1, maxFileSize -> 1206, p75FileSize -> 1206, p50FileSize -> 1206, numAddedBytes -> 1206)</td><td>null</td><td>Databricks-Runtime/17.1.x-aarch64-photon-scala2.13</td></tr><tr><td>4</td><td>2025-09-11T10:12:48.000Z</td><td>78230215195550</td><td>philippe.christen@fhnw.ch</td><td>DELETE</td><td>Map(predicate -> [\"(cast(id#26670 as bigint) = 2)\"])</td><td>null</td><td>List(3435003450261849)</td><td>0911-084307-qtm8t0kl-v2n</td><td>3</td><td>WriteSerializable</td><td>false</td><td>Map(numRemovedFiles -> 0, numRemovedBytes -> 0, numCopiedRows -> 0, numDeletionVectorsAdded -> 1, numDeletionVectorsRemoved -> 0, numAddedChangeFiles -> 0, executionTimeMs -> 891, numDeletionVectorsUpdated -> 0, numDeletedRows -> 1, scanTimeMs -> 664, numAddedFiles -> 0, numAddedBytes -> 0, rewriteTimeMs -> 227)</td><td>null</td><td>Databricks-Runtime/17.1.x-aarch64-photon-scala2.13</td></tr><tr><td>3</td><td>2025-09-11T10:12:43.000Z</td><td>78230215195550</td><td>philippe.christen@fhnw.ch</td><td>OPTIMIZE</td><td>Map(predicate -> [], auto -> true, clusterBy -> [], zOrderBy -> [], batchId -> 0)</td><td>null</td><td>List(3435003450261849)</td><td>0911-084307-qtm8t0kl-v2n</td><td>2</td><td>SnapshotIsolation</td><td>false</td><td>Map(numRemovedFiles -> 3, numRemovedBytes -> 3473, p25FileSize -> 1237, numDeletionVectorsRemoved -> 1, minFileSize -> 1237, numAddedFiles -> 1, maxFileSize -> 1237, p75FileSize -> 1237, p50FileSize -> 1237, numAddedBytes -> 1237)</td><td>null</td><td>Databricks-Runtime/17.1.x-aarch64-photon-scala2.13</td></tr><tr><td>2</td><td>2025-09-11T10:12:41.000Z</td><td>78230215195550</td><td>philippe.christen@fhnw.ch</td><td>UPDATE</td><td>Map(predicate -> [\"(cast(id#26239 as bigint) = 1)\"])</td><td>null</td><td>List(3435003450261849)</td><td>0911-084307-qtm8t0kl-v2n</td><td>1</td><td>WriteSerializable</td><td>false</td><td>Map(numRemovedFiles -> 0, numRemovedBytes -> 0, numCopiedRows -> 0, numDeletionVectorsAdded -> 1, numDeletionVectorsRemoved -> 0, numAddedChangeFiles -> 0, executionTimeMs -> 1458, numDeletionVectorsUpdated -> 0, scanTimeMs -> 575, numAddedFiles -> 1, numUpdatedRows -> 1, numAddedBytes -> 1149, rewriteTimeMs -> 882)</td><td>null</td><td>Databricks-Runtime/17.1.x-aarch64-photon-scala2.13</td></tr><tr><td>1</td><td>2025-09-11T10:12:37.000Z</td><td>78230215195550</td><td>philippe.christen@fhnw.ch</td><td>WRITE</td><td>Map(mode -> Append, statsOnLoad -> true, partitionBy -> [])</td><td>null</td><td>List(3435003450261849)</td><td>0911-084307-qtm8t0kl-v2n</td><td>0</td><td>WriteSerializable</td><td>true</td><td>Map(numFiles -> 1, numOutputRows -> 1, numOutputBytes -> 1115)</td><td>null</td><td>Databricks-Runtime/17.1.x-aarch64-photon-scala2.13</td></tr><tr><td>0</td><td>2025-09-11T10:12:27.000Z</td><td>78230215195550</td><td>philippe.christen@fhnw.ch</td><td>CREATE OR REPLACE TABLE AS SELECT</td><td>Map(partitionBy -> [], clusterBy -> [], description -> null, isManaged -> true, properties -> {\"delta.enableDeletionVectors\":\"true\"}, statsOnLoad -> true)</td><td>null</td><td>List(3435003450261849)</td><td>0911-084307-qtm8t0kl-v2n</td><td>null</td><td>WriteSerializable</td><td>false</td><td>Map(numFiles -> 1, numRemovedFiles -> 0, numRemovedBytes -> 0, numOutputRows -> 3, numOutputBytes -> 1209)</td><td>null</td><td>Databricks-Runtime/17.1.x-aarch64-photon-scala2.13</td></tr></tbody></table></div>"
      ]
     },
     "metadata": {
      "application/vnd.databricks.v1+output": {
       "addedWidgets": {},
       "aggData": [],
       "aggError": "",
       "aggOverflow": false,
       "aggSchema": [],
       "aggSeriesLimitReached": false,
       "aggType": "",
       "arguments": {},
       "columnCustomDisplayInfos": {},
       "data": [
        [
         5,
         "2025-09-11T10:12:49.000Z",
         "78230215195550",
         "philippe.christen@fhnw.ch",
         "OPTIMIZE",
         {
          "auto": "true",
          "batchId": "0",
          "clusterBy": "[]",
          "predicate": "[]",
          "zOrderBy": "[]"
         },
         null,
         [
          "3435003450261849"
         ],
         "0911-084307-qtm8t0kl-v2n",
         4,
         "SnapshotIsolation",
         false,
         {
          "maxFileSize": "1206",
          "minFileSize": "1206",
          "numAddedBytes": "1206",
          "numAddedFiles": "1",
          "numDeletionVectorsRemoved": "1",
          "numRemovedBytes": "1237",
          "numRemovedFiles": "1",
          "p25FileSize": "1206",
          "p50FileSize": "1206",
          "p75FileSize": "1206"
         },
         null,
         "Databricks-Runtime/17.1.x-aarch64-photon-scala2.13"
        ],
        [
         4,
         "2025-09-11T10:12:48.000Z",
         "78230215195550",
         "philippe.christen@fhnw.ch",
         "DELETE",
         {
          "predicate": "[\"(cast(id#26670 as bigint) = 2)\"]"
         },
         null,
         [
          "3435003450261849"
         ],
         "0911-084307-qtm8t0kl-v2n",
         3,
         "WriteSerializable",
         false,
         {
          "executionTimeMs": "891",
          "numAddedBytes": "0",
          "numAddedChangeFiles": "0",
          "numAddedFiles": "0",
          "numCopiedRows": "0",
          "numDeletedRows": "1",
          "numDeletionVectorsAdded": "1",
          "numDeletionVectorsRemoved": "0",
          "numDeletionVectorsUpdated": "0",
          "numRemovedBytes": "0",
          "numRemovedFiles": "0",
          "rewriteTimeMs": "227",
          "scanTimeMs": "664"
         },
         null,
         "Databricks-Runtime/17.1.x-aarch64-photon-scala2.13"
        ],
        [
         3,
         "2025-09-11T10:12:43.000Z",
         "78230215195550",
         "philippe.christen@fhnw.ch",
         "OPTIMIZE",
         {
          "auto": "true",
          "batchId": "0",
          "clusterBy": "[]",
          "predicate": "[]",
          "zOrderBy": "[]"
         },
         null,
         [
          "3435003450261849"
         ],
         "0911-084307-qtm8t0kl-v2n",
         2,
         "SnapshotIsolation",
         false,
         {
          "maxFileSize": "1237",
          "minFileSize": "1237",
          "numAddedBytes": "1237",
          "numAddedFiles": "1",
          "numDeletionVectorsRemoved": "1",
          "numRemovedBytes": "3473",
          "numRemovedFiles": "3",
          "p25FileSize": "1237",
          "p50FileSize": "1237",
          "p75FileSize": "1237"
         },
         null,
         "Databricks-Runtime/17.1.x-aarch64-photon-scala2.13"
        ],
        [
         2,
         "2025-09-11T10:12:41.000Z",
         "78230215195550",
         "philippe.christen@fhnw.ch",
         "UPDATE",
         {
          "predicate": "[\"(cast(id#26239 as bigint) = 1)\"]"
         },
         null,
         [
          "3435003450261849"
         ],
         "0911-084307-qtm8t0kl-v2n",
         1,
         "WriteSerializable",
         false,
         {
          "executionTimeMs": "1458",
          "numAddedBytes": "1149",
          "numAddedChangeFiles": "0",
          "numAddedFiles": "1",
          "numCopiedRows": "0",
          "numDeletionVectorsAdded": "1",
          "numDeletionVectorsRemoved": "0",
          "numDeletionVectorsUpdated": "0",
          "numRemovedBytes": "0",
          "numRemovedFiles": "0",
          "numUpdatedRows": "1",
          "rewriteTimeMs": "882",
          "scanTimeMs": "575"
         },
         null,
         "Databricks-Runtime/17.1.x-aarch64-photon-scala2.13"
        ],
        [
         1,
         "2025-09-11T10:12:37.000Z",
         "78230215195550",
         "philippe.christen@fhnw.ch",
         "WRITE",
         {
          "mode": "Append",
          "partitionBy": "[]",
          "statsOnLoad": "true"
         },
         null,
         [
          "3435003450261849"
         ],
         "0911-084307-qtm8t0kl-v2n",
         0,
         "WriteSerializable",
         true,
         {
          "numFiles": "1",
          "numOutputBytes": "1115",
          "numOutputRows": "1"
         },
         null,
         "Databricks-Runtime/17.1.x-aarch64-photon-scala2.13"
        ],
        [
         0,
         "2025-09-11T10:12:27.000Z",
         "78230215195550",
         "philippe.christen@fhnw.ch",
         "CREATE OR REPLACE TABLE AS SELECT",
         {
          "clusterBy": "[]",
          "description": null,
          "isManaged": "true",
          "partitionBy": "[]",
          "properties": "{\"delta.enableDeletionVectors\":\"true\"}",
          "statsOnLoad": "true"
         },
         null,
         [
          "3435003450261849"
         ],
         "0911-084307-qtm8t0kl-v2n",
         null,
         "WriteSerializable",
         false,
         {
          "numFiles": "1",
          "numOutputBytes": "1209",
          "numOutputRows": "3",
          "numRemovedBytes": "0",
          "numRemovedFiles": "0"
         },
         null,
         "Databricks-Runtime/17.1.x-aarch64-photon-scala2.13"
        ]
       ],
       "datasetInfos": [
        {
         "name": "_sqldf",
         "schema": {
          "fields": [
           {
            "metadata": {},
            "name": "version",
            "nullable": true,
            "type": "long"
           },
           {
            "metadata": {},
            "name": "timestamp",
            "nullable": true,
            "type": "timestamp"
           },
           {
            "metadata": {},
            "name": "userId",
            "nullable": true,
            "type": "string"
           },
           {
            "metadata": {},
            "name": "userName",
            "nullable": true,
            "type": "string"
           },
           {
            "metadata": {},
            "name": "operation",
            "nullable": true,
            "type": "string"
           },
           {
            "metadata": {},
            "name": "operationParameters",
            "nullable": true,
            "type": {
             "keyType": "string",
             "type": "map",
             "valueContainsNull": true,
             "valueType": "string"
            }
           },
           {
            "metadata": {},
            "name": "job",
            "nullable": true,
            "type": {
             "fields": [
              {
               "metadata": {},
               "name": "jobId",
               "nullable": true,
               "type": "string"
              },
              {
               "metadata": {},
               "name": "jobName",
               "nullable": true,
               "type": "string"
              },
              {
               "metadata": {},
               "name": "jobRunId",
               "nullable": true,
               "type": "string"
              },
              {
               "metadata": {},
               "name": "runId",
               "nullable": true,
               "type": "string"
              },
              {
               "metadata": {},
               "name": "jobOwnerId",
               "nullable": true,
               "type": "string"
              },
              {
               "metadata": {},
               "name": "triggerType",
               "nullable": true,
               "type": "string"
              }
             ],
             "type": "struct"
            }
           },
           {
            "metadata": {},
            "name": "notebook",
            "nullable": true,
            "type": {
             "fields": [
              {
               "metadata": {},
               "name": "notebookId",
               "nullable": true,
               "type": "string"
              }
             ],
             "type": "struct"
            }
           },
           {
            "metadata": {},
            "name": "clusterId",
            "nullable": true,
            "type": "string"
           },
           {
            "metadata": {},
            "name": "readVersion",
            "nullable": true,
            "type": "long"
           },
           {
            "metadata": {},
            "name": "isolationLevel",
            "nullable": true,
            "type": "string"
           },
           {
            "metadata": {},
            "name": "isBlindAppend",
            "nullable": true,
            "type": "boolean"
           },
           {
            "metadata": {},
            "name": "operationMetrics",
            "nullable": true,
            "type": {
             "keyType": "string",
             "type": "map",
             "valueContainsNull": true,
             "valueType": "string"
            }
           },
           {
            "metadata": {},
            "name": "userMetadata",
            "nullable": true,
            "type": "string"
           },
           {
            "metadata": {},
            "name": "engineInfo",
            "nullable": true,
            "type": "string"
           }
          ],
          "type": "struct"
         },
         "tableIdentifier": null,
         "typeStr": "pyspark.sql.connect.dataframe.DataFrame"
        }
       ],
       "dbfsResultPath": null,
       "isJsonSchema": true,
       "metadata": {
        "createTempViewForImplicitDf": true,
        "dataframeName": "_sqldf",
        "executionCount": 19
       },
       "overflow": false,
       "plotOptions": {
        "customPlotOptions": {},
        "displayType": "table",
        "pivotAggregation": null,
        "pivotColumns": null,
        "xColumns": null,
        "yColumns": null
       },
       "removedWidgets": [],
       "schema": [
        {
         "metadata": "{}",
         "name": "version",
         "type": "\"long\""
        },
        {
         "metadata": "{}",
         "name": "timestamp",
         "type": "\"timestamp\""
        },
        {
         "metadata": "{}",
         "name": "userId",
         "type": "\"string\""
        },
        {
         "metadata": "{}",
         "name": "userName",
         "type": "\"string\""
        },
        {
         "metadata": "{}",
         "name": "operation",
         "type": "\"string\""
        },
        {
         "metadata": "{}",
         "name": "operationParameters",
         "type": "{\"keyType\":\"string\",\"type\":\"map\",\"valueContainsNull\":true,\"valueType\":\"string\"}"
        },
        {
         "metadata": "{}",
         "name": "job",
         "type": "{\"fields\":[{\"metadata\":{},\"name\":\"jobId\",\"nullable\":true,\"type\":\"string\"},{\"metadata\":{},\"name\":\"jobName\",\"nullable\":true,\"type\":\"string\"},{\"metadata\":{},\"name\":\"jobRunId\",\"nullable\":true,\"type\":\"string\"},{\"metadata\":{},\"name\":\"runId\",\"nullable\":true,\"type\":\"string\"},{\"metadata\":{},\"name\":\"jobOwnerId\",\"nullable\":true,\"type\":\"string\"},{\"metadata\":{},\"name\":\"triggerType\",\"nullable\":true,\"type\":\"string\"}],\"type\":\"struct\"}"
        },
        {
         "metadata": "{}",
         "name": "notebook",
         "type": "{\"fields\":[{\"metadata\":{},\"name\":\"notebookId\",\"nullable\":true,\"type\":\"string\"}],\"type\":\"struct\"}"
        },
        {
         "metadata": "{}",
         "name": "clusterId",
         "type": "\"string\""
        },
        {
         "metadata": "{}",
         "name": "readVersion",
         "type": "\"long\""
        },
        {
         "metadata": "{}",
         "name": "isolationLevel",
         "type": "\"string\""
        },
        {
         "metadata": "{}",
         "name": "isBlindAppend",
         "type": "\"boolean\""
        },
        {
         "metadata": "{}",
         "name": "operationMetrics",
         "type": "{\"keyType\":\"string\",\"type\":\"map\",\"valueContainsNull\":true,\"valueType\":\"string\"}"
        },
        {
         "metadata": "{}",
         "name": "userMetadata",
         "type": "\"string\""
        },
        {
         "metadata": "{}",
         "name": "engineInfo",
         "type": "\"string\""
        }
       ],
       "type": "table"
      }
     },
     "output_type": "display_data"
    }
   ],
   "source": [
    "%sql\n",
    "DESCRIBE HISTORY default.my_csv_table;"
   ]
  },
  {
   "cell_type": "code",
   "execution_count": 0,
   "metadata": {
    "application/vnd.databricks.v1+cell": {
     "cellMetadata": {
      "byteLimit": 2048000,
      "implicitDf": true,
      "rowLimit": 10000
     },
     "inputWidgets": {},
     "nuid": "3a1809ee-62bc-4758-bcba-8bec182ccfce",
     "showTitle": false,
     "tableResultSettingsMap": {},
     "title": ""
    }
   },
   "outputs": [
    {
     "output_type": "display_data",
     "data": {
      "text/html": [
       "<style scoped>\n",
       "  .table-result-container {\n",
       "    max-height: 300px;\n",
       "    overflow: auto;\n",
       "  }\n",
       "  table, th, td {\n",
       "    border: 1px solid black;\n",
       "    border-collapse: collapse;\n",
       "  }\n",
       "  th, td {\n",
       "    padding: 5px;\n",
       "  }\n",
       "  th {\n",
       "    text-align: left;\n",
       "  }\n",
       "</style><div class='table-result-container'><table class='table-result'><thead style='background-color: white'><tr><th>id</th><th>name</th><th>age</th><th>city</th></tr></thead><tbody><tr><td>1</td><td>Alice</td><td>25</td><td>Zurich</td></tr><tr><td>2</td><td>Bob</td><td>30</td><td>Geneva</td></tr><tr><td>3</td><td>Charlie</td><td>35</td><td>Bern</td></tr></tbody></table></div>"
      ]
     },
     "metadata": {
      "application/vnd.databricks.v1+output": {
       "addedWidgets": {},
       "aggData": [],
       "aggError": "",
       "aggOverflow": false,
       "aggSchema": [],
       "aggSeriesLimitReached": false,
       "aggType": "",
       "arguments": {},
       "columnCustomDisplayInfos": {},
       "data": [
        [
         "1",
         "Alice",
         "25",
         "Zurich"
        ],
        [
         "2",
         "Bob",
         "30",
         "Geneva"
        ],
        [
         "3",
         "Charlie",
         "35",
         "Bern"
        ]
       ],
       "datasetInfos": [
        {
         "name": "_sqldf",
         "schema": {
          "fields": [
           {
            "metadata": {},
            "name": "id",
            "nullable": true,
            "type": "string"
           },
           {
            "metadata": {},
            "name": "name",
            "nullable": true,
            "type": "string"
           },
           {
            "metadata": {},
            "name": "age",
            "nullable": true,
            "type": "string"
           },
           {
            "metadata": {},
            "name": "city",
            "nullable": true,
            "type": "string"
           }
          ],
          "type": "struct"
         },
         "tableIdentifier": null,
         "typeStr": "pyspark.sql.connect.dataframe.DataFrame"
        }
       ],
       "dbfsResultPath": null,
       "isJsonSchema": true,
       "metadata": {
        "createTempViewForImplicitDf": true,
        "dataframeName": "_sqldf",
        "executionCount": 20
       },
       "overflow": false,
       "plotOptions": {
        "customPlotOptions": {},
        "displayType": "table",
        "pivotAggregation": null,
        "pivotColumns": null,
        "xColumns": null,
        "yColumns": null
       },
       "removedWidgets": [],
       "schema": [
        {
         "metadata": "{}",
         "name": "id",
         "type": "\"string\""
        },
        {
         "metadata": "{}",
         "name": "name",
         "type": "\"string\""
        },
        {
         "metadata": "{}",
         "name": "age",
         "type": "\"string\""
        },
        {
         "metadata": "{}",
         "name": "city",
         "type": "\"string\""
        }
       ],
       "type": "table"
      }
     },
     "output_type": "display_data"
    }
   ],
   "source": [
    "%sql\n",
    "SELECT * \n",
    "FROM default.my_csv_table VERSION AS OF 0;"
   ]
  },
  {
   "cell_type": "code",
   "execution_count": 0,
   "metadata": {
    "application/vnd.databricks.v1+cell": {
     "cellMetadata": {
      "byteLimit": 2048000,
      "implicitDf": true,
      "rowLimit": 10000
     },
     "inputWidgets": {},
     "nuid": "4eff6b94-9ee7-4881-a7e6-e14e332e7b16",
     "showTitle": false,
     "tableResultSettingsMap": {},
     "title": ""
    }
   },
   "outputs": [
    {
     "output_type": "display_data",
     "data": {
      "text/html": [
       "<style scoped>\n",
       "  .table-result-container {\n",
       "    max-height: 300px;\n",
       "    overflow: auto;\n",
       "  }\n",
       "  table, th, td {\n",
       "    border: 1px solid black;\n",
       "    border-collapse: collapse;\n",
       "  }\n",
       "  th, td {\n",
       "    padding: 5px;\n",
       "  }\n",
       "  th {\n",
       "    text-align: left;\n",
       "  }\n",
       "</style><div class='table-result-container'><table class='table-result'><thead style='background-color: white'><tr><th>id</th><th>name</th><th>age</th><th>city</th></tr></thead><tbody><tr><td>2</td><td>Bob</td><td>30</td><td>Geneva</td></tr><tr><td>3</td><td>Charlie</td><td>35</td><td>Bern</td></tr><tr><td>1</td><td>Alice</td><td>25</td><td>Zurich</td></tr><tr><td>4</td><td>Dora</td><td>28</td><td>Basel</td></tr></tbody></table></div>"
      ]
     },
     "metadata": {
      "application/vnd.databricks.v1+output": {
       "addedWidgets": {},
       "aggData": [],
       "aggError": "",
       "aggOverflow": false,
       "aggSchema": [],
       "aggSeriesLimitReached": false,
       "aggType": "",
       "arguments": {},
       "columnCustomDisplayInfos": {},
       "data": [
        [
         "2",
         "Bob",
         "30",
         "Geneva"
        ],
        [
         "3",
         "Charlie",
         "35",
         "Bern"
        ],
        [
         "1",
         "Alice",
         "25",
         "Zurich"
        ],
        [
         "4",
         "Dora",
         "28",
         "Basel"
        ]
       ],
       "datasetInfos": [
        {
         "name": "_sqldf",
         "schema": {
          "fields": [
           {
            "metadata": {},
            "name": "id",
            "nullable": true,
            "type": "string"
           },
           {
            "metadata": {},
            "name": "name",
            "nullable": true,
            "type": "string"
           },
           {
            "metadata": {},
            "name": "age",
            "nullable": true,
            "type": "string"
           },
           {
            "metadata": {},
            "name": "city",
            "nullable": true,
            "type": "string"
           }
          ],
          "type": "struct"
         },
         "tableIdentifier": null,
         "typeStr": "pyspark.sql.connect.dataframe.DataFrame"
        }
       ],
       "dbfsResultPath": null,
       "isJsonSchema": true,
       "metadata": {
        "createTempViewForImplicitDf": true,
        "dataframeName": "_sqldf",
        "executionCount": 21
       },
       "overflow": false,
       "plotOptions": {
        "customPlotOptions": {},
        "displayType": "table",
        "pivotAggregation": null,
        "pivotColumns": null,
        "xColumns": null,
        "yColumns": null
       },
       "removedWidgets": [],
       "schema": [
        {
         "metadata": "{}",
         "name": "id",
         "type": "\"string\""
        },
        {
         "metadata": "{}",
         "name": "name",
         "type": "\"string\""
        },
        {
         "metadata": "{}",
         "name": "age",
         "type": "\"string\""
        },
        {
         "metadata": "{}",
         "name": "city",
         "type": "\"string\""
        }
       ],
       "type": "table"
      }
     },
     "output_type": "display_data"
    }
   ],
   "source": [
    "%sql\n",
    "SELECT * \n",
    "FROM default.my_csv_table VERSION AS OF 2;"
   ]
  },
  {
   "cell_type": "markdown",
   "metadata": {
    "application/vnd.databricks.v1+cell": {
     "cellMetadata": {
      "byteLimit": 2048000,
      "rowLimit": 10000
     },
     "inputWidgets": {},
     "nuid": "55b06185-1faa-4608-9e66-bd77bf50e7b0",
     "showTitle": false,
     "tableResultSettingsMap": {},
     "title": ""
    }
   },
   "source": [
    "Restore Version 0"
   ]
  },
  {
   "cell_type": "code",
   "execution_count": 0,
   "metadata": {
    "application/vnd.databricks.v1+cell": {
     "cellMetadata": {
      "byteLimit": 2048000,
      "implicitDf": true,
      "rowLimit": 10000
     },
     "inputWidgets": {},
     "nuid": "3adaeae6-2bc2-4b86-8bb6-47d4ca4a7427",
     "showTitle": false,
     "tableResultSettingsMap": {},
     "title": ""
    }
   },
   "outputs": [
    {
     "output_type": "display_data",
     "data": {
      "text/html": [
       "<style scoped>\n",
       "  .table-result-container {\n",
       "    max-height: 300px;\n",
       "    overflow: auto;\n",
       "  }\n",
       "  table, th, td {\n",
       "    border: 1px solid black;\n",
       "    border-collapse: collapse;\n",
       "  }\n",
       "  th, td {\n",
       "    padding: 5px;\n",
       "  }\n",
       "  th {\n",
       "    text-align: left;\n",
       "  }\n",
       "</style><div class='table-result-container'><table class='table-result'><thead style='background-color: white'><tr><th>id</th><th>name</th><th>age</th><th>city</th></tr></thead><tbody><tr><td>1</td><td>Alice</td><td>25</td><td>Zurich</td></tr><tr><td>2</td><td>Bob</td><td>30</td><td>Geneva</td></tr><tr><td>3</td><td>Charlie</td><td>35</td><td>Bern</td></tr></tbody></table></div>"
      ]
     },
     "metadata": {
      "application/vnd.databricks.v1+output": {
       "addedWidgets": {},
       "aggData": [],
       "aggError": "",
       "aggOverflow": false,
       "aggSchema": [],
       "aggSeriesLimitReached": false,
       "aggType": "",
       "arguments": {},
       "columnCustomDisplayInfos": {},
       "data": [
        [
         "1",
         "Alice",
         "25",
         "Zurich"
        ],
        [
         "2",
         "Bob",
         "30",
         "Geneva"
        ],
        [
         "3",
         "Charlie",
         "35",
         "Bern"
        ]
       ],
       "datasetInfos": [
        {
         "name": "_sqldf",
         "schema": {
          "fields": [
           {
            "metadata": {},
            "name": "id",
            "nullable": true,
            "type": "string"
           },
           {
            "metadata": {},
            "name": "name",
            "nullable": true,
            "type": "string"
           },
           {
            "metadata": {},
            "name": "age",
            "nullable": true,
            "type": "string"
           },
           {
            "metadata": {},
            "name": "city",
            "nullable": true,
            "type": "string"
           }
          ],
          "type": "struct"
         },
         "tableIdentifier": null,
         "typeStr": "pyspark.sql.connect.dataframe.DataFrame"
        }
       ],
       "dbfsResultPath": null,
       "isJsonSchema": true,
       "metadata": {
        "createTempViewForImplicitDf": true,
        "dataframeName": "_sqldf",
        "executionCount": 22
       },
       "overflow": false,
       "plotOptions": {
        "customPlotOptions": {},
        "displayType": "table",
        "pivotAggregation": null,
        "pivotColumns": null,
        "xColumns": null,
        "yColumns": null
       },
       "removedWidgets": [],
       "schema": [
        {
         "metadata": "{}",
         "name": "id",
         "type": "\"string\""
        },
        {
         "metadata": "{}",
         "name": "name",
         "type": "\"string\""
        },
        {
         "metadata": "{}",
         "name": "age",
         "type": "\"string\""
        },
        {
         "metadata": "{}",
         "name": "city",
         "type": "\"string\""
        }
       ],
       "type": "table"
      }
     },
     "output_type": "display_data"
    }
   ],
   "source": [
    "%sql\n",
    "-- Tabelle auf Version 0 zurücksetzen\n",
    "RESTORE TABLE default.my_csv_table TO VERSION AS OF 0;\n",
    "\n",
    "-- Kontrolle: aktueller Zustand nach Restore\n",
    "SELECT * FROM default.my_csv_table;"
   ]
  },
  {
   "cell_type": "markdown",
   "metadata": {
    "application/vnd.databricks.v1+cell": {
     "cellMetadata": {
      "byteLimit": 2048000,
      "rowLimit": 10000
     },
     "inputWidgets": {},
     "nuid": "dd056b1c-1f88-4380-876b-03cbc258a7f5",
     "showTitle": false,
     "tableResultSettingsMap": {},
     "title": ""
    }
   },
   "source": [
    "# Datei-Update"
   ]
  },
  {
   "cell_type": "markdown",
   "metadata": {
    "application/vnd.databricks.v1+cell": {
     "cellMetadata": {
      "byteLimit": 2048000,
      "rowLimit": 10000
     },
     "inputWidgets": {},
     "nuid": "e9e88ce4-ed9c-4297-8bd2-b0441091b325",
     "showTitle": false,
     "tableResultSettingsMap": {},
     "title": ""
    }
   },
   "source": [
    "Achtung keine ACID Garantien!"
   ]
  },
  {
   "cell_type": "code",
   "execution_count": 0,
   "metadata": {
    "application/vnd.databricks.v1+cell": {
     "cellMetadata": {
      "byteLimit": 2048000,
      "rowLimit": 10000
     },
     "inputWidgets": {},
     "nuid": "2b64b301-a57b-417a-98ff-3318fb20558c",
     "showTitle": false,
     "tableResultSettingsMap": {},
     "title": ""
    }
   },
   "outputs": [
    {
     "output_type": "stream",
     "name": "stdout",
     "output_type": "stream",
     "text": [
      "Ursprüngliche Daten:\n+---+-------+---+------+\n| id|   name|age|  city|\n+---+-------+---+------+\n|  1|  Alice| 25|Zurich|\n|  2|    Bob| 30|Geneva|\n|  3|Charlie| 35|  Bern|\n+---+-------+---+------+\n\n"
     ]
    }
   ],
   "source": [
    "# Lies die ursprüngliche Datei aus dem Volume\n",
    "df = spark.read.csv(\n",
    "    \"/Volumes/workspace/default/volume/sample_data.csv\",\n",
    "    header=True,\n",
    "    sep=\";\"\n",
    ")\n",
    "\n",
    "# Zeige die ersten paar Zeilen der ursprünglichen Daten an\n",
    "print(\"Ursprüngliche Daten:\")\n",
    "df.show()"
   ]
  },
  {
   "cell_type": "code",
   "execution_count": 0,
   "metadata": {
    "application/vnd.databricks.v1+cell": {
     "cellMetadata": {
      "byteLimit": 2048000,
      "rowLimit": 10000
     },
     "inputWidgets": {},
     "nuid": "0a2b1491-b2b9-4541-90b1-ba6763b5d3e5",
     "showTitle": false,
     "tableResultSettingsMap": {},
     "title": ""
    }
   },
   "outputs": [
    {
     "output_type": "stream",
     "name": "stdout",
     "output_type": "stream",
     "text": [
      "Geänderte Daten:\n+---+-------+---+------+---------------+\n| id|   name|age|  city|hinzugefuegt_am|\n+---+-------+---+------+---------------+\n|  1|  Alice| 25|Zurich|     2025-09-11|\n|  2|    Bob| 30|Geneva|     2025-09-11|\n|  3|Charlie| 35|  Bern|     2025-09-11|\n+---+-------+---+------+---------------+\n\n"
     ]
    }
   ],
   "source": [
    "from pyspark.sql.functions import current_date\n",
    "\n",
    "# Füge dem DataFrame eine neue Spalte hinzu\n",
    "df_neu = df.withColumn(\"hinzugefuegt_am\", current_date())\n",
    "\n",
    "# Zeige das geänderte DataFrame an\n",
    "print(\"Geänderte Daten:\")\n",
    "df_neu.show()"
   ]
  },
  {
   "cell_type": "code",
   "execution_count": 0,
   "metadata": {
    "application/vnd.databricks.v1+cell": {
     "cellMetadata": {
      "byteLimit": 2048000,
      "rowLimit": 10000
     },
     "inputWidgets": {},
     "nuid": "fecea6dc-a0cc-47f5-9972-955e403f85fc",
     "showTitle": false,
     "tableResultSettingsMap": {},
     "title": ""
    }
   },
   "outputs": [
    {
     "output_type": "stream",
     "name": "stdout",
     "output_type": "stream",
     "text": [
      "Daten wurden erfolgreich als 'sample_data_neu.csv' gespeichert.\n"
     ]
    }
   ],
   "source": [
    "# Schreibe das geänderte DataFrame als neue Datei in das Volume\n",
    "df_neu.write.csv(\n",
    "    \"/Volumes/workspace/default/volume/sample_data_neu.csv\",\n",
    "    mode=\"overwrite\",\n",
    "    header=True,\n",
    "    sep=\";\"\n",
    ")\n",
    "\n",
    "print(\"Daten wurden erfolgreich als 'sample_data_neu.csv' gespeichert.\")"
   ]
  },
  {
   "cell_type": "markdown",
   "metadata": {
    "application/vnd.databricks.v1+cell": {
     "cellMetadata": {
      "byteLimit": 2048000,
      "rowLimit": 10000
     },
     "inputWidgets": {},
     "nuid": "8e101f6e-720e-48fd-b03b-25c71918b6eb",
     "showTitle": false,
     "tableResultSettingsMap": {},
     "title": ""
    }
   },
   "source": [
    "Neue CSV Datei bearbeiten"
   ]
  },
  {
   "cell_type": "code",
   "execution_count": 0,
   "metadata": {
    "application/vnd.databricks.v1+cell": {
     "cellMetadata": {
      "byteLimit": 2048000,
      "rowLimit": 10000
     },
     "inputWidgets": {},
     "nuid": "7dd1aac4-1077-42f5-8f56-2c391ee0b181",
     "showTitle": false,
     "tableResultSettingsMap": {},
     "title": ""
    }
   },
   "outputs": [
    {
     "output_type": "stream",
     "name": "stdout",
     "output_type": "stream",
     "text": [
      "Daten nach dem Update:\n+---+-------+---+------------+---------------+\n| id|   name|age|        city|hinzugefuegt_am|\n+---+-------+---+------------+---------------+\n|  1|  Alice| 25|      Zurich|     2025-09-11|\n|  2|    Bob| 30|Updated City|     2025-09-11|\n|  3|Charlie| 35|        Bern|     2025-09-11|\n+---+-------+---+------------+---------------+\n\n"
     ]
    }
   ],
   "source": [
    "from pyspark.sql.functions import when, col\n",
    "\n",
    "# Lese die bestehende CSV-Datei aus dem Volume\n",
    "df = spark.read.csv(\n",
    "    \"/Volumes/workspace/default/volume/sample_data_neu.csv\",\n",
    "    header=True,\n",
    "    sep=\";\"\n",
    ")\n",
    "\n",
    "# Führe das Update durch: Wenn der Name 'Bob' ist, ändere die Stadt auf 'Updated City'\n",
    "# Ersetze 'city_column_name' durch den tatsächlichen Namen deiner Stadt-Spalte\n",
    "df_updated = df.withColumn(\n",
    "    \"city\", \n",
    "    when(col(\"name\") == \"Bob\", \"Updated City\").otherwise(col(\"city\"))\n",
    ")\n",
    "\n",
    "# Zeige die geänderten Daten an\n",
    "print(\"Daten nach dem Update:\")\n",
    "df_updated.show()"
   ]
  },
  {
   "cell_type": "code",
   "execution_count": 0,
   "metadata": {
    "application/vnd.databricks.v1+cell": {
     "cellMetadata": {
      "byteLimit": 2048000,
      "rowLimit": 10000
     },
     "inputWidgets": {},
     "nuid": "f8b463e5-f065-42de-8d77-aec0de3ce15c",
     "showTitle": false,
     "tableResultSettingsMap": {},
     "title": ""
    }
   },
   "outputs": [
    {
     "output_type": "stream",
     "name": "stdout",
     "output_type": "stream",
     "text": [
      "Die Datei wurde erfolgreich mit den neuen Daten überschrieben.\n"
     ]
    }
   ],
   "source": [
    "# Überschreibe die ursprüngliche Datei im Volume mit den aktualisierten Daten\n",
    "df_updated.write.csv(\n",
    "    \"/Volumes/workspace/default/volume/sample_data_neu.csv\",\n",
    "    mode=\"overwrite\",\n",
    "    header=True,\n",
    "    sep=\";\"\n",
    ")\n",
    "\n",
    "print(\"Die Datei wurde erfolgreich mit den neuen Daten überschrieben.\")"
   ]
  },
  {
   "cell_type": "code",
   "execution_count": 0,
   "metadata": {
    "application/vnd.databricks.v1+cell": {
     "cellMetadata": {
      "byteLimit": 2048000,
      "rowLimit": 10000
     },
     "inputWidgets": {},
     "nuid": "795608d2-1ad6-4f87-aaf7-48013e29b61c",
     "showTitle": false,
     "tableResultSettingsMap": {},
     "title": ""
    }
   },
   "outputs": [
    {
     "output_type": "stream",
     "name": "stdout",
     "output_type": "stream",
     "text": [
      "Inhalt der überschriebenen CSV-Datei:\n+---+-------+---+------------+---------------+\n| id|   name|age|        city|hinzugefuegt_am|\n+---+-------+---+------------+---------------+\n|  1|  Alice| 25|      Zurich|     2025-09-11|\n|  2|    Bob| 30|Updated City|     2025-09-11|\n|  3|Charlie| 35|        Bern|     2025-09-11|\n+---+-------+---+------------+---------------+\n\n"
     ]
    }
   ],
   "source": [
    "# Lese die aktualisierte CSV-Datei aus dem Volume\n",
    "df_aktuell = spark.read.csv(\n",
    "    \"/Volumes/workspace/default/volume/sample_data_neu.csv\",\n",
    "    header=True,\n",
    "    sep=\";\"\n",
    ")\n",
    "\n",
    "# Zeige den Inhalt des aktualisierten DataFrames an\n",
    "print(\"Inhalt der überschriebenen CSV-Datei:\")\n",
    "df_aktuell.show()"
   ]
  },
  {
   "cell_type": "code",
   "execution_count": 0,
   "metadata": {
    "application/vnd.databricks.v1+cell": {
     "cellMetadata": {
      "byteLimit": 2048000,
      "rowLimit": 10000
     },
     "inputWidgets": {},
     "nuid": "ede2d3cc-64a0-4173-a090-7010cc1e1816",
     "showTitle": false,
     "tableResultSettingsMap": {},
     "title": ""
    }
   },
   "outputs": [
    {
     "output_type": "display_data",
     "data": {
      "text/html": [
       "<style scoped>\n",
       "  .table-result-container {\n",
       "    max-height: 300px;\n",
       "    overflow: auto;\n",
       "  }\n",
       "  table, th, td {\n",
       "    border: 1px solid black;\n",
       "    border-collapse: collapse;\n",
       "  }\n",
       "  th, td {\n",
       "    padding: 5px;\n",
       "  }\n",
       "  th {\n",
       "    text-align: left;\n",
       "  }\n",
       "</style><div class='table-result-container'><table class='table-result'><thead style='background-color: white'><tr><th>path</th><th>name</th><th>size</th><th>modificationTime</th></tr></thead><tbody><tr><td>dbfs:/Volumes/workspace/default/volume/sample_data_neu.csv/</td><td>sample_data_neu.csv/</td><td>0</td><td>1757585601106</td></tr></tbody></table></div>"
      ]
     },
     "metadata": {
      "application/vnd.databricks.v1+output": {
       "addedWidgets": {},
       "aggData": [],
       "aggError": "",
       "aggOverflow": false,
       "aggSchema": [],
       "aggSeriesLimitReached": false,
       "aggType": "",
       "arguments": {},
       "columnCustomDisplayInfos": {},
       "data": [
        [
         "dbfs:/Volumes/workspace/default/volume/sample_data_neu.csv/",
         "sample_data_neu.csv/",
         0,
         1757585601106
        ]
       ],
       "datasetInfos": [],
       "dbfsResultPath": null,
       "isJsonSchema": true,
       "metadata": {},
       "overflow": false,
       "plotOptions": {
        "customPlotOptions": {},
        "displayType": "table",
        "pivotAggregation": null,
        "pivotColumns": null,
        "xColumns": null,
        "yColumns": null
       },
       "removedWidgets": [],
       "schema": [
        {
         "metadata": "{}",
         "name": "path",
         "type": "\"string\""
        },
        {
         "metadata": "{}",
         "name": "name",
         "type": "\"string\""
        },
        {
         "metadata": "{}",
         "name": "size",
         "type": "\"long\""
        },
        {
         "metadata": "{}",
         "name": "modificationTime",
         "type": "\"long\""
        }
       ],
       "type": "table"
      }
     },
     "output_type": "display_data"
    }
   ],
   "source": [
    "%python\n",
    "dataset_school = \"/Volumes/workspace/default/volume\"\n",
    "\n",
    "all_files = dbutils.fs.ls(dataset_school)\n",
    "csv_files = [f for f in all_files if f.name.endswith(\".csv/\")]\n",
    "\n",
    "display(csv_files)"
   ]
  },
  {
   "cell_type": "markdown",
   "metadata": {
    "application/vnd.databricks.v1+cell": {
     "cellMetadata": {
      "byteLimit": 2048000,
      "rowLimit": 10000
     },
     "inputWidgets": {},
     "nuid": "4ca46aed-0286-4b1c-8aed-750a6f56d1b2",
     "showTitle": false,
     "tableResultSettingsMap": {},
     "title": ""
    }
   },
   "source": [
    "# Aufräumen"
   ]
  },
  {
   "cell_type": "code",
   "execution_count": 0,
   "metadata": {
    "application/vnd.databricks.v1+cell": {
     "cellMetadata": {
      "byteLimit": 2048000,
      "implicitDf": true,
      "rowLimit": 10000
     },
     "inputWidgets": {},
     "nuid": "28a7047b-2892-4bcd-9966-ad1c553a199a",
     "showTitle": false,
     "tableResultSettingsMap": {},
     "title": ""
    }
   },
   "outputs": [],
   "source": [
    "%sql\n",
    "DROP TABLE my_csv_table;"
   ]
  },
  {
   "cell_type": "code",
   "execution_count": 0,
   "metadata": {
    "application/vnd.databricks.v1+cell": {
     "cellMetadata": {
      "byteLimit": 2048000,
      "rowLimit": 10000
     },
     "inputWidgets": {},
     "nuid": "e549c3fd-b183-4dd6-894b-73dec1b91ebe",
     "showTitle": false,
     "tableResultSettingsMap": {},
     "title": ""
    }
   },
   "outputs": [
    {
     "output_type": "execute_result",
     "data": {
      "text/plain": [
       "True"
      ]
     },
     "execution_count": 31,
     "metadata": {},
     "output_type": "execute_result"
    }
   ],
   "source": [
    "# Lösche die Datei aus dem Volume\n",
    "dbutils.fs.rm(\"/Volumes/workspace/default/volume/sample_data_neu.csv\", True)"
   ]
  },
  {
   "cell_type": "code",
   "execution_count": 0,
   "metadata": {
    "application/vnd.databricks.v1+cell": {
     "cellMetadata": {
      "byteLimit": 2048000,
      "rowLimit": 10000
     },
     "inputWidgets": {},
     "nuid": "20261394-d5fb-496d-929d-eaf8e40e1024",
     "showTitle": false,
     "tableResultSettingsMap": {},
     "title": ""
    }
   },
   "outputs": [
    {
     "output_type": "display_data",
     "data": {
      "text/plain": [
       "[]"
      ]
     },
     "metadata": {},
     "output_type": "display_data"
    }
   ],
   "source": [
    "%python\n",
    "dataset_school = \"/Volumes/workspace/default/volume\"\n",
    "\n",
    "all_files = dbutils.fs.ls(dataset_school)\n",
    "csv_files = [f for f in all_files if f.name.endswith(\".csv/\")]\n",
    "\n",
    "display(csv_files)"
   ]
  }
 ],
 "metadata": {
  "application/vnd.databricks.v1+notebook": {
   "computePreferences": null,
   "dashboards": [],
   "environmentMetadata": {
    "base_environment": "",
    "environment_version": "2"
   },
   "inputWidgetPreferences": null,
   "language": "python",
   "notebookMetadata": {
    "mostRecentlyExecutedCommandWithImplicitDF": {
     "commandId": 4594075062419175,
     "dataframes": [
      "_sqldf"
     ]
    },
    "pythonIndentUnit": 4
   },
   "notebookName": "41_querying_data",
   "widgets": {}
  },
  "language_info": {
   "name": "python"
  }
 },
 "nbformat": 4,
 "nbformat_minor": 0
}