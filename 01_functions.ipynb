{
 "cells": [
  {
   "cell_type": "code",
   "execution_count": 0,
   "metadata": {
    "application/vnd.databricks.v1+cell": {
     "cellMetadata": {},
     "inputWidgets": {},
     "nuid": "f975402f-9611-4c1c-86e3-bec95befd560",
     "showTitle": false,
     "tableResultSettingsMap": {},
     "title": ""
    }
   },
   "outputs": [],
   "source": [
    "# utils_functions\n",
    "import operator\n",
    "\n",
    "def hello_world() -> str:\n",
    "    \"\"\"Gibt 'Hello, World!' zurück.\"\"\"\n",
    "    return \"Hello, World!\"\n",
    "\n",
    "_OPS = {\n",
    "    \"*\": operator.mul,\n",
    "    \"/\": operator.truediv,\n",
    "    \"+\": operator.add,\n",
    "    \"-\": operator.sub,\n",
    "}\n",
    "\n"
   ]
  },
  {
   "cell_type": "code",
   "execution_count": 0,
   "metadata": {
    "application/vnd.databricks.v1+cell": {
     "cellMetadata": {},
     "inputWidgets": {},
     "nuid": "bb99a833-1e88-4ea8-a48a-674de3bcff70",
     "showTitle": false,
     "tableResultSettingsMap": {},
     "title": ""
    }
   },
   "outputs": [],
   "source": [
    "def calc(a: float, b: float, op: str) -> float:\n",
    "    \"\"\"\n",
    "    Rechnet a (op) b, wobei op eines von {\"*\", \"/\", \"+\", \"-\"} ist.\n",
    "    Wirft ValueError bei unbekanntem Operator, ZeroDivisionError bei Division durch 0.\n",
    "    \"\"\"\n",
    "    op = (op or \"\").strip()\n",
    "    if op not in _OPS:\n",
    "        raise ValueError(f\"Ungültiger Operator '{op}'. Erlaubt sind {list(_OPS.keys())}.\")\n",
    "    if op == \"/\" and b == 0:\n",
    "        raise ZeroDivisionError(\"Division durch 0 ist nicht erlaubt.\")\n",
    "    return _OPS[op](a, b)"
   ]
  }
 ],
 "metadata": {
  "application/vnd.databricks.v1+notebook": {
   "computePreferences": null,
   "dashboards": [],
   "environmentMetadata": {
    "base_environment": "",
    "environment_version": "3"
   },
   "inputWidgetPreferences": null,
   "language": "python",
   "notebookMetadata": {
    "pythonIndentUnit": 4
   },
   "notebookName": "01_functions",
   "widgets": {}
  },
  "language_info": {
   "name": "python"
  }
 },
 "nbformat": 4,
 "nbformat_minor": 0
}