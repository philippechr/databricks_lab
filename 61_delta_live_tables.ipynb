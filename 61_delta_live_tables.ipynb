{
 "cells": [
  {
   "cell_type": "markdown",
   "metadata": {
    "application/vnd.databricks.v1+cell": {
     "cellMetadata": {},
     "inputWidgets": {},
     "nuid": "9b32c6a4-c0f4-489e-94bf-c19f1664b356",
     "showTitle": false,
     "tableResultSettingsMap": {},
     "title": ""
    }
   },
   "source": [
    "# Implementing DLT Pipelines"
   ]
  },
  {
   "cell_type": "markdown",
   "metadata": {
    "application/vnd.databricks.v1+cell": {
     "cellMetadata": {},
     "inputWidgets": {},
     "nuid": "54373ec4-dba3-482e-96d7-7e535e9dacd8",
     "showTitle": false,
     "tableResultSettingsMap": {},
     "title": ""
    }
   },
   "source": [
    "FUNKTIONIERT NICHT IN DER FREE EDITION!"
   ]
  },
  {
   "cell_type": "markdown",
   "metadata": {
    "application/vnd.databricks.v1+cell": {
     "cellMetadata": {},
     "inputWidgets": {},
     "isMarkdownSandbox": true,
     "nuid": "d7f18ea3-e230-42e7-b5f8-e119ee9826c7",
     "showTitle": false,
     "tableResultSettingsMap": {},
     "title": ""
    }
   },
   "source": [
    "\n",
    "<div  style=\"text-align: center;\">\n",
    "  <img src=\"https://raw.githubusercontent.com/derar-alhussein/oreilly-databricks-dea/main/Includes/Images/school_schema.png\" alt=\"School Schema\">\n",
    "</div>"
   ]
  },
  {
   "cell_type": "code",
   "execution_count": 0,
   "metadata": {
    "application/vnd.databricks.v1+cell": {
     "cellMetadata": {},
     "inputWidgets": {},
     "nuid": "af64fec7-44ee-407e-b73f-d5dc1529e678",
     "showTitle": false,
     "tableResultSettingsMap": {},
     "title": ""
    }
   },
   "outputs": [],
   "source": [
    "SET school.dataset_path=dbfs:/mnt/DE-Associate-Book/datasets/school;"
   ]
  },
  {
   "cell_type": "markdown",
   "metadata": {
    "application/vnd.databricks.v1+cell": {
     "cellMetadata": {},
     "inputWidgets": {},
     "nuid": "177fcdbe-d1aa-4459-be94-f64dfa65a983",
     "showTitle": false,
     "tableResultSettingsMap": {},
     "title": ""
    }
   },
   "source": [
    "## Bronze layer"
   ]
  },
  {
   "cell_type": "markdown",
   "metadata": {
    "application/vnd.databricks.v1+cell": {
     "cellMetadata": {},
     "inputWidgets": {},
     "nuid": "0b7f4c42-ab29-440f-be0c-ec188f7984a3",
     "showTitle": false,
     "tableResultSettingsMap": {},
     "title": ""
    }
   },
   "source": [
    "#### Creating a streaming table"
   ]
  },
  {
   "cell_type": "code",
   "execution_count": 0,
   "metadata": {
    "application/vnd.databricks.v1+cell": {
     "cellMetadata": {},
     "inputWidgets": {},
     "nuid": "21da7f63-e03a-4237-9b45-32de30b05f61",
     "showTitle": false,
     "tableResultSettingsMap": {},
     "title": ""
    }
   },
   "outputs": [],
   "source": [
    "-- Deklaration einer DLT-Tabelle in SQL, um inkrementelle Daten aus der Datenquelle (mit Auto Loader) zu lesen\n",
    "CREATE OR REFRESH STREAMING TABLE enrollments_raw -- Das Schlüsselwort STREAMING wird verwendet, da die Quelle inkrementelle Daten liefert.\n",
    "COMMENT \"The raw courses enrollments, ingested from enrollments-dlt-raw folder\" -- Fügt der Tabelle eine beschreibende Anmerkung für zusätzlichen Kontext hinzu.\n",
    "AS SELECT * FROM cloud_files( -- Die Methode cloud_files ist der direkte Weg, um Auto Loader in SQL zu verwenden.\n",
    "                            \"${school.dataset_path}/enrollments-dlt-raw\", -- 1. Der Quellspeicherort der Dateien.\n",
    "                            \"json\", -- 2. Das Dateiformat.\n",
    "                            map(\"cloudFiles.inferColumnTypes\", \"true\") -- 3. Eine Map mit Lese-Einstellungen. Diese Option weist Auto Loader an, die Spaltentypen automatisch zu erkennen.\n",
    "                           )"
   ]
  },
  {
   "cell_type": "markdown",
   "metadata": {
    "application/vnd.databricks.v1+cell": {
     "cellMetadata": {},
     "inputWidgets": {},
     "nuid": "ec5eea3f-e75f-4f7c-b4e6-4824f2b8ca74",
     "showTitle": false,
     "tableResultSettingsMap": {},
     "title": ""
    }
   },
   "source": [
    "#### Creating a materialized view"
   ]
  },
  {
   "cell_type": "code",
   "execution_count": 0,
   "metadata": {
    "application/vnd.databricks.v1+cell": {
     "cellMetadata": {},
     "inputWidgets": {},
     "nuid": "0ce31688-797f-4033-8fe6-8bfa68208624",
     "showTitle": false,
     "tableResultSettingsMap": {},
     "title": ""
    }
   },
   "outputs": [],
   "source": [
    "-- Erstellt eine Materialized View, die als Lookup-Tabelle für Studentendaten dient.\n",
    "CREATE OR REPLACE MATERIALIZED VIEW students\n",
    "COMMENT \"The students lookup table, ingested from students-json\"\n",
    "-- Eine Materialized View wird verwendet, da die Quelldaten Updates oder Deletes enthalten können,\n",
    "-- was dem \"Append-Only\"-Prinzip von Streaming-Tabellen widerspricht.\n",
    "AS SELECT * FROM json.`${school.dataset_path}/students-json`\n",
    "-- Bei jedem Pipeline-Lauf wird das gesamte Quell-Dataset neu verarbeitet,\n",
    "-- um sicherzustellen, dass alle Änderungen in den Daten erfasst werden."
   ]
  },
  {
   "cell_type": "markdown",
   "metadata": {
    "application/vnd.databricks.v1+cell": {
     "cellMetadata": {},
     "inputWidgets": {},
     "nuid": "0f423adf-9039-4f82-aa3d-b66c7df0cbb9",
     "showTitle": false,
     "tableResultSettingsMap": {},
     "title": ""
    }
   },
   "source": [
    "\n",
    "## Silver layer"
   ]
  },
  {
   "cell_type": "code",
   "execution_count": 0,
   "metadata": {
    "application/vnd.databricks.v1+cell": {
     "cellMetadata": {},
     "inputWidgets": {},
     "nuid": "5788a494-9190-480d-ab6d-ded55aafb2e9",
     "showTitle": false,
     "tableResultSettingsMap": {},
     "title": ""
    }
   },
   "outputs": [],
   "source": [
    "-- Erstellt eine Streaming-Tabelle für die Silver-Schicht, um Rohdaten zu bereinigen und anzureichern.\n",
    "-- Die Zieltabelle wird als STREAMING TABLE deklariert, weil die Quelle ebenfalls als Stream gelesen wird.\n",
    "CREATE OR REFRESH STREAMING TABLE enrollments_cleaned (\n",
    "  -- Eine DLT Expectation wird als Qualitätskontrolle mittels CONSTRAINT hinzugefügt.\n",
    "  -- Datensätze, die diese Bedingung verletzen (enroll_id ist NULL), werden automatisch verworfen (DROP ROW).\n",
    "  CONSTRAINT valid_order_number EXPECT (enroll_id IS NOT NULL) ON VIOLATION DROP ROW\n",
    ")\n",
    "COMMENT \"The cleaned courses enrollments with valid enroll_id\"\n",
    "AS\n",
    " SELECT enroll_id, quantity, o.student_id, c.profile:first_name as f_name, c.profile:last_name as l_name,\n",
    "        cast(from_unixtime(enroll_timestamp, 'yyyy-MM-dd HH:mm:ss') AS timestamp) formatted_timestamp,\n",
    "        o.courses, c.profile:address:country as country\n",
    " -- Die STREAM-Methode liest die Tabelle als inkrementelle Streaming-Quelle.\n",
    " -- Die LIVE-Syntax dient als Namespace, um andere DLT-Objekte in derselben Pipeline zu referenzieren.\n",
    " FROM STREAM(LIVE.enrollments_raw) o\n",
    " -- Die Streaming-Daten werden durch einen Join mit der Studententabelle angereichert.\n",
    " LEFT JOIN LIVE.students c\n",
    "   ON o.student_id = c.student_id"
   ]
  },
  {
   "cell_type": "markdown",
   "metadata": {
    "application/vnd.databricks.v1+cell": {
     "cellMetadata": {},
     "inputWidgets": {},
     "nuid": "3976567d-efab-4116-bffc-e6c4fb4d4c0e",
     "showTitle": false,
     "tableResultSettingsMap": {},
     "title": ""
    }
   },
   "source": [
    "\n",
    "\n",
    "## Gold layer"
   ]
  },
  {
   "cell_type": "code",
   "execution_count": 0,
   "metadata": {
    "application/vnd.databricks.v1+cell": {
     "cellMetadata": {},
     "inputWidgets": {},
     "nuid": "6a394387-37ae-49df-8d41-afe6bd0de760",
     "showTitle": false,
     "tableResultSettingsMap": {},
     "title": ""
    }
   },
   "outputs": [],
   "source": [
    "-- Erstellt ein Gold-Objekt, das die finale und am höchsten veredelte Stufe der Pipeline darstellt.\n",
    "-- Die Tabelle wird als Materialized View deklariert, damit die aggregierten Werte bei jedem Pipeline-Update ersetzt werden.\n",
    "CREATE OR REPLACE MATERIALIZED VIEW uk_daily_student_courses\n",
    "COMMENT \"Daily number of courses per student in United Kingdom\"\n",
    "AS\n",
    " -- Die Abfrage erstellt ein hoch aggregiertes, für Analysen optimiertes Format.\n",
    " -- Sie berechnet die tägliche Anzahl der Kurse pro Student.\n",
    " SELECT student_id, f_name, l_name, date_trunc(\"DD\", formatted_timestamp) order_date, sum(quantity) courses_counts\n",
    " FROM LIVE.enrollments_cleaned\n",
    " -- Die Daten werden für eine spezifische Region (\"United Kingdom\") gefiltert.\n",
    " WHERE country = \"United Kingdom\"\n",
    " GROUP BY student_id, f_name, l_name, date_trunc(\"DD\", formatted_timestamp)"
   ]
  },
  {
   "cell_type": "markdown",
   "metadata": {
    "application/vnd.databricks.v1+cell": {
     "cellMetadata": {},
     "inputWidgets": {},
     "nuid": "0dcd9640-9a26-4721-99bd-ef8aefe03197",
     "showTitle": false,
     "tableResultSettingsMap": {},
     "title": ""
    }
   },
   "source": [
    "# Configuring DLT Pipelines"
   ]
  },
  {
   "cell_type": "markdown",
   "metadata": {
    "application/vnd.databricks.v1+cell": {
     "cellMetadata": {},
     "inputWidgets": {},
     "nuid": "0837dad0-fbac-4476-acd7-129168ead670",
     "showTitle": false,
     "tableResultSettingsMap": {},
     "title": ""
    }
   },
   "source": [
    "## Modifying DLT pipelines"
   ]
  },
  {
   "cell_type": "code",
   "execution_count": 0,
   "metadata": {
    "application/vnd.databricks.v1+cell": {
     "cellMetadata": {},
     "inputWidgets": {},
     "nuid": "19709839-2b12-4a66-8bbd-471fb4256bad",
     "showTitle": false,
     "tableResultSettingsMap": {},
     "title": ""
    }
   },
   "outputs": [],
   "source": [
    "CREATE OR REPLACE MATERIALIZED VIEW fr_daily_student_courses\n",
    "COMMENT \"Daily number of courses per student in France\"\n",
    "AS\n",
    " SELECT student_id, f_name, l_name, date_trunc(\"DD\", formatted_timestamp) order_date, sum(quantity) courses_counts\n",
    " -- FROM enrollments_cleaned\n",
    " FROM LIVE.enrollments_cleaned\n",
    " WHERE country = \"France\"\n",
    " GROUP BY student_id, f_name, l_name, date_trunc(\"DD\", formatted_timestamp)"
   ]
  }
 ],
 "metadata": {
  "application/vnd.databricks.v1+notebook": {
   "computePreferences": null,
   "dashboards": [],
   "environmentMetadata": null,
   "inputWidgetPreferences": null,
   "language": "sql",
   "notebookMetadata": {
    "pythonIndentUnit": 4
   },
   "notebookName": "61_delta_live_tables",
   "widgets": {}
  },
  "language_info": {
   "name": "sql"
  }
 },
 "nbformat": 4,
 "nbformat_minor": 0
}