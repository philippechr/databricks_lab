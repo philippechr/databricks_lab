{
 "cells": [
  {
   "cell_type": "code",
   "execution_count": 0,
   "metadata": {
    "application/vnd.databricks.v1+cell": {
     "cellMetadata": {
      "byteLimit": 2048000,
      "implicitDf": true,
      "rowLimit": 10000
     },
     "inputWidgets": {},
     "nuid": "75981cc6-b13c-4683-a7cf-fe1941d8c8f0",
     "showTitle": false,
     "tableResultSettingsMap": {},
     "title": ""
    }
   },
   "outputs": [],
   "source": [
    "%sql\n",
    "USE CATALOG workspace;\n",
    "USE SCHEMA default;"
   ]
  },
  {
   "cell_type": "code",
   "execution_count": 0,
   "metadata": {
    "application/vnd.databricks.v1+cell": {
     "cellMetadata": {
      "byteLimit": 2048000,
      "implicitDf": true,
      "rowLimit": 10000
     },
     "inputWidgets": {},
     "nuid": "6176beb7-2bae-4fd2-ab9e-30a338f23fa9",
     "showTitle": false,
     "tableResultSettingsMap": {},
     "title": ""
    }
   },
   "outputs": [],
   "source": [
    "%sql\n",
    "DROP TABLE IF EXISTS default.courses;\n",
    "DROP TABLE IF EXISTS default.courses_sink;"
   ]
  },
  {
   "cell_type": "code",
   "execution_count": 0,
   "metadata": {
    "application/vnd.databricks.v1+cell": {
     "cellMetadata": {
      "byteLimit": 2048000,
      "rowLimit": 10000
     },
     "inputWidgets": {},
     "nuid": "b41914ef-64ba-4c19-80e9-06e56461a22f",
     "showTitle": false,
     "tableResultSettingsMap": {},
     "title": ""
    }
   },
   "outputs": [
    {
     "output_type": "stream",
     "name": "stdout",
     "output_type": "stream",
     "text": [
      "Alle Tabellen und Checkpoints wurden zurückgesetzt. Sie können den Prozess neu starten.\n"
     ]
    }
   ],
   "source": [
    "# 1) aktive Streams stoppen (falls vorhanden)\n",
    "for s in spark.streams.active:\n",
    "    s.stop()\n",
    "\n",
    "# 2. Checkpoint-Verzeichnis des Streams löschen\n",
    "# Dadurch \"vergisst\" der Stream seine komplette Historie.\n",
    "checkpoint_path = \"/Volumes/workspace/default/volume/_chk/courses_vw_to_sink\"\n",
    "dbutils.fs.rm(checkpoint_path, recurse=True)\n",
    "\n",
    "print(\"Alle Tabellen und Checkpoints wurden zurückgesetzt. Sie können den Prozess neu starten.\")"
   ]
  },
  {
   "cell_type": "markdown",
   "metadata": {
    "application/vnd.databricks.v1+cell": {
     "cellMetadata": {},
     "inputWidgets": {},
     "nuid": "c56133b3-6aac-4218-9ea4-8e2b982a6129",
     "showTitle": false,
     "tableResultSettingsMap": {},
     "title": ""
    }
   },
   "source": [
    "# Vorbereitung: Datei einlesen und als Tabelle abspeichern"
   ]
  },
  {
   "cell_type": "code",
   "execution_count": 0,
   "metadata": {
    "application/vnd.databricks.v1+cell": {
     "cellMetadata": {
      "byteLimit": 2048000,
      "rowLimit": 10000
     },
     "inputWidgets": {},
     "nuid": "5a871da6-0122-47a6-a2fc-d9997b46fb22",
     "showTitle": false,
     "tableResultSettingsMap": {},
     "title": ""
    }
   },
   "outputs": [
    {
     "output_type": "display_data",
     "data": {
      "text/html": [
       "<style scoped>\n",
       "  .table-result-container {\n",
       "    max-height: 300px;\n",
       "    overflow: auto;\n",
       "  }\n",
       "  table, th, td {\n",
       "    border: 1px solid black;\n",
       "    border-collapse: collapse;\n",
       "  }\n",
       "  th, td {\n",
       "    padding: 5px;\n",
       "  }\n",
       "  th {\n",
       "    text-align: left;\n",
       "  }\n",
       "</style><div class='table-result-container'><table class='table-result'><thead style='background-color: white'><tr><th>path</th><th>name</th><th>size</th><th>modificationTime</th></tr></thead><tbody><tr><td>dbfs:/Volumes/workspace/default/volume/courses.json</td><td>courses.json</td><td>329</td><td>1756365194000</td></tr><tr><td>dbfs:/Volumes/workspace/default/volume/enrollments.json</td><td>enrollments.json</td><td>371</td><td>1756365193000</td></tr><tr><td>dbfs:/Volumes/workspace/default/volume/nested_json.json</td><td>nested_json.json</td><td>1186</td><td>1756365194000</td></tr><tr><td>dbfs:/Volumes/workspace/default/volume/students.json</td><td>students.json</td><td>322</td><td>1756365194000</td></tr><tr><td>dbfs:/Volumes/workspace/default/volume/students_update.json</td><td>students_update.json</td><td>216</td><td>1756365193000</td></tr></tbody></table></div>"
      ]
     },
     "metadata": {
      "application/vnd.databricks.v1+output": {
       "addedWidgets": {},
       "aggData": [],
       "aggError": "",
       "aggOverflow": false,
       "aggSchema": [],
       "aggSeriesLimitReached": false,
       "aggType": "",
       "arguments": {},
       "columnCustomDisplayInfos": {},
       "data": [
        [
         "dbfs:/Volumes/workspace/default/volume/courses.json",
         "courses.json",
         329,
         1756365194000
        ],
        [
         "dbfs:/Volumes/workspace/default/volume/enrollments.json",
         "enrollments.json",
         371,
         1756365193000
        ],
        [
         "dbfs:/Volumes/workspace/default/volume/nested_json.json",
         "nested_json.json",
         1186,
         1756365194000
        ],
        [
         "dbfs:/Volumes/workspace/default/volume/students.json",
         "students.json",
         322,
         1756365194000
        ],
        [
         "dbfs:/Volumes/workspace/default/volume/students_update.json",
         "students_update.json",
         216,
         1756365193000
        ]
       ],
       "datasetInfos": [],
       "dbfsResultPath": null,
       "isJsonSchema": true,
       "metadata": {},
       "overflow": false,
       "plotOptions": {
        "customPlotOptions": {},
        "displayType": "table",
        "pivotAggregation": null,
        "pivotColumns": null,
        "xColumns": null,
        "yColumns": null
       },
       "removedWidgets": [],
       "schema": [
        {
         "metadata": "{}",
         "name": "path",
         "type": "\"string\""
        },
        {
         "metadata": "{}",
         "name": "name",
         "type": "\"string\""
        },
        {
         "metadata": "{}",
         "name": "size",
         "type": "\"long\""
        },
        {
         "metadata": "{}",
         "name": "modificationTime",
         "type": "\"long\""
        }
       ],
       "type": "table"
      }
     },
     "output_type": "display_data"
    }
   ],
   "source": [
    "%python\n",
    "dataset_school = \"/Volumes/workspace/default/volume\"\n",
    "\n",
    "all_files = dbutils.fs.ls(dataset_school)\n",
    "json_files = [f for f in all_files if f.name.endswith(\".json\")]\n",
    "\n",
    "display(json_files)"
   ]
  },
  {
   "cell_type": "code",
   "execution_count": 0,
   "metadata": {
    "application/vnd.databricks.v1+cell": {
     "cellMetadata": {
      "byteLimit": 2048000,
      "rowLimit": 10000
     },
     "inputWidgets": {},
     "nuid": "133ccb22-708e-43d2-b2ac-327e0b12748a",
     "showTitle": false,
     "tableResultSettingsMap": {},
     "title": ""
    }
   },
   "outputs": [],
   "source": [
    "# JSON lesen:\n",
    "courses_df = spark.read.json(\"/Volumes/workspace/default/volume/courses.json\")\n",
    "courses_df.createOrReplaceTempView(\"courses\")"
   ]
  },
  {
   "cell_type": "code",
   "execution_count": 0,
   "metadata": {
    "application/vnd.databricks.v1+cell": {
     "cellMetadata": {
      "byteLimit": 2048000,
      "rowLimit": 10000
     },
     "inputWidgets": {},
     "nuid": "2bd018ff-967d-472d-a18a-387a139f9b40",
     "showTitle": false,
     "tableResultSettingsMap": {},
     "title": ""
    }
   },
   "outputs": [],
   "source": [
    "# Courses speichern\n",
    "courses_df.write \\\n",
    "    .format(\"delta\") \\\n",
    "    .mode(\"overwrite\") \\\n",
    "    .saveAsTable(\"default.courses\")"
   ]
  },
  {
   "cell_type": "markdown",
   "metadata": {
    "application/vnd.databricks.v1+cell": {
     "cellMetadata": {},
     "inputWidgets": {},
     "nuid": "726f8551-5934-484c-8f61-cd8ca9012297",
     "showTitle": false,
     "tableResultSettingsMap": {},
     "title": ""
    }
   },
   "source": [
    "# Structured Streaming"
   ]
  },
  {
   "cell_type": "markdown",
   "metadata": {
    "application/vnd.databricks.v1+cell": {
     "cellMetadata": {},
     "inputWidgets": {},
     "nuid": "84742c3b-018d-4f40-ac59-1d5c49dbe99b",
     "showTitle": false,
     "tableResultSettingsMap": {},
     "title": ""
    }
   },
   "source": [
    "Read Stream von PySpark API"
   ]
  },
  {
   "cell_type": "code",
   "execution_count": 0,
   "metadata": {
    "application/vnd.databricks.v1+cell": {
     "cellMetadata": {
      "byteLimit": 2048000,
      "implicitDf": true,
      "rowLimit": 10000
     },
     "inputWidgets": {},
     "nuid": "ed1527f9-00f2-484b-a767-f081df036c0d",
     "showTitle": false,
     "tableResultSettingsMap": {},
     "title": ""
    }
   },
   "outputs": [],
   "source": [
    "# spark.readStream ermöglicht das Abfragen einer Delta-Tabelle als \n",
    "# Streaming-Quelle und erstellt daraus ein Streaming-DataFrame.\n",
    "stream_df = spark.readStream.table(\"workspace.default.courses\")\n",
    "stream_df.createOrReplaceTempView(\"courses_streaming_tmp_vw\")  # das ist jetzt eine STREAMING View"
   ]
  },
  {
   "cell_type": "markdown",
   "metadata": {
    "application/vnd.databricks.v1+cell": {
     "cellMetadata": {},
     "inputWidgets": {},
     "nuid": "81dc309b-b162-49cf-a18e-706a97405fc9",
     "showTitle": false,
     "tableResultSettingsMap": {},
     "title": ""
    }
   },
   "source": [
    "Write Stream"
   ]
  },
  {
   "cell_type": "code",
   "execution_count": 0,
   "metadata": {
    "application/vnd.databricks.v1+cell": {
     "cellMetadata": {
      "byteLimit": 2048000,
      "rowLimit": 10000
     },
     "inputWidgets": {},
     "nuid": "c9a268b2-b0d2-42e9-b798-00cca87a2e42",
     "showTitle": false,
     "tableResultSettingsMap": {},
     "title": ""
    }
   },
   "outputs": [
    {
     "output_type": "display_data",
     "data": {
      "text/html": [
       "<style scoped>\n",
       "  .table-result-container {\n",
       "    max-height: 300px;\n",
       "    overflow: auto;\n",
       "  }\n",
       "  table, th, td {\n",
       "    border: 1px solid black;\n",
       "    border-collapse: collapse;\n",
       "  }\n",
       "  th, td {\n",
       "    padding: 5px;\n",
       "  }\n",
       "  th {\n",
       "    text-align: left;\n",
       "  }\n",
       "</style><div class='table-result-container'><table class='table-result'><thead style='background-color: white'><tr><th>category</th><th>course_id</th><th>instructor</th><th>price</th><th>title</th></tr></thead><tbody><tr><td>History</td><td>1235</td><td>Manual Insert</td><td>150</td><td>Another course</td></tr><tr><td>History</td><td>1234</td><td>Manual Insert</td><td>150</td><td>A new course</td></tr><tr><td>Technology</td><td>101</td><td>Dr. Smith</td><td>850</td><td>Data Engineering</td></tr><tr><td>AI</td><td>102</td><td>Dr. Lee</td><td>1200</td><td>Machine Learning</td></tr><tr><td>Philosophy</td><td>103</td><td>Dr. Kim</td><td>600</td><td>Ethics in AI</td></tr></tbody></table></div>"
      ]
     },
     "metadata": {
      "application/vnd.databricks.v1+output": {
       "addedWidgets": {},
       "aggData": [],
       "aggError": "",
       "aggOverflow": false,
       "aggSchema": [],
       "aggSeriesLimitReached": false,
       "aggType": "",
       "arguments": {},
       "columnCustomDisplayInfos": {},
       "data": [
        [
         "History",
         1235,
         "Manual Insert",
         150,
         "Another course"
        ],
        [
         "History",
         1234,
         "Manual Insert",
         150,
         "A new course"
        ],
        [
         "Technology",
         101,
         "Dr. Smith",
         850,
         "Data Engineering"
        ],
        [
         "AI",
         102,
         "Dr. Lee",
         1200,
         "Machine Learning"
        ],
        [
         "Philosophy",
         103,
         "Dr. Kim",
         600,
         "Ethics in AI"
        ]
       ],
       "datasetInfos": [],
       "dbfsResultPath": null,
       "isJsonSchema": true,
       "metadata": {},
       "overflow": false,
       "plotOptions": {
        "customPlotOptions": {},
        "displayType": "table",
        "pivotAggregation": null,
        "pivotColumns": null,
        "xColumns": null,
        "yColumns": null
       },
       "removedWidgets": [],
       "schema": [
        {
         "metadata": "{}",
         "name": "category",
         "type": "\"string\""
        },
        {
         "metadata": "{}",
         "name": "course_id",
         "type": "\"long\""
        },
        {
         "metadata": "{}",
         "name": "instructor",
         "type": "\"string\""
        },
        {
         "metadata": "{}",
         "name": "price",
         "type": "\"long\""
        },
        {
         "metadata": "{}",
         "name": "title",
         "type": "\"string\""
        }
       ],
       "type": "table"
      }
     },
     "output_type": "display_data"
    }
   ],
   "source": [
    "# Optional: Zieltabelle mit gleichem Schema anlegen (falls noch nicht da)\n",
    "spark.sql(\"\"\"\n",
    "  CREATE TABLE IF NOT EXISTS workspace.default.courses_sink\n",
    "  LIKE workspace.default.courses\n",
    "\"\"\")\n",
    "\n",
    "# Aus der STREAMING-View lesen\n",
    "df = spark.table(\"courses_streaming_tmp_vw\")  # bleibt Streaming-DF\n",
    "\n",
    "# Stream -> Delta-Tabelle (Serverless: availableNow + eigener Checkpoint!)\n",
    "q = (\n",
    "  df.writeStream\n",
    "    .format(\"delta\")\n",
    "    .outputMode(\"append\")\n",
    "    .trigger(availableNow=True) # Dieser Trigger ist in der Free Edition zwingend\n",
    "    .option(\"checkpointLocation\",\n",
    "            \"/Volumes/workspace/default/volume/_chk/courses_vw_to_sink\")\n",
    "    .toTable(\"workspace.default.courses_sink\")\n",
    ")\n",
    "\n",
    "# Bei availableNow wartet’s bis fertig und stoppt dann\n",
    "q.awaitTermination()\n",
    "\n",
    "# Ergebnis checken\n",
    "display(spark.table(\"workspace.default.courses_sink\"))"
   ]
  },
  {
   "cell_type": "code",
   "execution_count": 0,
   "metadata": {
    "application/vnd.databricks.v1+cell": {
     "cellMetadata": {
      "byteLimit": 2048000,
      "implicitDf": true,
      "rowLimit": 10000
     },
     "inputWidgets": {},
     "nuid": "14114f72-f586-4a8b-9e6a-0ce3d545a66c",
     "showTitle": false,
     "tableResultSettingsMap": {},
     "title": ""
    }
   },
   "outputs": [
    {
     "output_type": "display_data",
     "data": {
      "text/html": [
       "<style scoped>\n",
       "  .table-result-container {\n",
       "    max-height: 300px;\n",
       "    overflow: auto;\n",
       "  }\n",
       "  table, th, td {\n",
       "    border: 1px solid black;\n",
       "    border-collapse: collapse;\n",
       "  }\n",
       "  th, td {\n",
       "    padding: 5px;\n",
       "  }\n",
       "  th {\n",
       "    text-align: left;\n",
       "  }\n",
       "</style><div class='table-result-container'><table class='table-result'><thead style='background-color: white'><tr><th>category</th><th>course_id</th><th>instructor</th><th>price</th><th>title</th></tr></thead><tbody><tr><td>History</td><td>1235</td><td>Manual Insert</td><td>150</td><td>Another course</td></tr><tr><td>History</td><td>1234</td><td>Manual Insert</td><td>150</td><td>A new course</td></tr><tr><td>Technology</td><td>101</td><td>Dr. Smith</td><td>850</td><td>Data Engineering</td></tr><tr><td>AI</td><td>102</td><td>Dr. Lee</td><td>1200</td><td>Machine Learning</td></tr><tr><td>Philosophy</td><td>103</td><td>Dr. Kim</td><td>600</td><td>Ethics in AI</td></tr></tbody></table></div>"
      ]
     },
     "metadata": {
      "application/vnd.databricks.v1+output": {
       "addedWidgets": {},
       "aggData": [],
       "aggError": "",
       "aggOverflow": false,
       "aggSchema": [],
       "aggSeriesLimitReached": false,
       "aggType": "",
       "arguments": {},
       "columnCustomDisplayInfos": {},
       "data": [
        [
         "History",
         1235,
         "Manual Insert",
         150,
         "Another course"
        ],
        [
         "History",
         1234,
         "Manual Insert",
         150,
         "A new course"
        ],
        [
         "Technology",
         101,
         "Dr. Smith",
         850,
         "Data Engineering"
        ],
        [
         "AI",
         102,
         "Dr. Lee",
         1200,
         "Machine Learning"
        ],
        [
         "Philosophy",
         103,
         "Dr. Kim",
         600,
         "Ethics in AI"
        ]
       ],
       "datasetInfos": [
        {
         "name": "_sqldf",
         "schema": {
          "fields": [
           {
            "metadata": {},
            "name": "category",
            "nullable": true,
            "type": "string"
           },
           {
            "metadata": {},
            "name": "course_id",
            "nullable": true,
            "type": "long"
           },
           {
            "metadata": {},
            "name": "instructor",
            "nullable": true,
            "type": "string"
           },
           {
            "metadata": {},
            "name": "price",
            "nullable": true,
            "type": "long"
           },
           {
            "metadata": {},
            "name": "title",
            "nullable": true,
            "type": "string"
           }
          ],
          "type": "struct"
         },
         "tableIdentifier": null,
         "typeStr": "pyspark.sql.connect.dataframe.DataFrame"
        }
       ],
       "dbfsResultPath": null,
       "isJsonSchema": true,
       "metadata": {
        "createTempViewForImplicitDf": true,
        "dataframeName": "_sqldf",
        "executionCount": 14
       },
       "overflow": false,
       "plotOptions": {
        "customPlotOptions": {},
        "displayType": "table",
        "pivotAggregation": null,
        "pivotColumns": null,
        "xColumns": null,
        "yColumns": null
       },
       "removedWidgets": [],
       "schema": [
        {
         "metadata": "{}",
         "name": "category",
         "type": "\"string\""
        },
        {
         "metadata": "{}",
         "name": "course_id",
         "type": "\"long\""
        },
        {
         "metadata": "{}",
         "name": "instructor",
         "type": "\"string\""
        },
        {
         "metadata": "{}",
         "name": "price",
         "type": "\"long\""
        },
        {
         "metadata": "{}",
         "name": "title",
         "type": "\"string\""
        }
       ],
       "type": "table"
      }
     },
     "output_type": "display_data"
    }
   ],
   "source": [
    "%sql\n",
    "-- Daten prüfen (variante SQL)\n",
    "SELECT * FROM workspace.default.courses_sink"
   ]
  },
  {
   "cell_type": "markdown",
   "metadata": {
    "application/vnd.databricks.v1+cell": {
     "cellMetadata": {},
     "inputWidgets": {},
     "nuid": "8e4b7f01-0702-4d26-8feb-8e61ed0316a5",
     "showTitle": false,
     "tableResultSettingsMap": {},
     "title": ""
    }
   },
   "source": [
    "Daten einfügen"
   ]
  },
  {
   "cell_type": "code",
   "execution_count": 0,
   "metadata": {
    "application/vnd.databricks.v1+cell": {
     "cellMetadata": {
      "byteLimit": 2048000,
      "implicitDf": true,
      "rowLimit": 10000
     },
     "inputWidgets": {},
     "nuid": "03a89c66-8efb-4b00-9840-576c730564d6",
     "showTitle": false,
     "tableResultSettingsMap": {},
     "title": ""
    }
   },
   "outputs": [
    {
     "output_type": "display_data",
     "data": {
      "text/html": [
       "<style scoped>\n",
       "  .table-result-container {\n",
       "    max-height: 300px;\n",
       "    overflow: auto;\n",
       "  }\n",
       "  table, th, td {\n",
       "    border: 1px solid black;\n",
       "    border-collapse: collapse;\n",
       "  }\n",
       "  th, td {\n",
       "    padding: 5px;\n",
       "  }\n",
       "  th {\n",
       "    text-align: left;\n",
       "  }\n",
       "</style><div class='table-result-container'><table class='table-result'><thead style='background-color: white'><tr><th>num_affected_rows</th><th>num_inserted_rows</th></tr></thead><tbody><tr><td>1</td><td>1</td></tr></tbody></table></div>"
      ]
     },
     "metadata": {
      "application/vnd.databricks.v1+output": {
       "addedWidgets": {},
       "aggData": [],
       "aggError": "",
       "aggOverflow": false,
       "aggSchema": [],
       "aggSeriesLimitReached": false,
       "aggType": "",
       "arguments": {},
       "columnCustomDisplayInfos": {},
       "data": [
        [
         1,
         1
        ]
       ],
       "datasetInfos": [
        {
         "name": "_sqldf",
         "schema": {
          "fields": [
           {
            "metadata": {},
            "name": "num_affected_rows",
            "nullable": true,
            "type": "long"
           },
           {
            "metadata": {},
            "name": "num_inserted_rows",
            "nullable": true,
            "type": "long"
           }
          ],
          "type": "struct"
         },
         "tableIdentifier": null,
         "typeStr": "pyspark.sql.connect.dataframe.DataFrame"
        }
       ],
       "dbfsResultPath": null,
       "isJsonSchema": true,
       "metadata": {
        "createTempViewForImplicitDf": true,
        "dataframeName": "_sqldf",
        "executionCount": 11
       },
       "overflow": false,
       "plotOptions": {
        "customPlotOptions": {},
        "displayType": "table",
        "pivotAggregation": null,
        "pivotColumns": null,
        "xColumns": null,
        "yColumns": null
       },
       "removedWidgets": [],
       "schema": [
        {
         "metadata": "{}",
         "name": "num_affected_rows",
         "type": "\"long\""
        },
        {
         "metadata": "{}",
         "name": "num_inserted_rows",
         "type": "\"long\""
        }
       ],
       "type": "table"
      }
     },
     "output_type": "display_data"
    }
   ],
   "source": [
    "%sql\n",
    "INSERT INTO workspace.default.courses VALUES ('History', 1234, 'Manual Insert', 150, 'A new course');\n",
    "INSERT INTO workspace.default.courses VALUES ('History', 1235, 'Manual Insert', 150, 'Another course');"
   ]
  },
  {
   "cell_type": "code",
   "execution_count": 0,
   "metadata": {
    "application/vnd.databricks.v1+cell": {
     "cellMetadata": {
      "byteLimit": 2048000,
      "rowLimit": 10000
     },
     "inputWidgets": {},
     "nuid": "2c269a51-abf6-4d13-a9c5-80e81edc6ca5",
     "showTitle": false,
     "tableResultSettingsMap": {},
     "title": ""
    }
   },
   "outputs": [],
   "source": [
    "# Write Stream nochmals ausführen weil availableNow=True (limitierung Free Edition).\n",
    "# DANACH hier weiter gehen"
   ]
  },
  {
   "cell_type": "code",
   "execution_count": 0,
   "metadata": {
    "application/vnd.databricks.v1+cell": {
     "cellMetadata": {
      "byteLimit": 2048000,
      "implicitDf": true,
      "rowLimit": 10000
     },
     "inputWidgets": {},
     "nuid": "86f13f28-eaf5-403b-8d8b-46ec56100173",
     "showTitle": false,
     "tableResultSettingsMap": {},
     "title": ""
    }
   },
   "outputs": [
    {
     "output_type": "display_data",
     "data": {
      "text/html": [
       "<style scoped>\n",
       "  .table-result-container {\n",
       "    max-height: 300px;\n",
       "    overflow: auto;\n",
       "  }\n",
       "  table, th, td {\n",
       "    border: 1px solid black;\n",
       "    border-collapse: collapse;\n",
       "  }\n",
       "  th, td {\n",
       "    padding: 5px;\n",
       "  }\n",
       "  th {\n",
       "    text-align: left;\n",
       "  }\n",
       "</style><div class='table-result-container'><table class='table-result'><thead style='background-color: white'><tr><th>category</th><th>course_id</th><th>instructor</th><th>price</th><th>title</th></tr></thead><tbody><tr><td>Technology</td><td>101</td><td>Dr. Smith</td><td>850</td><td>Data Engineering</td></tr><tr><td>AI</td><td>102</td><td>Dr. Lee</td><td>1200</td><td>Machine Learning</td></tr><tr><td>Philosophy</td><td>103</td><td>Dr. Kim</td><td>600</td><td>Ethics in AI</td></tr></tbody></table></div>"
      ]
     },
     "metadata": {
      "application/vnd.databricks.v1+output": {
       "addedWidgets": {},
       "aggData": [],
       "aggError": "",
       "aggOverflow": false,
       "aggSchema": [],
       "aggSeriesLimitReached": false,
       "aggType": "",
       "arguments": {},
       "columnCustomDisplayInfos": {},
       "data": [
        [
         "Technology",
         101,
         "Dr. Smith",
         850,
         "Data Engineering"
        ],
        [
         "AI",
         102,
         "Dr. Lee",
         1200,
         "Machine Learning"
        ],
        [
         "Philosophy",
         103,
         "Dr. Kim",
         600,
         "Ethics in AI"
        ]
       ],
       "datasetInfos": [
        {
         "name": "_sqldf",
         "schema": {
          "fields": [
           {
            "metadata": {},
            "name": "category",
            "nullable": true,
            "type": "string"
           },
           {
            "metadata": {},
            "name": "course_id",
            "nullable": true,
            "type": "long"
           },
           {
            "metadata": {},
            "name": "instructor",
            "nullable": true,
            "type": "string"
           },
           {
            "metadata": {},
            "name": "price",
            "nullable": true,
            "type": "long"
           },
           {
            "metadata": {},
            "name": "title",
            "nullable": true,
            "type": "string"
           }
          ],
          "type": "struct"
         },
         "tableIdentifier": null,
         "typeStr": "pyspark.sql.connect.dataframe.DataFrame"
        }
       ],
       "dbfsResultPath": null,
       "isJsonSchema": true,
       "metadata": {
        "createTempViewForImplicitDf": true,
        "dataframeName": "_sqldf",
        "executionCount": 15
       },
       "overflow": false,
       "plotOptions": {
        "customPlotOptions": {},
        "displayType": "table",
        "pivotAggregation": null,
        "pivotColumns": null,
        "xColumns": null,
        "yColumns": null
       },
       "removedWidgets": [],
       "schema": [
        {
         "metadata": "{}",
         "name": "category",
         "type": "\"string\""
        },
        {
         "metadata": "{}",
         "name": "course_id",
         "type": "\"long\""
        },
        {
         "metadata": "{}",
         "name": "instructor",
         "type": "\"string\""
        },
        {
         "metadata": "{}",
         "name": "price",
         "type": "\"long\""
        },
        {
         "metadata": "{}",
         "name": "title",
         "type": "\"string\""
        }
       ],
       "type": "table"
      }
     },
     "output_type": "display_data"
    }
   ],
   "source": [
    "%sql\n",
    "-- Inser ist in der Quelltabelle nicht vorhanden. Grund: Cache ist nicht aktualisiert\n",
    "SELECT * FROM courses"
   ]
  },
  {
   "cell_type": "code",
   "execution_count": 0,
   "metadata": {
    "application/vnd.databricks.v1+cell": {
     "cellMetadata": {
      "byteLimit": 2048000,
      "implicitDf": true,
      "rowLimit": 10000
     },
     "inputWidgets": {},
     "nuid": "c4057540-5069-46f8-8e7d-584e1b2ee4c5",
     "showTitle": false,
     "tableResultSettingsMap": {},
     "title": ""
    }
   },
   "outputs": [
    {
     "output_type": "display_data",
     "data": {
      "text/html": [
       "<style scoped>\n",
       "  .table-result-container {\n",
       "    max-height: 300px;\n",
       "    overflow: auto;\n",
       "  }\n",
       "  table, th, td {\n",
       "    border: 1px solid black;\n",
       "    border-collapse: collapse;\n",
       "  }\n",
       "  th, td {\n",
       "    padding: 5px;\n",
       "  }\n",
       "  th {\n",
       "    text-align: left;\n",
       "  }\n",
       "</style><div class='table-result-container'><table class='table-result'><thead style='background-color: white'><tr><th>category</th><th>course_id</th><th>instructor</th><th>price</th><th>title</th></tr></thead><tbody><tr><td>History</td><td>1235</td><td>Manual Insert</td><td>150</td><td>Another course</td></tr><tr><td>History</td><td>1234</td><td>Manual Insert</td><td>150</td><td>A new course</td></tr><tr><td>Philosophy</td><td>103</td><td>Dr. Kim</td><td>600</td><td>Ethics in AI</td></tr><tr><td>AI</td><td>102</td><td>Dr. Lee</td><td>1200</td><td>Machine Learning</td></tr><tr><td>Technology</td><td>101</td><td>Dr. Smith</td><td>850</td><td>Data Engineering</td></tr></tbody></table></div>"
      ]
     },
     "metadata": {
      "application/vnd.databricks.v1+output": {
       "addedWidgets": {},
       "aggData": [],
       "aggError": "",
       "aggOverflow": false,
       "aggSchema": [],
       "aggSeriesLimitReached": false,
       "aggType": "",
       "arguments": {},
       "columnCustomDisplayInfos": {},
       "data": [
        [
         "History",
         1235,
         "Manual Insert",
         150,
         "Another course"
        ],
        [
         "History",
         1234,
         "Manual Insert",
         150,
         "A new course"
        ],
        [
         "Philosophy",
         103,
         "Dr. Kim",
         600,
         "Ethics in AI"
        ],
        [
         "AI",
         102,
         "Dr. Lee",
         1200,
         "Machine Learning"
        ],
        [
         "Technology",
         101,
         "Dr. Smith",
         850,
         "Data Engineering"
        ]
       ],
       "datasetInfos": [
        {
         "name": "_sqldf",
         "schema": {
          "fields": [
           {
            "metadata": {},
            "name": "category",
            "nullable": true,
            "type": "string"
           },
           {
            "metadata": {},
            "name": "course_id",
            "nullable": true,
            "type": "long"
           },
           {
            "metadata": {},
            "name": "instructor",
            "nullable": true,
            "type": "string"
           },
           {
            "metadata": {},
            "name": "price",
            "nullable": true,
            "type": "long"
           },
           {
            "metadata": {},
            "name": "title",
            "nullable": true,
            "type": "string"
           }
          ],
          "type": "struct"
         },
         "tableIdentifier": null,
         "typeStr": "pyspark.sql.connect.dataframe.DataFrame"
        }
       ],
       "dbfsResultPath": null,
       "isJsonSchema": true,
       "metadata": {
        "createTempViewForImplicitDf": true,
        "dataframeName": "_sqldf",
        "executionCount": 16
       },
       "overflow": false,
       "plotOptions": {
        "customPlotOptions": {},
        "displayType": "table",
        "pivotAggregation": null,
        "pivotColumns": null,
        "xColumns": null,
        "yColumns": null
       },
       "removedWidgets": [],
       "schema": [
        {
         "metadata": "{}",
         "name": "category",
         "type": "\"string\""
        },
        {
         "metadata": "{}",
         "name": "course_id",
         "type": "\"long\""
        },
        {
         "metadata": "{}",
         "name": "instructor",
         "type": "\"string\""
        },
        {
         "metadata": "{}",
         "name": "price",
         "type": "\"long\""
        },
        {
         "metadata": "{}",
         "name": "title",
         "type": "\"string\""
        }
       ],
       "type": "table"
      }
     },
     "output_type": "display_data"
    }
   ],
   "source": [
    "%sql\n",
    "--- die sink-Tabelle zeigt uns die vollständigen Daten (die Stream-Wahrheit)\n",
    "SELECT * FROM workspace.default.courses_sink ORDER by course_id DESC"
   ]
  },
  {
   "cell_type": "code",
   "execution_count": 0,
   "metadata": {
    "application/vnd.databricks.v1+cell": {
     "cellMetadata": {
      "byteLimit": 2048000,
      "implicitDf": true,
      "rowLimit": 10000
     },
     "inputWidgets": {},
     "nuid": "8ac6a8fd-b85a-49b7-86b2-02ba0ee626e8",
     "showTitle": false,
     "tableResultSettingsMap": {},
     "title": ""
    }
   },
   "outputs": [
    {
     "output_type": "display_data",
     "data": {
      "text/html": [
       "<style scoped>\n",
       "  .table-result-container {\n",
       "    max-height: 300px;\n",
       "    overflow: auto;\n",
       "  }\n",
       "  table, th, td {\n",
       "    border: 1px solid black;\n",
       "    border-collapse: collapse;\n",
       "  }\n",
       "  th, td {\n",
       "    padding: 5px;\n",
       "  }\n",
       "  th {\n",
       "    text-align: left;\n",
       "  }\n",
       "</style><div class='table-result-container'><table class='table-result'><thead style='background-color: white'><tr><th>category</th><th>course_id</th><th>instructor</th><th>price</th><th>title</th></tr></thead><tbody><tr><td>Technology</td><td>101</td><td>Dr. Smith</td><td>850</td><td>Data Engineering</td></tr><tr><td>AI</td><td>102</td><td>Dr. Lee</td><td>1200</td><td>Machine Learning</td></tr><tr><td>Philosophy</td><td>103</td><td>Dr. Kim</td><td>600</td><td>Ethics in AI</td></tr><tr><td>History</td><td>1235</td><td>Manual Insert</td><td>150</td><td>Another course</td></tr><tr><td>History</td><td>1234</td><td>Manual Insert</td><td>150</td><td>A new course</td></tr></tbody></table></div>"
      ]
     },
     "metadata": {
      "application/vnd.databricks.v1+output": {
       "addedWidgets": {},
       "aggData": [],
       "aggError": "",
       "aggOverflow": false,
       "aggSchema": [],
       "aggSeriesLimitReached": false,
       "aggType": "",
       "arguments": {},
       "columnCustomDisplayInfos": {},
       "data": [
        [
         "Technology",
         101,
         "Dr. Smith",
         850,
         "Data Engineering"
        ],
        [
         "AI",
         102,
         "Dr. Lee",
         1200,
         "Machine Learning"
        ],
        [
         "Philosophy",
         103,
         "Dr. Kim",
         600,
         "Ethics in AI"
        ],
        [
         "History",
         1235,
         "Manual Insert",
         150,
         "Another course"
        ],
        [
         "History",
         1234,
         "Manual Insert",
         150,
         "A new course"
        ]
       ],
       "datasetInfos": [
        {
         "name": "_sqldf",
         "schema": {
          "fields": [
           {
            "metadata": {},
            "name": "category",
            "nullable": true,
            "type": "string"
           },
           {
            "metadata": {},
            "name": "course_id",
            "nullable": true,
            "type": "long"
           },
           {
            "metadata": {},
            "name": "instructor",
            "nullable": true,
            "type": "string"
           },
           {
            "metadata": {},
            "name": "price",
            "nullable": true,
            "type": "long"
           },
           {
            "metadata": {},
            "name": "title",
            "nullable": true,
            "type": "string"
           }
          ],
          "type": "struct"
         },
         "tableIdentifier": null,
         "typeStr": "pyspark.sql.connect.dataframe.DataFrame"
        }
       ],
       "dbfsResultPath": null,
       "isJsonSchema": true,
       "metadata": {
        "createTempViewForImplicitDf": true,
        "dataframeName": "_sqldf",
        "executionCount": 17
       },
       "overflow": false,
       "plotOptions": {
        "customPlotOptions": {},
        "displayType": "table",
        "pivotAggregation": null,
        "pivotColumns": null,
        "xColumns": null,
        "yColumns": null
       },
       "removedWidgets": [],
       "schema": [
        {
         "metadata": "{}",
         "name": "category",
         "type": "\"string\""
        },
        {
         "metadata": "{}",
         "name": "course_id",
         "type": "\"long\""
        },
        {
         "metadata": "{}",
         "name": "instructor",
         "type": "\"string\""
        },
        {
         "metadata": "{}",
         "name": "price",
         "type": "\"long\""
        },
        {
         "metadata": "{}",
         "name": "title",
         "type": "\"string\""
        }
       ],
       "type": "table"
      }
     },
     "output_type": "display_data"
    }
   ],
   "source": [
    "%sql\n",
    "-- Cache löschen um ebenfalls die Wahrheit aus der Quelltabelle zu analysieren (variante Free Edition)\n",
    "-- Die Bedingung \"IS NOT NULL\" für den Primary Key ändert das Ergebnis nicht,\n",
    "-- aber zwingt Spark zu einer neuen Ausführung. \n",
    "-- Alternative Cluster neu starten\n",
    "SELECT * FROM workspace.default.courses WHERE course_id IS NOT NULL"
   ]
  },
  {
   "cell_type": "markdown",
   "metadata": {
    "application/vnd.databricks.v1+cell": {
     "cellMetadata": {},
     "inputWidgets": {},
     "nuid": "dee68f60-0829-47de-be7d-943e05eedead",
     "showTitle": false,
     "tableResultSettingsMap": {},
     "title": ""
    }
   },
   "source": [
    "%md\n",
    "## Streaming Data Manipulations in Python"
   ]
  },
  {
   "cell_type": "code",
   "execution_count": 0,
   "metadata": {
    "application/vnd.databricks.v1+cell": {
     "cellMetadata": {
      "byteLimit": 2048000,
      "rowLimit": 10000
     },
     "inputWidgets": {},
     "nuid": "d4ddb338-6f42-47c5-b6a1-e91d753696dc",
     "showTitle": false,
     "tableResultSettingsMap": {},
     "title": ""
    }
   },
   "outputs": [
    {
     "output_type": "stream",
     "name": "stdout",
     "output_type": "stream",
     "text": [
      "✅ Altes Ergebnis und Checkpoint gelöscht. Bereit für den neuen Lauf.\n"
     ]
    }
   ],
   "source": [
    "# Ziel-Verzeichnis für den Checkpoint der Aggregation\n",
    "instructor_agg_chk = \"/Volumes/workspace/default/volume/_chk/courses_by_instructor_agg_final\"\n",
    "\n",
    "# 1. Alte Ergebnistabelle löschen, damit sie neu erstellt werden kann\n",
    "spark.sql(\"DROP TABLE IF EXISTS workspace.default.courses_by_instructor\")\n",
    "\n",
    "# 2. Checkpoint löschen. KRITISCH! Sonst wird der Stream keine Daten verarbeiten.\n",
    "dbutils.fs.rm(instructor_agg_chk, recurse=True)\n",
    "\n",
    "print(\"✅ Altes Ergebnis und Checkpoint gelöscht. Bereit für den neuen Lauf.\")"
   ]
  },
  {
   "cell_type": "code",
   "execution_count": 0,
   "metadata": {
    "application/vnd.databricks.v1+cell": {
     "cellMetadata": {
      "byteLimit": 2048000,
      "rowLimit": 10000
     },
     "inputWidgets": {},
     "nuid": "cc913817-d18d-4959-a95a-794291ad302e",
     "showTitle": false,
     "tableResultSettingsMap": {},
     "title": ""
    }
   },
   "outputs": [
    {
     "output_type": "stream",
     "name": "stdout",
     "output_type": "stream",
     "text": [
      "✅ Streaming-Aggregation abgeschlossen und Ergebnistabelle neu erstellt.\n"
     ]
    }
   ],
   "source": [
    "import pyspark.sql.functions as F\n",
    "\n",
    "# Definiere den Stream, der von der bestehenden Quelltabelle liest\n",
    "stream_df = spark.readStream.table(\"workspace.default.courses\")\n",
    "\n",
    "# Definiere die Aggregation\n",
    "agg_df = (\n",
    "    stream_df.groupBy(\"instructor\")\n",
    "             .agg(F.count(\"course_id\").alias(\"total_courses\"))\n",
    ")\n",
    "\n",
    "# Starte den Stream.\n",
    "# Er wird die Ergebnistabelle \"courses_by_instructor\" selbst erstellen.\n",
    "q = (\n",
    "  agg_df.writeStream\n",
    "    .format(\"delta\")\n",
    "    .outputMode(\"complete\")\n",
    "    .trigger(availableNow=True)\n",
    "    .option(\"checkpointLocation\", instructor_agg_chk)\n",
    "    .toTable(\"workspace.default.courses_by_instructor\")\n",
    ")\n",
    "\n",
    "# Warten, bis der Stream-Job fertig ist\n",
    "q.awaitTermination()\n",
    "\n",
    "print(\"✅ Streaming-Aggregation abgeschlossen und Ergebnistabelle neu erstellt.\")"
   ]
  },
  {
   "cell_type": "code",
   "execution_count": 0,
   "metadata": {
    "application/vnd.databricks.v1+cell": {
     "cellMetadata": {
      "byteLimit": 2048000,
      "rowLimit": 10000
     },
     "inputWidgets": {},
     "nuid": "1b1ee797-6e94-404c-8ab7-4bdeee27887e",
     "showTitle": false,
     "tableResultSettingsMap": {},
     "title": ""
    }
   },
   "outputs": [
    {
     "output_type": "stream",
     "name": "stdout",
     "output_type": "stream",
     "text": [
      "⬇️ Aktuelles Ergebnis der Aggregation:\n"
     ]
    },
    {
     "output_type": "display_data",
     "data": {
      "text/html": [
       "<style scoped>\n",
       "  .table-result-container {\n",
       "    max-height: 300px;\n",
       "    overflow: auto;\n",
       "  }\n",
       "  table, th, td {\n",
       "    border: 1px solid black;\n",
       "    border-collapse: collapse;\n",
       "  }\n",
       "  th, td {\n",
       "    padding: 5px;\n",
       "  }\n",
       "  th {\n",
       "    text-align: left;\n",
       "  }\n",
       "</style><div class='table-result-container'><table class='table-result'><thead style='background-color: white'><tr><th>instructor</th><th>total_courses</th></tr></thead><tbody><tr><td>Manual Insert</td><td>2</td></tr><tr><td>Dr. Smith</td><td>1</td></tr><tr><td>Dr. Kim</td><td>1</td></tr><tr><td>Dr. Lee</td><td>1</td></tr></tbody></table></div>"
      ]
     },
     "metadata": {
      "application/vnd.databricks.v1+output": {
       "addedWidgets": {},
       "aggData": [],
       "aggError": "",
       "aggOverflow": false,
       "aggSchema": [],
       "aggSeriesLimitReached": false,
       "aggType": "",
       "arguments": {},
       "columnCustomDisplayInfos": {},
       "data": [
        [
         "Manual Insert",
         2
        ],
        [
         "Dr. Smith",
         1
        ],
        [
         "Dr. Kim",
         1
        ],
        [
         "Dr. Lee",
         1
        ]
       ],
       "datasetInfos": [],
       "dbfsResultPath": null,
       "isJsonSchema": true,
       "metadata": {},
       "overflow": false,
       "plotOptions": {
        "customPlotOptions": {},
        "displayType": "table",
        "pivotAggregation": null,
        "pivotColumns": null,
        "xColumns": null,
        "yColumns": null
       },
       "removedWidgets": [],
       "schema": [
        {
         "metadata": "{}",
         "name": "instructor",
         "type": "\"string\""
        },
        {
         "metadata": "{}",
         "name": "total_courses",
         "type": "\"long\""
        }
       ],
       "type": "table"
      }
     },
     "output_type": "display_data"
    }
   ],
   "source": [
    "print(\"⬇️ Aktuelles Ergebnis der Aggregation:\")\n",
    "\n",
    "# Abfrage der neu erstellten Zieltabelle\n",
    "display(spark.table(\"workspace.default.courses_by_instructor\"))"
   ]
  },
  {
   "cell_type": "markdown",
   "metadata": {
    "application/vnd.databricks.v1+cell": {
     "cellMetadata": {},
     "inputWidgets": {},
     "nuid": "b56c1656-d1b9-4a97-b201-e6e204a1830d",
     "showTitle": false,
     "tableResultSettingsMap": {},
     "title": ""
    }
   },
   "source": [
    "Insert"
   ]
  },
  {
   "cell_type": "code",
   "execution_count": 0,
   "metadata": {
    "application/vnd.databricks.v1+cell": {
     "cellMetadata": {
      "byteLimit": 2048000,
      "implicitDf": true,
      "rowLimit": 10000
     },
     "inputWidgets": {},
     "nuid": "51b220f0-7edd-408f-b503-9d87a5ea870e",
     "showTitle": false,
     "tableResultSettingsMap": {},
     "title": ""
    }
   },
   "outputs": [
    {
     "output_type": "display_data",
     "data": {
      "text/html": [
       "<style scoped>\n",
       "  .table-result-container {\n",
       "    max-height: 300px;\n",
       "    overflow: auto;\n",
       "  }\n",
       "  table, th, td {\n",
       "    border: 1px solid black;\n",
       "    border-collapse: collapse;\n",
       "  }\n",
       "  th, td {\n",
       "    padding: 5px;\n",
       "  }\n",
       "  th {\n",
       "    text-align: left;\n",
       "  }\n",
       "</style><div class='table-result-container'><table class='table-result'><thead style='background-color: white'><tr><th>num_affected_rows</th><th>num_inserted_rows</th></tr></thead><tbody><tr><td>1</td><td>1</td></tr></tbody></table></div>"
      ]
     },
     "metadata": {
      "application/vnd.databricks.v1+output": {
       "addedWidgets": {},
       "aggData": [],
       "aggError": "",
       "aggOverflow": false,
       "aggSchema": [],
       "aggSeriesLimitReached": false,
       "aggType": "",
       "arguments": {},
       "columnCustomDisplayInfos": {},
       "data": [
        [
         1,
         1
        ]
       ],
       "datasetInfos": [
        {
         "name": "_sqldf",
         "schema": {
          "fields": [
           {
            "metadata": {},
            "name": "num_affected_rows",
            "nullable": true,
            "type": "long"
           },
           {
            "metadata": {},
            "name": "num_inserted_rows",
            "nullable": true,
            "type": "long"
           }
          ],
          "type": "struct"
         },
         "tableIdentifier": null,
         "typeStr": "pyspark.sql.connect.dataframe.DataFrame"
        }
       ],
       "dbfsResultPath": null,
       "isJsonSchema": true,
       "metadata": {
        "createTempViewForImplicitDf": true,
        "dataframeName": "_sqldf",
        "executionCount": 22
       },
       "overflow": false,
       "plotOptions": {
        "customPlotOptions": {},
        "displayType": "table",
        "pivotAggregation": null,
        "pivotColumns": null,
        "xColumns": null,
        "yColumns": null
       },
       "removedWidgets": [],
       "schema": [
        {
         "metadata": "{}",
         "name": "num_affected_rows",
         "type": "\"long\""
        },
        {
         "metadata": "{}",
         "name": "num_inserted_rows",
         "type": "\"long\""
        }
       ],
       "type": "table"
      }
     },
     "output_type": "display_data"
    }
   ],
   "source": [
    "%sql\n",
    "INSERT INTO workspace.default.courses VALUES ('History', 1236, 'Manual Insert2', 180, 'A new course');\n",
    "INSERT INTO workspace.default.courses VALUES ('History', 1237, 'Manual Insert2', 180, 'Another new course');"
   ]
  },
  {
   "cell_type": "code",
   "execution_count": 0,
   "metadata": {
    "application/vnd.databricks.v1+cell": {
     "cellMetadata": {
      "byteLimit": 2048000,
      "rowLimit": 10000
     },
     "inputWidgets": {},
     "nuid": "88a8732e-f5e6-435c-87c9-8f8c3021b04b",
     "showTitle": false,
     "tableResultSettingsMap": {},
     "title": ""
    }
   },
   "outputs": [],
   "source": [
    "# Zelle mit Write Stream nochmals ausführen weil availableNow=True (limitierung Free Edition).\n",
    "# DANACH hier weiter gehen"
   ]
  },
  {
   "cell_type": "code",
   "execution_count": 0,
   "metadata": {
    "application/vnd.databricks.v1+cell": {
     "cellMetadata": {
      "byteLimit": 2048000,
      "implicitDf": true,
      "rowLimit": 10000
     },
     "inputWidgets": {},
     "nuid": "232d2cb4-1888-4175-a3b9-2c56da421c52",
     "showTitle": false,
     "tableResultSettingsMap": {},
     "title": ""
    }
   },
   "outputs": [
    {
     "output_type": "display_data",
     "data": {
      "text/html": [
       "<style scoped>\n",
       "  .table-result-container {\n",
       "    max-height: 300px;\n",
       "    overflow: auto;\n",
       "  }\n",
       "  table, th, td {\n",
       "    border: 1px solid black;\n",
       "    border-collapse: collapse;\n",
       "  }\n",
       "  th, td {\n",
       "    padding: 5px;\n",
       "  }\n",
       "  th {\n",
       "    text-align: left;\n",
       "  }\n",
       "</style><div class='table-result-container'><table class='table-result'><thead style='background-color: white'><tr><th>category</th><th>course_id</th><th>instructor</th><th>price</th><th>title</th></tr></thead><tbody><tr><td>History</td><td>1237</td><td>Manual Insert2</td><td>180</td><td>Another new course</td></tr><tr><td>History</td><td>1236</td><td>Manual Insert2</td><td>180</td><td>A new course</td></tr><tr><td>History</td><td>1235</td><td>Manual Insert</td><td>150</td><td>Another course</td></tr><tr><td>History</td><td>1234</td><td>Manual Insert</td><td>150</td><td>A new course</td></tr><tr><td>Philosophy</td><td>103</td><td>Dr. Kim</td><td>600</td><td>Ethics in AI</td></tr><tr><td>AI</td><td>102</td><td>Dr. Lee</td><td>1200</td><td>Machine Learning</td></tr><tr><td>Technology</td><td>101</td><td>Dr. Smith</td><td>850</td><td>Data Engineering</td></tr></tbody></table></div>"
      ]
     },
     "metadata": {
      "application/vnd.databricks.v1+output": {
       "addedWidgets": {},
       "aggData": [],
       "aggError": "",
       "aggOverflow": false,
       "aggSchema": [],
       "aggSeriesLimitReached": false,
       "aggType": "",
       "arguments": {},
       "columnCustomDisplayInfos": {},
       "data": [
        [
         "History",
         1237,
         "Manual Insert2",
         180,
         "Another new course"
        ],
        [
         "History",
         1236,
         "Manual Insert2",
         180,
         "A new course"
        ],
        [
         "History",
         1235,
         "Manual Insert",
         150,
         "Another course"
        ],
        [
         "History",
         1234,
         "Manual Insert",
         150,
         "A new course"
        ],
        [
         "Philosophy",
         103,
         "Dr. Kim",
         600,
         "Ethics in AI"
        ],
        [
         "AI",
         102,
         "Dr. Lee",
         1200,
         "Machine Learning"
        ],
        [
         "Technology",
         101,
         "Dr. Smith",
         850,
         "Data Engineering"
        ]
       ],
       "datasetInfos": [
        {
         "name": "_sqldf",
         "schema": {
          "fields": [
           {
            "metadata": {},
            "name": "category",
            "nullable": true,
            "type": "string"
           },
           {
            "metadata": {},
            "name": "course_id",
            "nullable": true,
            "type": "long"
           },
           {
            "metadata": {},
            "name": "instructor",
            "nullable": true,
            "type": "string"
           },
           {
            "metadata": {},
            "name": "price",
            "nullable": true,
            "type": "long"
           },
           {
            "metadata": {},
            "name": "title",
            "nullable": true,
            "type": "string"
           }
          ],
          "type": "struct"
         },
         "tableIdentifier": null,
         "typeStr": "pyspark.sql.connect.dataframe.DataFrame"
        }
       ],
       "dbfsResultPath": null,
       "isJsonSchema": true,
       "metadata": {
        "createTempViewForImplicitDf": true,
        "dataframeName": "_sqldf",
        "executionCount": 24
       },
       "overflow": false,
       "plotOptions": {
        "customPlotOptions": {},
        "displayType": "table",
        "pivotAggregation": null,
        "pivotColumns": null,
        "xColumns": null,
        "yColumns": null
       },
       "removedWidgets": [],
       "schema": [
        {
         "metadata": "{}",
         "name": "category",
         "type": "\"string\""
        },
        {
         "metadata": "{}",
         "name": "course_id",
         "type": "\"long\""
        },
        {
         "metadata": "{}",
         "name": "instructor",
         "type": "\"string\""
        },
        {
         "metadata": "{}",
         "name": "price",
         "type": "\"long\""
        },
        {
         "metadata": "{}",
         "name": "title",
         "type": "\"string\""
        }
       ],
       "type": "table"
      }
     },
     "output_type": "display_data"
    }
   ],
   "source": [
    "%sql\n",
    "SELECT * FROM workspace.default.courses ORDER BY course_id DESC"
   ]
  },
  {
   "cell_type": "code",
   "execution_count": 0,
   "metadata": {
    "application/vnd.databricks.v1+cell": {
     "cellMetadata": {
      "byteLimit": 2048000,
      "implicitDf": true,
      "rowLimit": 10000
     },
     "inputWidgets": {},
     "nuid": "18e9a4c5-9314-4884-a479-3537c0f09804",
     "showTitle": false,
     "tableResultSettingsMap": {},
     "title": ""
    }
   },
   "outputs": [
    {
     "output_type": "display_data",
     "data": {
      "text/html": [
       "<style scoped>\n",
       "  .table-result-container {\n",
       "    max-height: 300px;\n",
       "    overflow: auto;\n",
       "  }\n",
       "  table, th, td {\n",
       "    border: 1px solid black;\n",
       "    border-collapse: collapse;\n",
       "  }\n",
       "  th, td {\n",
       "    padding: 5px;\n",
       "  }\n",
       "  th {\n",
       "    text-align: left;\n",
       "  }\n",
       "</style><div class='table-result-container'><table class='table-result'><thead style='background-color: white'><tr><th>instructor</th><th>total_courses</th></tr></thead><tbody><tr><td>Manual Insert2</td><td>2</td></tr><tr><td>Manual Insert</td><td>2</td></tr><tr><td>Dr. Kim</td><td>1</td></tr><tr><td>Dr. Smith</td><td>1</td></tr><tr><td>Dr. Lee</td><td>1</td></tr></tbody></table></div>"
      ]
     },
     "metadata": {
      "application/vnd.databricks.v1+output": {
       "addedWidgets": {},
       "aggData": [],
       "aggError": "",
       "aggOverflow": false,
       "aggSchema": [],
       "aggSeriesLimitReached": false,
       "aggType": "",
       "arguments": {},
       "columnCustomDisplayInfos": {},
       "data": [
        [
         "Manual Insert2",
         2
        ],
        [
         "Manual Insert",
         2
        ],
        [
         "Dr. Kim",
         1
        ],
        [
         "Dr. Smith",
         1
        ],
        [
         "Dr. Lee",
         1
        ]
       ],
       "datasetInfos": [
        {
         "name": "_sqldf",
         "schema": {
          "fields": [
           {
            "metadata": {},
            "name": "instructor",
            "nullable": true,
            "type": "string"
           },
           {
            "metadata": {},
            "name": "total_courses",
            "nullable": true,
            "type": "long"
           }
          ],
          "type": "struct"
         },
         "tableIdentifier": null,
         "typeStr": "pyspark.sql.connect.dataframe.DataFrame"
        }
       ],
       "dbfsResultPath": null,
       "isJsonSchema": true,
       "metadata": {
        "createTempViewForImplicitDf": true,
        "dataframeName": "_sqldf",
        "executionCount": 25
       },
       "overflow": false,
       "plotOptions": {
        "customPlotOptions": {},
        "displayType": "table",
        "pivotAggregation": null,
        "pivotColumns": null,
        "xColumns": null,
        "yColumns": null
       },
       "removedWidgets": [],
       "schema": [
        {
         "metadata": "{}",
         "name": "instructor",
         "type": "\"string\""
        },
        {
         "metadata": "{}",
         "name": "total_courses",
         "type": "\"long\""
        }
       ],
       "type": "table"
      }
     },
     "output_type": "display_data"
    }
   ],
   "source": [
    "%sql\n",
    "SELECT * FROM workspace.default.courses_by_instructor order by total_courses DESC"
   ]
  },
  {
   "cell_type": "markdown",
   "metadata": {
    "application/vnd.databricks.v1+cell": {
     "cellMetadata": {},
     "inputWidgets": {},
     "nuid": "78e4d5e3-4f2b-4c7c-bf17-4b22f9fa708b",
     "showTitle": false,
     "tableResultSettingsMap": {},
     "title": ""
    }
   },
   "source": [
    "# Aufräumen"
   ]
  },
  {
   "cell_type": "code",
   "execution_count": 0,
   "metadata": {
    "application/vnd.databricks.v1+cell": {
     "cellMetadata": {
      "byteLimit": 2048000,
      "rowLimit": 10000
     },
     "inputWidgets": {},
     "nuid": "f30be478-11a1-4003-a858-1d446469846c",
     "showTitle": false,
     "tableResultSettingsMap": {},
     "title": ""
    }
   },
   "outputs": [
    {
     "output_type": "stream",
     "name": "stdout",
     "output_type": "stream",
     "text": [
      "Alle Tabellen und Checkpoints wurden zurückgesetzt. Sie können den Prozess neu starten.\n"
     ]
    }
   ],
   "source": [
    "# 1) aktive Streams stoppen\n",
    "for s in spark.streams.active:\n",
    "    s.stop()\n",
    "\n",
    "# 2. Checkpoint-Verzeichnis des Streams löschen\n",
    "# Dadurch \"vergisst\" der Stream seine komplette Historie.\n",
    "checkpoint_path = \"/Volumes/workspace/default/volume/_chk/courses_vw_to_sink\"\n",
    "dbutils.fs.rm(checkpoint_path, recurse=True)\n",
    "\n",
    "print(\"Alle Tabellen und Checkpoints wurden zurückgesetzt. Sie können den Prozess neu starten.\")"
   ]
  },
  {
   "cell_type": "code",
   "execution_count": 0,
   "metadata": {
    "application/vnd.databricks.v1+cell": {
     "cellMetadata": {
      "byteLimit": 2048000,
      "implicitDf": true,
      "rowLimit": 10000
     },
     "inputWidgets": {},
     "nuid": "c764b271-2bd6-4398-929f-7b21ca01345b",
     "showTitle": false,
     "tableResultSettingsMap": {},
     "title": ""
    }
   },
   "outputs": [],
   "source": [
    "%sql\n",
    "DROP TABLE IF EXISTS courses;\n",
    "DROP TABLE IF EXISTS courses_sink;\n",
    "DROP TABLE IF EXISTS courses_by_instructor;\n"
   ]
  }
 ],
 "metadata": {
  "application/vnd.databricks.v1+notebook": {
   "computePreferences": null,
   "dashboards": [],
   "environmentMetadata": {
    "base_environment": "",
    "environment_version": "2"
   },
   "inputWidgetPreferences": null,
   "language": "python",
   "notebookMetadata": {
    "mostRecentlyExecutedCommandWithImplicitDF": {
     "commandId": 7527154751672402,
     "dataframes": [
      "_sqldf"
     ]
    },
    "pythonIndentUnit": 4
   },
   "notebookName": "51_structured_streaming_old",
   "widgets": {}
  },
  "language_info": {
   "name": "python"
  }
 },
 "nbformat": 4,
 "nbformat_minor": 0
}