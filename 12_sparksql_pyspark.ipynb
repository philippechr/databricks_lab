{
 "cells": [
  {
   "cell_type": "markdown",
   "metadata": {
    "application/vnd.databricks.v1+cell": {
     "cellMetadata": {
      "byteLimit": 2048000,
      "rowLimit": 10000
     },
     "inputWidgets": {},
     "nuid": "94128278-df68-499c-9532-483df568fef0",
     "showTitle": false,
     "tableResultSettingsMap": {},
     "title": ""
    }
   },
   "source": [
    "Einfache SQL-Abfrage"
   ]
  },
  {
   "cell_type": "code",
   "execution_count": 0,
   "metadata": {
    "application/vnd.databricks.v1+cell": {
     "cellMetadata": {
      "byteLimit": 2048000,
      "implicitDf": true,
      "rowLimit": 10000
     },
     "inputWidgets": {},
     "nuid": "373fda15-70c9-428f-bfff-e77220011e6f",
     "showTitle": false,
     "tableResultSettingsMap": {},
     "title": ""
    }
   },
   "outputs": [
    {
     "output_type": "display_data",
     "data": {
      "text/html": [
       "<style scoped>\n",
       "  .table-result-container {\n",
       "    max-height: 300px;\n",
       "    overflow: auto;\n",
       "  }\n",
       "  table, th, td {\n",
       "    border: 1px solid black;\n",
       "    border-collapse: collapse;\n",
       "  }\n",
       "  th, td {\n",
       "    padding: 5px;\n",
       "  }\n",
       "  th {\n",
       "    text-align: left;\n",
       "  }\n",
       "</style><div class='table-result-container'><table class='table-result'><thead style='background-color: white'><tr><th>msg</th></tr></thead><tbody><tr><td>hallo</td></tr></tbody></table></div>"
      ]
     },
     "metadata": {
      "application/vnd.databricks.v1+output": {
       "addedWidgets": {},
       "aggData": [],
       "aggError": "",
       "aggOverflow": false,
       "aggSchema": [],
       "aggSeriesLimitReached": false,
       "aggType": "",
       "arguments": {},
       "columnCustomDisplayInfos": {},
       "data": [
        [
         "hallo"
        ]
       ],
       "datasetInfos": [
        {
         "name": "_sqldf",
         "schema": {
          "fields": [
           {
            "metadata": {},
            "name": "msg",
            "nullable": false,
            "type": "string"
           }
          ],
          "type": "struct"
         },
         "tableIdentifier": null,
         "typeStr": "pyspark.sql.connect.dataframe.DataFrame"
        }
       ],
       "dbfsResultPath": null,
       "isJsonSchema": true,
       "metadata": {
        "createTempViewForImplicitDf": true,
        "dataframeName": "_sqldf",
        "executionCount": 9
       },
       "overflow": false,
       "plotOptions": {
        "customPlotOptions": {},
        "displayType": "table",
        "pivotAggregation": null,
        "pivotColumns": null,
        "xColumns": null,
        "yColumns": null
       },
       "removedWidgets": [],
       "schema": [
        {
         "metadata": "{}",
         "name": "msg",
         "type": "\"string\""
        }
       ],
       "type": "table"
      }
     },
     "output_type": "display_data"
    }
   ],
   "source": [
    "%sql\n",
    "Select \"hallo\" as msg"
   ]
  },
  {
   "cell_type": "markdown",
   "metadata": {
    "application/vnd.databricks.v1+cell": {
     "cellMetadata": {
      "byteLimit": 2048000,
      "rowLimit": 10000
     },
     "inputWidgets": {},
     "nuid": "69f62056-e329-44e4-b832-ab310d0dfb75",
     "showTitle": false,
     "tableResultSettingsMap": {},
     "title": ""
    }
   },
   "source": [
    "## SQL-Table zu Python"
   ]
  },
  {
   "cell_type": "markdown",
   "metadata": {
    "application/vnd.databricks.v1+cell": {
     "cellMetadata": {
      "byteLimit": 2048000,
      "rowLimit": 10000
     },
     "inputWidgets": {},
     "nuid": "dc763430-e5cc-4204-9147-1bafe5f38748",
     "showTitle": false,
     "tableResultSettingsMap": {},
     "title": ""
    }
   },
   "source": [
    "Tabelle 1"
   ]
  },
  {
   "cell_type": "code",
   "execution_count": 0,
   "metadata": {
    "application/vnd.databricks.v1+cell": {
     "cellMetadata": {
      "byteLimit": 2048000,
      "rowLimit": 10000
     },
     "inputWidgets": {},
     "nuid": "b1327cf9-176e-432b-bf3b-572de9dc3c15",
     "showTitle": false,
     "tableResultSettingsMap": {},
     "title": ""
    }
   },
   "outputs": [
    {
     "output_type": "stream",
     "name": "stdout",
     "output_type": "stream",
     "text": [
      "+----------+----------+\n|      date|produkt_id|\n+----------+----------+\n|2025-09-11|         1|\n|2025-09-11|         1|\n|2025-09-11|         2|\n|2025-09-12|         2|\n|2025-09-12|         3|\n|2025-09-12|         5|\n|2025-09-13|         2|\n+----------+----------+\n\n"
     ]
    }
   ],
   "source": [
    "fact = spark.sql(\n",
    "    \"\"\"SELECT * FROM (\n",
    "        VALUES\n",
    "            ('2025-09-11', 1),\n",
    "            ('2025-09-11', 1),\n",
    "            ('2025-09-11', 2),\n",
    "            ('2025-09-12', 2),\n",
    "            ('2025-09-12', 3),\n",
    "            ('2025-09-12', 5),\n",
    "            ('2025-09-13', 2)\n",
    "    ) AS products_table(date, produkt_id);\"\"\"\n",
    ")\n",
    "\n",
    "fact.show()"
   ]
  },
  {
   "cell_type": "markdown",
   "metadata": {
    "application/vnd.databricks.v1+cell": {
     "cellMetadata": {
      "byteLimit": 2048000,
      "rowLimit": 10000
     },
     "inputWidgets": {},
     "nuid": "c59f6039-45d2-4ee0-bb9d-785501e31865",
     "showTitle": false,
     "tableResultSettingsMap": {},
     "title": ""
    }
   },
   "source": [
    "Tabelle 2"
   ]
  },
  {
   "cell_type": "code",
   "execution_count": 0,
   "metadata": {
    "application/vnd.databricks.v1+cell": {
     "cellMetadata": {
      "byteLimit": 2048000,
      "rowLimit": 10000
     },
     "inputWidgets": {},
     "nuid": "c83f385a-1d22-4c6e-8f39-cf828124c42d",
     "showTitle": false,
     "tableResultSettingsMap": {},
     "title": ""
    }
   },
   "outputs": [
    {
     "output_type": "stream",
     "name": "stdout",
     "output_type": "stream",
     "text": [
      "+---+---------+\n| id|      msg|\n+---+---------+\n|  1|Produkt 1|\n|  2|Produkt 2|\n|  3|Produkt 3|\n|  4|Produkt 4|\n|  5|Produkt 5|\n|  6|Produkt 6|\n|  7|Produkt 7|\n|  8|Produkt 8|\n|  9|Produkt 9|\n+---+---------+\n\n"
     ]
    }
   ],
   "source": [
    "product = spark.sql(\n",
    "    \"\"\"WITH my_temp_table AS (\n",
    "        SELECT * FROM (\n",
    "            VALUES\n",
    "                ('Produkt 1'),\n",
    "                ('Produkt 2'),\n",
    "                ('Produkt 3'),\n",
    "                ('Produkt 4'),\n",
    "                ('Produkt 5'),\n",
    "                ('Produkt 6'),\n",
    "                ('Produkt 7'),\n",
    "                ('Produkt 8'),\n",
    "                ('Produkt 9')\n",
    "        ) AS a(msg)\n",
    "    )\n",
    "    SELECT \n",
    "        ROW_NUMBER() OVER(ORDER BY msg) as id,\n",
    "        msg\n",
    "    FROM my_temp_table;\"\"\"\n",
    ")\n",
    "\n",
    "product.show()"
   ]
  },
  {
   "cell_type": "markdown",
   "metadata": {
    "application/vnd.databricks.v1+cell": {
     "cellMetadata": {
      "byteLimit": 2048000,
      "rowLimit": 10000
     },
     "inputWidgets": {},
     "nuid": "29e29562-c4d5-4be7-b191-05ea3b62b072",
     "showTitle": false,
     "tableResultSettingsMap": {},
     "title": ""
    }
   },
   "source": [
    "Join"
   ]
  },
  {
   "cell_type": "code",
   "execution_count": 0,
   "metadata": {
    "application/vnd.databricks.v1+cell": {
     "cellMetadata": {
      "byteLimit": 2048000,
      "rowLimit": 10000
     },
     "inputWidgets": {},
     "nuid": "bb4cf9e3-2b38-4d51-8c02-7101cd50e53a",
     "showTitle": false,
     "tableResultSettingsMap": {},
     "title": ""
    }
   },
   "outputs": [
    {
     "output_type": "stream",
     "name": "stdout",
     "output_type": "stream",
     "text": [
      "+----------+----------+------------+\n|      date|produkt_id|produkt_name|\n+----------+----------+------------+\n|2025-09-11|         1|   Produkt 1|\n|2025-09-13|         2|   Produkt 2|\n|2025-09-12|         3|   Produkt 3|\n|2025-09-12|         5|   Produkt 5|\n|2025-09-11|         1|   Produkt 1|\n|2025-09-12|         2|   Produkt 2|\n|2025-09-11|         2|   Produkt 2|\n+----------+----------+------------+\n\n"
     ]
    }
   ],
   "source": [
    "# Registriere die DataFrames als temporäre Ansichten\n",
    "fact.createOrReplaceTempView(\"fact_table\")\n",
    "product.createOrReplaceTempView(\"product_table\")\n",
    "\n",
    "# Führe den JOIN über die temporären Ansichten aus\n",
    "result = spark.sql(\n",
    "    \"\"\"SELECT\n",
    "        t1.date,\n",
    "        t1.produkt_id,\n",
    "        t2.msg as produkt_name\n",
    "    FROM\n",
    "        fact_table t1\n",
    "    JOIN\n",
    "        product_table t2 ON t1.produkt_id = t2.id\n",
    "    \"\"\"\n",
    ")\n",
    "\n",
    "result.show()"
   ]
  },
  {
   "cell_type": "markdown",
   "metadata": {
    "application/vnd.databricks.v1+cell": {
     "cellMetadata": {
      "byteLimit": 2048000,
      "rowLimit": 10000
     },
     "inputWidgets": {},
     "nuid": "3c95a048-638d-45bd-990d-3919300307f6",
     "showTitle": false,
     "tableResultSettingsMap": {},
     "title": ""
    }
   },
   "source": [
    "Spark DataFrame in Pandas DataFrame konvertieren"
   ]
  },
  {
   "cell_type": "code",
   "execution_count": 0,
   "metadata": {
    "application/vnd.databricks.v1+cell": {
     "cellMetadata": {
      "byteLimit": 2048000,
      "rowLimit": 10000
     },
     "inputWidgets": {},
     "nuid": "2045d56d-3aa6-4c4f-aff0-c77d118c1b25",
     "showTitle": false,
     "tableResultSettingsMap": {},
     "title": ""
    }
   },
   "outputs": [
    {
     "output_type": "stream",
     "name": "stdout",
     "output_type": "stream",
     "text": [
      "         date  produkt_id produkt_name\n0  2025-09-11           1    Produkt 1\n1  2025-09-11           1    Produkt 1\n2  2025-09-13           2    Produkt 2\n3  2025-09-12           2    Produkt 2\n4  2025-09-11           2    Produkt 2\n5  2025-09-12           3    Produkt 3\n6  2025-09-12           5    Produkt 5\n"
     ]
    },
    {
     "output_type": "display_data",
     "data": {
      "application/vnd.databricks.v1+display_df_hint": {
       "mode": "should_hint",
       "name": "df_pandas",
       "type": "pandas.core.frame.DataFrame"
      }
     },
     "metadata": {},
     "output_type": "display_data"
    }
   ],
   "source": [
    "# Konvertiert das Spark DataFrame in ein Pandas DataFrame\n",
    "df_pandas = result.toPandas()\n",
    "\n",
    "# Zeigt den DataFrame an (mit allen Spalten)\n",
    "print(df_pandas)"
   ]
  },
  {
   "cell_type": "code",
   "execution_count": 0,
   "metadata": {
    "application/vnd.databricks.v1+cell": {
     "cellMetadata": {
      "byteLimit": 2048000,
      "rowLimit": 10000
     },
     "inputWidgets": {},
     "nuid": "f51681f5-78a7-4f73-81a2-54851661c0c8",
     "showTitle": false,
     "tableResultSettingsMap": {},
     "title": ""
    }
   },
   "outputs": [
    {
     "output_type": "stream",
     "name": "stdout",
     "output_type": "stream",
     "text": [
      "\nZugriff auf die Spalte 'produkt_name':\n0    Produkt 1\n1    Produkt 1\n2    Produkt 2\n3    Produkt 2\n4    Produkt 2\n5    Produkt 3\n6    Produkt 5\nName: produkt_name, dtype: object\n"
     ]
    }
   ],
   "source": [
    "# Greife auf Spalten wie bei einem Python Dictionary zu\n",
    "print(\"\\nZugriff auf die Spalte 'produkt_name':\")\n",
    "print(df_pandas['produkt_name'])"
   ]
  },
  {
   "cell_type": "code",
   "execution_count": 0,
   "metadata": {
    "application/vnd.databricks.v1+cell": {
     "cellMetadata": {
      "byteLimit": 2048000,
      "rowLimit": 10000
     },
     "inputWidgets": {},
     "nuid": "6ebcb1d3-365b-41eb-b4a3-3f0ffc440648",
     "showTitle": false,
     "tableResultSettingsMap": {},
     "title": ""
    }
   },
   "outputs": [
    {
     "output_type": "stream",
     "name": "stdout",
     "output_type": "stream",
     "text": [
      "Produkt 2    3\nProdukt 1    2\nProdukt 3    1\nProdukt 5    1\nName: produkt_name, dtype: int64\n"
     ]
    }
   ],
   "source": [
    "# Zählt die Vorkommen jedes Produktnamens\n",
    "product_counts = df_pandas['produkt_name'].value_counts()\n",
    "\n",
    "# Zeigt das Ergebnis an\n",
    "print(product_counts)"
   ]
  },
  {
   "cell_type": "code",
   "execution_count": 0,
   "metadata": {
    "application/vnd.databricks.v1+cell": {
     "cellMetadata": {
      "byteLimit": 2048000,
      "rowLimit": 10000
     },
     "inputWidgets": {},
     "nuid": "d466cf10-9aad-4ded-b405-b918005ca9d8",
     "showTitle": false,
     "tableResultSettingsMap": {},
     "title": ""
    }
   },
   "outputs": [],
   "source": []
  }
 ],
 "metadata": {
  "application/vnd.databricks.v1+notebook": {
   "computePreferences": null,
   "dashboards": [],
   "environmentMetadata": {
    "base_environment": "",
    "environment_version": "3"
   },
   "inputWidgetPreferences": null,
   "language": "python",
   "notebookMetadata": {
    "mostRecentlyExecutedCommandWithImplicitDF": {
     "commandId": 4594075062418928,
     "dataframes": [
      "_sqldf"
     ]
    },
    "pythonIndentUnit": 4
   },
   "notebookName": "12_sparksql_pyspark",
   "widgets": {}
  },
  "language_info": {
   "name": "python"
  }
 },
 "nbformat": 4,
 "nbformat_minor": 0
}