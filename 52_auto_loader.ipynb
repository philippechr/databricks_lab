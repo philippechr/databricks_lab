{
 "cells": [
  {
   "cell_type": "code",
   "execution_count": 0,
   "metadata": {
    "application/vnd.databricks.v1+cell": {
     "cellMetadata": {
      "byteLimit": 2048000,
      "implicitDf": true,
      "rowLimit": 10000
     },
     "inputWidgets": {},
     "nuid": "75981cc6-b13c-4683-a7cf-fe1941d8c8f0",
     "showTitle": false,
     "tableResultSettingsMap": {},
     "title": ""
    }
   },
   "outputs": [],
   "source": [
    "%sql\n",
    "USE CATALOG workspace;\n",
    "USE SCHEMA default;"
   ]
  },
  {
   "cell_type": "code",
   "execution_count": 0,
   "metadata": {
    "application/vnd.databricks.v1+cell": {
     "cellMetadata": {
      "byteLimit": 2048000,
      "implicitDf": true,
      "rowLimit": 10000
     },
     "inputWidgets": {},
     "nuid": "6176beb7-2bae-4fd2-ab9e-30a338f23fa9",
     "showTitle": false,
     "tableResultSettingsMap": {},
     "title": ""
    }
   },
   "outputs": [],
   "source": [
    "%sql\n",
    "DROP TABLE IF EXISTS default.courses;\n",
    "DROP TABLE IF EXISTS default.courses_autoloader_sink;\n"
   ]
  },
  {
   "cell_type": "code",
   "execution_count": 0,
   "metadata": {
    "application/vnd.databricks.v1+cell": {
     "cellMetadata": {
      "byteLimit": 2048000,
      "rowLimit": 10000
     },
     "inputWidgets": {},
     "nuid": "11a6c98b-4865-4a56-af10-f2438847592e",
     "showTitle": false,
     "tableResultSettingsMap": {},
     "title": ""
    }
   },
   "outputs": [
    {
     "output_type": "stream",
     "name": "stdout",
     "output_type": "stream",
     "text": [
      "✅ Sink-Tabellen gelöscht (falls vorhanden).\n✅ Test-Datei '/Volumes/workspace/default/volume/courses_part2.json' wurde gelöscht.\nAuto Loader Checkpoint existierte nicht, keine Aktion erforderlich.\n\n\uD83D\uDE80 System ist vollständig zurückgesetzt und bereit für einen neuen Durchlauf.\n"
     ]
    }
   ],
   "source": [
    "test_file_to_delete = \"/Volumes/workspace/default/volume/courses_part2.json\"\n",
    "\n",
    "# --- 1. Tabellen löschen, falls sie existieren ---\n",
    "spark.sql(\"DROP TABLE IF EXISTS workspace.default.courses_autoloader_sink\")\n",
    "print(\"✅ Sink-Tabellen gelöscht (falls vorhanden).\")\n",
    "\n",
    "# --- 2. Das zweite JSON-Testfile löschen, falls es existiert ---\n",
    "try:\n",
    "  dbutils.fs.rm(test_file_to_delete)\n",
    "  print(f\"✅ Test-Datei '{test_file_to_delete}' wurde gelöscht.\")\n",
    "except Exception as e:\n",
    "  if 'FileNotFoundException' in str(e):\n",
    "    print(f\"Test-Datei '{test_file_to_delete}' existierte nicht, keine Aktion erforderlich.\")\n",
    "  else:\n",
    "    raise e # Andere Fehler trotzdem anzeigen\n",
    "\n",
    "# --- 3. Alle Checkpoints löschen ---\n",
    "try:\n",
    "  dbutils.fs.rm(autoloader_checkpoint, recurse=True)\n",
    "  print(f\"✅ Auto Loader Checkpoint gelöscht.\")\n",
    "except:\n",
    "  print(\"Auto Loader Checkpoint existierte nicht, keine Aktion erforderlich.\")\n",
    "\n",
    "print(\"\\n\uD83D\uDE80 System ist vollständig zurückgesetzt und bereit für einen neuen Durchlauf.\")"
   ]
  },
  {
   "cell_type": "code",
   "execution_count": 0,
   "metadata": {
    "application/vnd.databricks.v1+cell": {
     "cellMetadata": {
      "byteLimit": 2048000,
      "rowLimit": 10000
     },
     "inputWidgets": {},
     "nuid": "1eae65e0-0fe6-465d-8cc7-e11f31387388",
     "showTitle": false,
     "tableResultSettingsMap": {},
     "title": ""
    }
   },
   "outputs": [
    {
     "output_type": "execute_result",
     "data": {
      "text/plain": [
       "False"
      ]
     },
     "execution_count": 5,
     "metadata": {},
     "output_type": "execute_result"
    }
   ],
   "source": [
    "dbutils.fs.rm(\"/Volumes/workspace/default/volume/_chk/autoloader_courses\", recurse=True)"
   ]
  },
  {
   "cell_type": "markdown",
   "metadata": {
    "application/vnd.databricks.v1+cell": {
     "cellMetadata": {},
     "inputWidgets": {},
     "nuid": "c56133b3-6aac-4218-9ea4-8e2b982a6129",
     "showTitle": false,
     "tableResultSettingsMap": {},
     "title": ""
    }
   },
   "source": [
    "# Vorbereitung: Datei einlesen und als Tabelle abspeichern"
   ]
  },
  {
   "cell_type": "code",
   "execution_count": 0,
   "metadata": {
    "application/vnd.databricks.v1+cell": {
     "cellMetadata": {
      "byteLimit": 2048000,
      "rowLimit": 10000
     },
     "inputWidgets": {},
     "nuid": "5a871da6-0122-47a6-a2fc-d9997b46fb22",
     "showTitle": false,
     "tableResultSettingsMap": {},
     "title": ""
    }
   },
   "outputs": [
    {
     "output_type": "display_data",
     "data": {
      "text/html": [
       "<style scoped>\n",
       "  .table-result-container {\n",
       "    max-height: 300px;\n",
       "    overflow: auto;\n",
       "  }\n",
       "  table, th, td {\n",
       "    border: 1px solid black;\n",
       "    border-collapse: collapse;\n",
       "  }\n",
       "  th, td {\n",
       "    padding: 5px;\n",
       "  }\n",
       "  th {\n",
       "    text-align: left;\n",
       "  }\n",
       "</style><div class='table-result-container'><table class='table-result'><thead style='background-color: white'><tr><th>path</th><th>name</th><th>size</th><th>modificationTime</th></tr></thead><tbody><tr><td>dbfs:/Volumes/workspace/default/volume/courses.json</td><td>courses.json</td><td>329</td><td>1756365194000</td></tr><tr><td>dbfs:/Volumes/workspace/default/volume/enrollments.json</td><td>enrollments.json</td><td>371</td><td>1756365193000</td></tr><tr><td>dbfs:/Volumes/workspace/default/volume/nested_json.json</td><td>nested_json.json</td><td>1186</td><td>1756365194000</td></tr><tr><td>dbfs:/Volumes/workspace/default/volume/students.json</td><td>students.json</td><td>322</td><td>1756365194000</td></tr><tr><td>dbfs:/Volumes/workspace/default/volume/students_update.json</td><td>students_update.json</td><td>216</td><td>1756365193000</td></tr></tbody></table></div>"
      ]
     },
     "metadata": {
      "application/vnd.databricks.v1+output": {
       "addedWidgets": {},
       "aggData": [],
       "aggError": "",
       "aggOverflow": false,
       "aggSchema": [],
       "aggSeriesLimitReached": false,
       "aggType": "",
       "arguments": {},
       "columnCustomDisplayInfos": {},
       "data": [
        [
         "dbfs:/Volumes/workspace/default/volume/courses.json",
         "courses.json",
         329,
         1756365194000
        ],
        [
         "dbfs:/Volumes/workspace/default/volume/enrollments.json",
         "enrollments.json",
         371,
         1756365193000
        ],
        [
         "dbfs:/Volumes/workspace/default/volume/nested_json.json",
         "nested_json.json",
         1186,
         1756365194000
        ],
        [
         "dbfs:/Volumes/workspace/default/volume/students.json",
         "students.json",
         322,
         1756365194000
        ],
        [
         "dbfs:/Volumes/workspace/default/volume/students_update.json",
         "students_update.json",
         216,
         1756365193000
        ]
       ],
       "datasetInfos": [],
       "dbfsResultPath": null,
       "isJsonSchema": true,
       "metadata": {},
       "overflow": false,
       "plotOptions": {
        "customPlotOptions": {},
        "displayType": "table",
        "pivotAggregation": null,
        "pivotColumns": null,
        "xColumns": null,
        "yColumns": null
       },
       "removedWidgets": [],
       "schema": [
        {
         "metadata": "{}",
         "name": "path",
         "type": "\"string\""
        },
        {
         "metadata": "{}",
         "name": "name",
         "type": "\"string\""
        },
        {
         "metadata": "{}",
         "name": "size",
         "type": "\"long\""
        },
        {
         "metadata": "{}",
         "name": "modificationTime",
         "type": "\"long\""
        }
       ],
       "type": "table"
      }
     },
     "output_type": "display_data"
    }
   ],
   "source": [
    "%python\n",
    "dataset_school = \"/Volumes/workspace/default/volume\"\n",
    "\n",
    "all_files = dbutils.fs.ls(dataset_school)\n",
    "json_files = [f for f in all_files if f.name.endswith(\".json\")]\n",
    "\n",
    "display(json_files)"
   ]
  },
  {
   "cell_type": "markdown",
   "metadata": {
    "application/vnd.databricks.v1+cell": {
     "cellMetadata": {},
     "inputWidgets": {},
     "nuid": "726f8551-5934-484c-8f61-cd8ca9012297",
     "showTitle": false,
     "tableResultSettingsMap": {},
     "title": ""
    }
   },
   "source": [
    "# Auto Loader"
   ]
  },
  {
   "cell_type": "code",
   "execution_count": 0,
   "metadata": {
    "application/vnd.databricks.v1+cell": {
     "cellMetadata": {
      "byteLimit": 2048000,
      "rowLimit": 10000
     },
     "inputWidgets": {},
     "nuid": "7a249968-48c7-4417-9331-320893e5bd99",
     "showTitle": false,
     "tableResultSettingsMap": {},
     "title": ""
    }
   },
   "outputs": [],
   "source": [
    "# Pfad zum Ordner, den der Auto Loader überwachen soll\n",
    "source_path = \"/Volumes/workspace/default/volume/\"\n",
    "\n",
    "# Pfad für den Checkpoint, damit sich der Auto Loader merkt, was er gelesen hat\n",
    "checkpoint_path = \"/Volumes/workspace/default/volume/_chk/autoloader_courses\"\n",
    "\n",
    "# Ziel-Tabelle\n",
    "target_table = \"courses_autoloader_sink\""
   ]
  },
  {
   "cell_type": "code",
   "execution_count": 0,
   "metadata": {
    "application/vnd.databricks.v1+cell": {
     "cellMetadata": {
      "byteLimit": 2048000,
      "rowLimit": 10000
     },
     "inputWidgets": {},
     "nuid": "f536ad6b-5ad6-4a09-b0b7-6b72ee083bde",
     "showTitle": false,
     "tableResultSettingsMap": {},
     "title": ""
    }
   },
   "outputs": [
    {
     "output_type": "stream",
     "name": "stdout",
     "output_type": "stream",
     "text": [
      "✅ Auto Loader hat die Daten erfolgreich in die Tabelle 'courses_autoloader_sink' geladen.\n"
     ]
    }
   ],
   "source": [
    "\n",
    "# Auto Loader Stream definieren und starten\n",
    "autoloader_stream = (\n",
    "  spark.readStream\n",
    "    .format(\"cloudFiles\")  # Auto Loader aktivieren\n",
    "    .option(\"cloudFiles.format\", \"json\")\n",
    "    .option(\"cloudFiles.schemaLocation\", checkpoint_path) # Schema-Infos hier speichern\n",
    "    .option(\"pathGlobFilter\", \"courses*.json\") # Nur Dateien verarbeiten, die mit \"courses\" beginnen\n",
    "    .load(source_path)\n",
    ".writeStream\n",
    "    .format(\"delta\")\n",
    "    .outputMode(\"append\")\n",
    "    .option(\"checkpointLocation\", checkpoint_path)\n",
    "    .option(\"mergeSchema\", \"true\") # Erlaubt das Hinzufügen neuer Spalten\n",
    "    .trigger(availableNow=True) # Notwendig für die Free Edition\n",
    "    .toTable(target_table)\n",
    ")\n",
    "\n",
    "autoloader_stream.awaitTermination() # blockiert die Ausführung der Notebook-Zelle und wartet, bis der Streaming-Job beendet ist.\n",
    "\n",
    "print(f\"✅ Auto Loader hat die Daten erfolgreich in die Tabelle '{target_table}' geladen.\")"
   ]
  },
  {
   "cell_type": "code",
   "execution_count": 0,
   "metadata": {
    "application/vnd.databricks.v1+cell": {
     "cellMetadata": {
      "byteLimit": 2048000,
      "implicitDf": true,
      "rowLimit": 10000
     },
     "inputWidgets": {},
     "nuid": "f3de1317-217b-4445-b918-73d076e14e20",
     "showTitle": false,
     "tableResultSettingsMap": {},
     "title": ""
    }
   },
   "outputs": [
    {
     "output_type": "display_data",
     "data": {
      "text/html": [
       "<style scoped>\n",
       "  .table-result-container {\n",
       "    max-height: 300px;\n",
       "    overflow: auto;\n",
       "  }\n",
       "  table, th, td {\n",
       "    border: 1px solid black;\n",
       "    border-collapse: collapse;\n",
       "  }\n",
       "  th, td {\n",
       "    padding: 5px;\n",
       "  }\n",
       "  th {\n",
       "    text-align: left;\n",
       "  }\n",
       "</style><div class='table-result-container'><table class='table-result'><thead style='background-color: white'><tr><th>category</th><th>course_id</th><th>instructor</th><th>price</th><th>title</th><th>_rescued_data</th></tr></thead><tbody><tr><td>Technology</td><td>101</td><td>Dr. Smith</td><td>850</td><td>Data Engineering</td><td>null</td></tr><tr><td>AI</td><td>102</td><td>Dr. Lee</td><td>1200</td><td>Machine Learning</td><td>null</td></tr><tr><td>Philosophy</td><td>103</td><td>Dr. Kim</td><td>600</td><td>Ethics in AI</td><td>null</td></tr></tbody></table></div>"
      ]
     },
     "metadata": {
      "application/vnd.databricks.v1+output": {
       "addedWidgets": {},
       "aggData": [],
       "aggError": "",
       "aggOverflow": false,
       "aggSchema": [],
       "aggSeriesLimitReached": false,
       "aggType": "",
       "arguments": {},
       "columnCustomDisplayInfos": {},
       "data": [
        [
         "Technology",
         "101",
         "Dr. Smith",
         "850",
         "Data Engineering",
         null
        ],
        [
         "AI",
         "102",
         "Dr. Lee",
         "1200",
         "Machine Learning",
         null
        ],
        [
         "Philosophy",
         "103",
         "Dr. Kim",
         "600",
         "Ethics in AI",
         null
        ]
       ],
       "datasetInfos": [
        {
         "name": "_sqldf",
         "schema": {
          "fields": [
           {
            "metadata": {},
            "name": "category",
            "nullable": true,
            "type": "string"
           },
           {
            "metadata": {},
            "name": "course_id",
            "nullable": true,
            "type": "string"
           },
           {
            "metadata": {},
            "name": "instructor",
            "nullable": true,
            "type": "string"
           },
           {
            "metadata": {},
            "name": "price",
            "nullable": true,
            "type": "string"
           },
           {
            "metadata": {},
            "name": "title",
            "nullable": true,
            "type": "string"
           },
           {
            "metadata": {},
            "name": "_rescued_data",
            "nullable": true,
            "type": "string"
           }
          ],
          "type": "struct"
         },
         "tableIdentifier": null,
         "typeStr": "pyspark.sql.connect.dataframe.DataFrame"
        }
       ],
       "dbfsResultPath": null,
       "isJsonSchema": true,
       "metadata": {
        "createTempViewForImplicitDf": true,
        "dataframeName": "_sqldf",
        "executionCount": 9
       },
       "overflow": false,
       "plotOptions": {
        "customPlotOptions": {},
        "displayType": "table",
        "pivotAggregation": null,
        "pivotColumns": null,
        "xColumns": null,
        "yColumns": null
       },
       "removedWidgets": [],
       "schema": [
        {
         "metadata": "{}",
         "name": "category",
         "type": "\"string\""
        },
        {
         "metadata": "{}",
         "name": "course_id",
         "type": "\"string\""
        },
        {
         "metadata": "{}",
         "name": "instructor",
         "type": "\"string\""
        },
        {
         "metadata": "{}",
         "name": "price",
         "type": "\"string\""
        },
        {
         "metadata": "{}",
         "name": "title",
         "type": "\"string\""
        },
        {
         "metadata": "{}",
         "name": "_rescued_data",
         "type": "\"string\""
        }
       ],
       "type": "table"
      }
     },
     "output_type": "display_data"
    }
   ],
   "source": [
    "%sql\n",
    "SELECT * FROM workspace.default.courses_autoloader_sink;"
   ]
  },
  {
   "cell_type": "code",
   "execution_count": 0,
   "metadata": {
    "application/vnd.databricks.v1+cell": {
     "cellMetadata": {
      "byteLimit": 2048000,
      "rowLimit": 10000
     },
     "inputWidgets": {},
     "nuid": "727086a2-e844-4d24-ac27-ac2e235f0f83",
     "showTitle": false,
     "tableResultSettingsMap": {},
     "title": ""
    }
   },
   "outputs": [
    {
     "output_type": "stream",
     "name": "stdout",
     "output_type": "stream",
     "text": [
      "Wrote 348 bytes.\n✅ Neue Datei '/Volumes/workspace/default/volume/courses_part2.json' wurde erfolgreich erstellt.\n"
     ]
    }
   ],
   "source": [
    "# Inhalt für unsere neue Datei\n",
    "json_data = \"\"\"\n",
    "[\n",
    "  {\"course_id\": 301, \"title\": \"Advanced SQL\", \"instructor\": \"Dr. Codd\", \"category\": \"Technology\", \"price\": 300},\n",
    "  {\"course_id\": 302, \"title\": \"Data Warehousing\", \"instructor\": \"Dr. Codd\", \"category\": \"Technology\", \"price\": 400},\n",
    "  {\"course_id\": 104, \"title\": \"Applied Ethics\", \"instructor\": \"Dr. Kim\", \"category\": \"Philosophy\", \"price\": 250}\n",
    "]\n",
    "\"\"\"\n",
    "\n",
    "# Pfad und Dateiname\n",
    "file_path = \"/Volumes/workspace/default/volume/courses_part2.json\"\n",
    "\n",
    "# Die neue Datei erstellen\n",
    "dbutils.fs.put(file_path, json_data, overwrite=True)\n",
    "\n",
    "print(f\"✅ Neue Datei '{file_path}' wurde erfolgreich erstellt.\")"
   ]
  },
  {
   "cell_type": "code",
   "execution_count": 0,
   "metadata": {
    "application/vnd.databricks.v1+cell": {
     "cellMetadata": {
      "byteLimit": 2048000,
      "implicitDf": true,
      "rowLimit": 10000
     },
     "inputWidgets": {},
     "nuid": "6184af92-03e1-4dd5-a511-45ccbd7cd1a3",
     "showTitle": false,
     "tableResultSettingsMap": {},
     "title": ""
    }
   },
   "outputs": [
    {
     "output_type": "display_data",
     "data": {
      "text/html": [
       "<style scoped>\n",
       "  .table-result-container {\n",
       "    max-height: 300px;\n",
       "    overflow: auto;\n",
       "  }\n",
       "  table, th, td {\n",
       "    border: 1px solid black;\n",
       "    border-collapse: collapse;\n",
       "  }\n",
       "  th, td {\n",
       "    padding: 5px;\n",
       "  }\n",
       "  th {\n",
       "    text-align: left;\n",
       "  }\n",
       "</style><div class='table-result-container'><table class='table-result'><thead style='background-color: white'><tr><th>category</th><th>course_id</th><th>instructor</th><th>price</th><th>title</th><th>_rescued_data</th></tr></thead><tbody><tr><td>Technology</td><td>101</td><td>Dr. Smith</td><td>850</td><td>Data Engineering</td><td>null</td></tr><tr><td>AI</td><td>102</td><td>Dr. Lee</td><td>1200</td><td>Machine Learning</td><td>null</td></tr><tr><td>Philosophy</td><td>103</td><td>Dr. Kim</td><td>600</td><td>Ethics in AI</td><td>null</td></tr><tr><td>Philosophy</td><td>104</td><td>Dr. Kim</td><td>250</td><td>Applied Ethics</td><td>null</td></tr><tr><td>Technology</td><td>301</td><td>Dr. Codd</td><td>300</td><td>Advanced SQL</td><td>null</td></tr><tr><td>Technology</td><td>302</td><td>Dr. Codd</td><td>400</td><td>Data Warehousing</td><td>null</td></tr></tbody></table></div>"
      ]
     },
     "metadata": {
      "application/vnd.databricks.v1+output": {
       "addedWidgets": {},
       "aggData": [],
       "aggError": "",
       "aggOverflow": false,
       "aggSchema": [],
       "aggSeriesLimitReached": false,
       "aggType": "",
       "arguments": {},
       "columnCustomDisplayInfos": {},
       "data": [
        [
         "Technology",
         "101",
         "Dr. Smith",
         "850",
         "Data Engineering",
         null
        ],
        [
         "AI",
         "102",
         "Dr. Lee",
         "1200",
         "Machine Learning",
         null
        ],
        [
         "Philosophy",
         "103",
         "Dr. Kim",
         "600",
         "Ethics in AI",
         null
        ],
        [
         "Philosophy",
         "104",
         "Dr. Kim",
         "250",
         "Applied Ethics",
         null
        ],
        [
         "Technology",
         "301",
         "Dr. Codd",
         "300",
         "Advanced SQL",
         null
        ],
        [
         "Technology",
         "302",
         "Dr. Codd",
         "400",
         "Data Warehousing",
         null
        ]
       ],
       "datasetInfos": [
        {
         "name": "_sqldf",
         "schema": {
          "fields": [
           {
            "metadata": {},
            "name": "category",
            "nullable": true,
            "type": "string"
           },
           {
            "metadata": {},
            "name": "course_id",
            "nullable": true,
            "type": "string"
           },
           {
            "metadata": {},
            "name": "instructor",
            "nullable": true,
            "type": "string"
           },
           {
            "metadata": {},
            "name": "price",
            "nullable": true,
            "type": "string"
           },
           {
            "metadata": {},
            "name": "title",
            "nullable": true,
            "type": "string"
           },
           {
            "metadata": {},
            "name": "_rescued_data",
            "nullable": true,
            "type": "string"
           }
          ],
          "type": "struct"
         },
         "tableIdentifier": null,
         "typeStr": "pyspark.sql.connect.dataframe.DataFrame"
        }
       ],
       "dbfsResultPath": null,
       "isJsonSchema": true,
       "metadata": {
        "createTempViewForImplicitDf": true,
        "dataframeName": "_sqldf",
        "executionCount": 12
       },
       "overflow": false,
       "plotOptions": {
        "customPlotOptions": {},
        "displayType": "table",
        "pivotAggregation": null,
        "pivotColumns": null,
        "xColumns": null,
        "yColumns": null
       },
       "removedWidgets": [],
       "schema": [
        {
         "metadata": "{}",
         "name": "category",
         "type": "\"string\""
        },
        {
         "metadata": "{}",
         "name": "course_id",
         "type": "\"string\""
        },
        {
         "metadata": "{}",
         "name": "instructor",
         "type": "\"string\""
        },
        {
         "metadata": "{}",
         "name": "price",
         "type": "\"string\""
        },
        {
         "metadata": "{}",
         "name": "title",
         "type": "\"string\""
        },
        {
         "metadata": "{}",
         "name": "_rescued_data",
         "type": "\"string\""
        }
       ],
       "type": "table"
      }
     },
     "output_type": "display_data"
    }
   ],
   "source": [
    "%sql\n",
    "-- 1. Führe die Auto-Loader-Zelle (Code-Block 9) erneut aus.\n",
    "--    Der Stream wird nur die neue Datei \"courses_part2.json\" verarbeiten.\n",
    "\n",
    "-- 2. Überprüfe das Endergebnis.\n",
    "--    Die Tabelle enthält jetzt die Daten aus beiden Dateien.\n",
    "SELECT * FROM workspace.default.courses_autoloader_sink ORDER BY course_id;"
   ]
  },
  {
   "cell_type": "code",
   "execution_count": 0,
   "metadata": {
    "application/vnd.databricks.v1+cell": {
     "cellMetadata": {
      "byteLimit": 2048000,
      "implicitDf": true,
      "rowLimit": 10000
     },
     "inputWidgets": {},
     "nuid": "877e63b9-5e6c-41d6-b157-b2aedce14873",
     "showTitle": false,
     "tableResultSettingsMap": {},
     "title": ""
    }
   },
   "outputs": [
    {
     "output_type": "display_data",
     "data": {
      "text/html": [
       "<style scoped>\n",
       "  .table-result-container {\n",
       "    max-height: 300px;\n",
       "    overflow: auto;\n",
       "  }\n",
       "  table, th, td {\n",
       "    border: 1px solid black;\n",
       "    border-collapse: collapse;\n",
       "  }\n",
       "  th, td {\n",
       "    padding: 5px;\n",
       "  }\n",
       "  th {\n",
       "    text-align: left;\n",
       "  }\n",
       "</style><div class='table-result-container'><table class='table-result'><thead style='background-color: white'><tr><th>version</th><th>timestamp</th><th>userId</th><th>userName</th><th>operation</th><th>operationParameters</th><th>job</th><th>notebook</th><th>clusterId</th><th>readVersion</th><th>isolationLevel</th><th>isBlindAppend</th><th>operationMetrics</th><th>userMetadata</th><th>engineInfo</th></tr></thead><tbody><tr><td>2</td><td>2025-08-28T11:54:21.000Z</td><td>75300490606458</td><td>philippe.christen@students.fhnw.ch</td><td>STREAMING UPDATE</td><td>Map(outputMode -> Append, queryId -> 1d3c865d-b41a-45fc-b3ad-4dbbae5078d1, epochId -> 1, statsOnLoad -> true)</td><td>null</td><td>List(1341295095209958)</td><td>0828-112228-4mlwmr12-v2n</td><td>1</td><td>WriteSerializable</td><td>true</td><td>Map(numRemovedFiles -> 0, numOutputRows -> 3, numOutputBytes -> 1788, numAddedFiles -> 1)</td><td>null</td><td>Databricks-Runtime/17.1.x-photon-scala2.13</td></tr><tr><td>1</td><td>2025-08-28T11:53:36.000Z</td><td>75300490606458</td><td>philippe.christen@students.fhnw.ch</td><td>STREAMING UPDATE</td><td>Map(outputMode -> Append, queryId -> 1d3c865d-b41a-45fc-b3ad-4dbbae5078d1, epochId -> 0, statsOnLoad -> true)</td><td>null</td><td>List(1341295095209958)</td><td>0828-112228-4mlwmr12-v2n</td><td>0</td><td>WriteSerializable</td><td>true</td><td>Map(numRemovedFiles -> 0, numOutputRows -> 3, numOutputBytes -> 1746, numAddedFiles -> 1)</td><td>null</td><td>Databricks-Runtime/17.1.x-photon-scala2.13</td></tr><tr><td>0</td><td>2025-08-28T11:53:31.000Z</td><td>75300490606458</td><td>philippe.christen@students.fhnw.ch</td><td>CREATE TABLE</td><td>Map(partitionBy -> [], clusterBy -> [], description -> null, isManaged -> true, properties -> {\"delta.enableDeletionVectors\":\"true\"}, statsOnLoad -> false)</td><td>null</td><td>List(1341295095209958)</td><td>0828-112228-4mlwmr12-v2n</td><td>null</td><td>WriteSerializable</td><td>true</td><td>Map()</td><td>null</td><td>Databricks-Runtime/17.1.x-photon-scala2.13</td></tr></tbody></table></div>"
      ]
     },
     "metadata": {
      "application/vnd.databricks.v1+output": {
       "addedWidgets": {},
       "aggData": [],
       "aggError": "",
       "aggOverflow": false,
       "aggSchema": [],
       "aggSeriesLimitReached": false,
       "aggType": "",
       "arguments": {},
       "columnCustomDisplayInfos": {},
       "data": [
        [
         2,
         "2025-08-28T11:54:21.000Z",
         "75300490606458",
         "philippe.christen@students.fhnw.ch",
         "STREAMING UPDATE",
         {
          "epochId": "1",
          "outputMode": "Append",
          "queryId": "1d3c865d-b41a-45fc-b3ad-4dbbae5078d1",
          "statsOnLoad": "true"
         },
         null,
         [
          "1341295095209958"
         ],
         "0828-112228-4mlwmr12-v2n",
         1,
         "WriteSerializable",
         true,
         {
          "numAddedFiles": "1",
          "numOutputBytes": "1788",
          "numOutputRows": "3",
          "numRemovedFiles": "0"
         },
         null,
         "Databricks-Runtime/17.1.x-photon-scala2.13"
        ],
        [
         1,
         "2025-08-28T11:53:36.000Z",
         "75300490606458",
         "philippe.christen@students.fhnw.ch",
         "STREAMING UPDATE",
         {
          "epochId": "0",
          "outputMode": "Append",
          "queryId": "1d3c865d-b41a-45fc-b3ad-4dbbae5078d1",
          "statsOnLoad": "true"
         },
         null,
         [
          "1341295095209958"
         ],
         "0828-112228-4mlwmr12-v2n",
         0,
         "WriteSerializable",
         true,
         {
          "numAddedFiles": "1",
          "numOutputBytes": "1746",
          "numOutputRows": "3",
          "numRemovedFiles": "0"
         },
         null,
         "Databricks-Runtime/17.1.x-photon-scala2.13"
        ],
        [
         0,
         "2025-08-28T11:53:31.000Z",
         "75300490606458",
         "philippe.christen@students.fhnw.ch",
         "CREATE TABLE",
         {
          "clusterBy": "[]",
          "description": null,
          "isManaged": "true",
          "partitionBy": "[]",
          "properties": "{\"delta.enableDeletionVectors\":\"true\"}",
          "statsOnLoad": "false"
         },
         null,
         [
          "1341295095209958"
         ],
         "0828-112228-4mlwmr12-v2n",
         null,
         "WriteSerializable",
         true,
         {},
         null,
         "Databricks-Runtime/17.1.x-photon-scala2.13"
        ]
       ],
       "datasetInfos": [
        {
         "name": "_sqldf",
         "schema": {
          "fields": [
           {
            "metadata": {},
            "name": "version",
            "nullable": true,
            "type": "long"
           },
           {
            "metadata": {},
            "name": "timestamp",
            "nullable": true,
            "type": "timestamp"
           },
           {
            "metadata": {},
            "name": "userId",
            "nullable": true,
            "type": "string"
           },
           {
            "metadata": {},
            "name": "userName",
            "nullable": true,
            "type": "string"
           },
           {
            "metadata": {},
            "name": "operation",
            "nullable": true,
            "type": "string"
           },
           {
            "metadata": {},
            "name": "operationParameters",
            "nullable": true,
            "type": {
             "keyType": "string",
             "type": "map",
             "valueContainsNull": true,
             "valueType": "string"
            }
           },
           {
            "metadata": {},
            "name": "job",
            "nullable": true,
            "type": {
             "fields": [
              {
               "metadata": {},
               "name": "jobId",
               "nullable": true,
               "type": "string"
              },
              {
               "metadata": {},
               "name": "jobName",
               "nullable": true,
               "type": "string"
              },
              {
               "metadata": {},
               "name": "jobRunId",
               "nullable": true,
               "type": "string"
              },
              {
               "metadata": {},
               "name": "runId",
               "nullable": true,
               "type": "string"
              },
              {
               "metadata": {},
               "name": "jobOwnerId",
               "nullable": true,
               "type": "string"
              },
              {
               "metadata": {},
               "name": "triggerType",
               "nullable": true,
               "type": "string"
              }
             ],
             "type": "struct"
            }
           },
           {
            "metadata": {},
            "name": "notebook",
            "nullable": true,
            "type": {
             "fields": [
              {
               "metadata": {},
               "name": "notebookId",
               "nullable": true,
               "type": "string"
              }
             ],
             "type": "struct"
            }
           },
           {
            "metadata": {},
            "name": "clusterId",
            "nullable": true,
            "type": "string"
           },
           {
            "metadata": {},
            "name": "readVersion",
            "nullable": true,
            "type": "long"
           },
           {
            "metadata": {},
            "name": "isolationLevel",
            "nullable": true,
            "type": "string"
           },
           {
            "metadata": {},
            "name": "isBlindAppend",
            "nullable": true,
            "type": "boolean"
           },
           {
            "metadata": {},
            "name": "operationMetrics",
            "nullable": true,
            "type": {
             "keyType": "string",
             "type": "map",
             "valueContainsNull": true,
             "valueType": "string"
            }
           },
           {
            "metadata": {},
            "name": "userMetadata",
            "nullable": true,
            "type": "string"
           },
           {
            "metadata": {},
            "name": "engineInfo",
            "nullable": true,
            "type": "string"
           }
          ],
          "type": "struct"
         },
         "tableIdentifier": null,
         "typeStr": "pyspark.sql.connect.dataframe.DataFrame"
        }
       ],
       "dbfsResultPath": null,
       "isJsonSchema": true,
       "metadata": {
        "createTempViewForImplicitDf": true,
        "dataframeName": "_sqldf",
        "executionCount": 13
       },
       "overflow": false,
       "plotOptions": {
        "customPlotOptions": {},
        "displayType": "table",
        "pivotAggregation": null,
        "pivotColumns": null,
        "xColumns": null,
        "yColumns": null
       },
       "removedWidgets": [],
       "schema": [
        {
         "metadata": "{}",
         "name": "version",
         "type": "\"long\""
        },
        {
         "metadata": "{}",
         "name": "timestamp",
         "type": "\"timestamp\""
        },
        {
         "metadata": "{}",
         "name": "userId",
         "type": "\"string\""
        },
        {
         "metadata": "{}",
         "name": "userName",
         "type": "\"string\""
        },
        {
         "metadata": "{}",
         "name": "operation",
         "type": "\"string\""
        },
        {
         "metadata": "{}",
         "name": "operationParameters",
         "type": "{\"keyType\":\"string\",\"type\":\"map\",\"valueContainsNull\":true,\"valueType\":\"string\"}"
        },
        {
         "metadata": "{}",
         "name": "job",
         "type": "{\"fields\":[{\"metadata\":{},\"name\":\"jobId\",\"nullable\":true,\"type\":\"string\"},{\"metadata\":{},\"name\":\"jobName\",\"nullable\":true,\"type\":\"string\"},{\"metadata\":{},\"name\":\"jobRunId\",\"nullable\":true,\"type\":\"string\"},{\"metadata\":{},\"name\":\"runId\",\"nullable\":true,\"type\":\"string\"},{\"metadata\":{},\"name\":\"jobOwnerId\",\"nullable\":true,\"type\":\"string\"},{\"metadata\":{},\"name\":\"triggerType\",\"nullable\":true,\"type\":\"string\"}],\"type\":\"struct\"}"
        },
        {
         "metadata": "{}",
         "name": "notebook",
         "type": "{\"fields\":[{\"metadata\":{},\"name\":\"notebookId\",\"nullable\":true,\"type\":\"string\"}],\"type\":\"struct\"}"
        },
        {
         "metadata": "{}",
         "name": "clusterId",
         "type": "\"string\""
        },
        {
         "metadata": "{}",
         "name": "readVersion",
         "type": "\"long\""
        },
        {
         "metadata": "{}",
         "name": "isolationLevel",
         "type": "\"string\""
        },
        {
         "metadata": "{}",
         "name": "isBlindAppend",
         "type": "\"boolean\""
        },
        {
         "metadata": "{}",
         "name": "operationMetrics",
         "type": "{\"keyType\":\"string\",\"type\":\"map\",\"valueContainsNull\":true,\"valueType\":\"string\"}"
        },
        {
         "metadata": "{}",
         "name": "userMetadata",
         "type": "\"string\""
        },
        {
         "metadata": "{}",
         "name": "engineInfo",
         "type": "\"string\""
        }
       ],
       "type": "table"
      }
     },
     "output_type": "display_data"
    }
   ],
   "source": [
    "%sql\n",
    "DESCRIBE HISTORY courses_autoloader_sink"
   ]
  },
  {
   "cell_type": "markdown",
   "metadata": {
    "application/vnd.databricks.v1+cell": {
     "cellMetadata": {},
     "inputWidgets": {},
     "nuid": "188fbd59-8731-4e7d-8bc4-a8333482a423",
     "showTitle": false,
     "tableResultSettingsMap": {},
     "title": ""
    }
   },
   "source": [
    " #Aufräumen"
   ]
  },
  {
   "cell_type": "code",
   "execution_count": 0,
   "metadata": {
    "application/vnd.databricks.v1+cell": {
     "cellMetadata": {
      "byteLimit": 2048000,
      "implicitDf": true,
      "rowLimit": 10000
     },
     "inputWidgets": {},
     "nuid": "c087689a-a775-48b6-9a46-ed9433c10dfa",
     "showTitle": false,
     "tableResultSettingsMap": {},
     "title": ""
    }
   },
   "outputs": [],
   "source": [
    "%sql\n",
    "DROP TABLE IF EXISTS default.courses_autoloader_sink;"
   ]
  }
 ],
 "metadata": {
  "application/vnd.databricks.v1+notebook": {
   "computePreferences": null,
   "dashboards": [],
   "environmentMetadata": {
    "base_environment": "",
    "environment_version": "2"
   },
   "inputWidgetPreferences": null,
   "language": "python",
   "notebookMetadata": {
    "mostRecentlyExecutedCommandWithImplicitDF": {
     "commandId": 7527154751672599,
     "dataframes": [
      "_sqldf"
     ]
    },
    "pythonIndentUnit": 4
   },
   "notebookName": "52_auto_loader_old",
   "widgets": {}
  },
  "language_info": {
   "name": "python"
  }
 },
 "nbformat": 4,
 "nbformat_minor": 0
}