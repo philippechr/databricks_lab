{
 "cells": [
  {
   "cell_type": "markdown",
   "metadata": {
    "application/vnd.databricks.v1+cell": {
     "cellMetadata": {},
     "inputWidgets": {},
     "nuid": "d5dfd146-9134-42e3-a8ff-ac8c0e8cfa52",
     "showTitle": false,
     "tableResultSettingsMap": {},
     "title": ""
    }
   },
   "source": [
    "# Extending DLT Pipelines with New Notebooks"
   ]
  },
  {
   "cell_type": "code",
   "execution_count": 0,
   "metadata": {
    "application/vnd.databricks.v1+cell": {
     "cellMetadata": {},
     "inputWidgets": {},
     "nuid": "85944aaa-b237-458b-83bb-7a5c3a000e23",
     "showTitle": false,
     "tableResultSettingsMap": {},
     "title": ""
    }
   },
   "outputs": [],
   "source": [
    "SET school.dataset_path=dbfs:/mnt/DE-Associate-Book/datasets/school;"
   ]
  },
  {
   "cell_type": "code",
   "execution_count": 0,
   "metadata": {
    "application/vnd.databricks.v1+cell": {
     "cellMetadata": {},
     "inputWidgets": {},
     "nuid": "adc7a593-d6d4-4dbc-85cc-c93fd2a96ba0",
     "showTitle": false,
     "tableResultSettingsMap": {},
     "title": ""
    }
   },
   "outputs": [],
   "source": [
    "CREATE OR REFRESH STREAMING TABLE courses_bronze\n",
    "COMMENT \"The raw courses data, ingested from CDC feed\"\n",
    "AS SELECT * FROM cloud_files(\"${school.dataset_path}/courses-cdc\", \"json\")"
   ]
  },
  {
   "cell_type": "code",
   "execution_count": 0,
   "metadata": {
    "application/vnd.databricks.v1+cell": {
     "cellMetadata": {},
     "inputWidgets": {},
     "nuid": "de15497b-2192-4c6a-b0ec-9aa916515d3a",
     "showTitle": false,
     "tableResultSettingsMap": {},
     "title": ""
    }
   },
   "outputs": [],
   "source": [
    "CREATE OR REFRESH STREAMING TABLE courses_silver;"
   ]
  },
  {
   "cell_type": "code",
   "execution_count": 0,
   "metadata": {
    "application/vnd.databricks.v1+cell": {
     "cellMetadata": {},
     "inputWidgets": {},
     "nuid": "0bf7ca08-f6f5-4f9f-883e-82f54cbdbba4",
     "showTitle": false,
     "tableResultSettingsMap": {},
     "title": ""
    }
   },
   "outputs": [],
   "source": [
    "APPLY CHANGES INTO LIVE.courses_silver\n",
    " FROM STREAM(LIVE.courses_bronze)\n",
    " KEYS (course_id)\n",
    " APPLY AS DELETE WHEN row_status = \"DELETE\"\n",
    " SEQUENCE BY row_time\n",
    " COLUMNS * EXCEPT (row_status, row_time)"
   ]
  },
  {
   "cell_type": "code",
   "execution_count": 0,
   "metadata": {
    "application/vnd.databricks.v1+cell": {
     "cellMetadata": {},
     "inputWidgets": {},
     "nuid": "694f5991-8ff2-45f2-8692-5b4555653ea0",
     "showTitle": false,
     "tableResultSettingsMap": {},
     "title": ""
    }
   },
   "outputs": [],
   "source": [
    "CREATE OR REPLACE MATERIALIZED VIEW instructor_counts_stats\n",
    " COMMENT \"Number of courses per instructor\"\n",
    "AS SELECT instructor, count(*) as courses_count,\n",
    "         current_timestamp() updated_time\n",
    " FROM LIVE.courses_silver\n",
    " GROUP BY instructor"
   ]
  },
  {
   "cell_type": "code",
   "execution_count": 0,
   "metadata": {
    "application/vnd.databricks.v1+cell": {
     "cellMetadata": {},
     "inputWidgets": {},
     "nuid": "435e07f2-e1ea-47bc-a83b-c9a960d27c3e",
     "showTitle": false,
     "tableResultSettingsMap": {},
     "title": ""
    }
   },
   "outputs": [],
   "source": [
    "CREATE TEMPORARY LIVE VIEW courses_sales\n",
    " AS SELECT b.title, o.quantity\n",
    "   FROM (\n",
    "     SELECT *, explode(courses) AS course\n",
    "     FROM LIVE.enrollments_cleaned) o\n",
    "   INNER JOIN LIVE.courses_silver b\n",
    "   ON o.course.course_id = b.course_id;"
   ]
  }
 ],
 "metadata": {
  "application/vnd.databricks.v1+notebook": {
   "computePreferences": null,
   "dashboards": [],
   "environmentMetadata": null,
   "inputWidgetPreferences": null,
   "language": "sql",
   "notebookMetadata": {},
   "notebookName": "63_cdc",
   "widgets": {}
  },
  "language_info": {
   "name": "sql"
  }
 },
 "nbformat": 4,
 "nbformat_minor": 0
}