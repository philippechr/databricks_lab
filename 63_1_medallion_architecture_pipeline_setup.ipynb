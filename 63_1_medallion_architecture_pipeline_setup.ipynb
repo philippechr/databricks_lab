{
 "cells": [
  {
   "cell_type": "code",
   "execution_count": 0,
   "metadata": {
    "application/vnd.databricks.v1+cell": {
     "cellMetadata": {
      "byteLimit": 2048000,
      "implicitDf": true,
      "rowLimit": 10000
     },
     "inputWidgets": {},
     "nuid": "75981cc6-b13c-4683-a7cf-fe1941d8c8f0",
     "showTitle": false,
     "tableResultSettingsMap": {},
     "title": ""
    }
   },
   "outputs": [],
   "source": [
    "%sql\n",
    "USE CATALOG workspace;\n",
    "USE SCHEMA default;"
   ]
  },
  {
   "cell_type": "code",
   "execution_count": 0,
   "metadata": {
    "application/vnd.databricks.v1+cell": {
     "cellMetadata": {
      "byteLimit": 2048000,
      "rowLimit": 10000
     },
     "inputWidgets": {},
     "nuid": "cd2f1f37-69b4-4807-937e-90cafb7deba1",
     "showTitle": false,
     "tableResultSettingsMap": {},
     "title": ""
    }
   },
   "outputs": [],
   "source": [
    "# --- Konfiguration ---\n",
    "volume_path = \"/Volumes/workspace/default/volume\"\n",
    "source_data_path = f\"{volume_path}/enrollments_raw\" # Eigener Ordner für die Quelldateien\n",
    "\n",
    "# Pfade für die Checkpoints jeder Schicht\n",
    "chk_bronze = f\"{volume_path}/_chk/medallion_bronze\"\n",
    "chk_silver = f\"{volume_path}/_chk/medallion_silver\"\n",
    "chk_gold = f\"{volume_path}/_chk/medallion_gold\""
   ]
  },
  {
   "cell_type": "markdown",
   "metadata": {
    "application/vnd.databricks.v1+cell": {
     "cellMetadata": {
      "byteLimit": 2048000,
      "rowLimit": 10000
     },
     "inputWidgets": {},
     "nuid": "c518d7d3-fefe-4431-9548-b861e3bbd60d",
     "showTitle": false,
     "tableResultSettingsMap": {},
     "title": ""
    }
   },
   "source": [
    "# Altkram löschen"
   ]
  },
  {
   "cell_type": "code",
   "execution_count": 0,
   "metadata": {
    "application/vnd.databricks.v1+cell": {
     "cellMetadata": {
      "byteLimit": 2048000,
      "rowLimit": 10000
     },
     "inputWidgets": {},
     "nuid": "6684477a-98c7-48c2-bf59-a2874d33e789",
     "showTitle": false,
     "tableResultSettingsMap": {},
     "title": ""
    }
   },
   "outputs": [
    {
     "output_type": "stream",
     "name": "stdout",
     "output_type": "stream",
     "text": [
      "✅ Alte Tabellen gelöscht.\n✅ Alte Checkpoints und Quelldaten gelöscht.\n"
     ]
    }
   ],
   "source": [
    "# --- Aufräumen ---\n",
    "# 1. Tabellen löschen\n",
    "spark.sql(\"DROP TABLE IF EXISTS students\")\n",
    "spark.sql(\"DROP TABLE IF EXISTS enrollments\")\n",
    "spark.sql(\"DROP TABLE IF EXISTS enrollments_bronze\")\n",
    "spark.sql(\"DROP TABLE IF EXISTS enrollments_silver\")\n",
    "spark.sql(\"DROP TABLE IF EXISTS daily_student_courses\")\n",
    "print(\"✅ Alte Tabellen gelöscht.\")\n",
    "\n",
    "# 2. Checkpoints und Quelldaten-Ordner löschen\n",
    "dbutils.fs.rm(source_data_path, recurse=True)\n",
    "dbutils.fs.rm(chk_bronze, recurse=True)\n",
    "dbutils.fs.rm(chk_silver, recurse=True)\n",
    "dbutils.fs.rm(chk_gold, recurse=True)\n",
    "print(\"✅ Alte Checkpoints und Quelldaten gelöscht.\")"
   ]
  },
  {
   "cell_type": "markdown",
   "metadata": {
    "application/vnd.databricks.v1+cell": {
     "cellMetadata": {
      "byteLimit": 2048000,
      "rowLimit": 10000
     },
     "inputWidgets": {},
     "nuid": "3c304201-c1ec-43df-9ce8-b50bfcd738de",
     "showTitle": false,
     "tableResultSettingsMap": {},
     "title": ""
    }
   },
   "source": [
    "# Ausgangssituation erstellen"
   ]
  },
  {
   "cell_type": "code",
   "execution_count": 0,
   "metadata": {
    "application/vnd.databricks.v1+cell": {
     "cellMetadata": {
      "byteLimit": 2048000,
      "rowLimit": 10000
     },
     "inputWidgets": {},
     "nuid": "09ff6964-aab8-4115-b25a-f46b2d698506",
     "showTitle": false,
     "tableResultSettingsMap": {},
     "title": ""
    }
   },
   "outputs": [
    {
     "output_type": "display_data",
     "data": {
      "text/html": [
       "<style scoped>\n",
       "  .table-result-container {\n",
       "    max-height: 300px;\n",
       "    overflow: auto;\n",
       "  }\n",
       "  table, th, td {\n",
       "    border: 1px solid black;\n",
       "    border-collapse: collapse;\n",
       "  }\n",
       "  th, td {\n",
       "    padding: 5px;\n",
       "  }\n",
       "  th {\n",
       "    text-align: left;\n",
       "  }\n",
       "</style><div class='table-result-container'><table class='table-result'><thead style='background-color: white'><tr><th>path</th><th>name</th><th>size</th><th>modificationTime</th></tr></thead><tbody><tr><td>dbfs:/Volumes/workspace/default/volume/courses.json</td><td>courses.json</td><td>329</td><td>1754654637000</td></tr><tr><td>dbfs:/Volumes/workspace/default/volume/courses_part2.json</td><td>courses_part2.json</td><td>348</td><td>1754991776000</td></tr><tr><td>dbfs:/Volumes/workspace/default/volume/enrollments.json</td><td>enrollments.json</td><td>371</td><td>1754654637000</td></tr><tr><td>dbfs:/Volumes/workspace/default/volume/nested_json.json</td><td>nested_json.json</td><td>1186</td><td>1754663219000</td></tr><tr><td>dbfs:/Volumes/workspace/default/volume/students.json</td><td>students.json</td><td>322</td><td>1754654637000</td></tr><tr><td>dbfs:/Volumes/workspace/default/volume/students_update.json</td><td>students_update.json</td><td>216</td><td>1754726175000</td></tr></tbody></table></div>"
      ]
     },
     "metadata": {
      "application/vnd.databricks.v1+output": {
       "addedWidgets": {},
       "aggData": [],
       "aggError": "",
       "aggOverflow": false,
       "aggSchema": [],
       "aggSeriesLimitReached": false,
       "aggType": "",
       "arguments": {},
       "columnCustomDisplayInfos": {},
       "data": [
        [
         "dbfs:/Volumes/workspace/default/volume/courses.json",
         "courses.json",
         329,
         1754654637000
        ],
        [
         "dbfs:/Volumes/workspace/default/volume/courses_part2.json",
         "courses_part2.json",
         348,
         1754991776000
        ],
        [
         "dbfs:/Volumes/workspace/default/volume/enrollments.json",
         "enrollments.json",
         371,
         1754654637000
        ],
        [
         "dbfs:/Volumes/workspace/default/volume/nested_json.json",
         "nested_json.json",
         1186,
         1754663219000
        ],
        [
         "dbfs:/Volumes/workspace/default/volume/students.json",
         "students.json",
         322,
         1754654637000
        ],
        [
         "dbfs:/Volumes/workspace/default/volume/students_update.json",
         "students_update.json",
         216,
         1754726175000
        ]
       ],
       "datasetInfos": [],
       "dbfsResultPath": null,
       "isJsonSchema": true,
       "metadata": {},
       "overflow": false,
       "plotOptions": {
        "customPlotOptions": {},
        "displayType": "table",
        "pivotAggregation": null,
        "pivotColumns": null,
        "xColumns": null,
        "yColumns": null
       },
       "removedWidgets": [],
       "schema": [
        {
         "metadata": "{}",
         "name": "path",
         "type": "\"string\""
        },
        {
         "metadata": "{}",
         "name": "name",
         "type": "\"string\""
        },
        {
         "metadata": "{}",
         "name": "size",
         "type": "\"long\""
        },
        {
         "metadata": "{}",
         "name": "modificationTime",
         "type": "\"long\""
        }
       ],
       "type": "table"
      }
     },
     "output_type": "display_data"
    }
   ],
   "source": [
    "%python\n",
    "dataset_school = \"/Volumes/workspace/default/volume\"\n",
    "\n",
    "all_files = dbutils.fs.ls(dataset_school)\n",
    "json_files = [f for f in all_files if f.name.endswith(\".json\")]\n",
    "\n",
    "display(json_files)"
   ]
  },
  {
   "cell_type": "code",
   "execution_count": 0,
   "metadata": {
    "application/vnd.databricks.v1+cell": {
     "cellMetadata": {
      "byteLimit": 2048000,
      "rowLimit": 10000
     },
     "inputWidgets": {},
     "nuid": "c65fe5e9-d579-4c73-943c-7e9014f5161f",
     "showTitle": false,
     "tableResultSettingsMap": {},
     "title": ""
    }
   },
   "outputs": [],
   "source": [
    "# JSON lesen:\n",
    "enrollments_df = spark.read.json(\"/Volumes/workspace/default/volume/enrollments.json\")\n",
    "enrollments_df.createOrReplaceTempView(\"enrollments\")"
   ]
  },
  {
   "cell_type": "code",
   "execution_count": 0,
   "metadata": {
    "application/vnd.databricks.v1+cell": {
     "cellMetadata": {
      "byteLimit": 2048000,
      "rowLimit": 10000
     },
     "inputWidgets": {},
     "nuid": "f8778f3a-447f-4a3e-8217-bc6f79294947",
     "showTitle": false,
     "tableResultSettingsMap": {},
     "title": ""
    }
   },
   "outputs": [
    {
     "output_type": "stream",
     "name": "stdout",
     "output_type": "stream",
     "text": [
      "✅ Quelldaten wurden in den Auto Loader-Ordner '/Volumes/workspace/default/volume/enrollments_raw' geschrieben.\n\n\uD83D\uDE80 System ist bereit für den ersten Durchlauf der Medallion-Pipeline.\n"
     ]
    }
   ],
   "source": [
    "# DataFrame als neue JSON-Dateien in den überwachten Ordner schreiben.\n",
    "# Spark erstellt hier einen Ordner mit part-Dateien, was für den Auto Loader perfekt ist.\n",
    "(enrollments_df.write\n",
    "               .mode(\"overwrite\")\n",
    "               .format(\"json\")\n",
    "               .save(source_data_path))\n",
    "               \n",
    "print(f\"✅ Quelldaten wurden in den Auto Loader-Ordner '{source_data_path}' geschrieben.\")\n",
    "print(\"\\n\uD83D\uDE80 System ist bereit für den ersten Durchlauf der Medallion-Pipeline.\")"
   ]
  },
  {
   "cell_type": "code",
   "execution_count": 0,
   "metadata": {
    "application/vnd.databricks.v1+cell": {
     "cellMetadata": {
      "byteLimit": 2048000,
      "rowLimit": 10000
     },
     "inputWidgets": {},
     "nuid": "40a2d0ee-4cd1-41f0-873f-8ea157d8f907",
     "showTitle": false,
     "tableResultSettingsMap": {},
     "title": ""
    }
   },
   "outputs": [
    {
     "output_type": "stream",
     "name": "stdout",
     "output_type": "stream",
     "text": [
      "Inhalt des Quellordners für den Auto Loader:\n"
     ]
    },
    {
     "output_type": "display_data",
     "data": {
      "text/html": [
       "<style scoped>\n",
       "  .table-result-container {\n",
       "    max-height: 300px;\n",
       "    overflow: auto;\n",
       "  }\n",
       "  table, th, td {\n",
       "    border: 1px solid black;\n",
       "    border-collapse: collapse;\n",
       "  }\n",
       "  th, td {\n",
       "    padding: 5px;\n",
       "  }\n",
       "  th {\n",
       "    text-align: left;\n",
       "  }\n",
       "</style><div class='table-result-container'><table class='table-result'><thead style='background-color: white'><tr><th>courses</th><th>enroll_id</th><th>quantity</th><th>student_id</th><th>timestamp</th><th>total</th></tr></thead><tbody><tr><td>List(101)</td><td>e001</td><td>1</td><td>1</td><td>2025-08-01T09:00:00</td><td>850</td></tr><tr><td>List(102, 103)</td><td>e002</td><td>2</td><td>2</td><td>2025-08-02T10:00:00</td><td>1800</td></tr><tr><td>List(103)</td><td>e003</td><td>1</td><td>3</td><td>2025-08-03T11:30:00</td><td>600</td></tr></tbody></table></div>"
      ]
     },
     "metadata": {
      "application/vnd.databricks.v1+output": {
       "addedWidgets": {},
       "aggData": [],
       "aggError": "",
       "aggOverflow": false,
       "aggSchema": [],
       "aggSeriesLimitReached": false,
       "aggType": "",
       "arguments": {},
       "columnCustomDisplayInfos": {},
       "data": [
        [
         [
          101
         ],
         "e001",
         1,
         1,
         "2025-08-01T09:00:00",
         850
        ],
        [
         [
          102,
          103
         ],
         "e002",
         2,
         2,
         "2025-08-02T10:00:00",
         1800
        ],
        [
         [
          103
         ],
         "e003",
         1,
         3,
         "2025-08-03T11:30:00",
         600
        ]
       ],
       "datasetInfos": [],
       "dbfsResultPath": null,
       "isJsonSchema": true,
       "metadata": {},
       "overflow": false,
       "plotOptions": {
        "customPlotOptions": {},
        "displayType": "table",
        "pivotAggregation": null,
        "pivotColumns": null,
        "xColumns": null,
        "yColumns": null
       },
       "removedWidgets": [],
       "schema": [
        {
         "metadata": "{}",
         "name": "courses",
         "type": "{\"containsNull\":true,\"elementType\":\"long\",\"type\":\"array\"}"
        },
        {
         "metadata": "{}",
         "name": "enroll_id",
         "type": "\"string\""
        },
        {
         "metadata": "{}",
         "name": "quantity",
         "type": "\"long\""
        },
        {
         "metadata": "{}",
         "name": "student_id",
         "type": "\"long\""
        },
        {
         "metadata": "{}",
         "name": "timestamp",
         "type": "\"string\""
        },
        {
         "metadata": "{}",
         "name": "total",
         "type": "\"long\""
        }
       ],
       "type": "table"
      }
     },
     "output_type": "display_data"
    }
   ],
   "source": [
    "# Prüfen ob die Ausgangslage gegeben ist:\n",
    "# 1. Lese die JSON-Dateien aus dem Ordner in einen neuen DataFrame\n",
    "check_df = spark.read.format(\"json\").load(source_data_path)\n",
    "\n",
    "# 2. Zeige den Inhalt des DataFrames direkt mit display() an\n",
    "print(\"Inhalt des Quellordners für den Auto Loader:\")\n",
    "display(check_df)"
   ]
  },
  {
   "cell_type": "markdown",
   "metadata": {
    "application/vnd.databricks.v1+cell": {
     "cellMetadata": {
      "byteLimit": 2048000,
      "rowLimit": 10000
     },
     "inputWidgets": {},
     "nuid": "b807113a-8a48-4d34-8250-75474acf250f",
     "showTitle": false,
     "tableResultSettingsMap": {},
     "title": ""
    }
   },
   "source": [
    "Nun benötigen wir noch Students"
   ]
  },
  {
   "cell_type": "code",
   "execution_count": 0,
   "metadata": {
    "application/vnd.databricks.v1+cell": {
     "cellMetadata": {
      "byteLimit": 2048000,
      "rowLimit": 10000
     },
     "inputWidgets": {},
     "nuid": "b65ee4e9-a528-45fa-af0e-e4ba87e9eccd",
     "showTitle": false,
     "tableResultSettingsMap": {},
     "title": ""
    }
   },
   "outputs": [
    {
     "output_type": "stream",
     "name": "stdout",
     "output_type": "stream",
     "text": [
      "✅ Studenten-Lookup-Tabelle aus 'students.json' erstellt.\n"
     ]
    },
    {
     "output_type": "display_data",
     "data": {
      "text/html": [
       "<style scoped>\n",
       "  .table-result-container {\n",
       "    max-height: 300px;\n",
       "    overflow: auto;\n",
       "  }\n",
       "  table, th, td {\n",
       "    border: 1px solid black;\n",
       "    border-collapse: collapse;\n",
       "  }\n",
       "  th, td {\n",
       "    padding: 5px;\n",
       "  }\n",
       "  th {\n",
       "    text-align: left;\n",
       "  }\n",
       "</style><div class='table-result-container'><table class='table-result'><thead style='background-color: white'><tr><th>email</th><th>gpa</th><th>profile</th><th>student_id</th><th>updated</th></tr></thead><tbody><tr><td>anna@example.com</td><td>3.9</td><td>full-time</td><td>1</td><td>2025-08-01</td></tr><tr><td>ben@example.com</td><td>3.2</td><td>part-time</td><td>2</td><td>2025-08-03</td></tr><tr><td>clara@example.com</td><td>3.7</td><td>exchange</td><td>3</td><td>2025-08-06</td></tr></tbody></table></div>"
      ]
     },
     "metadata": {
      "application/vnd.databricks.v1+output": {
       "addedWidgets": {},
       "aggData": [],
       "aggError": "",
       "aggOverflow": false,
       "aggSchema": [],
       "aggSeriesLimitReached": false,
       "aggType": "",
       "arguments": {},
       "columnCustomDisplayInfos": {},
       "data": [
        [
         "anna@example.com",
         3.9,
         "full-time",
         1,
         "2025-08-01"
        ],
        [
         "ben@example.com",
         3.2,
         "part-time",
         2,
         "2025-08-03"
        ],
        [
         "clara@example.com",
         3.7,
         "exchange",
         3,
         "2025-08-06"
        ]
       ],
       "datasetInfos": [],
       "dbfsResultPath": null,
       "isJsonSchema": true,
       "metadata": {},
       "overflow": false,
       "plotOptions": {
        "customPlotOptions": {},
        "displayType": "table",
        "pivotAggregation": null,
        "pivotColumns": null,
        "xColumns": null,
        "yColumns": null
       },
       "removedWidgets": [],
       "schema": [
        {
         "metadata": "{}",
         "name": "email",
         "type": "\"string\""
        },
        {
         "metadata": "{}",
         "name": "gpa",
         "type": "\"double\""
        },
        {
         "metadata": "{}",
         "name": "profile",
         "type": "\"string\""
        },
        {
         "metadata": "{}",
         "name": "student_id",
         "type": "\"long\""
        },
        {
         "metadata": "{}",
         "name": "updated",
         "type": "\"string\""
        }
       ],
       "type": "table"
      }
     },
     "output_type": "display_data"
    }
   ],
   "source": [
    "import pyspark.sql.functions as F\n",
    "\n",
    "# --- Statische Lookup-Tabelle für Studenten ---\n",
    "# Wir lesen die Daten aus der bereitgestellten students.json\n",
    "students_lookup_df = spark.read.json(f\"{volume_path}/students.json\")\n",
    "\n",
    "print(\"✅ Studenten-Lookup-Tabelle aus 'students.json' erstellt.\")\n",
    "# Optional: Anzeigen, um die geladenen Daten zu prüfen\n",
    "display(students_lookup_df) "
   ]
  }
 ],
 "metadata": {
  "application/vnd.databricks.v1+notebook": {
   "computePreferences": null,
   "dashboards": [],
   "environmentMetadata": {
    "base_environment": "",
    "environment_version": "2"
   },
   "inputWidgetPreferences": null,
   "language": "python",
   "notebookMetadata": {
    "mostRecentlyExecutedCommandWithImplicitDF": {
     "commandId": 1066111435669749,
     "dataframes": [
      "_sqldf"
     ]
    },
    "pythonIndentUnit": 4
   },
   "notebookName": "62_1_medallion_architecture_pipeline_setup",
   "widgets": {}
  },
  "language_info": {
   "name": "python"
  }
 },
 "nbformat": 4,
 "nbformat_minor": 0
}